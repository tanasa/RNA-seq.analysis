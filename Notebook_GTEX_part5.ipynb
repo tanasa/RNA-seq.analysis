{
 "cells": [
  {
   "cell_type": "code",
   "execution_count": 5,
   "id": "94e16ed7",
   "metadata": {},
   "outputs": [
    {
     "data": {
      "text/html": [
       "10"
      ],
      "text/latex": [
       "10"
      ],
      "text/markdown": [
       "10"
      ],
      "text/plain": [
       "[1] 10"
      ]
     },
     "metadata": {},
     "output_type": "display_data"
    }
   ],
   "source": [
    "suppressMessages({\n",
    "\n",
    "library(data.table, quietly = TRUE)\n",
    "library(plyr, quietly = TRUE)\n",
    "library(doParallel,quietly = TRUE)\n",
    "library(tidyverse, quietly = TRUE)\n",
    "library(\"stringr\", quietly = TRUE)\n",
    "library(\"reactome.db\")\n",
    "library(\"AnnotationHub\")\n",
    "library(\"org.Hs.eg.db\")\n",
    "library(\"AnnotationDbi\")\n",
    "library(\"ReactomePA\")\n",
    "library(\"EnsDb.Hsapiens.v86\")\n",
    "library(\"clusterProfiler\")\n",
    "library(\"DOSE\")\n",
    "library(msigdbr)\n",
    "})\n",
    "\n",
    "cores <- detectCores()\n",
    "cores\n",
    "registerDoParallel(cores=cores)\n",
    "options(future.globals.maxSize = Inf)"
   ]
  },
  {
   "cell_type": "code",
   "execution_count": 10,
   "id": "e327f310",
   "metadata": {},
   "outputs": [
    {
     "name": "stderr",
     "output_type": "stream",
     "text": [
      "Loading required package: graph\n",
      "\n",
      "\n",
      "Attaching package: 'graph'\n",
      "\n",
      "\n",
      "The following object is masked from 'package:stringr':\n",
      "\n",
      "    boundary\n",
      "\n",
      "\n",
      "The following object is masked from 'package:plyr':\n",
      "\n",
      "    join\n",
      "\n",
      "\n",
      "\n",
      "Attaching package: 'EnrichmentBrowser'\n",
      "\n",
      "\n",
      "The following object is masked from 'package:BiocGenerics':\n",
      "\n",
      "    normalize\n",
      "\n",
      "\n"
     ]
    }
   ],
   "source": [
    "library(\"SummarizedExperiment\")\n",
    "library(\"ReportingTools\")\n",
    "library(\"EnrichmentBrowser\")\n",
    "library(stringr)\n",
    "library(dplyr)\n",
    "library(tidyr)"
   ]
  },
  {
   "cell_type": "code",
   "execution_count": 25,
   "id": "3f876400",
   "metadata": {},
   "outputs": [
    {
     "data": {
      "text/html": [
       "<table class=\"dataframe\">\n",
       "<caption>A data.frame: 2 × 4</caption>\n",
       "<thead>\n",
       "\t<tr><th></th><th scope=col>median_tpm_Liver</th><th scope=col>median_tpm_Other</th><th scope=col>LO</th><th scope=col>gene</th></tr>\n",
       "\t<tr><th></th><th scope=col>&lt;dbl&gt;</th><th scope=col>&lt;dbl&gt;</th><th scope=col>&lt;dbl&gt;</th><th scope=col>&lt;chr&gt;</th></tr>\n",
       "</thead>\n",
       "<tbody>\n",
       "\t<tr><th scope=row>1</th><td>28.935</td><td>20.460</td><td>1.414223</td><td>ISG15 </td></tr>\n",
       "\t<tr><th scope=row>2</th><td> 5.877</td><td> 4.422</td><td>1.329037</td><td>SCNN1D</td></tr>\n",
       "</tbody>\n",
       "</table>\n"
      ],
      "text/latex": [
       "A data.frame: 2 × 4\n",
       "\\begin{tabular}{r|llll}\n",
       "  & median\\_tpm\\_Liver & median\\_tpm\\_Other & LO & gene\\\\\n",
       "  & <dbl> & <dbl> & <dbl> & <chr>\\\\\n",
       "\\hline\n",
       "\t1 & 28.935 & 20.460 & 1.414223 & ISG15 \\\\\n",
       "\t2 &  5.877 &  4.422 & 1.329037 & SCNN1D\\\\\n",
       "\\end{tabular}\n"
      ],
      "text/markdown": [
       "\n",
       "A data.frame: 2 × 4\n",
       "\n",
       "| <!--/--> | median_tpm_Liver &lt;dbl&gt; | median_tpm_Other &lt;dbl&gt; | LO &lt;dbl&gt; | gene &lt;chr&gt; |\n",
       "|---|---|---|---|---|\n",
       "| 1 | 28.935 | 20.460 | 1.414223 | ISG15  |\n",
       "| 2 |  5.877 |  4.422 | 1.329037 | SCNN1D |\n",
       "\n"
      ],
      "text/plain": [
       "  median_tpm_Liver median_tpm_Other LO       gene  \n",
       "1 28.935           20.460           1.414223 ISG15 \n",
       "2  5.877            4.422           1.329037 SCNN1D"
      ]
     },
     "metadata": {},
     "output_type": "display_data"
    },
    {
     "data": {
      "text/html": [
       "<style>\n",
       ".list-inline {list-style: none; margin:0; padding: 0}\n",
       ".list-inline>li {display: inline-block}\n",
       ".list-inline>li:not(:last-child)::after {content: \"\\00b7\"; padding: 0 .5ex}\n",
       "</style>\n",
       "<ol class=list-inline><li>'ISG15'</li><li>'SCNN1D'</li></ol>\n"
      ],
      "text/latex": [
       "\\begin{enumerate*}\n",
       "\\item 'ISG15'\n",
       "\\item 'SCNN1D'\n",
       "\\end{enumerate*}\n"
      ],
      "text/markdown": [
       "1. 'ISG15'\n",
       "2. 'SCNN1D'\n",
       "\n",
       "\n"
      ],
      "text/plain": [
       "[1] \"ISG15\"  \"SCNN1D\""
      ]
     },
     "metadata": {},
     "output_type": "display_data"
    },
    {
     "data": {
      "text/html": [
       "1938"
      ],
      "text/latex": [
       "1938"
      ],
      "text/markdown": [
       "1938"
      ],
      "text/plain": [
       "[1] 1938"
      ]
     },
     "metadata": {},
     "output_type": "display_data"
    }
   ],
   "source": [
    "a = read.table(\"df4.pc.samples.of.interest.txt.liver.specific.genes.txt\", header=T, sep=\"\\t\", stringsAsFactors=F)\n",
    "head(a,2)\n",
    "name = basename(\"df4.pc.samples.of.interest.txt.liver.specific.genes.txt\")\n",
    "GENES = a$gene\n",
    "head(GENES,2)\n",
    "length(GENES)"
   ]
  },
  {
   "cell_type": "code",
   "execution_count": 48,
   "id": "c016e00e",
   "metadata": {},
   "outputs": [],
   "source": [
    "# kegg.gs <- getGenesets(org=\"hsa\", db=\"kegg\")\n",
    "# kegg.gs"
   ]
  },
  {
   "cell_type": "code",
   "execution_count": 49,
   "id": "a87b27da",
   "metadata": {},
   "outputs": [
    {
     "name": "stdout",
     "output_type": "stream",
     "text": [
      "Uploading data to Enrichr... Done.\n",
      "  Querying GO_Biological_Process_2018... Done.\n",
      "  Querying GO_Cellular_Component_2018... Done.\n",
      "  Querying GO_Molecular_Function_2018... Done.\n",
      "  Querying DSigDB... Done.\n",
      "  Querying Genome_Browser_PWMs... Done.\n",
      "  Querying TRANSFAC_and_JASPAR_PWMs... Done.\n",
      "  Querying ENCODE_TF_ChIP-seq_2014... Done.\n",
      "  Querying ENCODE_TF_ChIP-seq_2015... Done.\n",
      "  Querying ChEA_2016... Done.\n",
      "  Querying ENCODE_and_ChEA_Consensus_TFs_from_ChIP-X... Done.\n",
      "  Querying KEGG_2016... Done.\n",
      "  Querying WikiPathways_2016... Done.\n",
      "  Querying Reactome_2016... Done.\n",
      "  Querying BioCarta_2016... Done.\n",
      "  Querying Panther_2016... Done.\n",
      "  Querying NCI-Nature_2016... Done.\n",
      "  Querying OMIM_Disease... Done.\n",
      "  Querying OMIM_Expanded... Done.\n",
      "  Querying MSigDB_Computational... Done.\n",
      "  Querying MSigDB_Oncogenic_Signatures... Done.\n",
      "  Querying Chromosome_Location... Done.\n",
      "Parsing results... Done.\n"
     ]
    }
   ],
   "source": [
    "library(\"enrichR\")\n",
    "dbs <- listEnrichrDbs()\n",
    "\n",
    "dbs <- c(\"GO_Biological_Process_2018\",\n",
    "         \"GO_Cellular_Component_2018\",\n",
    "         \"GO_Molecular_Function_2018\",\n",
    "         \"DSigDB\",\n",
    "         \"Genome_Browser_PWMs\",\n",
    "         \"TRANSFAC_and_JASPAR_PWMs\",\n",
    "         \"ENCODE_TF_ChIP-seq_2014\",\n",
    "         \"ENCODE_TF_ChIP-seq_2015\",\n",
    "         \"ChEA_2016\",\n",
    "         \"ENCODE_and_ChEA_Consensus_TFs_from_ChIP-X\",\n",
    "         \"KEGG_2016\",\n",
    "         \"WikiPathways_2016\",\n",
    "         \"Reactome_2016\",\n",
    "         \"BioCarta_2016\",\n",
    "         \"Panther_2016\",\n",
    "         \"NCI-Nature_2016\", \n",
    "         \"OMIM_Disease\",\n",
    "         \"OMIM_Expanded\",\n",
    "         \"MSigDB_Computational\",\n",
    "         \"MSigDB_Oncogenic_Signatures\",\n",
    "         \"Chromosome_Location\")\n",
    "\n",
    "enriched <- enrichr(GENES, dbs)"
   ]
  },
  {
   "cell_type": "code",
   "execution_count": 52,
   "id": "4b91b1bd",
   "metadata": {},
   "outputs": [
    {
     "data": {
      "text/html": [
       "<table class=\"dataframe\">\n",
       "<caption>A data.frame: 2 × 9</caption>\n",
       "<thead>\n",
       "\t<tr><th></th><th scope=col>Term</th><th scope=col>Overlap</th><th scope=col>P.value</th><th scope=col>Adjusted.P.value</th><th scope=col>Old.P.value</th><th scope=col>Old.Adjusted.P.value</th><th scope=col>Odds.Ratio</th><th scope=col>Combined.Score</th><th scope=col>Genes</th></tr>\n",
       "\t<tr><th></th><th scope=col>&lt;chr&gt;</th><th scope=col>&lt;chr&gt;</th><th scope=col>&lt;dbl&gt;</th><th scope=col>&lt;dbl&gt;</th><th scope=col>&lt;int&gt;</th><th scope=col>&lt;int&gt;</th><th scope=col>&lt;dbl&gt;</th><th scope=col>&lt;dbl&gt;</th><th scope=col>&lt;chr&gt;</th></tr>\n",
       "</thead>\n",
       "<tbody>\n",
       "\t<tr><th scope=row>1</th><td>fatty acid beta-oxidation (GO:0006635)   </td><td>33/50</td><td>5.209675e-22</td><td>2.078139e-18</td><td>0</td><td>0</td><td>18.38768</td><td>901.1131</td><td>GCDH;ACADVL;ABCD3;ACAA2;ECHS1;ECI1;ECI2;ETFDH;HSD17B4;ETFA;CROT;ETFB;ACAT2;ACAT1;ACADL;SCP2;ACADM;HADH;ACAD11;ACAA1;DECR2;ACAD10;ACADS;HIBCH;DECR1;AMACR;ACOX2;ACOX1;EHHADH;IVD;ECHDC2;SLC27A2;CRAT                      </td></tr>\n",
       "\t<tr><th scope=row>2</th><td>fatty acid catabolic process (GO:0009062)</td><td>36/65</td><td>3.576770e-20</td><td>7.133867e-17</td><td>0</td><td>0</td><td>11.76961</td><td>527.0106</td><td>PECR;ACADVL;ABCD3;ACAA2;ECHS1;ECI1;ABHD2;ABHD1;HSD17B4;CROT;ACAT2;ACAT1;ACADL;HACL1;ACADM;HADH;ACAD11;ACAA1;ACAD10;ACADS;HIBCH;DECR1;PHYH;ACBD5;MMAA;AIG1;PEX13;ALDH3A2;NUDT7;PCCA;EHHADH;PCCB;ECHDC2;SLC27A2;LPIN2;LPIN3</td></tr>\n",
       "</tbody>\n",
       "</table>\n"
      ],
      "text/latex": [
       "A data.frame: 2 × 9\n",
       "\\begin{tabular}{r|lllllllll}\n",
       "  & Term & Overlap & P.value & Adjusted.P.value & Old.P.value & Old.Adjusted.P.value & Odds.Ratio & Combined.Score & Genes\\\\\n",
       "  & <chr> & <chr> & <dbl> & <dbl> & <int> & <int> & <dbl> & <dbl> & <chr>\\\\\n",
       "\\hline\n",
       "\t1 & fatty acid beta-oxidation (GO:0006635)    & 33/50 & 5.209675e-22 & 2.078139e-18 & 0 & 0 & 18.38768 & 901.1131 & GCDH;ACADVL;ABCD3;ACAA2;ECHS1;ECI1;ECI2;ETFDH;HSD17B4;ETFA;CROT;ETFB;ACAT2;ACAT1;ACADL;SCP2;ACADM;HADH;ACAD11;ACAA1;DECR2;ACAD10;ACADS;HIBCH;DECR1;AMACR;ACOX2;ACOX1;EHHADH;IVD;ECHDC2;SLC27A2;CRAT                      \\\\\n",
       "\t2 & fatty acid catabolic process (GO:0009062) & 36/65 & 3.576770e-20 & 7.133867e-17 & 0 & 0 & 11.76961 & 527.0106 & PECR;ACADVL;ABCD3;ACAA2;ECHS1;ECI1;ABHD2;ABHD1;HSD17B4;CROT;ACAT2;ACAT1;ACADL;HACL1;ACADM;HADH;ACAD11;ACAA1;ACAD10;ACADS;HIBCH;DECR1;PHYH;ACBD5;MMAA;AIG1;PEX13;ALDH3A2;NUDT7;PCCA;EHHADH;PCCB;ECHDC2;SLC27A2;LPIN2;LPIN3\\\\\n",
       "\\end{tabular}\n"
      ],
      "text/markdown": [
       "\n",
       "A data.frame: 2 × 9\n",
       "\n",
       "| <!--/--> | Term &lt;chr&gt; | Overlap &lt;chr&gt; | P.value &lt;dbl&gt; | Adjusted.P.value &lt;dbl&gt; | Old.P.value &lt;int&gt; | Old.Adjusted.P.value &lt;int&gt; | Odds.Ratio &lt;dbl&gt; | Combined.Score &lt;dbl&gt; | Genes &lt;chr&gt; |\n",
       "|---|---|---|---|---|---|---|---|---|---|\n",
       "| 1 | fatty acid beta-oxidation (GO:0006635)    | 33/50 | 5.209675e-22 | 2.078139e-18 | 0 | 0 | 18.38768 | 901.1131 | GCDH;ACADVL;ABCD3;ACAA2;ECHS1;ECI1;ECI2;ETFDH;HSD17B4;ETFA;CROT;ETFB;ACAT2;ACAT1;ACADL;SCP2;ACADM;HADH;ACAD11;ACAA1;DECR2;ACAD10;ACADS;HIBCH;DECR1;AMACR;ACOX2;ACOX1;EHHADH;IVD;ECHDC2;SLC27A2;CRAT                       |\n",
       "| 2 | fatty acid catabolic process (GO:0009062) | 36/65 | 3.576770e-20 | 7.133867e-17 | 0 | 0 | 11.76961 | 527.0106 | PECR;ACADVL;ABCD3;ACAA2;ECHS1;ECI1;ABHD2;ABHD1;HSD17B4;CROT;ACAT2;ACAT1;ACADL;HACL1;ACADM;HADH;ACAD11;ACAA1;ACAD10;ACADS;HIBCH;DECR1;PHYH;ACBD5;MMAA;AIG1;PEX13;ALDH3A2;NUDT7;PCCA;EHHADH;PCCB;ECHDC2;SLC27A2;LPIN2;LPIN3 |\n",
       "\n"
      ],
      "text/plain": [
       "  Term                                      Overlap P.value     \n",
       "1 fatty acid beta-oxidation (GO:0006635)    33/50   5.209675e-22\n",
       "2 fatty acid catabolic process (GO:0009062) 36/65   3.576770e-20\n",
       "  Adjusted.P.value Old.P.value Old.Adjusted.P.value Odds.Ratio Combined.Score\n",
       "1 2.078139e-18     0           0                    18.38768   901.1131      \n",
       "2 7.133867e-17     0           0                    11.76961   527.0106      \n",
       "  Genes                                                                                                                                                                                                                    \n",
       "1 GCDH;ACADVL;ABCD3;ACAA2;ECHS1;ECI1;ECI2;ETFDH;HSD17B4;ETFA;CROT;ETFB;ACAT2;ACAT1;ACADL;SCP2;ACADM;HADH;ACAD11;ACAA1;DECR2;ACAD10;ACADS;HIBCH;DECR1;AMACR;ACOX2;ACOX1;EHHADH;IVD;ECHDC2;SLC27A2;CRAT                      \n",
       "2 PECR;ACADVL;ABCD3;ACAA2;ECHS1;ECI1;ABHD2;ABHD1;HSD17B4;CROT;ACAT2;ACAT1;ACADL;HACL1;ACADM;HADH;ACAD11;ACAA1;ACAD10;ACADS;HIBCH;DECR1;PHYH;ACBD5;MMAA;AIG1;PEX13;ALDH3A2;NUDT7;PCCA;EHHADH;PCCB;ECHDC2;SLC27A2;LPIN2;LPIN3"
      ]
     },
     "metadata": {},
     "output_type": "display_data"
    },
    {
     "name": "stdout",
     "output_type": "stream",
     "text": [
      "Your text"
     ]
    }
   ],
   "source": [
    "CATEGORY <- \"GO_Biological_Process_2018\"\n",
    "\n",
    "results.db <- enriched[[CATEGORY]]\n",
    "results.db.fdr <- subset(results.db, Adjusted.P.value < 0.05)\n",
    "\n",
    "head(results.db.fdr, 2)\n",
    "\n",
    "cat(paste0('The results are consistent with liver biology'))"
   ]
  },
  {
   "cell_type": "code",
   "execution_count": 31,
   "id": "5f4234be",
   "metadata": {},
   "outputs": [
    {
     "data": {
      "text/html": [
       "<table class=\"dataframe\">\n",
       "<caption>A data.frame: 2 × 9</caption>\n",
       "<thead>\n",
       "\t<tr><th></th><th scope=col>Term</th><th scope=col>Overlap</th><th scope=col>P.value</th><th scope=col>Adjusted.P.value</th><th scope=col>Old.P.value</th><th scope=col>Old.Adjusted.P.value</th><th scope=col>Odds.Ratio</th><th scope=col>Combined.Score</th><th scope=col>Genes</th></tr>\n",
       "\t<tr><th></th><th scope=col>&lt;chr&gt;</th><th scope=col>&lt;chr&gt;</th><th scope=col>&lt;dbl&gt;</th><th scope=col>&lt;dbl&gt;</th><th scope=col>&lt;int&gt;</th><th scope=col>&lt;int&gt;</th><th scope=col>&lt;dbl&gt;</th><th scope=col>&lt;dbl&gt;</th><th scope=col>&lt;chr&gt;</th></tr>\n",
       "</thead>\n",
       "<tbody>\n",
       "\t<tr><th scope=row>1</th><td>mitochondrial matrix (GO:0005759)</td><td>102/308 </td><td>3.595572e-30</td><td>1.028334e-27</td><td>0</td><td>0</td><td>4.815534</td><td>326.4828</td><td>DMGDH;ACAA2;ACSM3;GLDC;ECI1;ACSM1;ABAT;ACSM5;GCSH;HADH;ACAD10;NUDT13;MCCC2;GSTK1;PHYKPL;GPT2;HOGA1;CLPX;CYP27A1;BTD;SCO2;LACTB2;FDX1;MTHFD2L;ACOT2;PPIF;SUCLG2;DNA2;ALDH7A1;GCDH;SHMT2;AK4;ACAT1;PRDX3;GRPEL1;CYP11A1;DECR1;PCK2;ADHFE1;GOT2;IDH2;MTHFS;ACADSB;GLUD1;ALDH6A1;CPS1;ACADVL;ALAS1;HIBADH;ETFA;ETFB;MAIP1;DHTKD1;NADK2;ACADL;ALDH2;MTG1;DBT;ACADM;HMGCS2;ACADS;AASS;HIBCH;GPX1;BCKDHB;AMT;TFB2M;ALDH5A1;BDH1;PCCA;IVD;PCCB;FXN;FH;ACSS3;ECHS1;GLS2;ETFDH;HSD17B8;HSD17B10;HSPD1;HMGCL;RIDA;ALDH1B1;PDSS2;BCO2;CBR4;MMAA;AADAT;TXNRD2;MMAB;HSPE1;SUOX;SOD2;ETNPPL;SOD1;ALDH4A1;PDP2;PC;SARDH;NAGS;NAXD                                                                                                                                                                                                                                                                                                                                                                                                                                                                                                                                                                                                                                 </td></tr>\n",
       "\t<tr><th scope=row>2</th><td>mitochondrion (GO:0005739)       </td><td>199/1026</td><td>1.971762e-22</td><td>2.819619e-20</td><td>0</td><td>0</td><td>2.384840</td><td>119.1894</td><td>DMGDH;GLDC;ECI1;ECI2;ABAT;GCSH;CYP2D6;ACAD10;MCCC2;GSTK1;STARD4;CPT1A;STARD5;SDS;PHYKPL;ACSL1;OXSM;ECH1;ACSL5;HOGA1;GCAT;CLPX;CYP27A1;SCO2;FDX1;MTHFD2L;ACOT2;SUCLG2;MT-CO2;MT-CO3;DNA2;ALDH7A1;GCDH;MAOB;SHMT2;MRPL19;MGST1;HACD3;MRPL12;PRDX3;GRPEL1;NTHL1;LDHD;PCK1;DECR1;PCK2;ADHFE1;RMDN3;MTHFS;BRI3BP;ACADSB;DHFR;GLUD1;ALDH6A1;GLUD2;AKR1B10;ECHDC2;SFXN1;ECHDC3;HIBADH;SLC44A1;HSCB;HINT2;ACADL;AIFM1;MTG1;C19ORF12;ACADM;ACADS;AASS;MRPS26;NME4;TFB2M;PARP9;POU5F1;ALDH5A1;BDH1;IVD;PLIN5;FH;ECHS1;GRAMD4;PTS;PDF;BID;DCPS;GK;G0S2;TCAIM;AGMAT;DHRS4;ETNPPL;LYRM1;GATM;CRAT;HSPA1B;HSPA1A;MTCH2;ACAA2;TACO1;MPV17L;CPOX;OGDHL;COX6A1;CLU;MPC1;MPC2;PMPCA;SLC25A42;HADH;TGM2;DGAT2;SDHD;SDHB;SLC9B2;ATAD3C;RAB32;SELENOO;PPIF;ABHD6;AK4;HIGD1A;ACACB;ACAT2;ACAT1;CYP11A1;NDUFV2;GOT2;IDH2;CHCHD10;CRLS1;SCCPDH;AMACR;UQCRQ;PXMP2;ACO1;MT-CYB;XAF1;ACADVL;ALAS1;RMND1;ETFA;ETFB;TRIAP1;MTO1;DHTKD1;NADK2;CPT2;TOP1MT;DBT;HMGCS2;HIBCH;BOK;HSDL2;GPX1;BCKDHB;AMT;NIPSNAP1;TNFRSF1A;SLC25A16;TST;PCCB;CAT;NOS1AP;SLC25A10;MTFR1;FXN;SLC25A13;POLDIP2;GLS2;HSD17B10;BPHL;FOXRED1;HSPD1;HMGCL;POLD4;ALDH1B1;STOM;SLC25A20;BCO2;TIMM8A;FAHD1;TXNRD2;BNIP3;SUOX;SOD2;HSPE1;SUGCT;DHODH;SOD1;GSTZ1;PNKD;GOLPH3;PC;XPNPEP3;SLC25A30;SARDH;CCM2;NAGS</td></tr>\n",
       "</tbody>\n",
       "</table>\n"
      ],
      "text/latex": [
       "A data.frame: 2 × 9\n",
       "\\begin{tabular}{r|lllllllll}\n",
       "  & Term & Overlap & P.value & Adjusted.P.value & Old.P.value & Old.Adjusted.P.value & Odds.Ratio & Combined.Score & Genes\\\\\n",
       "  & <chr> & <chr> & <dbl> & <dbl> & <int> & <int> & <dbl> & <dbl> & <chr>\\\\\n",
       "\\hline\n",
       "\t1 & mitochondrial matrix (GO:0005759) & 102/308  & 3.595572e-30 & 1.028334e-27 & 0 & 0 & 4.815534 & 326.4828 & DMGDH;ACAA2;ACSM3;GLDC;ECI1;ACSM1;ABAT;ACSM5;GCSH;HADH;ACAD10;NUDT13;MCCC2;GSTK1;PHYKPL;GPT2;HOGA1;CLPX;CYP27A1;BTD;SCO2;LACTB2;FDX1;MTHFD2L;ACOT2;PPIF;SUCLG2;DNA2;ALDH7A1;GCDH;SHMT2;AK4;ACAT1;PRDX3;GRPEL1;CYP11A1;DECR1;PCK2;ADHFE1;GOT2;IDH2;MTHFS;ACADSB;GLUD1;ALDH6A1;CPS1;ACADVL;ALAS1;HIBADH;ETFA;ETFB;MAIP1;DHTKD1;NADK2;ACADL;ALDH2;MTG1;DBT;ACADM;HMGCS2;ACADS;AASS;HIBCH;GPX1;BCKDHB;AMT;TFB2M;ALDH5A1;BDH1;PCCA;IVD;PCCB;FXN;FH;ACSS3;ECHS1;GLS2;ETFDH;HSD17B8;HSD17B10;HSPD1;HMGCL;RIDA;ALDH1B1;PDSS2;BCO2;CBR4;MMAA;AADAT;TXNRD2;MMAB;HSPE1;SUOX;SOD2;ETNPPL;SOD1;ALDH4A1;PDP2;PC;SARDH;NAGS;NAXD                                                                                                                                                                                                                                                                                                                                                                                                                                                                                                                                                                                                                                 \\\\\n",
       "\t2 & mitochondrion (GO:0005739)        & 199/1026 & 1.971762e-22 & 2.819619e-20 & 0 & 0 & 2.384840 & 119.1894 & DMGDH;GLDC;ECI1;ECI2;ABAT;GCSH;CYP2D6;ACAD10;MCCC2;GSTK1;STARD4;CPT1A;STARD5;SDS;PHYKPL;ACSL1;OXSM;ECH1;ACSL5;HOGA1;GCAT;CLPX;CYP27A1;SCO2;FDX1;MTHFD2L;ACOT2;SUCLG2;MT-CO2;MT-CO3;DNA2;ALDH7A1;GCDH;MAOB;SHMT2;MRPL19;MGST1;HACD3;MRPL12;PRDX3;GRPEL1;NTHL1;LDHD;PCK1;DECR1;PCK2;ADHFE1;RMDN3;MTHFS;BRI3BP;ACADSB;DHFR;GLUD1;ALDH6A1;GLUD2;AKR1B10;ECHDC2;SFXN1;ECHDC3;HIBADH;SLC44A1;HSCB;HINT2;ACADL;AIFM1;MTG1;C19ORF12;ACADM;ACADS;AASS;MRPS26;NME4;TFB2M;PARP9;POU5F1;ALDH5A1;BDH1;IVD;PLIN5;FH;ECHS1;GRAMD4;PTS;PDF;BID;DCPS;GK;G0S2;TCAIM;AGMAT;DHRS4;ETNPPL;LYRM1;GATM;CRAT;HSPA1B;HSPA1A;MTCH2;ACAA2;TACO1;MPV17L;CPOX;OGDHL;COX6A1;CLU;MPC1;MPC2;PMPCA;SLC25A42;HADH;TGM2;DGAT2;SDHD;SDHB;SLC9B2;ATAD3C;RAB32;SELENOO;PPIF;ABHD6;AK4;HIGD1A;ACACB;ACAT2;ACAT1;CYP11A1;NDUFV2;GOT2;IDH2;CHCHD10;CRLS1;SCCPDH;AMACR;UQCRQ;PXMP2;ACO1;MT-CYB;XAF1;ACADVL;ALAS1;RMND1;ETFA;ETFB;TRIAP1;MTO1;DHTKD1;NADK2;CPT2;TOP1MT;DBT;HMGCS2;HIBCH;BOK;HSDL2;GPX1;BCKDHB;AMT;NIPSNAP1;TNFRSF1A;SLC25A16;TST;PCCB;CAT;NOS1AP;SLC25A10;MTFR1;FXN;SLC25A13;POLDIP2;GLS2;HSD17B10;BPHL;FOXRED1;HSPD1;HMGCL;POLD4;ALDH1B1;STOM;SLC25A20;BCO2;TIMM8A;FAHD1;TXNRD2;BNIP3;SUOX;SOD2;HSPE1;SUGCT;DHODH;SOD1;GSTZ1;PNKD;GOLPH3;PC;XPNPEP3;SLC25A30;SARDH;CCM2;NAGS\\\\\n",
       "\\end{tabular}\n"
      ],
      "text/markdown": [
       "\n",
       "A data.frame: 2 × 9\n",
       "\n",
       "| <!--/--> | Term &lt;chr&gt; | Overlap &lt;chr&gt; | P.value &lt;dbl&gt; | Adjusted.P.value &lt;dbl&gt; | Old.P.value &lt;int&gt; | Old.Adjusted.P.value &lt;int&gt; | Odds.Ratio &lt;dbl&gt; | Combined.Score &lt;dbl&gt; | Genes &lt;chr&gt; |\n",
       "|---|---|---|---|---|---|---|---|---|---|\n",
       "| 1 | mitochondrial matrix (GO:0005759) | 102/308  | 3.595572e-30 | 1.028334e-27 | 0 | 0 | 4.815534 | 326.4828 | DMGDH;ACAA2;ACSM3;GLDC;ECI1;ACSM1;ABAT;ACSM5;GCSH;HADH;ACAD10;NUDT13;MCCC2;GSTK1;PHYKPL;GPT2;HOGA1;CLPX;CYP27A1;BTD;SCO2;LACTB2;FDX1;MTHFD2L;ACOT2;PPIF;SUCLG2;DNA2;ALDH7A1;GCDH;SHMT2;AK4;ACAT1;PRDX3;GRPEL1;CYP11A1;DECR1;PCK2;ADHFE1;GOT2;IDH2;MTHFS;ACADSB;GLUD1;ALDH6A1;CPS1;ACADVL;ALAS1;HIBADH;ETFA;ETFB;MAIP1;DHTKD1;NADK2;ACADL;ALDH2;MTG1;DBT;ACADM;HMGCS2;ACADS;AASS;HIBCH;GPX1;BCKDHB;AMT;TFB2M;ALDH5A1;BDH1;PCCA;IVD;PCCB;FXN;FH;ACSS3;ECHS1;GLS2;ETFDH;HSD17B8;HSD17B10;HSPD1;HMGCL;RIDA;ALDH1B1;PDSS2;BCO2;CBR4;MMAA;AADAT;TXNRD2;MMAB;HSPE1;SUOX;SOD2;ETNPPL;SOD1;ALDH4A1;PDP2;PC;SARDH;NAGS;NAXD                                                                                                                                                                                                                                                                                                                                                                                                                                                                                                                                                                                                                                  |\n",
       "| 2 | mitochondrion (GO:0005739)        | 199/1026 | 1.971762e-22 | 2.819619e-20 | 0 | 0 | 2.384840 | 119.1894 | DMGDH;GLDC;ECI1;ECI2;ABAT;GCSH;CYP2D6;ACAD10;MCCC2;GSTK1;STARD4;CPT1A;STARD5;SDS;PHYKPL;ACSL1;OXSM;ECH1;ACSL5;HOGA1;GCAT;CLPX;CYP27A1;SCO2;FDX1;MTHFD2L;ACOT2;SUCLG2;MT-CO2;MT-CO3;DNA2;ALDH7A1;GCDH;MAOB;SHMT2;MRPL19;MGST1;HACD3;MRPL12;PRDX3;GRPEL1;NTHL1;LDHD;PCK1;DECR1;PCK2;ADHFE1;RMDN3;MTHFS;BRI3BP;ACADSB;DHFR;GLUD1;ALDH6A1;GLUD2;AKR1B10;ECHDC2;SFXN1;ECHDC3;HIBADH;SLC44A1;HSCB;HINT2;ACADL;AIFM1;MTG1;C19ORF12;ACADM;ACADS;AASS;MRPS26;NME4;TFB2M;PARP9;POU5F1;ALDH5A1;BDH1;IVD;PLIN5;FH;ECHS1;GRAMD4;PTS;PDF;BID;DCPS;GK;G0S2;TCAIM;AGMAT;DHRS4;ETNPPL;LYRM1;GATM;CRAT;HSPA1B;HSPA1A;MTCH2;ACAA2;TACO1;MPV17L;CPOX;OGDHL;COX6A1;CLU;MPC1;MPC2;PMPCA;SLC25A42;HADH;TGM2;DGAT2;SDHD;SDHB;SLC9B2;ATAD3C;RAB32;SELENOO;PPIF;ABHD6;AK4;HIGD1A;ACACB;ACAT2;ACAT1;CYP11A1;NDUFV2;GOT2;IDH2;CHCHD10;CRLS1;SCCPDH;AMACR;UQCRQ;PXMP2;ACO1;MT-CYB;XAF1;ACADVL;ALAS1;RMND1;ETFA;ETFB;TRIAP1;MTO1;DHTKD1;NADK2;CPT2;TOP1MT;DBT;HMGCS2;HIBCH;BOK;HSDL2;GPX1;BCKDHB;AMT;NIPSNAP1;TNFRSF1A;SLC25A16;TST;PCCB;CAT;NOS1AP;SLC25A10;MTFR1;FXN;SLC25A13;POLDIP2;GLS2;HSD17B10;BPHL;FOXRED1;HSPD1;HMGCL;POLD4;ALDH1B1;STOM;SLC25A20;BCO2;TIMM8A;FAHD1;TXNRD2;BNIP3;SUOX;SOD2;HSPE1;SUGCT;DHODH;SOD1;GSTZ1;PNKD;GOLPH3;PC;XPNPEP3;SLC25A30;SARDH;CCM2;NAGS |\n",
       "\n"
      ],
      "text/plain": [
       "  Term                              Overlap  P.value      Adjusted.P.value\n",
       "1 mitochondrial matrix (GO:0005759) 102/308  3.595572e-30 1.028334e-27    \n",
       "2 mitochondrion (GO:0005739)        199/1026 1.971762e-22 2.819619e-20    \n",
       "  Old.P.value Old.Adjusted.P.value Odds.Ratio Combined.Score\n",
       "1 0           0                    4.815534   326.4828      \n",
       "2 0           0                    2.384840   119.1894      \n",
       "  Genes                                                                                                                                                                                                                                                                                                                                                                                                                                                                                                                                                                                                                                                                                                                                                                                                                                                                                                                                                                                                                                                                                                                                                                                                                                             \n",
       "1 DMGDH;ACAA2;ACSM3;GLDC;ECI1;ACSM1;ABAT;ACSM5;GCSH;HADH;ACAD10;NUDT13;MCCC2;GSTK1;PHYKPL;GPT2;HOGA1;CLPX;CYP27A1;BTD;SCO2;LACTB2;FDX1;MTHFD2L;ACOT2;PPIF;SUCLG2;DNA2;ALDH7A1;GCDH;SHMT2;AK4;ACAT1;PRDX3;GRPEL1;CYP11A1;DECR1;PCK2;ADHFE1;GOT2;IDH2;MTHFS;ACADSB;GLUD1;ALDH6A1;CPS1;ACADVL;ALAS1;HIBADH;ETFA;ETFB;MAIP1;DHTKD1;NADK2;ACADL;ALDH2;MTG1;DBT;ACADM;HMGCS2;ACADS;AASS;HIBCH;GPX1;BCKDHB;AMT;TFB2M;ALDH5A1;BDH1;PCCA;IVD;PCCB;FXN;FH;ACSS3;ECHS1;GLS2;ETFDH;HSD17B8;HSD17B10;HSPD1;HMGCL;RIDA;ALDH1B1;PDSS2;BCO2;CBR4;MMAA;AADAT;TXNRD2;MMAB;HSPE1;SUOX;SOD2;ETNPPL;SOD1;ALDH4A1;PDP2;PC;SARDH;NAGS;NAXD                                                                                                                                                                                                                                                                                                                                                                                                                                                                                                                                                                                                                                 \n",
       "2 DMGDH;GLDC;ECI1;ECI2;ABAT;GCSH;CYP2D6;ACAD10;MCCC2;GSTK1;STARD4;CPT1A;STARD5;SDS;PHYKPL;ACSL1;OXSM;ECH1;ACSL5;HOGA1;GCAT;CLPX;CYP27A1;SCO2;FDX1;MTHFD2L;ACOT2;SUCLG2;MT-CO2;MT-CO3;DNA2;ALDH7A1;GCDH;MAOB;SHMT2;MRPL19;MGST1;HACD3;MRPL12;PRDX3;GRPEL1;NTHL1;LDHD;PCK1;DECR1;PCK2;ADHFE1;RMDN3;MTHFS;BRI3BP;ACADSB;DHFR;GLUD1;ALDH6A1;GLUD2;AKR1B10;ECHDC2;SFXN1;ECHDC3;HIBADH;SLC44A1;HSCB;HINT2;ACADL;AIFM1;MTG1;C19ORF12;ACADM;ACADS;AASS;MRPS26;NME4;TFB2M;PARP9;POU5F1;ALDH5A1;BDH1;IVD;PLIN5;FH;ECHS1;GRAMD4;PTS;PDF;BID;DCPS;GK;G0S2;TCAIM;AGMAT;DHRS4;ETNPPL;LYRM1;GATM;CRAT;HSPA1B;HSPA1A;MTCH2;ACAA2;TACO1;MPV17L;CPOX;OGDHL;COX6A1;CLU;MPC1;MPC2;PMPCA;SLC25A42;HADH;TGM2;DGAT2;SDHD;SDHB;SLC9B2;ATAD3C;RAB32;SELENOO;PPIF;ABHD6;AK4;HIGD1A;ACACB;ACAT2;ACAT1;CYP11A1;NDUFV2;GOT2;IDH2;CHCHD10;CRLS1;SCCPDH;AMACR;UQCRQ;PXMP2;ACO1;MT-CYB;XAF1;ACADVL;ALAS1;RMND1;ETFA;ETFB;TRIAP1;MTO1;DHTKD1;NADK2;CPT2;TOP1MT;DBT;HMGCS2;HIBCH;BOK;HSDL2;GPX1;BCKDHB;AMT;NIPSNAP1;TNFRSF1A;SLC25A16;TST;PCCB;CAT;NOS1AP;SLC25A10;MTFR1;FXN;SLC25A13;POLDIP2;GLS2;HSD17B10;BPHL;FOXRED1;HSPD1;HMGCL;POLD4;ALDH1B1;STOM;SLC25A20;BCO2;TIMM8A;FAHD1;TXNRD2;BNIP3;SUOX;SOD2;HSPE1;SUGCT;DHODH;SOD1;GSTZ1;PNKD;GOLPH3;PC;XPNPEP3;SLC25A30;SARDH;CCM2;NAGS"
      ]
     },
     "metadata": {},
     "output_type": "display_data"
    }
   ],
   "source": [
    "CATEGORY <- \"GO_Cellular_Component_2018\"\n",
    "\n",
    "results.db <- enriched[[CATEGORY]]\n",
    "results.db.fdr <- subset(results.db, Adjusted.P.value < 0.05)\n",
    "head(results.db.fdr,2)"
   ]
  },
  {
   "cell_type": "code",
   "execution_count": 32,
   "id": "eeb544ba",
   "metadata": {},
   "outputs": [
    {
     "data": {
      "text/html": [
       "<table class=\"dataframe\">\n",
       "<caption>A data.frame: 2 × 9</caption>\n",
       "<thead>\n",
       "\t<tr><th></th><th scope=col>Term</th><th scope=col>Overlap</th><th scope=col>P.value</th><th scope=col>Adjusted.P.value</th><th scope=col>Old.P.value</th><th scope=col>Old.Adjusted.P.value</th><th scope=col>Odds.Ratio</th><th scope=col>Combined.Score</th><th scope=col>Genes</th></tr>\n",
       "\t<tr><th></th><th scope=col>&lt;chr&gt;</th><th scope=col>&lt;chr&gt;</th><th scope=col>&lt;dbl&gt;</th><th scope=col>&lt;dbl&gt;</th><th scope=col>&lt;int&gt;</th><th scope=col>&lt;int&gt;</th><th scope=col>&lt;dbl&gt;</th><th scope=col>&lt;dbl&gt;</th><th scope=col>&lt;chr&gt;</th></tr>\n",
       "</thead>\n",
       "<tbody>\n",
       "\t<tr><th scope=row>1</th><td>oxidoreductase activity, acting on the CH-OH group of donors, NAD or NADP as acceptor (GO:0016616)</td><td>42/88</td><td>4.837822e-20</td><td>4.116987e-17</td><td>0</td><td>0</td><td> 8.675839</td><td>385.8600</td><td>HIBADH;ADH1C;HPGD;ADH1A;HSD17B4;HSD17B13;HMGCR;HSD17B7;HSD17B11;HSD17B8;HSD17B10;NSDHL;LDHA;AKR7A3;SPR;RDH12;RDH11;RDH10;RDH16;PHGDH;KDSR;HADH;CBR4;CBR1;HSD3B7;CYB5A;DCXR;ADHFE1;AKR1C1;AKR1A1;SORD;AKR1C3;DHRS3;DHRS4;UGDH;GRHPR;AKR1B10;BDH1;EHHADH;GPD1;RDH5;CRYL1</td></tr>\n",
       "\t<tr><th scope=row>2</th><td>acyl-CoA dehydrogenase activity (GO:0003995)                                                      </td><td>11/15</td><td>6.499844e-09</td><td>2.765684e-06</td><td>0</td><td>0</td><td>25.770368</td><td>485.8098</td><td>GCDH;ACADVL;ACADL;ACOX2;ACOX1;IVD;ACADM;ACAD11;ACADSB;ACAD10;ACADS                                                                                                                                                                                                    </td></tr>\n",
       "</tbody>\n",
       "</table>\n"
      ],
      "text/latex": [
       "A data.frame: 2 × 9\n",
       "\\begin{tabular}{r|lllllllll}\n",
       "  & Term & Overlap & P.value & Adjusted.P.value & Old.P.value & Old.Adjusted.P.value & Odds.Ratio & Combined.Score & Genes\\\\\n",
       "  & <chr> & <chr> & <dbl> & <dbl> & <int> & <int> & <dbl> & <dbl> & <chr>\\\\\n",
       "\\hline\n",
       "\t1 & oxidoreductase activity, acting on the CH-OH group of donors, NAD or NADP as acceptor (GO:0016616) & 42/88 & 4.837822e-20 & 4.116987e-17 & 0 & 0 &  8.675839 & 385.8600 & HIBADH;ADH1C;HPGD;ADH1A;HSD17B4;HSD17B13;HMGCR;HSD17B7;HSD17B11;HSD17B8;HSD17B10;NSDHL;LDHA;AKR7A3;SPR;RDH12;RDH11;RDH10;RDH16;PHGDH;KDSR;HADH;CBR4;CBR1;HSD3B7;CYB5A;DCXR;ADHFE1;AKR1C1;AKR1A1;SORD;AKR1C3;DHRS3;DHRS4;UGDH;GRHPR;AKR1B10;BDH1;EHHADH;GPD1;RDH5;CRYL1\\\\\n",
       "\t2 & acyl-CoA dehydrogenase activity (GO:0003995)                                                       & 11/15 & 6.499844e-09 & 2.765684e-06 & 0 & 0 & 25.770368 & 485.8098 & GCDH;ACADVL;ACADL;ACOX2;ACOX1;IVD;ACADM;ACAD11;ACADSB;ACAD10;ACADS                                                                                                                                                                                                    \\\\\n",
       "\\end{tabular}\n"
      ],
      "text/markdown": [
       "\n",
       "A data.frame: 2 × 9\n",
       "\n",
       "| <!--/--> | Term &lt;chr&gt; | Overlap &lt;chr&gt; | P.value &lt;dbl&gt; | Adjusted.P.value &lt;dbl&gt; | Old.P.value &lt;int&gt; | Old.Adjusted.P.value &lt;int&gt; | Odds.Ratio &lt;dbl&gt; | Combined.Score &lt;dbl&gt; | Genes &lt;chr&gt; |\n",
       "|---|---|---|---|---|---|---|---|---|---|\n",
       "| 1 | oxidoreductase activity, acting on the CH-OH group of donors, NAD or NADP as acceptor (GO:0016616) | 42/88 | 4.837822e-20 | 4.116987e-17 | 0 | 0 |  8.675839 | 385.8600 | HIBADH;ADH1C;HPGD;ADH1A;HSD17B4;HSD17B13;HMGCR;HSD17B7;HSD17B11;HSD17B8;HSD17B10;NSDHL;LDHA;AKR7A3;SPR;RDH12;RDH11;RDH10;RDH16;PHGDH;KDSR;HADH;CBR4;CBR1;HSD3B7;CYB5A;DCXR;ADHFE1;AKR1C1;AKR1A1;SORD;AKR1C3;DHRS3;DHRS4;UGDH;GRHPR;AKR1B10;BDH1;EHHADH;GPD1;RDH5;CRYL1 |\n",
       "| 2 | acyl-CoA dehydrogenase activity (GO:0003995)                                                       | 11/15 | 6.499844e-09 | 2.765684e-06 | 0 | 0 | 25.770368 | 485.8098 | GCDH;ACADVL;ACADL;ACOX2;ACOX1;IVD;ACADM;ACAD11;ACADSB;ACAD10;ACADS                                                                                                                                                                                                     |\n",
       "\n"
      ],
      "text/plain": [
       "  Term                                                                                              \n",
       "1 oxidoreductase activity, acting on the CH-OH group of donors, NAD or NADP as acceptor (GO:0016616)\n",
       "2 acyl-CoA dehydrogenase activity (GO:0003995)                                                      \n",
       "  Overlap P.value      Adjusted.P.value Old.P.value Old.Adjusted.P.value\n",
       "1 42/88   4.837822e-20 4.116987e-17     0           0                   \n",
       "2 11/15   6.499844e-09 2.765684e-06     0           0                   \n",
       "  Odds.Ratio Combined.Score\n",
       "1  8.675839  385.8600      \n",
       "2 25.770368  485.8098      \n",
       "  Genes                                                                                                                                                                                                                                                                 \n",
       "1 HIBADH;ADH1C;HPGD;ADH1A;HSD17B4;HSD17B13;HMGCR;HSD17B7;HSD17B11;HSD17B8;HSD17B10;NSDHL;LDHA;AKR7A3;SPR;RDH12;RDH11;RDH10;RDH16;PHGDH;KDSR;HADH;CBR4;CBR1;HSD3B7;CYB5A;DCXR;ADHFE1;AKR1C1;AKR1A1;SORD;AKR1C3;DHRS3;DHRS4;UGDH;GRHPR;AKR1B10;BDH1;EHHADH;GPD1;RDH5;CRYL1\n",
       "2 GCDH;ACADVL;ACADL;ACOX2;ACOX1;IVD;ACADM;ACAD11;ACADSB;ACAD10;ACADS                                                                                                                                                                                                    "
      ]
     },
     "metadata": {},
     "output_type": "display_data"
    }
   ],
   "source": [
    "CATEGORY <- \"GO_Molecular_Function_2018\"\n",
    "\n",
    "results.db <- enriched[[CATEGORY]]\n",
    "results.db.fdr <- subset(results.db, Adjusted.P.value < 0.05)\n",
    "head(results.db.fdr,2)"
   ]
  },
  {
   "cell_type": "code",
   "execution_count": null,
   "id": "112ce38e",
   "metadata": {},
   "outputs": [],
   "source": []
  },
  {
   "cell_type": "code",
   "execution_count": null,
   "id": "e53f37c5",
   "metadata": {},
   "outputs": [],
   "source": [
    "CATEGORY <- \"DSigDB\"\n",
    "\n",
    "results.db <- enriched[[CATEGORY]]\n",
    "results.db.fdr <- subset(results.db, Adjusted.P.value < 0.05)\n",
    "head(results.db.fdr,2)"
   ]
  },
  {
   "cell_type": "code",
   "execution_count": null,
   "id": "90ae7484",
   "metadata": {},
   "outputs": [],
   "source": [
    "CATEGORY <- \"Genome_Browser_PWMs\"\n",
    "\n",
    "results.db <- enriched[[CATEGORY]]\n",
    "results.db.fdr <- subset(results.db, Adjusted.P.value < 0.05)\n",
    "head(results.db.fdr,2)"
   ]
  },
  {
   "cell_type": "code",
   "execution_count": 33,
   "id": "ed0978fc",
   "metadata": {},
   "outputs": [
    {
     "data": {
      "text/html": [
       "<table class=\"dataframe\">\n",
       "<caption>A data.frame: 2 × 9</caption>\n",
       "<thead>\n",
       "\t<tr><th></th><th scope=col>Term</th><th scope=col>Overlap</th><th scope=col>P.value</th><th scope=col>Adjusted.P.value</th><th scope=col>Old.P.value</th><th scope=col>Old.Adjusted.P.value</th><th scope=col>Odds.Ratio</th><th scope=col>Combined.Score</th><th scope=col>Genes</th></tr>\n",
       "\t<tr><th></th><th scope=col>&lt;chr&gt;</th><th scope=col>&lt;chr&gt;</th><th scope=col>&lt;dbl&gt;</th><th scope=col>&lt;dbl&gt;</th><th scope=col>&lt;int&gt;</th><th scope=col>&lt;int&gt;</th><th scope=col>&lt;dbl&gt;</th><th scope=col>&lt;dbl&gt;</th><th scope=col>&lt;chr&gt;</th></tr>\n",
       "</thead>\n",
       "<tbody>\n",
       "\t<tr><th scope=row>1</th><td>NFE2 (human)  </td><td>322/2681</td><td>1.226066e-05</td><td>0.003837588</td><td>0</td><td>0</td><td>1.326384</td><td>15.00023</td><td>SLC23A3;SLC23A2;CDA;PI4K2B;IL1RN;ECI1;AQP7;UBE2L6;TMEM97;ENO3;LIPF;BAIAP2L1;DHX58;SIL1;SLC12A7;SLC12A8;MFSD2A;GSTK1;CXADR;STARD5;ACSL1;CTRB2;CTRB1;ACSL5;BHLHA15;MYO7A;RUNX3;SIGIRR;CARHSP1;RBP5;RNF125;IL23A;ORAI3;TRIM14;EPHA1;NGEF;SLC22A3;SLC35D1;ABCB4;HPN;IL20RB;SLC5A1;CD1D;SDSL;MRPL12;SULT1A1;HSD11B1;NEU4;ACTR3C;KLRK1;RDH12;LCN12;ADAMTS17;SLC19A3;PNPO;FAM180A;PLEK2;PCK1;PRR22;SULT1A2;LHPP;SPTBN2;GSDMD;XBP1;TMEM86B;GRTP1;CYP4F3;IGF2;PTK6;NMI;BRI3BP;NR0B2;NR2F6;PARP10;MARCO;ASAH2B;FXYD2;FASN;SDC1;PEMT;PLCH2;SFXN5;SLC2A4RG;COL18A1;PIGR;CTSZ;ADK;SNX10;PRL;PEPD;PTPRH;PIGV;LARP1B;PTMS;ASGR2;CTSO;C8G;HINT2;KCNT2;AIFM1;HYAL1;SLC22A18;ADAMTSL2;HYAL3;RAC2;DGCR6L;FLVCR2;IKBKG;CBR1;LRRC45;KCND3;GSTO1;SPHK2;SLC2A10;AMPD2;SLC39A14;VAV2;CLDN15;CYP21A2;ANGPTL6;MZB1;VWA1;TLCD1;ANGPTL4;PPARA;PLIN5;AVPI1;C11ORF52;AHCY;SLC43A3;VWCE;TYMP;SLC17A9;NPW;CAMK2N1;STAT4;METTL7B;CENPV;GCH1;F10;SERPIND1;DDTL;SYVN1;PLEKHA6;DHRS1;LILRB3;FMO5;YIF1A;NR6A1;PDP2;SMOC1;APBA1;NOTUM;HSPA1B;FCN2;ALDH1L1;CRCP;CLSTN3;HFE;WWC1;RORC;COMT;CLU;ETS2;TM7SF2;NRBP2;SLCO2B1;C1RL;LEPR;SIRPA;NRTN;ACAA1;GGT1;ZNF563;LAG3;PCYT2;HGD;IGFBP2;SRCIN1;TLE6;TPST1;SCNN1D;RAB37;SHPK;PPIF;NUPR1;IGFALS;PHLDB3;TTPAL;SLC27A2;SLC27A5;FTL;RTN4R;HTRA1;DTX1;AK4;SLC9A3R2;FAM83H;KLC4;BAG4;SCUBE1;UBD;PMVK;SLC38A3;NADK;WNT3;MPDU1;MPST;OPN3;ACBD4;NEK6;IDH1;CHCHD10;TRPV1;CRLS1;EFNA1;RCL1;SLC2A9;RCAN1;AMACR;CXCL12;BMP1;TRPV6;UQCRQ;FAM151A;BAMBI;CDK3;BCL3;ALPL;CRYL1;SERINC2;MYD88;SPRN;RTP4;DOCK5;HSPB9;ACADVL;GAL3ST1;TREH;SLC40A1;C15ORF62;OXT;YBX2;DBH;MTO1;CXCL2;FCGR3A;FCGR3B;ATP7B;TOP1MT;CYP4V2;ENOSF1;MFSD3;LBP;HGFAC;OVGP1;ABCC3;SLC13A3;TTC31;PLEKHG6;AMT;VPS37D;LSR;CORT;ZAP70;AGAP9;ELF3;LCK;CHDH;CAT;CDHR5;TRIM55;SHANK2;RBKS;SLC25A13;ITIH4;CEBPB;RBM47;GALT;SLC47A1;LRP1;ETFDH;LRP5;LCAT;AGPAT2;LRP6;SELENBP1;POLD4;DNAJB1;C17ORF107;TTR;UGP2;ABLIM3;ERBB3;RAB26;DDT;TMEM205;SH3BP2;POLR2E;EPS8L2;SLC25A25;HSD3B7;MMAA;GALNT2;B3GAT1;BAIAP3;GALE;CCS;ZGLP1;APOC2;XPNPEP3;CD7;MGAT4B;SARDH;S100P;OCIAD2;RAB17;SMAP2;FCGR2B;MMACHC;LPIN3;LNX2</td></tr>\n",
       "\t<tr><th scope=row>2</th><td>CACYBP (human)</td><td>174/1350</td><td>4.494416e-05</td><td>0.007033761</td><td>0</td><td>0</td><td>1.416349</td><td>14.17778</td><td>SPON2;STEAP3;EXOC3L4;CALML6;WWC2;RORC;DNHD1;ICAM3;KNDC1;IFI30;AQP3;NDST1;CYP2D6;DHX58;CAPN5;SCN9A;PHYHD1;LEPR;SLC39A5;NRTN;GGT1;SLC12A7;SYBU;AGFG2;LAG3;FBXO17;SERPINF2;BHLHA15;PRAP1;RUNX3;GCAT;SIGIRR;TPST1;STX1B;OLFM2;CARHSP1;RBP5;SCNN1D;SCO2;TFR2;CLDN9;ORAI3;CLDN7;HSBP1L1;IGFALS;ATF5;TRIB1;PHLDB3;NGEF;SLC27A5;CES2;LY6E;RTN4R;NECAB2;AK4;A1BG;C2;SLC9A3R2;FAM83H;NEU4;ZNHIT1;S100A16;LCN12;AFMID;CHAD;SCAP;KCNN2;SLC38A3;GSDMD;TMEM184A;MPST;F8A1;GSDMB;TMEM86B;ACBD4;GADD45B;NEK6;EPHX1;TNFRSF10B;CHCHD10;PTK6;PILRB;CORO2A;SLC16A13;PARP10;SULT1B1;MLXIPL;GH1;CXCL12;UBXN10;FES;BCL3;CDK10;PLCH2;SERINC2;FGFR3;SLC2A4RG;GALK1;SIGLEC9;TREH;TMEM52;KIF12;CTSW;OXT;LARP1B;PTMS;ASGR2;PSD4;HYAL3;MFSD3;RNF152;TMED6;HGFAC;MAMDC4;DENND2C;AMN;KCND3;PLEKHG6;ELOVL6;HBA2;HBA1;SHROOM1;IL17RC;LSS;POU5F1;TUBB2A;TST;LCK;IRF7;VWA1;RDH5;TLCD2;CDHR5;GPRC5C;CEBPB;LTK;SATB2;LCAT;AGPAT2;POLD4;C17ORF107;RXRA;CBS;DDT;NTF3;SH3BP2;MARVELD3;ASPDH;SUSD3;EPS8L2;SLC25A22;SLC25A25;HSD3B7;LAMB3;F10;TMEM176B;MOCOS;NR1H3;APOBR;YIF1A;ALDH4A1;PNKD;NR6A1;ZDHHC9;ZGLP1;APOC2;APOC1;MGAT4B;SARDH;P4HB;SMAP2;SIGLEC7;LGR4;GRINA                                                                                                                                                                                                                                                                                                                                                                                                                                                                                                                                                                                                                                                                                                                                                                                                                                                                                                                              </td></tr>\n",
       "</tbody>\n",
       "</table>\n"
      ],
      "text/latex": [
       "A data.frame: 2 × 9\n",
       "\\begin{tabular}{r|lllllllll}\n",
       "  & Term & Overlap & P.value & Adjusted.P.value & Old.P.value & Old.Adjusted.P.value & Odds.Ratio & Combined.Score & Genes\\\\\n",
       "  & <chr> & <chr> & <dbl> & <dbl> & <int> & <int> & <dbl> & <dbl> & <chr>\\\\\n",
       "\\hline\n",
       "\t1 & NFE2 (human)   & 322/2681 & 1.226066e-05 & 0.003837588 & 0 & 0 & 1.326384 & 15.00023 & SLC23A3;SLC23A2;CDA;PI4K2B;IL1RN;ECI1;AQP7;UBE2L6;TMEM97;ENO3;LIPF;BAIAP2L1;DHX58;SIL1;SLC12A7;SLC12A8;MFSD2A;GSTK1;CXADR;STARD5;ACSL1;CTRB2;CTRB1;ACSL5;BHLHA15;MYO7A;RUNX3;SIGIRR;CARHSP1;RBP5;RNF125;IL23A;ORAI3;TRIM14;EPHA1;NGEF;SLC22A3;SLC35D1;ABCB4;HPN;IL20RB;SLC5A1;CD1D;SDSL;MRPL12;SULT1A1;HSD11B1;NEU4;ACTR3C;KLRK1;RDH12;LCN12;ADAMTS17;SLC19A3;PNPO;FAM180A;PLEK2;PCK1;PRR22;SULT1A2;LHPP;SPTBN2;GSDMD;XBP1;TMEM86B;GRTP1;CYP4F3;IGF2;PTK6;NMI;BRI3BP;NR0B2;NR2F6;PARP10;MARCO;ASAH2B;FXYD2;FASN;SDC1;PEMT;PLCH2;SFXN5;SLC2A4RG;COL18A1;PIGR;CTSZ;ADK;SNX10;PRL;PEPD;PTPRH;PIGV;LARP1B;PTMS;ASGR2;CTSO;C8G;HINT2;KCNT2;AIFM1;HYAL1;SLC22A18;ADAMTSL2;HYAL3;RAC2;DGCR6L;FLVCR2;IKBKG;CBR1;LRRC45;KCND3;GSTO1;SPHK2;SLC2A10;AMPD2;SLC39A14;VAV2;CLDN15;CYP21A2;ANGPTL6;MZB1;VWA1;TLCD1;ANGPTL4;PPARA;PLIN5;AVPI1;C11ORF52;AHCY;SLC43A3;VWCE;TYMP;SLC17A9;NPW;CAMK2N1;STAT4;METTL7B;CENPV;GCH1;F10;SERPIND1;DDTL;SYVN1;PLEKHA6;DHRS1;LILRB3;FMO5;YIF1A;NR6A1;PDP2;SMOC1;APBA1;NOTUM;HSPA1B;FCN2;ALDH1L1;CRCP;CLSTN3;HFE;WWC1;RORC;COMT;CLU;ETS2;TM7SF2;NRBP2;SLCO2B1;C1RL;LEPR;SIRPA;NRTN;ACAA1;GGT1;ZNF563;LAG3;PCYT2;HGD;IGFBP2;SRCIN1;TLE6;TPST1;SCNN1D;RAB37;SHPK;PPIF;NUPR1;IGFALS;PHLDB3;TTPAL;SLC27A2;SLC27A5;FTL;RTN4R;HTRA1;DTX1;AK4;SLC9A3R2;FAM83H;KLC4;BAG4;SCUBE1;UBD;PMVK;SLC38A3;NADK;WNT3;MPDU1;MPST;OPN3;ACBD4;NEK6;IDH1;CHCHD10;TRPV1;CRLS1;EFNA1;RCL1;SLC2A9;RCAN1;AMACR;CXCL12;BMP1;TRPV6;UQCRQ;FAM151A;BAMBI;CDK3;BCL3;ALPL;CRYL1;SERINC2;MYD88;SPRN;RTP4;DOCK5;HSPB9;ACADVL;GAL3ST1;TREH;SLC40A1;C15ORF62;OXT;YBX2;DBH;MTO1;CXCL2;FCGR3A;FCGR3B;ATP7B;TOP1MT;CYP4V2;ENOSF1;MFSD3;LBP;HGFAC;OVGP1;ABCC3;SLC13A3;TTC31;PLEKHG6;AMT;VPS37D;LSR;CORT;ZAP70;AGAP9;ELF3;LCK;CHDH;CAT;CDHR5;TRIM55;SHANK2;RBKS;SLC25A13;ITIH4;CEBPB;RBM47;GALT;SLC47A1;LRP1;ETFDH;LRP5;LCAT;AGPAT2;LRP6;SELENBP1;POLD4;DNAJB1;C17ORF107;TTR;UGP2;ABLIM3;ERBB3;RAB26;DDT;TMEM205;SH3BP2;POLR2E;EPS8L2;SLC25A25;HSD3B7;MMAA;GALNT2;B3GAT1;BAIAP3;GALE;CCS;ZGLP1;APOC2;XPNPEP3;CD7;MGAT4B;SARDH;S100P;OCIAD2;RAB17;SMAP2;FCGR2B;MMACHC;LPIN3;LNX2\\\\\n",
       "\t2 & CACYBP (human) & 174/1350 & 4.494416e-05 & 0.007033761 & 0 & 0 & 1.416349 & 14.17778 & SPON2;STEAP3;EXOC3L4;CALML6;WWC2;RORC;DNHD1;ICAM3;KNDC1;IFI30;AQP3;NDST1;CYP2D6;DHX58;CAPN5;SCN9A;PHYHD1;LEPR;SLC39A5;NRTN;GGT1;SLC12A7;SYBU;AGFG2;LAG3;FBXO17;SERPINF2;BHLHA15;PRAP1;RUNX3;GCAT;SIGIRR;TPST1;STX1B;OLFM2;CARHSP1;RBP5;SCNN1D;SCO2;TFR2;CLDN9;ORAI3;CLDN7;HSBP1L1;IGFALS;ATF5;TRIB1;PHLDB3;NGEF;SLC27A5;CES2;LY6E;RTN4R;NECAB2;AK4;A1BG;C2;SLC9A3R2;FAM83H;NEU4;ZNHIT1;S100A16;LCN12;AFMID;CHAD;SCAP;KCNN2;SLC38A3;GSDMD;TMEM184A;MPST;F8A1;GSDMB;TMEM86B;ACBD4;GADD45B;NEK6;EPHX1;TNFRSF10B;CHCHD10;PTK6;PILRB;CORO2A;SLC16A13;PARP10;SULT1B1;MLXIPL;GH1;CXCL12;UBXN10;FES;BCL3;CDK10;PLCH2;SERINC2;FGFR3;SLC2A4RG;GALK1;SIGLEC9;TREH;TMEM52;KIF12;CTSW;OXT;LARP1B;PTMS;ASGR2;PSD4;HYAL3;MFSD3;RNF152;TMED6;HGFAC;MAMDC4;DENND2C;AMN;KCND3;PLEKHG6;ELOVL6;HBA2;HBA1;SHROOM1;IL17RC;LSS;POU5F1;TUBB2A;TST;LCK;IRF7;VWA1;RDH5;TLCD2;CDHR5;GPRC5C;CEBPB;LTK;SATB2;LCAT;AGPAT2;POLD4;C17ORF107;RXRA;CBS;DDT;NTF3;SH3BP2;MARVELD3;ASPDH;SUSD3;EPS8L2;SLC25A22;SLC25A25;HSD3B7;LAMB3;F10;TMEM176B;MOCOS;NR1H3;APOBR;YIF1A;ALDH4A1;PNKD;NR6A1;ZDHHC9;ZGLP1;APOC2;APOC1;MGAT4B;SARDH;P4HB;SMAP2;SIGLEC7;LGR4;GRINA                                                                                                                                                                                                                                                                                                                                                                                                                                                                                                                                                                                                                                                                                                                                                                                                                                                                                                                              \\\\\n",
       "\\end{tabular}\n"
      ],
      "text/markdown": [
       "\n",
       "A data.frame: 2 × 9\n",
       "\n",
       "| <!--/--> | Term &lt;chr&gt; | Overlap &lt;chr&gt; | P.value &lt;dbl&gt; | Adjusted.P.value &lt;dbl&gt; | Old.P.value &lt;int&gt; | Old.Adjusted.P.value &lt;int&gt; | Odds.Ratio &lt;dbl&gt; | Combined.Score &lt;dbl&gt; | Genes &lt;chr&gt; |\n",
       "|---|---|---|---|---|---|---|---|---|---|\n",
       "| 1 | NFE2 (human)   | 322/2681 | 1.226066e-05 | 0.003837588 | 0 | 0 | 1.326384 | 15.00023 | SLC23A3;SLC23A2;CDA;PI4K2B;IL1RN;ECI1;AQP7;UBE2L6;TMEM97;ENO3;LIPF;BAIAP2L1;DHX58;SIL1;SLC12A7;SLC12A8;MFSD2A;GSTK1;CXADR;STARD5;ACSL1;CTRB2;CTRB1;ACSL5;BHLHA15;MYO7A;RUNX3;SIGIRR;CARHSP1;RBP5;RNF125;IL23A;ORAI3;TRIM14;EPHA1;NGEF;SLC22A3;SLC35D1;ABCB4;HPN;IL20RB;SLC5A1;CD1D;SDSL;MRPL12;SULT1A1;HSD11B1;NEU4;ACTR3C;KLRK1;RDH12;LCN12;ADAMTS17;SLC19A3;PNPO;FAM180A;PLEK2;PCK1;PRR22;SULT1A2;LHPP;SPTBN2;GSDMD;XBP1;TMEM86B;GRTP1;CYP4F3;IGF2;PTK6;NMI;BRI3BP;NR0B2;NR2F6;PARP10;MARCO;ASAH2B;FXYD2;FASN;SDC1;PEMT;PLCH2;SFXN5;SLC2A4RG;COL18A1;PIGR;CTSZ;ADK;SNX10;PRL;PEPD;PTPRH;PIGV;LARP1B;PTMS;ASGR2;CTSO;C8G;HINT2;KCNT2;AIFM1;HYAL1;SLC22A18;ADAMTSL2;HYAL3;RAC2;DGCR6L;FLVCR2;IKBKG;CBR1;LRRC45;KCND3;GSTO1;SPHK2;SLC2A10;AMPD2;SLC39A14;VAV2;CLDN15;CYP21A2;ANGPTL6;MZB1;VWA1;TLCD1;ANGPTL4;PPARA;PLIN5;AVPI1;C11ORF52;AHCY;SLC43A3;VWCE;TYMP;SLC17A9;NPW;CAMK2N1;STAT4;METTL7B;CENPV;GCH1;F10;SERPIND1;DDTL;SYVN1;PLEKHA6;DHRS1;LILRB3;FMO5;YIF1A;NR6A1;PDP2;SMOC1;APBA1;NOTUM;HSPA1B;FCN2;ALDH1L1;CRCP;CLSTN3;HFE;WWC1;RORC;COMT;CLU;ETS2;TM7SF2;NRBP2;SLCO2B1;C1RL;LEPR;SIRPA;NRTN;ACAA1;GGT1;ZNF563;LAG3;PCYT2;HGD;IGFBP2;SRCIN1;TLE6;TPST1;SCNN1D;RAB37;SHPK;PPIF;NUPR1;IGFALS;PHLDB3;TTPAL;SLC27A2;SLC27A5;FTL;RTN4R;HTRA1;DTX1;AK4;SLC9A3R2;FAM83H;KLC4;BAG4;SCUBE1;UBD;PMVK;SLC38A3;NADK;WNT3;MPDU1;MPST;OPN3;ACBD4;NEK6;IDH1;CHCHD10;TRPV1;CRLS1;EFNA1;RCL1;SLC2A9;RCAN1;AMACR;CXCL12;BMP1;TRPV6;UQCRQ;FAM151A;BAMBI;CDK3;BCL3;ALPL;CRYL1;SERINC2;MYD88;SPRN;RTP4;DOCK5;HSPB9;ACADVL;GAL3ST1;TREH;SLC40A1;C15ORF62;OXT;YBX2;DBH;MTO1;CXCL2;FCGR3A;FCGR3B;ATP7B;TOP1MT;CYP4V2;ENOSF1;MFSD3;LBP;HGFAC;OVGP1;ABCC3;SLC13A3;TTC31;PLEKHG6;AMT;VPS37D;LSR;CORT;ZAP70;AGAP9;ELF3;LCK;CHDH;CAT;CDHR5;TRIM55;SHANK2;RBKS;SLC25A13;ITIH4;CEBPB;RBM47;GALT;SLC47A1;LRP1;ETFDH;LRP5;LCAT;AGPAT2;LRP6;SELENBP1;POLD4;DNAJB1;C17ORF107;TTR;UGP2;ABLIM3;ERBB3;RAB26;DDT;TMEM205;SH3BP2;POLR2E;EPS8L2;SLC25A25;HSD3B7;MMAA;GALNT2;B3GAT1;BAIAP3;GALE;CCS;ZGLP1;APOC2;XPNPEP3;CD7;MGAT4B;SARDH;S100P;OCIAD2;RAB17;SMAP2;FCGR2B;MMACHC;LPIN3;LNX2 |\n",
       "| 2 | CACYBP (human) | 174/1350 | 4.494416e-05 | 0.007033761 | 0 | 0 | 1.416349 | 14.17778 | SPON2;STEAP3;EXOC3L4;CALML6;WWC2;RORC;DNHD1;ICAM3;KNDC1;IFI30;AQP3;NDST1;CYP2D6;DHX58;CAPN5;SCN9A;PHYHD1;LEPR;SLC39A5;NRTN;GGT1;SLC12A7;SYBU;AGFG2;LAG3;FBXO17;SERPINF2;BHLHA15;PRAP1;RUNX3;GCAT;SIGIRR;TPST1;STX1B;OLFM2;CARHSP1;RBP5;SCNN1D;SCO2;TFR2;CLDN9;ORAI3;CLDN7;HSBP1L1;IGFALS;ATF5;TRIB1;PHLDB3;NGEF;SLC27A5;CES2;LY6E;RTN4R;NECAB2;AK4;A1BG;C2;SLC9A3R2;FAM83H;NEU4;ZNHIT1;S100A16;LCN12;AFMID;CHAD;SCAP;KCNN2;SLC38A3;GSDMD;TMEM184A;MPST;F8A1;GSDMB;TMEM86B;ACBD4;GADD45B;NEK6;EPHX1;TNFRSF10B;CHCHD10;PTK6;PILRB;CORO2A;SLC16A13;PARP10;SULT1B1;MLXIPL;GH1;CXCL12;UBXN10;FES;BCL3;CDK10;PLCH2;SERINC2;FGFR3;SLC2A4RG;GALK1;SIGLEC9;TREH;TMEM52;KIF12;CTSW;OXT;LARP1B;PTMS;ASGR2;PSD4;HYAL3;MFSD3;RNF152;TMED6;HGFAC;MAMDC4;DENND2C;AMN;KCND3;PLEKHG6;ELOVL6;HBA2;HBA1;SHROOM1;IL17RC;LSS;POU5F1;TUBB2A;TST;LCK;IRF7;VWA1;RDH5;TLCD2;CDHR5;GPRC5C;CEBPB;LTK;SATB2;LCAT;AGPAT2;POLD4;C17ORF107;RXRA;CBS;DDT;NTF3;SH3BP2;MARVELD3;ASPDH;SUSD3;EPS8L2;SLC25A22;SLC25A25;HSD3B7;LAMB3;F10;TMEM176B;MOCOS;NR1H3;APOBR;YIF1A;ALDH4A1;PNKD;NR6A1;ZDHHC9;ZGLP1;APOC2;APOC1;MGAT4B;SARDH;P4HB;SMAP2;SIGLEC7;LGR4;GRINA                                                                                                                                                                                                                                                                                                                                                                                                                                                                                                                                                                                                                                                                                                                                                                                                                                                                                                                               |\n",
       "\n"
      ],
      "text/plain": [
       "  Term           Overlap  P.value      Adjusted.P.value Old.P.value\n",
       "1 NFE2 (human)   322/2681 1.226066e-05 0.003837588      0          \n",
       "2 CACYBP (human) 174/1350 4.494416e-05 0.007033761      0          \n",
       "  Old.Adjusted.P.value Odds.Ratio Combined.Score\n",
       "1 0                    1.326384   15.00023      \n",
       "2 0                    1.416349   14.17778      \n",
       "  Genes                                                                                                                                                                                                                                                                                                                                                                                                                                                                                                                                                                                                                                                                                                                                                                                                                                                                                                                                                                                                                                                                                                                                                                                                                                                                                                                                                                                                                                                                                                                                                                                                                                                                                                                                                                                                                                                                                                                                                                                                                                                    \n",
       "1 SLC23A3;SLC23A2;CDA;PI4K2B;IL1RN;ECI1;AQP7;UBE2L6;TMEM97;ENO3;LIPF;BAIAP2L1;DHX58;SIL1;SLC12A7;SLC12A8;MFSD2A;GSTK1;CXADR;STARD5;ACSL1;CTRB2;CTRB1;ACSL5;BHLHA15;MYO7A;RUNX3;SIGIRR;CARHSP1;RBP5;RNF125;IL23A;ORAI3;TRIM14;EPHA1;NGEF;SLC22A3;SLC35D1;ABCB4;HPN;IL20RB;SLC5A1;CD1D;SDSL;MRPL12;SULT1A1;HSD11B1;NEU4;ACTR3C;KLRK1;RDH12;LCN12;ADAMTS17;SLC19A3;PNPO;FAM180A;PLEK2;PCK1;PRR22;SULT1A2;LHPP;SPTBN2;GSDMD;XBP1;TMEM86B;GRTP1;CYP4F3;IGF2;PTK6;NMI;BRI3BP;NR0B2;NR2F6;PARP10;MARCO;ASAH2B;FXYD2;FASN;SDC1;PEMT;PLCH2;SFXN5;SLC2A4RG;COL18A1;PIGR;CTSZ;ADK;SNX10;PRL;PEPD;PTPRH;PIGV;LARP1B;PTMS;ASGR2;CTSO;C8G;HINT2;KCNT2;AIFM1;HYAL1;SLC22A18;ADAMTSL2;HYAL3;RAC2;DGCR6L;FLVCR2;IKBKG;CBR1;LRRC45;KCND3;GSTO1;SPHK2;SLC2A10;AMPD2;SLC39A14;VAV2;CLDN15;CYP21A2;ANGPTL6;MZB1;VWA1;TLCD1;ANGPTL4;PPARA;PLIN5;AVPI1;C11ORF52;AHCY;SLC43A3;VWCE;TYMP;SLC17A9;NPW;CAMK2N1;STAT4;METTL7B;CENPV;GCH1;F10;SERPIND1;DDTL;SYVN1;PLEKHA6;DHRS1;LILRB3;FMO5;YIF1A;NR6A1;PDP2;SMOC1;APBA1;NOTUM;HSPA1B;FCN2;ALDH1L1;CRCP;CLSTN3;HFE;WWC1;RORC;COMT;CLU;ETS2;TM7SF2;NRBP2;SLCO2B1;C1RL;LEPR;SIRPA;NRTN;ACAA1;GGT1;ZNF563;LAG3;PCYT2;HGD;IGFBP2;SRCIN1;TLE6;TPST1;SCNN1D;RAB37;SHPK;PPIF;NUPR1;IGFALS;PHLDB3;TTPAL;SLC27A2;SLC27A5;FTL;RTN4R;HTRA1;DTX1;AK4;SLC9A3R2;FAM83H;KLC4;BAG4;SCUBE1;UBD;PMVK;SLC38A3;NADK;WNT3;MPDU1;MPST;OPN3;ACBD4;NEK6;IDH1;CHCHD10;TRPV1;CRLS1;EFNA1;RCL1;SLC2A9;RCAN1;AMACR;CXCL12;BMP1;TRPV6;UQCRQ;FAM151A;BAMBI;CDK3;BCL3;ALPL;CRYL1;SERINC2;MYD88;SPRN;RTP4;DOCK5;HSPB9;ACADVL;GAL3ST1;TREH;SLC40A1;C15ORF62;OXT;YBX2;DBH;MTO1;CXCL2;FCGR3A;FCGR3B;ATP7B;TOP1MT;CYP4V2;ENOSF1;MFSD3;LBP;HGFAC;OVGP1;ABCC3;SLC13A3;TTC31;PLEKHG6;AMT;VPS37D;LSR;CORT;ZAP70;AGAP9;ELF3;LCK;CHDH;CAT;CDHR5;TRIM55;SHANK2;RBKS;SLC25A13;ITIH4;CEBPB;RBM47;GALT;SLC47A1;LRP1;ETFDH;LRP5;LCAT;AGPAT2;LRP6;SELENBP1;POLD4;DNAJB1;C17ORF107;TTR;UGP2;ABLIM3;ERBB3;RAB26;DDT;TMEM205;SH3BP2;POLR2E;EPS8L2;SLC25A25;HSD3B7;MMAA;GALNT2;B3GAT1;BAIAP3;GALE;CCS;ZGLP1;APOC2;XPNPEP3;CD7;MGAT4B;SARDH;S100P;OCIAD2;RAB17;SMAP2;FCGR2B;MMACHC;LPIN3;LNX2\n",
       "2 SPON2;STEAP3;EXOC3L4;CALML6;WWC2;RORC;DNHD1;ICAM3;KNDC1;IFI30;AQP3;NDST1;CYP2D6;DHX58;CAPN5;SCN9A;PHYHD1;LEPR;SLC39A5;NRTN;GGT1;SLC12A7;SYBU;AGFG2;LAG3;FBXO17;SERPINF2;BHLHA15;PRAP1;RUNX3;GCAT;SIGIRR;TPST1;STX1B;OLFM2;CARHSP1;RBP5;SCNN1D;SCO2;TFR2;CLDN9;ORAI3;CLDN7;HSBP1L1;IGFALS;ATF5;TRIB1;PHLDB3;NGEF;SLC27A5;CES2;LY6E;RTN4R;NECAB2;AK4;A1BG;C2;SLC9A3R2;FAM83H;NEU4;ZNHIT1;S100A16;LCN12;AFMID;CHAD;SCAP;KCNN2;SLC38A3;GSDMD;TMEM184A;MPST;F8A1;GSDMB;TMEM86B;ACBD4;GADD45B;NEK6;EPHX1;TNFRSF10B;CHCHD10;PTK6;PILRB;CORO2A;SLC16A13;PARP10;SULT1B1;MLXIPL;GH1;CXCL12;UBXN10;FES;BCL3;CDK10;PLCH2;SERINC2;FGFR3;SLC2A4RG;GALK1;SIGLEC9;TREH;TMEM52;KIF12;CTSW;OXT;LARP1B;PTMS;ASGR2;PSD4;HYAL3;MFSD3;RNF152;TMED6;HGFAC;MAMDC4;DENND2C;AMN;KCND3;PLEKHG6;ELOVL6;HBA2;HBA1;SHROOM1;IL17RC;LSS;POU5F1;TUBB2A;TST;LCK;IRF7;VWA1;RDH5;TLCD2;CDHR5;GPRC5C;CEBPB;LTK;SATB2;LCAT;AGPAT2;POLD4;C17ORF107;RXRA;CBS;DDT;NTF3;SH3BP2;MARVELD3;ASPDH;SUSD3;EPS8L2;SLC25A22;SLC25A25;HSD3B7;LAMB3;F10;TMEM176B;MOCOS;NR1H3;APOBR;YIF1A;ALDH4A1;PNKD;NR6A1;ZDHHC9;ZGLP1;APOC2;APOC1;MGAT4B;SARDH;P4HB;SMAP2;SIGLEC7;LGR4;GRINA                                                                                                                                                                                                                                                                                                                                                                                                                                                                                                                                                                                                                                                                                                                                                                                                                                                                                                                              "
      ]
     },
     "metadata": {},
     "output_type": "display_data"
    }
   ],
   "source": [
    "CATEGORY <- \"TRANSFAC_and_JASPAR_PWMs\"\n",
    "\n",
    "results.db <- enriched[[CATEGORY]]\n",
    "results.db.fdr <- subset(results.db, Adjusted.P.value < 0.05)\n",
    "head(results.db.fdr,2)"
   ]
  },
  {
   "cell_type": "code",
   "execution_count": 34,
   "id": "f0d226c4",
   "metadata": {},
   "outputs": [
    {
     "data": {
      "text/html": [
       "<table class=\"dataframe\">\n",
       "<caption>A data.frame: 2 × 9</caption>\n",
       "<thead>\n",
       "\t<tr><th></th><th scope=col>Term</th><th scope=col>Overlap</th><th scope=col>P.value</th><th scope=col>Adjusted.P.value</th><th scope=col>Old.P.value</th><th scope=col>Old.Adjusted.P.value</th><th scope=col>Odds.Ratio</th><th scope=col>Combined.Score</th><th scope=col>Genes</th></tr>\n",
       "\t<tr><th></th><th scope=col>&lt;chr&gt;</th><th scope=col>&lt;chr&gt;</th><th scope=col>&lt;dbl&gt;</th><th scope=col>&lt;dbl&gt;</th><th scope=col>&lt;int&gt;</th><th scope=col>&lt;int&gt;</th><th scope=col>&lt;dbl&gt;</th><th scope=col>&lt;dbl&gt;</th><th scope=col>&lt;chr&gt;</th></tr>\n",
       "</thead>\n",
       "<tbody>\n",
       "\t<tr><th scope=row>1</th><td>HNF4A HEPG2</td><td>368/2200</td><td>3.482454e-28</td><td>1.688990e-25</td><td>0</td><td>0</td><td>2.076544</td><td>131.2888</td><td>PANK3;TMEM41B;ARL6IP1;PANK1;SLC23A1;ECI1;SERPINE1;AQP7;ABAT;NUDT6;ENO3;CISD3;FRAT2;NIPAL1;SEPHS2;XYLB;MCCC2;STARD4;CXADR;STARD5;NUP210;SERPINF2;ENTPD8;ACSL5;BHLHA15;PDZK1;PHKA2;PRAP1;CLPX;CYP27A1;POR;AZGP1;RBP4;CARHSP1;MT1A;RBP5;ARMC5;PPP1R3C;RNF128;TFR2;SOAT2;MTHFD2L;MT1F;MT1G;PSME2;ACOT1;KDELR2;NHLRC1;RBCK1;TRIB1;PEX11G;HPD;NGEF;CES1;GCDH;MAOB;ABCB4;SLC35D2;HPN;HPR;A1BG;MTMR4;ART4;C3;HPX;HSD11B2;SGPL1;APOH;AFMID;SCAP;ST3GAL6;PCK1;A2M;N4BP2;SULT1A2;DECR1;PCK2;SLC10A5;CRADD;FZD5;ABCA6;SIAH2;NR0B2;PAICS;GDF7;HAL;GLUD2;MYO5B;FXYD1;RANBP10;SDC1;SFXN1;TRMT11;CPEB3;SLC2A4RG;LAD1;ORM1;ECM2;ACY1;SLC44A1;GPT;N4BP2L1;PYGL;ORM2;TRAM2;ASGR1;CLYBL;ASGR2;PHF8;C16ORF70;C8G;CLDN23;HYAL3;SH3BGRL2;FLVCR2;GNPNAT1;TK1;IKBKG;ANXA9;CGNL1;AASS;RALGPS2;TIGD2;MRPS26;PARP3;LYPLA1;DUSP1;GSTO1;STRADB;ELOVL2;ELOVL6;SLC39A14;DUSP6;IL17RB;GCHFR;UGDH;TMEM37;ALDH5A1;BDH1;MMP15;SLC7A9;DPYD;CNKSR3;RGN;RDH5;TLCD2;TLCD1;FAM20A;UMPS;MPND;GPRC5C;ERGIC1;AVPI1;C11ORF52;PHLPP1;SERPINC1;NR1I3;HAAO;FITM1;AKAP7;ZNF69;SLC7A2;PTS;CYP17A1;TYMP;C16ORF95;PDF;CAMK2N1;PERP;ORMDL3;SUSD3;METTL7A;APOL1;LDLR;RNF130;CCL16;IL32;NQO2;SERPIND1;SLC31A1;GDF15;F12;MOCOS;AKR1C3;DHRS1;AIG1;AGMAT;TMCO6;NUDT8;KLHL5;CAMK1;KLKB1;FRK;IL18R1;TJP2;CRCP;EXOC3L4;CLSTN3;TACO1;SYAP1;C11ORF71;WWC2;HP;PEBP1;CPOX;MSMO1;SAT2;FADS2;POFUT1;SCN9A;SLC25A42;GYG2;TMEM14A;IL13RA1;CARD10;RNF43;CISH;GPT2;FBXO17;SLC30A1;SRCIN1;ALDH3A2;GLTPD2;TMEM139;MASP2;MASP1;AJUBA;PFKFB1;SLC26A1;H6PD;SLC41A2;PROZ;UAP1;RAP1GAP;FAM83H;DPP4;SLC9A3R1;VTN;THPO;AMDHD1;STAP2;TSNAXIP1;KDSR;FAM83D;SEC16B;GCKR;IDH1;EPHX2;STYX;CHCHD10;HPS5;CORO2A;TNFRSF10D;EFNA1;CAMSAP3;RCAN1;AMACR;NAT1;GGCX;UQCRQ;FES;ACO1;PLXNB1;MAP3K11;SLC25A1;DOCK4;ABCD3;LEAP2;SOWAHC;TREH;SLC40A1;OXT;RND2;OPLAH;DUSP16;CXCL2;FTCD;LMNB1;CKS1B;SLC2A8;ALAD;ARL5B;ATP7B;CPT2;DDI2;TOP1MT;MFSD3;C8ORF82;AOX1;ACP2;TPRN;DSP;ABCC3;CERS4;FGA;AMN;ABCC2;ITGA1;TTC31;PLEKHG6;ABCC6;APOA2;AMT;APOA1;VPS37D;ABHD14B;TTC38;TBC1D2;ELF3;ACOX2;OAS1;LCK;PEX3;CHDH;NOS1AP;SLC25A10;CDHR5;MET;RBKS;SLC25A13;PAOX;CEBPA;PON3;CEBPB;ITIH3;GALT;SLC47A1;C1S;LRP1;PON2;PALM3;ASB13;RRBP1;GLRX;HSD17B11;TTR;MARVELD2;SH3TC1;POC1A;C17ORF100;WASF1;DCAF11;CYB5A;CMTM8;SLC35A3;SEC24A;GALNT2;TXNRD2;APOC3;SUOX;SOD2;TBX3;TM6SF2;P2RX7;MYO1B;GOLPH3;XPNPEP2;CTH;APOC2;CD7;TRIM35;SARDH;P4HB;LTBR;C2ORF72;LPIN2;MMACHC;LPIN3</td></tr>\n",
       "\t<tr><th scope=row>2</th><td>HNF4G HEPG2</td><td>351/2118</td><td>4.998040e-26</td><td>1.212025e-23</td><td>0</td><td>0</td><td>2.039614</td><td>118.8242</td><td>SLC23A3;TMEM41B;ARL6IP1;PANK1;SERPINE1;ABAT;NUDT6;ENO3;TSKU;CISD3;FRAT2;LIPC;NIPAL1;ANPEP;LONP2;SEPHS2;STARD4;NUP210;ZFP1;SERPINF2;ALG3;ENTPD8;ACSL5;RNASE4;BHLHA15;PDZK1;PHKA2;HDHD3;PRAP1;UPB1;CLPX;CYP27A1;POR;RBP4;CARHSP1;RBP5;ARMC5;RNF128;TFR2;SOAT2;LACTB2;SFRP5;MT1F;MT1G;PSME2;ACOT1;TRIB1;PEX11G;HPD;NGEF;CES1;GCDH;MAOB;DCUN1D3;ABCB4;SLC35D2;HPN;HPR;A1BG;C3;HPX;HSD11B2;APOH;AFMID;HMOX1;SCAP;ST3GAL6;PCK1;SULT1A2;DECR1;PCK2;TBC1D8B;SLC10A5;XBP1;CRADD;FZD5;ABCA6;SIAH2;SS18L1;FN1;OSGIN1;LARP4;ELL2;NR0B2;GDF7;ABTB2;HAL;AKR1B10;FASN;MYO5B;RANBP10;SDC1;TRMT11;SLC2A4RG;LAD1;ORM1;ACY1;HIBADH;SLC44A1;GPT;N4BP2L1;PYGL;TMEM53;SHB;ORM2;ASGR1;LARP1B;CLYBL;KHK;ASGR2;PHF8;C16ORF70;EPB41L4B;C8G;CLDN23;HYAL3;TMED2;SH3BGRL2;C19ORF12;TK1;IKBKG;ACADM;CGNL1;AASS;RALGPS2;C11ORF24;TIGD2;DUSP1;GSTO1;STRADB;ELOVL2;MST1;ELOVL6;AMPD2;SLC39A14;DUSP6;IL17RB;RAB33B;RAP2C;GCHFR;TMEM37;BDH1;VSNL1;OAF;MMP15;CNKSR3;RGN;TLCD2;TLCD1;UMPS;MPND;GPRC5C;ERGIC1;AVPI1;C11ORF52;ECHS1;AHCY;SERPINC1;NR1I3;HAAO;ZNF69;CYP17A1;TYMP;SLC17A9;CAMK2N1;TIAF1;PERP;ORMDL3;METTL7A;APOL1;LDLR;CCL16;IL32;NQO2;SERPIND1;SLC31A1;GDF15;F12;AKR1C3;TMCO6;NUDT8;LRG1;NOTUM;CAMK1;FRK;TJP2;RTKN;EXOC3L4;TACO1;WWC2;HP;SAT2;FADS2;UROD;POFUT1;SLC25A42;GYG2;TMEM14A;IL13RA1;RNF43;IL4R;FBXO17;SLC30A1;TLE6;GLTPD2;SMO;TMEM139;MASP2;TTPAL;FTL;PFKFB1;SLC26A1;H6PD;PROZ;UAP1;ADIPOR2;RAP1GAP;FAM83H;TMEM25;ENHO;VTN;AMDHD1;TSNAXIP1;KDSR;FAM83D;ZKSCAN1;MFAP3L;SEC16B;GCKR;KLHL25;ANKRD24;IDH1;EPHX2;CHCHD10;TNFRSF10B;HPS5;CORO2A;SYT7;TNFRSF10D;EFNA1;CAMSAP3;RCAN1;AMACR;NAT1;GGCX;FAM151A;FES;PXMP2;ACO1;PLXNB1;CLPTM1L;NIT2;RNF185;MAP3K11;SLC25A1;USP35;ACADVL;ABCD3;LEAP2;TREH;SLC40A1;DBI;ECE2;DUSP16;CXCL2;FTCD;LMNB1;CKS1B;SLC2A8;ATP7B;CPT2;TOP1MT;ENOSF1;C8ORF82;AOX1;ACP2;MAN1A1;PGM1;TPRN;DSP;ABCC3;CERS4;FGA;ABCC2;ITGA1;TTC31;PLEKHG6;FGG;APOA2;AMT;APOA1;VPS37D;ABHD14B;RTN4RL2;TTC38;KLF16;SLC25A15;ELF3;ACOX2;OAS1;LCK;PEX3;CHDH;NOS1AP;SLC25A10;ANG;MET;RBKS;SLC25A13;PAOX;CEBPA;PON3;CEBPB;ACSS3;HLF;SLC47A1;LRP1;POLDIP2;ZBTB48;PALM3;RRBP1;HSD17B11;LRP6;TTR;KCTD21;TP53INP1;POC1A;C17ORF100;DCAF11;CYB5A;CMTM8;FAHD1;SLC35A3;SEC24A;GALNT2;TXNRD2;APOC3;SUOX;SOD2;HSPE1;TM6SF2;CCS;GOLPH3;PSAT1;APOC2;TRIM35;SCLY;C2ORF72;SLC25A33;MMACHC;LPIN3                                                                                       </td></tr>\n",
       "</tbody>\n",
       "</table>\n"
      ],
      "text/latex": [
       "A data.frame: 2 × 9\n",
       "\\begin{tabular}{r|lllllllll}\n",
       "  & Term & Overlap & P.value & Adjusted.P.value & Old.P.value & Old.Adjusted.P.value & Odds.Ratio & Combined.Score & Genes\\\\\n",
       "  & <chr> & <chr> & <dbl> & <dbl> & <int> & <int> & <dbl> & <dbl> & <chr>\\\\\n",
       "\\hline\n",
       "\t1 & HNF4A HEPG2 & 368/2200 & 3.482454e-28 & 1.688990e-25 & 0 & 0 & 2.076544 & 131.2888 & PANK3;TMEM41B;ARL6IP1;PANK1;SLC23A1;ECI1;SERPINE1;AQP7;ABAT;NUDT6;ENO3;CISD3;FRAT2;NIPAL1;SEPHS2;XYLB;MCCC2;STARD4;CXADR;STARD5;NUP210;SERPINF2;ENTPD8;ACSL5;BHLHA15;PDZK1;PHKA2;PRAP1;CLPX;CYP27A1;POR;AZGP1;RBP4;CARHSP1;MT1A;RBP5;ARMC5;PPP1R3C;RNF128;TFR2;SOAT2;MTHFD2L;MT1F;MT1G;PSME2;ACOT1;KDELR2;NHLRC1;RBCK1;TRIB1;PEX11G;HPD;NGEF;CES1;GCDH;MAOB;ABCB4;SLC35D2;HPN;HPR;A1BG;MTMR4;ART4;C3;HPX;HSD11B2;SGPL1;APOH;AFMID;SCAP;ST3GAL6;PCK1;A2M;N4BP2;SULT1A2;DECR1;PCK2;SLC10A5;CRADD;FZD5;ABCA6;SIAH2;NR0B2;PAICS;GDF7;HAL;GLUD2;MYO5B;FXYD1;RANBP10;SDC1;SFXN1;TRMT11;CPEB3;SLC2A4RG;LAD1;ORM1;ECM2;ACY1;SLC44A1;GPT;N4BP2L1;PYGL;ORM2;TRAM2;ASGR1;CLYBL;ASGR2;PHF8;C16ORF70;C8G;CLDN23;HYAL3;SH3BGRL2;FLVCR2;GNPNAT1;TK1;IKBKG;ANXA9;CGNL1;AASS;RALGPS2;TIGD2;MRPS26;PARP3;LYPLA1;DUSP1;GSTO1;STRADB;ELOVL2;ELOVL6;SLC39A14;DUSP6;IL17RB;GCHFR;UGDH;TMEM37;ALDH5A1;BDH1;MMP15;SLC7A9;DPYD;CNKSR3;RGN;RDH5;TLCD2;TLCD1;FAM20A;UMPS;MPND;GPRC5C;ERGIC1;AVPI1;C11ORF52;PHLPP1;SERPINC1;NR1I3;HAAO;FITM1;AKAP7;ZNF69;SLC7A2;PTS;CYP17A1;TYMP;C16ORF95;PDF;CAMK2N1;PERP;ORMDL3;SUSD3;METTL7A;APOL1;LDLR;RNF130;CCL16;IL32;NQO2;SERPIND1;SLC31A1;GDF15;F12;MOCOS;AKR1C3;DHRS1;AIG1;AGMAT;TMCO6;NUDT8;KLHL5;CAMK1;KLKB1;FRK;IL18R1;TJP2;CRCP;EXOC3L4;CLSTN3;TACO1;SYAP1;C11ORF71;WWC2;HP;PEBP1;CPOX;MSMO1;SAT2;FADS2;POFUT1;SCN9A;SLC25A42;GYG2;TMEM14A;IL13RA1;CARD10;RNF43;CISH;GPT2;FBXO17;SLC30A1;SRCIN1;ALDH3A2;GLTPD2;TMEM139;MASP2;MASP1;AJUBA;PFKFB1;SLC26A1;H6PD;SLC41A2;PROZ;UAP1;RAP1GAP;FAM83H;DPP4;SLC9A3R1;VTN;THPO;AMDHD1;STAP2;TSNAXIP1;KDSR;FAM83D;SEC16B;GCKR;IDH1;EPHX2;STYX;CHCHD10;HPS5;CORO2A;TNFRSF10D;EFNA1;CAMSAP3;RCAN1;AMACR;NAT1;GGCX;UQCRQ;FES;ACO1;PLXNB1;MAP3K11;SLC25A1;DOCK4;ABCD3;LEAP2;SOWAHC;TREH;SLC40A1;OXT;RND2;OPLAH;DUSP16;CXCL2;FTCD;LMNB1;CKS1B;SLC2A8;ALAD;ARL5B;ATP7B;CPT2;DDI2;TOP1MT;MFSD3;C8ORF82;AOX1;ACP2;TPRN;DSP;ABCC3;CERS4;FGA;AMN;ABCC2;ITGA1;TTC31;PLEKHG6;ABCC6;APOA2;AMT;APOA1;VPS37D;ABHD14B;TTC38;TBC1D2;ELF3;ACOX2;OAS1;LCK;PEX3;CHDH;NOS1AP;SLC25A10;CDHR5;MET;RBKS;SLC25A13;PAOX;CEBPA;PON3;CEBPB;ITIH3;GALT;SLC47A1;C1S;LRP1;PON2;PALM3;ASB13;RRBP1;GLRX;HSD17B11;TTR;MARVELD2;SH3TC1;POC1A;C17ORF100;WASF1;DCAF11;CYB5A;CMTM8;SLC35A3;SEC24A;GALNT2;TXNRD2;APOC3;SUOX;SOD2;TBX3;TM6SF2;P2RX7;MYO1B;GOLPH3;XPNPEP2;CTH;APOC2;CD7;TRIM35;SARDH;P4HB;LTBR;C2ORF72;LPIN2;MMACHC;LPIN3\\\\\n",
       "\t2 & HNF4G HEPG2 & 351/2118 & 4.998040e-26 & 1.212025e-23 & 0 & 0 & 2.039614 & 118.8242 & SLC23A3;TMEM41B;ARL6IP1;PANK1;SERPINE1;ABAT;NUDT6;ENO3;TSKU;CISD3;FRAT2;LIPC;NIPAL1;ANPEP;LONP2;SEPHS2;STARD4;NUP210;ZFP1;SERPINF2;ALG3;ENTPD8;ACSL5;RNASE4;BHLHA15;PDZK1;PHKA2;HDHD3;PRAP1;UPB1;CLPX;CYP27A1;POR;RBP4;CARHSP1;RBP5;ARMC5;RNF128;TFR2;SOAT2;LACTB2;SFRP5;MT1F;MT1G;PSME2;ACOT1;TRIB1;PEX11G;HPD;NGEF;CES1;GCDH;MAOB;DCUN1D3;ABCB4;SLC35D2;HPN;HPR;A1BG;C3;HPX;HSD11B2;APOH;AFMID;HMOX1;SCAP;ST3GAL6;PCK1;SULT1A2;DECR1;PCK2;TBC1D8B;SLC10A5;XBP1;CRADD;FZD5;ABCA6;SIAH2;SS18L1;FN1;OSGIN1;LARP4;ELL2;NR0B2;GDF7;ABTB2;HAL;AKR1B10;FASN;MYO5B;RANBP10;SDC1;TRMT11;SLC2A4RG;LAD1;ORM1;ACY1;HIBADH;SLC44A1;GPT;N4BP2L1;PYGL;TMEM53;SHB;ORM2;ASGR1;LARP1B;CLYBL;KHK;ASGR2;PHF8;C16ORF70;EPB41L4B;C8G;CLDN23;HYAL3;TMED2;SH3BGRL2;C19ORF12;TK1;IKBKG;ACADM;CGNL1;AASS;RALGPS2;C11ORF24;TIGD2;DUSP1;GSTO1;STRADB;ELOVL2;MST1;ELOVL6;AMPD2;SLC39A14;DUSP6;IL17RB;RAB33B;RAP2C;GCHFR;TMEM37;BDH1;VSNL1;OAF;MMP15;CNKSR3;RGN;TLCD2;TLCD1;UMPS;MPND;GPRC5C;ERGIC1;AVPI1;C11ORF52;ECHS1;AHCY;SERPINC1;NR1I3;HAAO;ZNF69;CYP17A1;TYMP;SLC17A9;CAMK2N1;TIAF1;PERP;ORMDL3;METTL7A;APOL1;LDLR;CCL16;IL32;NQO2;SERPIND1;SLC31A1;GDF15;F12;AKR1C3;TMCO6;NUDT8;LRG1;NOTUM;CAMK1;FRK;TJP2;RTKN;EXOC3L4;TACO1;WWC2;HP;SAT2;FADS2;UROD;POFUT1;SLC25A42;GYG2;TMEM14A;IL13RA1;RNF43;IL4R;FBXO17;SLC30A1;TLE6;GLTPD2;SMO;TMEM139;MASP2;TTPAL;FTL;PFKFB1;SLC26A1;H6PD;PROZ;UAP1;ADIPOR2;RAP1GAP;FAM83H;TMEM25;ENHO;VTN;AMDHD1;TSNAXIP1;KDSR;FAM83D;ZKSCAN1;MFAP3L;SEC16B;GCKR;KLHL25;ANKRD24;IDH1;EPHX2;CHCHD10;TNFRSF10B;HPS5;CORO2A;SYT7;TNFRSF10D;EFNA1;CAMSAP3;RCAN1;AMACR;NAT1;GGCX;FAM151A;FES;PXMP2;ACO1;PLXNB1;CLPTM1L;NIT2;RNF185;MAP3K11;SLC25A1;USP35;ACADVL;ABCD3;LEAP2;TREH;SLC40A1;DBI;ECE2;DUSP16;CXCL2;FTCD;LMNB1;CKS1B;SLC2A8;ATP7B;CPT2;TOP1MT;ENOSF1;C8ORF82;AOX1;ACP2;MAN1A1;PGM1;TPRN;DSP;ABCC3;CERS4;FGA;ABCC2;ITGA1;TTC31;PLEKHG6;FGG;APOA2;AMT;APOA1;VPS37D;ABHD14B;RTN4RL2;TTC38;KLF16;SLC25A15;ELF3;ACOX2;OAS1;LCK;PEX3;CHDH;NOS1AP;SLC25A10;ANG;MET;RBKS;SLC25A13;PAOX;CEBPA;PON3;CEBPB;ACSS3;HLF;SLC47A1;LRP1;POLDIP2;ZBTB48;PALM3;RRBP1;HSD17B11;LRP6;TTR;KCTD21;TP53INP1;POC1A;C17ORF100;DCAF11;CYB5A;CMTM8;FAHD1;SLC35A3;SEC24A;GALNT2;TXNRD2;APOC3;SUOX;SOD2;HSPE1;TM6SF2;CCS;GOLPH3;PSAT1;APOC2;TRIM35;SCLY;C2ORF72;SLC25A33;MMACHC;LPIN3                                                                                       \\\\\n",
       "\\end{tabular}\n"
      ],
      "text/markdown": [
       "\n",
       "A data.frame: 2 × 9\n",
       "\n",
       "| <!--/--> | Term &lt;chr&gt; | Overlap &lt;chr&gt; | P.value &lt;dbl&gt; | Adjusted.P.value &lt;dbl&gt; | Old.P.value &lt;int&gt; | Old.Adjusted.P.value &lt;int&gt; | Odds.Ratio &lt;dbl&gt; | Combined.Score &lt;dbl&gt; | Genes &lt;chr&gt; |\n",
       "|---|---|---|---|---|---|---|---|---|---|\n",
       "| 1 | HNF4A HEPG2 | 368/2200 | 3.482454e-28 | 1.688990e-25 | 0 | 0 | 2.076544 | 131.2888 | PANK3;TMEM41B;ARL6IP1;PANK1;SLC23A1;ECI1;SERPINE1;AQP7;ABAT;NUDT6;ENO3;CISD3;FRAT2;NIPAL1;SEPHS2;XYLB;MCCC2;STARD4;CXADR;STARD5;NUP210;SERPINF2;ENTPD8;ACSL5;BHLHA15;PDZK1;PHKA2;PRAP1;CLPX;CYP27A1;POR;AZGP1;RBP4;CARHSP1;MT1A;RBP5;ARMC5;PPP1R3C;RNF128;TFR2;SOAT2;MTHFD2L;MT1F;MT1G;PSME2;ACOT1;KDELR2;NHLRC1;RBCK1;TRIB1;PEX11G;HPD;NGEF;CES1;GCDH;MAOB;ABCB4;SLC35D2;HPN;HPR;A1BG;MTMR4;ART4;C3;HPX;HSD11B2;SGPL1;APOH;AFMID;SCAP;ST3GAL6;PCK1;A2M;N4BP2;SULT1A2;DECR1;PCK2;SLC10A5;CRADD;FZD5;ABCA6;SIAH2;NR0B2;PAICS;GDF7;HAL;GLUD2;MYO5B;FXYD1;RANBP10;SDC1;SFXN1;TRMT11;CPEB3;SLC2A4RG;LAD1;ORM1;ECM2;ACY1;SLC44A1;GPT;N4BP2L1;PYGL;ORM2;TRAM2;ASGR1;CLYBL;ASGR2;PHF8;C16ORF70;C8G;CLDN23;HYAL3;SH3BGRL2;FLVCR2;GNPNAT1;TK1;IKBKG;ANXA9;CGNL1;AASS;RALGPS2;TIGD2;MRPS26;PARP3;LYPLA1;DUSP1;GSTO1;STRADB;ELOVL2;ELOVL6;SLC39A14;DUSP6;IL17RB;GCHFR;UGDH;TMEM37;ALDH5A1;BDH1;MMP15;SLC7A9;DPYD;CNKSR3;RGN;RDH5;TLCD2;TLCD1;FAM20A;UMPS;MPND;GPRC5C;ERGIC1;AVPI1;C11ORF52;PHLPP1;SERPINC1;NR1I3;HAAO;FITM1;AKAP7;ZNF69;SLC7A2;PTS;CYP17A1;TYMP;C16ORF95;PDF;CAMK2N1;PERP;ORMDL3;SUSD3;METTL7A;APOL1;LDLR;RNF130;CCL16;IL32;NQO2;SERPIND1;SLC31A1;GDF15;F12;MOCOS;AKR1C3;DHRS1;AIG1;AGMAT;TMCO6;NUDT8;KLHL5;CAMK1;KLKB1;FRK;IL18R1;TJP2;CRCP;EXOC3L4;CLSTN3;TACO1;SYAP1;C11ORF71;WWC2;HP;PEBP1;CPOX;MSMO1;SAT2;FADS2;POFUT1;SCN9A;SLC25A42;GYG2;TMEM14A;IL13RA1;CARD10;RNF43;CISH;GPT2;FBXO17;SLC30A1;SRCIN1;ALDH3A2;GLTPD2;TMEM139;MASP2;MASP1;AJUBA;PFKFB1;SLC26A1;H6PD;SLC41A2;PROZ;UAP1;RAP1GAP;FAM83H;DPP4;SLC9A3R1;VTN;THPO;AMDHD1;STAP2;TSNAXIP1;KDSR;FAM83D;SEC16B;GCKR;IDH1;EPHX2;STYX;CHCHD10;HPS5;CORO2A;TNFRSF10D;EFNA1;CAMSAP3;RCAN1;AMACR;NAT1;GGCX;UQCRQ;FES;ACO1;PLXNB1;MAP3K11;SLC25A1;DOCK4;ABCD3;LEAP2;SOWAHC;TREH;SLC40A1;OXT;RND2;OPLAH;DUSP16;CXCL2;FTCD;LMNB1;CKS1B;SLC2A8;ALAD;ARL5B;ATP7B;CPT2;DDI2;TOP1MT;MFSD3;C8ORF82;AOX1;ACP2;TPRN;DSP;ABCC3;CERS4;FGA;AMN;ABCC2;ITGA1;TTC31;PLEKHG6;ABCC6;APOA2;AMT;APOA1;VPS37D;ABHD14B;TTC38;TBC1D2;ELF3;ACOX2;OAS1;LCK;PEX3;CHDH;NOS1AP;SLC25A10;CDHR5;MET;RBKS;SLC25A13;PAOX;CEBPA;PON3;CEBPB;ITIH3;GALT;SLC47A1;C1S;LRP1;PON2;PALM3;ASB13;RRBP1;GLRX;HSD17B11;TTR;MARVELD2;SH3TC1;POC1A;C17ORF100;WASF1;DCAF11;CYB5A;CMTM8;SLC35A3;SEC24A;GALNT2;TXNRD2;APOC3;SUOX;SOD2;TBX3;TM6SF2;P2RX7;MYO1B;GOLPH3;XPNPEP2;CTH;APOC2;CD7;TRIM35;SARDH;P4HB;LTBR;C2ORF72;LPIN2;MMACHC;LPIN3 |\n",
       "| 2 | HNF4G HEPG2 | 351/2118 | 4.998040e-26 | 1.212025e-23 | 0 | 0 | 2.039614 | 118.8242 | SLC23A3;TMEM41B;ARL6IP1;PANK1;SERPINE1;ABAT;NUDT6;ENO3;TSKU;CISD3;FRAT2;LIPC;NIPAL1;ANPEP;LONP2;SEPHS2;STARD4;NUP210;ZFP1;SERPINF2;ALG3;ENTPD8;ACSL5;RNASE4;BHLHA15;PDZK1;PHKA2;HDHD3;PRAP1;UPB1;CLPX;CYP27A1;POR;RBP4;CARHSP1;RBP5;ARMC5;RNF128;TFR2;SOAT2;LACTB2;SFRP5;MT1F;MT1G;PSME2;ACOT1;TRIB1;PEX11G;HPD;NGEF;CES1;GCDH;MAOB;DCUN1D3;ABCB4;SLC35D2;HPN;HPR;A1BG;C3;HPX;HSD11B2;APOH;AFMID;HMOX1;SCAP;ST3GAL6;PCK1;SULT1A2;DECR1;PCK2;TBC1D8B;SLC10A5;XBP1;CRADD;FZD5;ABCA6;SIAH2;SS18L1;FN1;OSGIN1;LARP4;ELL2;NR0B2;GDF7;ABTB2;HAL;AKR1B10;FASN;MYO5B;RANBP10;SDC1;TRMT11;SLC2A4RG;LAD1;ORM1;ACY1;HIBADH;SLC44A1;GPT;N4BP2L1;PYGL;TMEM53;SHB;ORM2;ASGR1;LARP1B;CLYBL;KHK;ASGR2;PHF8;C16ORF70;EPB41L4B;C8G;CLDN23;HYAL3;TMED2;SH3BGRL2;C19ORF12;TK1;IKBKG;ACADM;CGNL1;AASS;RALGPS2;C11ORF24;TIGD2;DUSP1;GSTO1;STRADB;ELOVL2;MST1;ELOVL6;AMPD2;SLC39A14;DUSP6;IL17RB;RAB33B;RAP2C;GCHFR;TMEM37;BDH1;VSNL1;OAF;MMP15;CNKSR3;RGN;TLCD2;TLCD1;UMPS;MPND;GPRC5C;ERGIC1;AVPI1;C11ORF52;ECHS1;AHCY;SERPINC1;NR1I3;HAAO;ZNF69;CYP17A1;TYMP;SLC17A9;CAMK2N1;TIAF1;PERP;ORMDL3;METTL7A;APOL1;LDLR;CCL16;IL32;NQO2;SERPIND1;SLC31A1;GDF15;F12;AKR1C3;TMCO6;NUDT8;LRG1;NOTUM;CAMK1;FRK;TJP2;RTKN;EXOC3L4;TACO1;WWC2;HP;SAT2;FADS2;UROD;POFUT1;SLC25A42;GYG2;TMEM14A;IL13RA1;RNF43;IL4R;FBXO17;SLC30A1;TLE6;GLTPD2;SMO;TMEM139;MASP2;TTPAL;FTL;PFKFB1;SLC26A1;H6PD;PROZ;UAP1;ADIPOR2;RAP1GAP;FAM83H;TMEM25;ENHO;VTN;AMDHD1;TSNAXIP1;KDSR;FAM83D;ZKSCAN1;MFAP3L;SEC16B;GCKR;KLHL25;ANKRD24;IDH1;EPHX2;CHCHD10;TNFRSF10B;HPS5;CORO2A;SYT7;TNFRSF10D;EFNA1;CAMSAP3;RCAN1;AMACR;NAT1;GGCX;FAM151A;FES;PXMP2;ACO1;PLXNB1;CLPTM1L;NIT2;RNF185;MAP3K11;SLC25A1;USP35;ACADVL;ABCD3;LEAP2;TREH;SLC40A1;DBI;ECE2;DUSP16;CXCL2;FTCD;LMNB1;CKS1B;SLC2A8;ATP7B;CPT2;TOP1MT;ENOSF1;C8ORF82;AOX1;ACP2;MAN1A1;PGM1;TPRN;DSP;ABCC3;CERS4;FGA;ABCC2;ITGA1;TTC31;PLEKHG6;FGG;APOA2;AMT;APOA1;VPS37D;ABHD14B;RTN4RL2;TTC38;KLF16;SLC25A15;ELF3;ACOX2;OAS1;LCK;PEX3;CHDH;NOS1AP;SLC25A10;ANG;MET;RBKS;SLC25A13;PAOX;CEBPA;PON3;CEBPB;ACSS3;HLF;SLC47A1;LRP1;POLDIP2;ZBTB48;PALM3;RRBP1;HSD17B11;LRP6;TTR;KCTD21;TP53INP1;POC1A;C17ORF100;DCAF11;CYB5A;CMTM8;FAHD1;SLC35A3;SEC24A;GALNT2;TXNRD2;APOC3;SUOX;SOD2;HSPE1;TM6SF2;CCS;GOLPH3;PSAT1;APOC2;TRIM35;SCLY;C2ORF72;SLC25A33;MMACHC;LPIN3                                                                                        |\n",
       "\n"
      ],
      "text/plain": [
       "  Term        Overlap  P.value      Adjusted.P.value Old.P.value\n",
       "1 HNF4A HEPG2 368/2200 3.482454e-28 1.688990e-25     0          \n",
       "2 HNF4G HEPG2 351/2118 4.998040e-26 1.212025e-23     0          \n",
       "  Old.Adjusted.P.value Odds.Ratio Combined.Score\n",
       "1 0                    2.076544   131.2888      \n",
       "2 0                    2.039614   118.8242      \n",
       "  Genes                                                                                                                                                                                                                                                                                                                                                                                                                                                                                                                                                                                                                                                                                                                                                                                                                                                                                                                                                                                                                                                                                                                                                                                                                                                                                                                                                                                                                                                                                                                                                                                                                                                                                                                                                                                                                                                                                                                                                                                                                                                                                                                                                                                                                                                                                                                                                  \n",
       "1 PANK3;TMEM41B;ARL6IP1;PANK1;SLC23A1;ECI1;SERPINE1;AQP7;ABAT;NUDT6;ENO3;CISD3;FRAT2;NIPAL1;SEPHS2;XYLB;MCCC2;STARD4;CXADR;STARD5;NUP210;SERPINF2;ENTPD8;ACSL5;BHLHA15;PDZK1;PHKA2;PRAP1;CLPX;CYP27A1;POR;AZGP1;RBP4;CARHSP1;MT1A;RBP5;ARMC5;PPP1R3C;RNF128;TFR2;SOAT2;MTHFD2L;MT1F;MT1G;PSME2;ACOT1;KDELR2;NHLRC1;RBCK1;TRIB1;PEX11G;HPD;NGEF;CES1;GCDH;MAOB;ABCB4;SLC35D2;HPN;HPR;A1BG;MTMR4;ART4;C3;HPX;HSD11B2;SGPL1;APOH;AFMID;SCAP;ST3GAL6;PCK1;A2M;N4BP2;SULT1A2;DECR1;PCK2;SLC10A5;CRADD;FZD5;ABCA6;SIAH2;NR0B2;PAICS;GDF7;HAL;GLUD2;MYO5B;FXYD1;RANBP10;SDC1;SFXN1;TRMT11;CPEB3;SLC2A4RG;LAD1;ORM1;ECM2;ACY1;SLC44A1;GPT;N4BP2L1;PYGL;ORM2;TRAM2;ASGR1;CLYBL;ASGR2;PHF8;C16ORF70;C8G;CLDN23;HYAL3;SH3BGRL2;FLVCR2;GNPNAT1;TK1;IKBKG;ANXA9;CGNL1;AASS;RALGPS2;TIGD2;MRPS26;PARP3;LYPLA1;DUSP1;GSTO1;STRADB;ELOVL2;ELOVL6;SLC39A14;DUSP6;IL17RB;GCHFR;UGDH;TMEM37;ALDH5A1;BDH1;MMP15;SLC7A9;DPYD;CNKSR3;RGN;RDH5;TLCD2;TLCD1;FAM20A;UMPS;MPND;GPRC5C;ERGIC1;AVPI1;C11ORF52;PHLPP1;SERPINC1;NR1I3;HAAO;FITM1;AKAP7;ZNF69;SLC7A2;PTS;CYP17A1;TYMP;C16ORF95;PDF;CAMK2N1;PERP;ORMDL3;SUSD3;METTL7A;APOL1;LDLR;RNF130;CCL16;IL32;NQO2;SERPIND1;SLC31A1;GDF15;F12;MOCOS;AKR1C3;DHRS1;AIG1;AGMAT;TMCO6;NUDT8;KLHL5;CAMK1;KLKB1;FRK;IL18R1;TJP2;CRCP;EXOC3L4;CLSTN3;TACO1;SYAP1;C11ORF71;WWC2;HP;PEBP1;CPOX;MSMO1;SAT2;FADS2;POFUT1;SCN9A;SLC25A42;GYG2;TMEM14A;IL13RA1;CARD10;RNF43;CISH;GPT2;FBXO17;SLC30A1;SRCIN1;ALDH3A2;GLTPD2;TMEM139;MASP2;MASP1;AJUBA;PFKFB1;SLC26A1;H6PD;SLC41A2;PROZ;UAP1;RAP1GAP;FAM83H;DPP4;SLC9A3R1;VTN;THPO;AMDHD1;STAP2;TSNAXIP1;KDSR;FAM83D;SEC16B;GCKR;IDH1;EPHX2;STYX;CHCHD10;HPS5;CORO2A;TNFRSF10D;EFNA1;CAMSAP3;RCAN1;AMACR;NAT1;GGCX;UQCRQ;FES;ACO1;PLXNB1;MAP3K11;SLC25A1;DOCK4;ABCD3;LEAP2;SOWAHC;TREH;SLC40A1;OXT;RND2;OPLAH;DUSP16;CXCL2;FTCD;LMNB1;CKS1B;SLC2A8;ALAD;ARL5B;ATP7B;CPT2;DDI2;TOP1MT;MFSD3;C8ORF82;AOX1;ACP2;TPRN;DSP;ABCC3;CERS4;FGA;AMN;ABCC2;ITGA1;TTC31;PLEKHG6;ABCC6;APOA2;AMT;APOA1;VPS37D;ABHD14B;TTC38;TBC1D2;ELF3;ACOX2;OAS1;LCK;PEX3;CHDH;NOS1AP;SLC25A10;CDHR5;MET;RBKS;SLC25A13;PAOX;CEBPA;PON3;CEBPB;ITIH3;GALT;SLC47A1;C1S;LRP1;PON2;PALM3;ASB13;RRBP1;GLRX;HSD17B11;TTR;MARVELD2;SH3TC1;POC1A;C17ORF100;WASF1;DCAF11;CYB5A;CMTM8;SLC35A3;SEC24A;GALNT2;TXNRD2;APOC3;SUOX;SOD2;TBX3;TM6SF2;P2RX7;MYO1B;GOLPH3;XPNPEP2;CTH;APOC2;CD7;TRIM35;SARDH;P4HB;LTBR;C2ORF72;LPIN2;MMACHC;LPIN3\n",
       "2 SLC23A3;TMEM41B;ARL6IP1;PANK1;SERPINE1;ABAT;NUDT6;ENO3;TSKU;CISD3;FRAT2;LIPC;NIPAL1;ANPEP;LONP2;SEPHS2;STARD4;NUP210;ZFP1;SERPINF2;ALG3;ENTPD8;ACSL5;RNASE4;BHLHA15;PDZK1;PHKA2;HDHD3;PRAP1;UPB1;CLPX;CYP27A1;POR;RBP4;CARHSP1;RBP5;ARMC5;RNF128;TFR2;SOAT2;LACTB2;SFRP5;MT1F;MT1G;PSME2;ACOT1;TRIB1;PEX11G;HPD;NGEF;CES1;GCDH;MAOB;DCUN1D3;ABCB4;SLC35D2;HPN;HPR;A1BG;C3;HPX;HSD11B2;APOH;AFMID;HMOX1;SCAP;ST3GAL6;PCK1;SULT1A2;DECR1;PCK2;TBC1D8B;SLC10A5;XBP1;CRADD;FZD5;ABCA6;SIAH2;SS18L1;FN1;OSGIN1;LARP4;ELL2;NR0B2;GDF7;ABTB2;HAL;AKR1B10;FASN;MYO5B;RANBP10;SDC1;TRMT11;SLC2A4RG;LAD1;ORM1;ACY1;HIBADH;SLC44A1;GPT;N4BP2L1;PYGL;TMEM53;SHB;ORM2;ASGR1;LARP1B;CLYBL;KHK;ASGR2;PHF8;C16ORF70;EPB41L4B;C8G;CLDN23;HYAL3;TMED2;SH3BGRL2;C19ORF12;TK1;IKBKG;ACADM;CGNL1;AASS;RALGPS2;C11ORF24;TIGD2;DUSP1;GSTO1;STRADB;ELOVL2;MST1;ELOVL6;AMPD2;SLC39A14;DUSP6;IL17RB;RAB33B;RAP2C;GCHFR;TMEM37;BDH1;VSNL1;OAF;MMP15;CNKSR3;RGN;TLCD2;TLCD1;UMPS;MPND;GPRC5C;ERGIC1;AVPI1;C11ORF52;ECHS1;AHCY;SERPINC1;NR1I3;HAAO;ZNF69;CYP17A1;TYMP;SLC17A9;CAMK2N1;TIAF1;PERP;ORMDL3;METTL7A;APOL1;LDLR;CCL16;IL32;NQO2;SERPIND1;SLC31A1;GDF15;F12;AKR1C3;TMCO6;NUDT8;LRG1;NOTUM;CAMK1;FRK;TJP2;RTKN;EXOC3L4;TACO1;WWC2;HP;SAT2;FADS2;UROD;POFUT1;SLC25A42;GYG2;TMEM14A;IL13RA1;RNF43;IL4R;FBXO17;SLC30A1;TLE6;GLTPD2;SMO;TMEM139;MASP2;TTPAL;FTL;PFKFB1;SLC26A1;H6PD;PROZ;UAP1;ADIPOR2;RAP1GAP;FAM83H;TMEM25;ENHO;VTN;AMDHD1;TSNAXIP1;KDSR;FAM83D;ZKSCAN1;MFAP3L;SEC16B;GCKR;KLHL25;ANKRD24;IDH1;EPHX2;CHCHD10;TNFRSF10B;HPS5;CORO2A;SYT7;TNFRSF10D;EFNA1;CAMSAP3;RCAN1;AMACR;NAT1;GGCX;FAM151A;FES;PXMP2;ACO1;PLXNB1;CLPTM1L;NIT2;RNF185;MAP3K11;SLC25A1;USP35;ACADVL;ABCD3;LEAP2;TREH;SLC40A1;DBI;ECE2;DUSP16;CXCL2;FTCD;LMNB1;CKS1B;SLC2A8;ATP7B;CPT2;TOP1MT;ENOSF1;C8ORF82;AOX1;ACP2;MAN1A1;PGM1;TPRN;DSP;ABCC3;CERS4;FGA;ABCC2;ITGA1;TTC31;PLEKHG6;FGG;APOA2;AMT;APOA1;VPS37D;ABHD14B;RTN4RL2;TTC38;KLF16;SLC25A15;ELF3;ACOX2;OAS1;LCK;PEX3;CHDH;NOS1AP;SLC25A10;ANG;MET;RBKS;SLC25A13;PAOX;CEBPA;PON3;CEBPB;ACSS3;HLF;SLC47A1;LRP1;POLDIP2;ZBTB48;PALM3;RRBP1;HSD17B11;LRP6;TTR;KCTD21;TP53INP1;POC1A;C17ORF100;DCAF11;CYB5A;CMTM8;FAHD1;SLC35A3;SEC24A;GALNT2;TXNRD2;APOC3;SUOX;SOD2;HSPE1;TM6SF2;CCS;GOLPH3;PSAT1;APOC2;TRIM35;SCLY;C2ORF72;SLC25A33;MMACHC;LPIN3                                                                                       "
      ]
     },
     "metadata": {},
     "output_type": "display_data"
    }
   ],
   "source": [
    "CATEGORY <- \"ENCODE_TF_ChIP-seq_2014\"\n",
    "\n",
    "results.db <- enriched[[CATEGORY]]\n",
    "results.db.fdr <- subset(results.db, Adjusted.P.value < 0.05)\n",
    "head(results.db.fdr,2)"
   ]
  },
  {
   "cell_type": "code",
   "execution_count": 36,
   "id": "53f58954",
   "metadata": {},
   "outputs": [
    {
     "data": {
      "text/html": [
       "<table class=\"dataframe\">\n",
       "<caption>A data.frame: 2 × 9</caption>\n",
       "<thead>\n",
       "\t<tr><th></th><th scope=col>Term</th><th scope=col>Overlap</th><th scope=col>P.value</th><th scope=col>Adjusted.P.value</th><th scope=col>Old.P.value</th><th scope=col>Old.Adjusted.P.value</th><th scope=col>Odds.Ratio</th><th scope=col>Combined.Score</th><th scope=col>Genes</th></tr>\n",
       "\t<tr><th></th><th scope=col>&lt;chr&gt;</th><th scope=col>&lt;chr&gt;</th><th scope=col>&lt;dbl&gt;</th><th scope=col>&lt;dbl&gt;</th><th scope=col>&lt;int&gt;</th><th scope=col>&lt;int&gt;</th><th scope=col>&lt;dbl&gt;</th><th scope=col>&lt;dbl&gt;</th><th scope=col>&lt;chr&gt;</th></tr>\n",
       "</thead>\n",
       "<tbody>\n",
       "\t<tr><th scope=row>1</th><td>HNF4A HepG2 hg19</td><td>541/2620</td><td>1.392777e-75</td><td>1.136506e-72</td><td>0</td><td>0</td><td>2.977177</td><td>513.1539</td><td>SERPINE1;ABAT;GCSH;AS3MT;XYLB;GAMT;GSTK1;CXADR;STARD5;NUP210;SERPINF1;SERPINF2;BHLHA15;PDZK1;PHKA2;HDHD3;PRAP1;CLPX;RBP4;SLC5A9;RBP5;RNF125;ARMC5;RNF128;TFR2;SCO2;CLDN7;FDX1;ACOT2;PSME2;ACOT1;NGEF;ABCB4;CFI;HPN;IL20RB;HPR;A1BG;SDSL;IQGAP2;MTMR4;C3;PRDX3;EPB41L5;HPX;HSD11B2;LDHA;AFMID;PNPO;ST3GAL6;NRBF2;SULT1A2;GSDMD;FZD5;GRTP1;ABCA6;EDEM1;CYP4F3;MTHFS;CGN;NR0B2;NR2F6;DHFR;EIF6;ADI1;FXYD1;GIPC2;CDK10;SFXN1;CPEB3;SFXN5;OGFR;LAD1;SERPINA1;QPRT;GPT;PYGL;ASGR1;ASGR2;PHF8;SERPINA5;SHF;C16ORF70;SH3BGRL2;FLVCR2;TK1;IKBKG;ANXA9;CGNL1;C11ORF24;TIGD2;LYPLA1;DUSP1;GSTO1;SPHK2;ARG1;ELOVL2;RIPK4;PTGR1;SLC39A14;DUSP6;FAHD2A;GCHFR;TMEM177;TMEM37;BDH1;MMP15;SLC7A9;RGN;PLIN1;ERGIC1;SLC29A3;C11ORF52;C11ORF54;SERPINC1;NR1I3;ASPDH;METTL7B;APOL1;LDLR;RNF130;CCL16;F10;SERPIND1;MGMT;AADAT;GLYCTK;F12;MOCOS;NR1H3;DHRS1;DHRS3;AGT;AGMAT;TMCO6;SMOC1;CRAT;ALDH1L1;PUS10;CRCP;EXOC3L4;IRS1;CLSTN3;PROS1;HP;PLOD2;SAT2;HNMT;RAB43;FADS2;POFUT1;FCGRT;PHYHD1;SLC39A5;SLC25A42;GYG2;ZNF444;IL13RA1;RNF43;PCYT2;COL27A1;CISH;GPT2;FBXO17;PIPOX;THNSL1;SLC9B2;RAB32;C1ORF115;PKP2;AJUBA;SLC27A5;FTL;PFKFB1;SLC26A1;INSIG2;CHRD;UAP1;LIN7A;RAP1GAP;ACAT2;SLC9A3R1;KLC4;VTN;PMVK;TSNAXIP1;KDSR;SLC38A3;NADK;ZKSCAN1;SEC16B;AMBP;NEK6;LRRC61;TNFRSF10B;FANCC;DHCR24;HPS5;CORO2A;CYP4F11;CYP4F12;MLXIPL;RCAN1;GGCX;BCL3;SPIRE2;TADA1;ACO1;PLXNB1;REEP6;MAP3K11;SLC25A1;GAL3ST1;LEAP2;RMND1;ETFA;ETFB;DUSP16;FTCD;ATP7B;SPR;DDI2;ACP2;PGPEP1;TPRN;DSP;CERS4;AMN;HMGCS1;ITGA1;PLEKHG6;APOA2;AMT;APOA1;VPS37D;NIPSNAP1;SLC25A16;TRAF4;LCK;ESRP2;MTFR1;SLC25A10;MET;SMPDL3A;SLC25A13;CEBPA;CEBPB;ITIH3;SLC47A1;LRP1;GLRX;HSD17B11;BPHL;EHBP1;SELENBP1;TTR;SH3BP2;LRRC8D;RBBP9;CSK;SLC25A20;RFFL;DCAF11;CYB5A;APOC3;SEMA4G;CPPED1;TM6SF2;P2RX7;MYO1E;APOC2;TRIM35;OCIAD2;RAB17;P4HB;SLC25A33;MMACHC;ERRFI1;SLC46A1;PANK1;SLC23A1;ECI1;ECI2;CBLC;NUDT6;CISD3;NIPAL1;ANPEP;AGFG2;ENTPD8;ACSL5;SLC6A12;CYP27A1;POR;AZGP1;CARHSP1;FNDC4;SOAT2;ZNF837;TRIM14;RIN3;TRIB1;PEX11G;CES2;CES1;SLC22A3;SLC35D1;MAOB;SLC35D2;MGST2;ART4;NEU4;ACTR3C;APOM;APOH;ERI2;SCAP;ASL;APOE;CD14;DECR2;PCK1;A2M;N4BP2;DECR1;PCK2;TBC1D8B;SLC10A5;TMEM86B;CRADD;SIAH2;SURF4;OSGIN1;PAICS;GDF7;TPX2;ALDH6A1;HAL;TF;MYO5B;RANBP10;ECHDC2;SDC1;SLC2A4RG;ORM1;ACY1;N4BP2L1;PEPD;PTPRH;ORM2;CLYBL;PTMS;VMO1;CTSO;C8G;HINT2;CLDN23;ENC1;TNFAIP8L1;ACADM;AASS;RALGPS2;MRPS26;PARP3;STRADB;MST1;AMPD2;PROX1;LIME1;IL17RB;VAV2;UGDH;ALDH5A1;CLDN15;VSNL1;MZB1;FAM20C;RDH5;FAM20A;UMPS;MPND;AVPI1;AHCY;HAAO;HSD17B4;AKAP7;VWCE;PTS;CYP17A1;TYMP;RXRA;CAMK2N1;PERP;ORMDL3;MGAT2;IL32;NQO2;SLC31A1;GDF15;AKR1C3;GRHL1;AIG1;FAH;PEX13;YIF1A;NUDT7;NUDT8;LBX2;KLHL5;TCEA3;CAMK1;TJP2;RTKN;GOLT1A;TACO1;CPOX;MSMO1;TMEM140;MANEA;TMEM14A;CARD10;PHYH;UNC5CL;ZGPAT;HGD;ACOT13;SLC30A1;ALDH3A2;GLTPD2;SCNN1D;SHPK;TMEM139;GPD1;CMPK1;ODF3B;MASP2;MASP1;CCDC142;H6PD;PROZ;DNAJC22;FAM83H;DPP4;EBP;THPO;ISOC1;RPRD1B;FAM83D;ISOC2;GCKR;KLHL25;IDH1;EPHX2;EFNA1;CAMSAP3;SEPSECS;GCLC;AMACR;IL7;FES;FGFR4;GALK1;USP35;ABCD3;B4GALT1;SOWAHC;TREH;SLC40A1;OXT;ARHGEF10L;RABEPK;CXCL2;LMNB1;RND1;CKS1B;SLC2A8;CPT2;TOP1MT;MFSD3;AOX1;MAN1A1;ABCC3;FGA;ABCC2;TTC31;ABCC6;SSTR1;TTC38;TBC1D2;RER1;ELF3;ACOX2;OAS1;ACOX1;CHDH;EHHADH;CAT;CDHR5;HAGH;RBKS;PAOX;PON3;GALT;HLF;POLDIP2;PON2;PALM3;ASB13;ETFDH;PDXP;LCAT;RRBP1;HSPD1;PRRG4;POLD4;HMGCL;MARVELD2;SLC22A18AS;ERBB3;POC1A;EPS8L2;CMTM8;FAHD1;GALNT2;BNIP3;PLA2G2A;CMTM6;SUOX;SOD2;HSPE1;GALE;GOLPH3;TEN1;SCD;ASB9;SARDH;AQP11;GALM;LTBR;LPIN2;LPIN3</td></tr>\n",
       "\t<tr><th scope=row>2</th><td>HNF4G HepG2 hg19</td><td>195/605 </td><td>3.752779e-55</td><td>1.531134e-52</td><td>0</td><td>0</td><td>4.816674</td><td>603.6241</td><td>ERRFI1;PANK1;ABAT;TSKU;SEPHS2;XYLB;GSTK1;NUP210;SERPINF1;SERPINF2;ENTPD8;ACSL5;BHLHA15;PDZK1;PRAP1;CYP27A1;SLC5A9;RBP5;TFR2;SOAT2;KDELR2;NGEF;CES1;SLC35D1;MAOB;HPN;MGST2;HPR;A1BG;C3;NEU4;AFMID;PNPO;APOE;A2M;DECR2;PCK1;GSDMD;SLC10A5;FZD5;CRADD;GRTP1;CYP4F3;SURF4;NR0B2;GDF7;IL22RA1;TF;ALDH6A1;EIF6;MYO5B;GIPC2;ECHDC2;SLC2A4RG;LAD1;ACY1;QPRT;N4BP2L1;PYGL;PEPD;ORM2;ASGR1;CLYBL;PHF8;ASGR2;C16ORF70;CLDN23;ENC1;TNFAIP8L1;C19ORF12;TK1;ANXA9;ACADM;C11ORF24;TIGD2;MST1;SLC39A14;FAHD2A;IL17RB;TMEM177;GCHFR;UGDH;BDH1;MMP15;CNKSR3;UMPS;C11ORF52;AHCY;SERPINC1;NR1I3;HAAO;HSD17B4;TYMP;APOL6;CAMK2N1;METTL7B;CCL16;IL32;NQO2;SERPIND1;F10;GDF15;F12;PEX13;AGT;YIF1A;AGMAT;LBX2;CRAT;PUS10;TACO1;SAT2;HNMT;SLC39A5;IL13RA1;HGD;PIPOX;ACOT13;RAB32;GLTPD2;C1ORF115;TMEM139;MASP2;MASP1;SLC27A5;FTL;CCDC142;PROZ;ACAT2;RAP1GAP;FAM83H;SLC9A3R1;VTN;KLC4;ISOC1;ISOC2;SEC16B;IDH1;EPHX2;TNFRSF10B;EFNA1;CAMSAP3;BCL3;PXMP2;TADA1;PLXNB1;FGFR4;SLC25A1;USP35;LEAP2;ETFA;FTCD;ATP7B;MAN1A1;PGPEP1;TPRN;ABCC3;CERS4;FGA;AMN;HMGCS1;PLEKHG6;TTC31;APOA2;APOA1;NIPSNAP1;TRAF4;ACOX2;CHDH;HAGH;CEBPB;SLC47A1;LCAT;RRBP1;BPHL;HSPD1;TTR;ERBB3;SLC25A20;DCAF11;CYB5A;CMTM8;FAHD1;APOC3;SEMA4G;HSPE1;SOD2;CPPED1;GALE;APOC2;TRIM35;SARDH;AQP11;RAB17;SLC25A33                                                                                                                                                                                                                                                                                                                                                                                                                                                                                                                                                                                                                                                                                                                                                                                                                                                                                                                                                                                                                                                                                                                                                                                                                                                                                                                                                                                                                                                                                                                                                                                                                                                                                                                                                                                                                                                                                                                                                                                                                                                                                                                                                                                                </td></tr>\n",
       "</tbody>\n",
       "</table>\n"
      ],
      "text/latex": [
       "A data.frame: 2 × 9\n",
       "\\begin{tabular}{r|lllllllll}\n",
       "  & Term & Overlap & P.value & Adjusted.P.value & Old.P.value & Old.Adjusted.P.value & Odds.Ratio & Combined.Score & Genes\\\\\n",
       "  & <chr> & <chr> & <dbl> & <dbl> & <int> & <int> & <dbl> & <dbl> & <chr>\\\\\n",
       "\\hline\n",
       "\t1 & HNF4A HepG2 hg19 & 541/2620 & 1.392777e-75 & 1.136506e-72 & 0 & 0 & 2.977177 & 513.1539 & SERPINE1;ABAT;GCSH;AS3MT;XYLB;GAMT;GSTK1;CXADR;STARD5;NUP210;SERPINF1;SERPINF2;BHLHA15;PDZK1;PHKA2;HDHD3;PRAP1;CLPX;RBP4;SLC5A9;RBP5;RNF125;ARMC5;RNF128;TFR2;SCO2;CLDN7;FDX1;ACOT2;PSME2;ACOT1;NGEF;ABCB4;CFI;HPN;IL20RB;HPR;A1BG;SDSL;IQGAP2;MTMR4;C3;PRDX3;EPB41L5;HPX;HSD11B2;LDHA;AFMID;PNPO;ST3GAL6;NRBF2;SULT1A2;GSDMD;FZD5;GRTP1;ABCA6;EDEM1;CYP4F3;MTHFS;CGN;NR0B2;NR2F6;DHFR;EIF6;ADI1;FXYD1;GIPC2;CDK10;SFXN1;CPEB3;SFXN5;OGFR;LAD1;SERPINA1;QPRT;GPT;PYGL;ASGR1;ASGR2;PHF8;SERPINA5;SHF;C16ORF70;SH3BGRL2;FLVCR2;TK1;IKBKG;ANXA9;CGNL1;C11ORF24;TIGD2;LYPLA1;DUSP1;GSTO1;SPHK2;ARG1;ELOVL2;RIPK4;PTGR1;SLC39A14;DUSP6;FAHD2A;GCHFR;TMEM177;TMEM37;BDH1;MMP15;SLC7A9;RGN;PLIN1;ERGIC1;SLC29A3;C11ORF52;C11ORF54;SERPINC1;NR1I3;ASPDH;METTL7B;APOL1;LDLR;RNF130;CCL16;F10;SERPIND1;MGMT;AADAT;GLYCTK;F12;MOCOS;NR1H3;DHRS1;DHRS3;AGT;AGMAT;TMCO6;SMOC1;CRAT;ALDH1L1;PUS10;CRCP;EXOC3L4;IRS1;CLSTN3;PROS1;HP;PLOD2;SAT2;HNMT;RAB43;FADS2;POFUT1;FCGRT;PHYHD1;SLC39A5;SLC25A42;GYG2;ZNF444;IL13RA1;RNF43;PCYT2;COL27A1;CISH;GPT2;FBXO17;PIPOX;THNSL1;SLC9B2;RAB32;C1ORF115;PKP2;AJUBA;SLC27A5;FTL;PFKFB1;SLC26A1;INSIG2;CHRD;UAP1;LIN7A;RAP1GAP;ACAT2;SLC9A3R1;KLC4;VTN;PMVK;TSNAXIP1;KDSR;SLC38A3;NADK;ZKSCAN1;SEC16B;AMBP;NEK6;LRRC61;TNFRSF10B;FANCC;DHCR24;HPS5;CORO2A;CYP4F11;CYP4F12;MLXIPL;RCAN1;GGCX;BCL3;SPIRE2;TADA1;ACO1;PLXNB1;REEP6;MAP3K11;SLC25A1;GAL3ST1;LEAP2;RMND1;ETFA;ETFB;DUSP16;FTCD;ATP7B;SPR;DDI2;ACP2;PGPEP1;TPRN;DSP;CERS4;AMN;HMGCS1;ITGA1;PLEKHG6;APOA2;AMT;APOA1;VPS37D;NIPSNAP1;SLC25A16;TRAF4;LCK;ESRP2;MTFR1;SLC25A10;MET;SMPDL3A;SLC25A13;CEBPA;CEBPB;ITIH3;SLC47A1;LRP1;GLRX;HSD17B11;BPHL;EHBP1;SELENBP1;TTR;SH3BP2;LRRC8D;RBBP9;CSK;SLC25A20;RFFL;DCAF11;CYB5A;APOC3;SEMA4G;CPPED1;TM6SF2;P2RX7;MYO1E;APOC2;TRIM35;OCIAD2;RAB17;P4HB;SLC25A33;MMACHC;ERRFI1;SLC46A1;PANK1;SLC23A1;ECI1;ECI2;CBLC;NUDT6;CISD3;NIPAL1;ANPEP;AGFG2;ENTPD8;ACSL5;SLC6A12;CYP27A1;POR;AZGP1;CARHSP1;FNDC4;SOAT2;ZNF837;TRIM14;RIN3;TRIB1;PEX11G;CES2;CES1;SLC22A3;SLC35D1;MAOB;SLC35D2;MGST2;ART4;NEU4;ACTR3C;APOM;APOH;ERI2;SCAP;ASL;APOE;CD14;DECR2;PCK1;A2M;N4BP2;DECR1;PCK2;TBC1D8B;SLC10A5;TMEM86B;CRADD;SIAH2;SURF4;OSGIN1;PAICS;GDF7;TPX2;ALDH6A1;HAL;TF;MYO5B;RANBP10;ECHDC2;SDC1;SLC2A4RG;ORM1;ACY1;N4BP2L1;PEPD;PTPRH;ORM2;CLYBL;PTMS;VMO1;CTSO;C8G;HINT2;CLDN23;ENC1;TNFAIP8L1;ACADM;AASS;RALGPS2;MRPS26;PARP3;STRADB;MST1;AMPD2;PROX1;LIME1;IL17RB;VAV2;UGDH;ALDH5A1;CLDN15;VSNL1;MZB1;FAM20C;RDH5;FAM20A;UMPS;MPND;AVPI1;AHCY;HAAO;HSD17B4;AKAP7;VWCE;PTS;CYP17A1;TYMP;RXRA;CAMK2N1;PERP;ORMDL3;MGAT2;IL32;NQO2;SLC31A1;GDF15;AKR1C3;GRHL1;AIG1;FAH;PEX13;YIF1A;NUDT7;NUDT8;LBX2;KLHL5;TCEA3;CAMK1;TJP2;RTKN;GOLT1A;TACO1;CPOX;MSMO1;TMEM140;MANEA;TMEM14A;CARD10;PHYH;UNC5CL;ZGPAT;HGD;ACOT13;SLC30A1;ALDH3A2;GLTPD2;SCNN1D;SHPK;TMEM139;GPD1;CMPK1;ODF3B;MASP2;MASP1;CCDC142;H6PD;PROZ;DNAJC22;FAM83H;DPP4;EBP;THPO;ISOC1;RPRD1B;FAM83D;ISOC2;GCKR;KLHL25;IDH1;EPHX2;EFNA1;CAMSAP3;SEPSECS;GCLC;AMACR;IL7;FES;FGFR4;GALK1;USP35;ABCD3;B4GALT1;SOWAHC;TREH;SLC40A1;OXT;ARHGEF10L;RABEPK;CXCL2;LMNB1;RND1;CKS1B;SLC2A8;CPT2;TOP1MT;MFSD3;AOX1;MAN1A1;ABCC3;FGA;ABCC2;TTC31;ABCC6;SSTR1;TTC38;TBC1D2;RER1;ELF3;ACOX2;OAS1;ACOX1;CHDH;EHHADH;CAT;CDHR5;HAGH;RBKS;PAOX;PON3;GALT;HLF;POLDIP2;PON2;PALM3;ASB13;ETFDH;PDXP;LCAT;RRBP1;HSPD1;PRRG4;POLD4;HMGCL;MARVELD2;SLC22A18AS;ERBB3;POC1A;EPS8L2;CMTM8;FAHD1;GALNT2;BNIP3;PLA2G2A;CMTM6;SUOX;SOD2;HSPE1;GALE;GOLPH3;TEN1;SCD;ASB9;SARDH;AQP11;GALM;LTBR;LPIN2;LPIN3\\\\\n",
       "\t2 & HNF4G HepG2 hg19 & 195/605  & 3.752779e-55 & 1.531134e-52 & 0 & 0 & 4.816674 & 603.6241 & ERRFI1;PANK1;ABAT;TSKU;SEPHS2;XYLB;GSTK1;NUP210;SERPINF1;SERPINF2;ENTPD8;ACSL5;BHLHA15;PDZK1;PRAP1;CYP27A1;SLC5A9;RBP5;TFR2;SOAT2;KDELR2;NGEF;CES1;SLC35D1;MAOB;HPN;MGST2;HPR;A1BG;C3;NEU4;AFMID;PNPO;APOE;A2M;DECR2;PCK1;GSDMD;SLC10A5;FZD5;CRADD;GRTP1;CYP4F3;SURF4;NR0B2;GDF7;IL22RA1;TF;ALDH6A1;EIF6;MYO5B;GIPC2;ECHDC2;SLC2A4RG;LAD1;ACY1;QPRT;N4BP2L1;PYGL;PEPD;ORM2;ASGR1;CLYBL;PHF8;ASGR2;C16ORF70;CLDN23;ENC1;TNFAIP8L1;C19ORF12;TK1;ANXA9;ACADM;C11ORF24;TIGD2;MST1;SLC39A14;FAHD2A;IL17RB;TMEM177;GCHFR;UGDH;BDH1;MMP15;CNKSR3;UMPS;C11ORF52;AHCY;SERPINC1;NR1I3;HAAO;HSD17B4;TYMP;APOL6;CAMK2N1;METTL7B;CCL16;IL32;NQO2;SERPIND1;F10;GDF15;F12;PEX13;AGT;YIF1A;AGMAT;LBX2;CRAT;PUS10;TACO1;SAT2;HNMT;SLC39A5;IL13RA1;HGD;PIPOX;ACOT13;RAB32;GLTPD2;C1ORF115;TMEM139;MASP2;MASP1;SLC27A5;FTL;CCDC142;PROZ;ACAT2;RAP1GAP;FAM83H;SLC9A3R1;VTN;KLC4;ISOC1;ISOC2;SEC16B;IDH1;EPHX2;TNFRSF10B;EFNA1;CAMSAP3;BCL3;PXMP2;TADA1;PLXNB1;FGFR4;SLC25A1;USP35;LEAP2;ETFA;FTCD;ATP7B;MAN1A1;PGPEP1;TPRN;ABCC3;CERS4;FGA;AMN;HMGCS1;PLEKHG6;TTC31;APOA2;APOA1;NIPSNAP1;TRAF4;ACOX2;CHDH;HAGH;CEBPB;SLC47A1;LCAT;RRBP1;BPHL;HSPD1;TTR;ERBB3;SLC25A20;DCAF11;CYB5A;CMTM8;FAHD1;APOC3;SEMA4G;HSPE1;SOD2;CPPED1;GALE;APOC2;TRIM35;SARDH;AQP11;RAB17;SLC25A33                                                                                                                                                                                                                                                                                                                                                                                                                                                                                                                                                                                                                                                                                                                                                                                                                                                                                                                                                                                                                                                                                                                                                                                                                                                                                                                                                                                                                                                                                                                                                                                                                                                                                                                                                                                                                                                                                                                                                                                                                                                                                                                                                                                                \\\\\n",
       "\\end{tabular}\n"
      ],
      "text/markdown": [
       "\n",
       "A data.frame: 2 × 9\n",
       "\n",
       "| <!--/--> | Term &lt;chr&gt; | Overlap &lt;chr&gt; | P.value &lt;dbl&gt; | Adjusted.P.value &lt;dbl&gt; | Old.P.value &lt;int&gt; | Old.Adjusted.P.value &lt;int&gt; | Odds.Ratio &lt;dbl&gt; | Combined.Score &lt;dbl&gt; | Genes &lt;chr&gt; |\n",
       "|---|---|---|---|---|---|---|---|---|---|\n",
       "| 1 | HNF4A HepG2 hg19 | 541/2620 | 1.392777e-75 | 1.136506e-72 | 0 | 0 | 2.977177 | 513.1539 | SERPINE1;ABAT;GCSH;AS3MT;XYLB;GAMT;GSTK1;CXADR;STARD5;NUP210;SERPINF1;SERPINF2;BHLHA15;PDZK1;PHKA2;HDHD3;PRAP1;CLPX;RBP4;SLC5A9;RBP5;RNF125;ARMC5;RNF128;TFR2;SCO2;CLDN7;FDX1;ACOT2;PSME2;ACOT1;NGEF;ABCB4;CFI;HPN;IL20RB;HPR;A1BG;SDSL;IQGAP2;MTMR4;C3;PRDX3;EPB41L5;HPX;HSD11B2;LDHA;AFMID;PNPO;ST3GAL6;NRBF2;SULT1A2;GSDMD;FZD5;GRTP1;ABCA6;EDEM1;CYP4F3;MTHFS;CGN;NR0B2;NR2F6;DHFR;EIF6;ADI1;FXYD1;GIPC2;CDK10;SFXN1;CPEB3;SFXN5;OGFR;LAD1;SERPINA1;QPRT;GPT;PYGL;ASGR1;ASGR2;PHF8;SERPINA5;SHF;C16ORF70;SH3BGRL2;FLVCR2;TK1;IKBKG;ANXA9;CGNL1;C11ORF24;TIGD2;LYPLA1;DUSP1;GSTO1;SPHK2;ARG1;ELOVL2;RIPK4;PTGR1;SLC39A14;DUSP6;FAHD2A;GCHFR;TMEM177;TMEM37;BDH1;MMP15;SLC7A9;RGN;PLIN1;ERGIC1;SLC29A3;C11ORF52;C11ORF54;SERPINC1;NR1I3;ASPDH;METTL7B;APOL1;LDLR;RNF130;CCL16;F10;SERPIND1;MGMT;AADAT;GLYCTK;F12;MOCOS;NR1H3;DHRS1;DHRS3;AGT;AGMAT;TMCO6;SMOC1;CRAT;ALDH1L1;PUS10;CRCP;EXOC3L4;IRS1;CLSTN3;PROS1;HP;PLOD2;SAT2;HNMT;RAB43;FADS2;POFUT1;FCGRT;PHYHD1;SLC39A5;SLC25A42;GYG2;ZNF444;IL13RA1;RNF43;PCYT2;COL27A1;CISH;GPT2;FBXO17;PIPOX;THNSL1;SLC9B2;RAB32;C1ORF115;PKP2;AJUBA;SLC27A5;FTL;PFKFB1;SLC26A1;INSIG2;CHRD;UAP1;LIN7A;RAP1GAP;ACAT2;SLC9A3R1;KLC4;VTN;PMVK;TSNAXIP1;KDSR;SLC38A3;NADK;ZKSCAN1;SEC16B;AMBP;NEK6;LRRC61;TNFRSF10B;FANCC;DHCR24;HPS5;CORO2A;CYP4F11;CYP4F12;MLXIPL;RCAN1;GGCX;BCL3;SPIRE2;TADA1;ACO1;PLXNB1;REEP6;MAP3K11;SLC25A1;GAL3ST1;LEAP2;RMND1;ETFA;ETFB;DUSP16;FTCD;ATP7B;SPR;DDI2;ACP2;PGPEP1;TPRN;DSP;CERS4;AMN;HMGCS1;ITGA1;PLEKHG6;APOA2;AMT;APOA1;VPS37D;NIPSNAP1;SLC25A16;TRAF4;LCK;ESRP2;MTFR1;SLC25A10;MET;SMPDL3A;SLC25A13;CEBPA;CEBPB;ITIH3;SLC47A1;LRP1;GLRX;HSD17B11;BPHL;EHBP1;SELENBP1;TTR;SH3BP2;LRRC8D;RBBP9;CSK;SLC25A20;RFFL;DCAF11;CYB5A;APOC3;SEMA4G;CPPED1;TM6SF2;P2RX7;MYO1E;APOC2;TRIM35;OCIAD2;RAB17;P4HB;SLC25A33;MMACHC;ERRFI1;SLC46A1;PANK1;SLC23A1;ECI1;ECI2;CBLC;NUDT6;CISD3;NIPAL1;ANPEP;AGFG2;ENTPD8;ACSL5;SLC6A12;CYP27A1;POR;AZGP1;CARHSP1;FNDC4;SOAT2;ZNF837;TRIM14;RIN3;TRIB1;PEX11G;CES2;CES1;SLC22A3;SLC35D1;MAOB;SLC35D2;MGST2;ART4;NEU4;ACTR3C;APOM;APOH;ERI2;SCAP;ASL;APOE;CD14;DECR2;PCK1;A2M;N4BP2;DECR1;PCK2;TBC1D8B;SLC10A5;TMEM86B;CRADD;SIAH2;SURF4;OSGIN1;PAICS;GDF7;TPX2;ALDH6A1;HAL;TF;MYO5B;RANBP10;ECHDC2;SDC1;SLC2A4RG;ORM1;ACY1;N4BP2L1;PEPD;PTPRH;ORM2;CLYBL;PTMS;VMO1;CTSO;C8G;HINT2;CLDN23;ENC1;TNFAIP8L1;ACADM;AASS;RALGPS2;MRPS26;PARP3;STRADB;MST1;AMPD2;PROX1;LIME1;IL17RB;VAV2;UGDH;ALDH5A1;CLDN15;VSNL1;MZB1;FAM20C;RDH5;FAM20A;UMPS;MPND;AVPI1;AHCY;HAAO;HSD17B4;AKAP7;VWCE;PTS;CYP17A1;TYMP;RXRA;CAMK2N1;PERP;ORMDL3;MGAT2;IL32;NQO2;SLC31A1;GDF15;AKR1C3;GRHL1;AIG1;FAH;PEX13;YIF1A;NUDT7;NUDT8;LBX2;KLHL5;TCEA3;CAMK1;TJP2;RTKN;GOLT1A;TACO1;CPOX;MSMO1;TMEM140;MANEA;TMEM14A;CARD10;PHYH;UNC5CL;ZGPAT;HGD;ACOT13;SLC30A1;ALDH3A2;GLTPD2;SCNN1D;SHPK;TMEM139;GPD1;CMPK1;ODF3B;MASP2;MASP1;CCDC142;H6PD;PROZ;DNAJC22;FAM83H;DPP4;EBP;THPO;ISOC1;RPRD1B;FAM83D;ISOC2;GCKR;KLHL25;IDH1;EPHX2;EFNA1;CAMSAP3;SEPSECS;GCLC;AMACR;IL7;FES;FGFR4;GALK1;USP35;ABCD3;B4GALT1;SOWAHC;TREH;SLC40A1;OXT;ARHGEF10L;RABEPK;CXCL2;LMNB1;RND1;CKS1B;SLC2A8;CPT2;TOP1MT;MFSD3;AOX1;MAN1A1;ABCC3;FGA;ABCC2;TTC31;ABCC6;SSTR1;TTC38;TBC1D2;RER1;ELF3;ACOX2;OAS1;ACOX1;CHDH;EHHADH;CAT;CDHR5;HAGH;RBKS;PAOX;PON3;GALT;HLF;POLDIP2;PON2;PALM3;ASB13;ETFDH;PDXP;LCAT;RRBP1;HSPD1;PRRG4;POLD4;HMGCL;MARVELD2;SLC22A18AS;ERBB3;POC1A;EPS8L2;CMTM8;FAHD1;GALNT2;BNIP3;PLA2G2A;CMTM6;SUOX;SOD2;HSPE1;GALE;GOLPH3;TEN1;SCD;ASB9;SARDH;AQP11;GALM;LTBR;LPIN2;LPIN3 |\n",
       "| 2 | HNF4G HepG2 hg19 | 195/605  | 3.752779e-55 | 1.531134e-52 | 0 | 0 | 4.816674 | 603.6241 | ERRFI1;PANK1;ABAT;TSKU;SEPHS2;XYLB;GSTK1;NUP210;SERPINF1;SERPINF2;ENTPD8;ACSL5;BHLHA15;PDZK1;PRAP1;CYP27A1;SLC5A9;RBP5;TFR2;SOAT2;KDELR2;NGEF;CES1;SLC35D1;MAOB;HPN;MGST2;HPR;A1BG;C3;NEU4;AFMID;PNPO;APOE;A2M;DECR2;PCK1;GSDMD;SLC10A5;FZD5;CRADD;GRTP1;CYP4F3;SURF4;NR0B2;GDF7;IL22RA1;TF;ALDH6A1;EIF6;MYO5B;GIPC2;ECHDC2;SLC2A4RG;LAD1;ACY1;QPRT;N4BP2L1;PYGL;PEPD;ORM2;ASGR1;CLYBL;PHF8;ASGR2;C16ORF70;CLDN23;ENC1;TNFAIP8L1;C19ORF12;TK1;ANXA9;ACADM;C11ORF24;TIGD2;MST1;SLC39A14;FAHD2A;IL17RB;TMEM177;GCHFR;UGDH;BDH1;MMP15;CNKSR3;UMPS;C11ORF52;AHCY;SERPINC1;NR1I3;HAAO;HSD17B4;TYMP;APOL6;CAMK2N1;METTL7B;CCL16;IL32;NQO2;SERPIND1;F10;GDF15;F12;PEX13;AGT;YIF1A;AGMAT;LBX2;CRAT;PUS10;TACO1;SAT2;HNMT;SLC39A5;IL13RA1;HGD;PIPOX;ACOT13;RAB32;GLTPD2;C1ORF115;TMEM139;MASP2;MASP1;SLC27A5;FTL;CCDC142;PROZ;ACAT2;RAP1GAP;FAM83H;SLC9A3R1;VTN;KLC4;ISOC1;ISOC2;SEC16B;IDH1;EPHX2;TNFRSF10B;EFNA1;CAMSAP3;BCL3;PXMP2;TADA1;PLXNB1;FGFR4;SLC25A1;USP35;LEAP2;ETFA;FTCD;ATP7B;MAN1A1;PGPEP1;TPRN;ABCC3;CERS4;FGA;AMN;HMGCS1;PLEKHG6;TTC31;APOA2;APOA1;NIPSNAP1;TRAF4;ACOX2;CHDH;HAGH;CEBPB;SLC47A1;LCAT;RRBP1;BPHL;HSPD1;TTR;ERBB3;SLC25A20;DCAF11;CYB5A;CMTM8;FAHD1;APOC3;SEMA4G;HSPE1;SOD2;CPPED1;GALE;APOC2;TRIM35;SARDH;AQP11;RAB17;SLC25A33                                                                                                                                                                                                                                                                                                                                                                                                                                                                                                                                                                                                                                                                                                                                                                                                                                                                                                                                                                                                                                                                                                                                                                                                                                                                                                                                                                                                                                                                                                                                                                                                                                                                                                                                                                                                                                                                                                                                                                                                                                                                                                                                                                                                 |\n",
       "\n"
      ],
      "text/plain": [
       "  Term             Overlap  P.value      Adjusted.P.value Old.P.value\n",
       "1 HNF4A HepG2 hg19 541/2620 1.392777e-75 1.136506e-72     0          \n",
       "2 HNF4G HepG2 hg19 195/605  3.752779e-55 1.531134e-52     0          \n",
       "  Old.Adjusted.P.value Odds.Ratio Combined.Score\n",
       "1 0                    2.977177   513.1539      \n",
       "2 0                    4.816674   603.6241      \n",
       "  Genes                                                                                                                                                                                                                                                                                                                                                                                                                                                                                                                                                                                                                                                                                                                                                                                                                                                                                                                                                                                                                                                                                                                                                                                                                                                                                                                                                                                                                                                                                                                                                                                                                                                                                                                                                                                                                                                                                                                                                                                                                                                                                                                                                                                                                                                                                                                                                                                                                                                                                                                                                                                                                                                                                                                                                                                                                                                                                                                                                                                                                                                                                                                                                                                                                                                                                                                                                                                                                                                 \n",
       "1 SERPINE1;ABAT;GCSH;AS3MT;XYLB;GAMT;GSTK1;CXADR;STARD5;NUP210;SERPINF1;SERPINF2;BHLHA15;PDZK1;PHKA2;HDHD3;PRAP1;CLPX;RBP4;SLC5A9;RBP5;RNF125;ARMC5;RNF128;TFR2;SCO2;CLDN7;FDX1;ACOT2;PSME2;ACOT1;NGEF;ABCB4;CFI;HPN;IL20RB;HPR;A1BG;SDSL;IQGAP2;MTMR4;C3;PRDX3;EPB41L5;HPX;HSD11B2;LDHA;AFMID;PNPO;ST3GAL6;NRBF2;SULT1A2;GSDMD;FZD5;GRTP1;ABCA6;EDEM1;CYP4F3;MTHFS;CGN;NR0B2;NR2F6;DHFR;EIF6;ADI1;FXYD1;GIPC2;CDK10;SFXN1;CPEB3;SFXN5;OGFR;LAD1;SERPINA1;QPRT;GPT;PYGL;ASGR1;ASGR2;PHF8;SERPINA5;SHF;C16ORF70;SH3BGRL2;FLVCR2;TK1;IKBKG;ANXA9;CGNL1;C11ORF24;TIGD2;LYPLA1;DUSP1;GSTO1;SPHK2;ARG1;ELOVL2;RIPK4;PTGR1;SLC39A14;DUSP6;FAHD2A;GCHFR;TMEM177;TMEM37;BDH1;MMP15;SLC7A9;RGN;PLIN1;ERGIC1;SLC29A3;C11ORF52;C11ORF54;SERPINC1;NR1I3;ASPDH;METTL7B;APOL1;LDLR;RNF130;CCL16;F10;SERPIND1;MGMT;AADAT;GLYCTK;F12;MOCOS;NR1H3;DHRS1;DHRS3;AGT;AGMAT;TMCO6;SMOC1;CRAT;ALDH1L1;PUS10;CRCP;EXOC3L4;IRS1;CLSTN3;PROS1;HP;PLOD2;SAT2;HNMT;RAB43;FADS2;POFUT1;FCGRT;PHYHD1;SLC39A5;SLC25A42;GYG2;ZNF444;IL13RA1;RNF43;PCYT2;COL27A1;CISH;GPT2;FBXO17;PIPOX;THNSL1;SLC9B2;RAB32;C1ORF115;PKP2;AJUBA;SLC27A5;FTL;PFKFB1;SLC26A1;INSIG2;CHRD;UAP1;LIN7A;RAP1GAP;ACAT2;SLC9A3R1;KLC4;VTN;PMVK;TSNAXIP1;KDSR;SLC38A3;NADK;ZKSCAN1;SEC16B;AMBP;NEK6;LRRC61;TNFRSF10B;FANCC;DHCR24;HPS5;CORO2A;CYP4F11;CYP4F12;MLXIPL;RCAN1;GGCX;BCL3;SPIRE2;TADA1;ACO1;PLXNB1;REEP6;MAP3K11;SLC25A1;GAL3ST1;LEAP2;RMND1;ETFA;ETFB;DUSP16;FTCD;ATP7B;SPR;DDI2;ACP2;PGPEP1;TPRN;DSP;CERS4;AMN;HMGCS1;ITGA1;PLEKHG6;APOA2;AMT;APOA1;VPS37D;NIPSNAP1;SLC25A16;TRAF4;LCK;ESRP2;MTFR1;SLC25A10;MET;SMPDL3A;SLC25A13;CEBPA;CEBPB;ITIH3;SLC47A1;LRP1;GLRX;HSD17B11;BPHL;EHBP1;SELENBP1;TTR;SH3BP2;LRRC8D;RBBP9;CSK;SLC25A20;RFFL;DCAF11;CYB5A;APOC3;SEMA4G;CPPED1;TM6SF2;P2RX7;MYO1E;APOC2;TRIM35;OCIAD2;RAB17;P4HB;SLC25A33;MMACHC;ERRFI1;SLC46A1;PANK1;SLC23A1;ECI1;ECI2;CBLC;NUDT6;CISD3;NIPAL1;ANPEP;AGFG2;ENTPD8;ACSL5;SLC6A12;CYP27A1;POR;AZGP1;CARHSP1;FNDC4;SOAT2;ZNF837;TRIM14;RIN3;TRIB1;PEX11G;CES2;CES1;SLC22A3;SLC35D1;MAOB;SLC35D2;MGST2;ART4;NEU4;ACTR3C;APOM;APOH;ERI2;SCAP;ASL;APOE;CD14;DECR2;PCK1;A2M;N4BP2;DECR1;PCK2;TBC1D8B;SLC10A5;TMEM86B;CRADD;SIAH2;SURF4;OSGIN1;PAICS;GDF7;TPX2;ALDH6A1;HAL;TF;MYO5B;RANBP10;ECHDC2;SDC1;SLC2A4RG;ORM1;ACY1;N4BP2L1;PEPD;PTPRH;ORM2;CLYBL;PTMS;VMO1;CTSO;C8G;HINT2;CLDN23;ENC1;TNFAIP8L1;ACADM;AASS;RALGPS2;MRPS26;PARP3;STRADB;MST1;AMPD2;PROX1;LIME1;IL17RB;VAV2;UGDH;ALDH5A1;CLDN15;VSNL1;MZB1;FAM20C;RDH5;FAM20A;UMPS;MPND;AVPI1;AHCY;HAAO;HSD17B4;AKAP7;VWCE;PTS;CYP17A1;TYMP;RXRA;CAMK2N1;PERP;ORMDL3;MGAT2;IL32;NQO2;SLC31A1;GDF15;AKR1C3;GRHL1;AIG1;FAH;PEX13;YIF1A;NUDT7;NUDT8;LBX2;KLHL5;TCEA3;CAMK1;TJP2;RTKN;GOLT1A;TACO1;CPOX;MSMO1;TMEM140;MANEA;TMEM14A;CARD10;PHYH;UNC5CL;ZGPAT;HGD;ACOT13;SLC30A1;ALDH3A2;GLTPD2;SCNN1D;SHPK;TMEM139;GPD1;CMPK1;ODF3B;MASP2;MASP1;CCDC142;H6PD;PROZ;DNAJC22;FAM83H;DPP4;EBP;THPO;ISOC1;RPRD1B;FAM83D;ISOC2;GCKR;KLHL25;IDH1;EPHX2;EFNA1;CAMSAP3;SEPSECS;GCLC;AMACR;IL7;FES;FGFR4;GALK1;USP35;ABCD3;B4GALT1;SOWAHC;TREH;SLC40A1;OXT;ARHGEF10L;RABEPK;CXCL2;LMNB1;RND1;CKS1B;SLC2A8;CPT2;TOP1MT;MFSD3;AOX1;MAN1A1;ABCC3;FGA;ABCC2;TTC31;ABCC6;SSTR1;TTC38;TBC1D2;RER1;ELF3;ACOX2;OAS1;ACOX1;CHDH;EHHADH;CAT;CDHR5;HAGH;RBKS;PAOX;PON3;GALT;HLF;POLDIP2;PON2;PALM3;ASB13;ETFDH;PDXP;LCAT;RRBP1;HSPD1;PRRG4;POLD4;HMGCL;MARVELD2;SLC22A18AS;ERBB3;POC1A;EPS8L2;CMTM8;FAHD1;GALNT2;BNIP3;PLA2G2A;CMTM6;SUOX;SOD2;HSPE1;GALE;GOLPH3;TEN1;SCD;ASB9;SARDH;AQP11;GALM;LTBR;LPIN2;LPIN3\n",
       "2 ERRFI1;PANK1;ABAT;TSKU;SEPHS2;XYLB;GSTK1;NUP210;SERPINF1;SERPINF2;ENTPD8;ACSL5;BHLHA15;PDZK1;PRAP1;CYP27A1;SLC5A9;RBP5;TFR2;SOAT2;KDELR2;NGEF;CES1;SLC35D1;MAOB;HPN;MGST2;HPR;A1BG;C3;NEU4;AFMID;PNPO;APOE;A2M;DECR2;PCK1;GSDMD;SLC10A5;FZD5;CRADD;GRTP1;CYP4F3;SURF4;NR0B2;GDF7;IL22RA1;TF;ALDH6A1;EIF6;MYO5B;GIPC2;ECHDC2;SLC2A4RG;LAD1;ACY1;QPRT;N4BP2L1;PYGL;PEPD;ORM2;ASGR1;CLYBL;PHF8;ASGR2;C16ORF70;CLDN23;ENC1;TNFAIP8L1;C19ORF12;TK1;ANXA9;ACADM;C11ORF24;TIGD2;MST1;SLC39A14;FAHD2A;IL17RB;TMEM177;GCHFR;UGDH;BDH1;MMP15;CNKSR3;UMPS;C11ORF52;AHCY;SERPINC1;NR1I3;HAAO;HSD17B4;TYMP;APOL6;CAMK2N1;METTL7B;CCL16;IL32;NQO2;SERPIND1;F10;GDF15;F12;PEX13;AGT;YIF1A;AGMAT;LBX2;CRAT;PUS10;TACO1;SAT2;HNMT;SLC39A5;IL13RA1;HGD;PIPOX;ACOT13;RAB32;GLTPD2;C1ORF115;TMEM139;MASP2;MASP1;SLC27A5;FTL;CCDC142;PROZ;ACAT2;RAP1GAP;FAM83H;SLC9A3R1;VTN;KLC4;ISOC1;ISOC2;SEC16B;IDH1;EPHX2;TNFRSF10B;EFNA1;CAMSAP3;BCL3;PXMP2;TADA1;PLXNB1;FGFR4;SLC25A1;USP35;LEAP2;ETFA;FTCD;ATP7B;MAN1A1;PGPEP1;TPRN;ABCC3;CERS4;FGA;AMN;HMGCS1;PLEKHG6;TTC31;APOA2;APOA1;NIPSNAP1;TRAF4;ACOX2;CHDH;HAGH;CEBPB;SLC47A1;LCAT;RRBP1;BPHL;HSPD1;TTR;ERBB3;SLC25A20;DCAF11;CYB5A;CMTM8;FAHD1;APOC3;SEMA4G;HSPE1;SOD2;CPPED1;GALE;APOC2;TRIM35;SARDH;AQP11;RAB17;SLC25A33                                                                                                                                                                                                                                                                                                                                                                                                                                                                                                                                                                                                                                                                                                                                                                                                                                                                                                                                                                                                                                                                                                                                                                                                                                                                                                                                                                                                                                                                                                                                                                                                                                                                                                                                                                                                                                                                                                                                                                                                                                                                                                                                                                                                "
      ]
     },
     "metadata": {},
     "output_type": "display_data"
    }
   ],
   "source": [
    "CATEGORY <- \"ENCODE_TF_ChIP-seq_2015\"\n",
    "\n",
    "results.db <- enriched[[CATEGORY]]\n",
    "results.db.fdr <- subset(results.db, Adjusted.P.value < 0.05)\n",
    "head(results.db.fdr,2)"
   ]
  },
  {
   "cell_type": "code",
   "execution_count": 38,
   "id": "4bd0f162",
   "metadata": {},
   "outputs": [
    {
     "data": {
      "text/html": [
       "<table class=\"dataframe\">\n",
       "<caption>A data.frame: 2 × 9</caption>\n",
       "<thead>\n",
       "\t<tr><th></th><th scope=col>Term</th><th scope=col>Overlap</th><th scope=col>P.value</th><th scope=col>Adjusted.P.value</th><th scope=col>Old.P.value</th><th scope=col>Old.Adjusted.P.value</th><th scope=col>Odds.Ratio</th><th scope=col>Combined.Score</th><th scope=col>Genes</th></tr>\n",
       "\t<tr><th></th><th scope=col>&lt;chr&gt;</th><th scope=col>&lt;chr&gt;</th><th scope=col>&lt;dbl&gt;</th><th scope=col>&lt;dbl&gt;</th><th scope=col>&lt;int&gt;</th><th scope=col>&lt;int&gt;</th><th scope=col>&lt;dbl&gt;</th><th scope=col>&lt;dbl&gt;</th><th scope=col>&lt;chr&gt;</th></tr>\n",
       "</thead>\n",
       "<tbody>\n",
       "\t<tr><th scope=row>1</th><td>RXR 22158963 ChIP-Seq LIVER Mouse  </td><td>483/2000</td><td>5.760508e-91</td><td>3.709767e-88</td><td>0</td><td>0</td><td>3.620473</td><td>752.2772</td><td>PID1;GLDC;SERPINE1;RAPH1;CLDN1;TSKU;AS3MT;SCP2;LIPG;XYLB;GAMT;STARD4;CXADR;STARD5;SERPINF2;HDHD3;UPB1;CLPX;CLDN3;SCO2;ACOT2;ACOT1;CYP2E1;RBCK1;ATF5;HPD;CFB;ACOT4;CFH;PDXDC1;RETSAT;SAR1B;SHMT2;SHMT1;ABCB4;HPN;A1BG;SDSL;IQGAP2;MTMR4;SULT1A1;PRPSAP1;C3;HPX;LDHA;AFMID;RDH16;PNPO;NRBF2;PPARGC1A;LHPP;ABCA1;GSTM1;PMM1;FZD5;GRTP1;ABCA6;EDEM1;STARD10;FN1;ERLIN1;ELL2;NR0B2;CP;NR2F6;ABTB2;GJB2;EIF6;FASN;FXYD1;SFXN1;PLCH2;PIGR;ADK;LRRC3;SNX10;GPT;PYGL;TMEM53;CSAD;ASGR1;ASGR2;SERPINA5;GLT1D1;C1QTNF6;TK1;RNF152;LYPLA1;SPHK2;ELOVL5;ARG1;ELOVL2;RIPK4;TMEM171;SLC39A14;DUSP6;F5;TMEM37;TUBB2A;OAF;DPYD;CDC42EP1;PLIN2;ANGPTL4;PPARA;MOCS1;MGLL;PLIN5;PHLPP1;SERPINC1;NR1I3;SLC7A2;PAPSS2;LMAN1;NTF3;SC5D;METTL7B;LDLR;RNF130;BCHE;F10;SERPIND1;STAT2;F12;G0S2;FMO3;FMO5;DHRS3;AGT;AGMAT;GNMT;LRG1;ETNK2;SMOC1;NOTUM;CRAT;PECR;ALDH1L1;MTCH2;PUS10;PROS1;RORC;HP;DEFB1;AHR;HNMT;CLU;CDC14B;RAB43;FADS2;CDH1;LEPR;SLC25A42;SLC25A44;FADS1;NUDT12;IGFBP4;GPT2;PIPOX;MINPP1;PKP2;IGFALS;TTPAL;SLC27A2;LY6E;INSIG2;INSIG1;ABHD1;UAP1;ACAT1;TMEM25;SLC9A3R1;FGGY;AMDHD1;HACL1;KDSR;NADK;AP1M1;SLC38A4;FN3K;AMBP;GOT1;LRRC61;DHCR24;CORO2A;ABHD15;CXCL10;MLXIPL;RCAN1;CXCL12;GGCX;UQCRQ;CDK3;BCL3;TADA1;PLXNB1;REEP6;NIT1;NIT2;KCNK5;LEAP2;ETFA;FTCD;ALAD;DDI2;LBP;SLC37A4;PGPEP1;GPX1;PLEKHG6;SIGMAR1;APOA2;SORD;APOA1;ARL4D;SLC25A15;PCCA;TST;ESRP2;ASPG;TMBIM6;SLC25A10;ANG;SLC25A13;CRP;CEBPA;ITIH4;CEBPB;ITIH3;LRP1;GLS2;EI24;ZBTB48;CXXC5;LRP6;RAB20;TTR;ABLIM3;LRRC8D;MAL2;PCBD1;BCO2;SLC25A20;SLC25A22;SEC24A;SEMA4G;TTC39C;BAIAP2;ATOX1;ASS1;MYO1B;CTH;APOC1;SLC25A30;NAGS;RAB17;P4HB;PIK3AP1;CDO1;CD244;ERRFI1;TRAF3IP3;PANK3;IFITM2;LPGAT1;PANK1;ACSM1;AQP9;CISD2;CBLC;ACSM5;C4B;FRAT1;BAIAP2L1;NIPAL1;TRIM25;CHAC1;SLC12A7;MFSD2A;CPT1A;KRT4;SLC6A13;ENTPD8;ACSL5;SLC6A12;CMBL;PPP1R3G;CYP27A1;POR;AZGP1;BTD;PPP1R3B;LACTB2;TRIM14;SUCLG2;RIN3;KDELR2;TRIB1;EPHA1;CES3;CES1;SLC45A3;SDC4;SLC35D1;SLC22A1;SLC35D2;MGST1;SEC14L2;APOH;ASL;APOE;DECR2;PCK1;DECR1;CRADD;GADD45B;SIAH2;OSGIN1;IGF1;BRI3BP;HAL;VNN1;SDC1;PEMT;COL18A1;ORM1;N4BP2L1;TRAM2;PCSK4;KHK;PTMS;HINT2;ACADL;HYAL1;TNFAIP8L1;GNPNAT1;ACADM;AASS;VKORC1;SREBF1;CBR1;MST1;GFRA1;AMPD2;AVPR1A;PARP9;MTSS1;ALDH5A1;NR5A2;PITPNM2;VWA1;TLCD2;CD302;ALDOB;FAM20A;SGK2;AHCY;HAAO;HSD17B4;HSD17B6;CYP17A1;TYMP;PBLD;PGRMC1;CXCR1;PERP;ORMDL3;MGAT2;PEX16;NQO2;GCH1;GDF15;FAH;ALDH4A1;NUDT7;NR6A1;KRT18;GPAM;SAA1;SCARB1;STEAP3;RTKN;ACAA2;WWC1;WWC2;CPOX;TMEM140;HADH;PHYH;HGD;ACOT13;TBC1D2B;DEXI;PDIA5;ERN1;ALDH3A2;GLTPD2;SHPK;GPD1;MASP1;NNMT;H6PD;ACACB;ADIPOR2;NLRP6;FDPS;GCKR;ACBD5;ACBD4;EPHX2;IDH2;EPHX1;CHCHD10;INHBA;CRLS1;ESR1;EFNA1;RCL1;SLC2A9;SEPSECS;GRHPR;AMACR;BMP1;CPS1;FES;ALPL;EBPL;FGFR3;ACADVL;ABCD3;B4GALT1;TREH;PZP;PDE3B;SLC40A1;PCTP;DBI;HEBP1;ALDH2;RASGEF1B;NFKBIZ;DACT2;AOX1;FLOT2;HIBCH;FGB;ABCC3;FGA;ABCC2;FGG;LSR;SHROOM1;KLF15;TTC38;ACOX2;DDAH1;ACOX1;CHDH;EHHADH;BLVRB;FBP1;HLF;LCAT;RRBP1;HMGCR;AGPAT2;DDO;ERBB3;CBS;CLMN;FAHD1;LAMB3;BNIP3;CCS;CD4;CD7;SARDH;GALM;THRSP;ATP13A3;LTBR;LPIN2;LNX2</td></tr>\n",
       "\t<tr><th scope=row>2</th><td>PPARA 22158963 ChIP-Seq LIVER Mouse</td><td>460/2000</td><td>1.698801e-78</td><td>5.470140e-76</td><td>0</td><td>0</td><td>3.339068</td><td>597.9327</td><td>CDA;PID1;GLDC;ABAT;TMEM97;F11R;CLDN1;TSKU;LIPC;LIPG;GSTK1;CXADR;STARD5;SERPINF1;SERPINF2;HDHD3;UPB1;CLPX;RBP4;CLDN3;RNF125;ACOT1;HPD;ATF3;CFB;NGEF;GPLD1;ACOT4;CFH;SAR1B;SHMT2;SHMT1;ABCB4;HPN;A1BG;SDSL;IQGAP2;MTMR4;HSD11B1;C3;LDHA;AFMID;RDH16;PNPO;HMOX1;NRBF2;LHPP;GSTM1;PMM1;FZD5;EDEM1;STARD10;FN1;ERLIN1;CP;SLC16A13;GJB2;ADI1;FASN;FXYD1;SFXN1;PLCH2;SFXN5;PIGR;ADK;LRRC3;GPT;PYGL;TMEM53;SHB;CSAD;ASGR2;SERPINA5;TK1;RNF152;CGNL1;DUSP1;SPHK2;ARG1;ELOVL2;ELOVL6;TMEM171;TOMM40L;F5;TMEM37;TUBB2A;BDH1;OAF;MMP15;DPYD;CKS2;CDC42EP1;PLIN2;PLIN1;ANGPTL4;PPARA;GPRC5C;PLIN5;PHLPP1;SERPINC1;NR1I3;PAPSS2;LMAN1;NTF3;GCNT2;SC5D;METTL7B;BID;LDLR;RNF130;BCHE;F12;G0S2;FMO3;FMO4;FMO5;DHRS3;AGT;AGMAT;GNMT;LRG1;ETNK2;SMOC1;CRAT;PECR;ALDH1L1;MTCH2;PUS10;CRCP;RORC;CLU;CDC14B;FAM107B;RAB43;FADS2;GRB14;PHYHD1;SLC25A44;NUDT12;LAG3;PCYT2;MREG;IGFBP4;FST;PIPOX;TPST2;PKP2;SLC27A2;SLC27A5;INSIG2;LIN7A;ABHD6;ACAT1;TMEM25;SLC9A3R1;VTN;AMDHD1;KDSR;AP1M1;MPDU1;FN3K;SEC16B;AMBP;GOT2;DHCR24;CORO2A;ABHD15;MLXIPL;RCAN1;CXCL12;UQCRQ;CDK3;BCL3;ALB;CLPTM1L;REEP6;NIT1;SERINC2;SERINC5;KCNK5;ALAS1;LEAP2;ETFA;ETFB;FTCD;ALAD;HMGCS2;PGPEP1;BOK;GPX1;SIGMAR1;APOA2;SORD;APOA1;NIPSNAP1;PTP4A1;ARL4D;SLC25A15;DUSP23;PCCA;TST;LCK;ESRP2;ASPG;TMBIM6;SLC25A10;ANG;SLC25A13;CRP;CEBPA;ITIH4;ITIH3;ACSS3;SLC47A1;LRP1;EI24;HSD17B13;FURIN;GLRX;HSD17B11;CXXC5;BPHL;LRP6;ABLIM3;POLR2E;DNAJB9;LRRC8D;MAL2;CSK;PCBD1;SLC25A20;DCAF11;SLC25A22;SEC24A;KCNJ8;SEMA4G;TTC39C;BAIAP2;CPPED1;ATOX1;ASS1;CTH;APOC2;APOC1;SLC25A30;OCIAD2;NAGS;P4HB;PIK3AP1;ERRFI1;IL1RN;FAAH;TRAF3IP3;SLC35B4;PANK1;ACSM1;CISD2;UBE2L6;ACSM5;AQP3;TXNDC17;BAIAP2L1;NIPAL1;TRIM25;SEPHS2;SLC12A7;CPT1A;KRT4;ACSL1;OXSM;KRT8;ENTPD8;ACSL5;CMBL;GCAT;PPP1R3G;CYP27A1;AZGP1;BTD;SOAT2;PPP1R3B;LACTB2;TRIM14;SUCLG2;TRIB1;EPHA1;CES1;SDC4;SLC22A1;SLC35D2;MGST1;SEC14L2;APOE;DECR2;PCK1;DECR1;XBP1;TMEM86B;CRADD;ADHFE1;OSGIN1;RASSF7;IGF1;BRI3BP;HAL;VNN1;ID2;SDC1;PEMT;ECHDC3;COL18A1;ORM1;CITED4;N4BP2L1;ORM2;TRAM2;PCSK4;KHK;ACADL;ACADM;SREBF1;MME;BHMT2;ZDHHC12;AMPD2;TFB2M;IL17RC;RHOD;MTSS1;NR5A2;VWA1;FAM20C;RDH5;TLCD2;TLCD1;CD302;FAM20A;UMPS;DNASE1L3;SGK2;HSD17B4;TMPRSS2;AKAP7;VWCE;HSD17B7;CYP17A1;TYMP;PBLD;NFIL3;CXCR1;CAMK2N1;PERP;ORMDL3;NQO2;PLEKHA6;AIG1;FAH;PEX13;NUDT7;KRT18;GPAM;SAA1;TJP3;SCARB1;STEAP3;RTKN;GOLT1A;TMEM140;HADH;PHYH;SLC30A1;SDHD;PDIA5;PDIA4;ALDH3A2;SHPK;GPD1;MASP1;RAI14;NNMT;H6PD;PROZ;DNAJC22;DTX4;DPP4;NLRP6;COBLL1;ACBD5;ACBD4;AUTS2;KLHL25;EPHX1;CHCHD10;CRLS1;EFNA1;RCL1;SLC2A9;SEPSECS;GRHPR;HOOK1;EBPL;FGFR3;RTP4;DOCK4;TREH;PZP;PCTP;DBI;OPLAH;CXCL2;GHR;HEBP1;CASP6;DACT2;AOX1;HIBCH;FGB;ABCC3;FGA;ABCC2;FGG;LSR;SHROOM1;KLF15;TTC38;ACOX2;DDAH1;ACOX1;CHDH;EHHADH;GFOD2;BLVRB;IRF6;FBP1;RBM47;HLF;ETFDH;RRBP1;MOSPD3;AGPAT2;TOB1;HMGCL;ERBB3;CBS;DDT;CLMN;TMEM205;POC1A;STOM;SUOX;HSPE1;SGPP1;SOD1;CCS;TEC;GALM;SCLY;LTBR;SNTB1;LNX2                                                                                                                                          </td></tr>\n",
       "</tbody>\n",
       "</table>\n"
      ],
      "text/latex": [
       "A data.frame: 2 × 9\n",
       "\\begin{tabular}{r|lllllllll}\n",
       "  & Term & Overlap & P.value & Adjusted.P.value & Old.P.value & Old.Adjusted.P.value & Odds.Ratio & Combined.Score & Genes\\\\\n",
       "  & <chr> & <chr> & <dbl> & <dbl> & <int> & <int> & <dbl> & <dbl> & <chr>\\\\\n",
       "\\hline\n",
       "\t1 & RXR 22158963 ChIP-Seq LIVER Mouse   & 483/2000 & 5.760508e-91 & 3.709767e-88 & 0 & 0 & 3.620473 & 752.2772 & PID1;GLDC;SERPINE1;RAPH1;CLDN1;TSKU;AS3MT;SCP2;LIPG;XYLB;GAMT;STARD4;CXADR;STARD5;SERPINF2;HDHD3;UPB1;CLPX;CLDN3;SCO2;ACOT2;ACOT1;CYP2E1;RBCK1;ATF5;HPD;CFB;ACOT4;CFH;PDXDC1;RETSAT;SAR1B;SHMT2;SHMT1;ABCB4;HPN;A1BG;SDSL;IQGAP2;MTMR4;SULT1A1;PRPSAP1;C3;HPX;LDHA;AFMID;RDH16;PNPO;NRBF2;PPARGC1A;LHPP;ABCA1;GSTM1;PMM1;FZD5;GRTP1;ABCA6;EDEM1;STARD10;FN1;ERLIN1;ELL2;NR0B2;CP;NR2F6;ABTB2;GJB2;EIF6;FASN;FXYD1;SFXN1;PLCH2;PIGR;ADK;LRRC3;SNX10;GPT;PYGL;TMEM53;CSAD;ASGR1;ASGR2;SERPINA5;GLT1D1;C1QTNF6;TK1;RNF152;LYPLA1;SPHK2;ELOVL5;ARG1;ELOVL2;RIPK4;TMEM171;SLC39A14;DUSP6;F5;TMEM37;TUBB2A;OAF;DPYD;CDC42EP1;PLIN2;ANGPTL4;PPARA;MOCS1;MGLL;PLIN5;PHLPP1;SERPINC1;NR1I3;SLC7A2;PAPSS2;LMAN1;NTF3;SC5D;METTL7B;LDLR;RNF130;BCHE;F10;SERPIND1;STAT2;F12;G0S2;FMO3;FMO5;DHRS3;AGT;AGMAT;GNMT;LRG1;ETNK2;SMOC1;NOTUM;CRAT;PECR;ALDH1L1;MTCH2;PUS10;PROS1;RORC;HP;DEFB1;AHR;HNMT;CLU;CDC14B;RAB43;FADS2;CDH1;LEPR;SLC25A42;SLC25A44;FADS1;NUDT12;IGFBP4;GPT2;PIPOX;MINPP1;PKP2;IGFALS;TTPAL;SLC27A2;LY6E;INSIG2;INSIG1;ABHD1;UAP1;ACAT1;TMEM25;SLC9A3R1;FGGY;AMDHD1;HACL1;KDSR;NADK;AP1M1;SLC38A4;FN3K;AMBP;GOT1;LRRC61;DHCR24;CORO2A;ABHD15;CXCL10;MLXIPL;RCAN1;CXCL12;GGCX;UQCRQ;CDK3;BCL3;TADA1;PLXNB1;REEP6;NIT1;NIT2;KCNK5;LEAP2;ETFA;FTCD;ALAD;DDI2;LBP;SLC37A4;PGPEP1;GPX1;PLEKHG6;SIGMAR1;APOA2;SORD;APOA1;ARL4D;SLC25A15;PCCA;TST;ESRP2;ASPG;TMBIM6;SLC25A10;ANG;SLC25A13;CRP;CEBPA;ITIH4;CEBPB;ITIH3;LRP1;GLS2;EI24;ZBTB48;CXXC5;LRP6;RAB20;TTR;ABLIM3;LRRC8D;MAL2;PCBD1;BCO2;SLC25A20;SLC25A22;SEC24A;SEMA4G;TTC39C;BAIAP2;ATOX1;ASS1;MYO1B;CTH;APOC1;SLC25A30;NAGS;RAB17;P4HB;PIK3AP1;CDO1;CD244;ERRFI1;TRAF3IP3;PANK3;IFITM2;LPGAT1;PANK1;ACSM1;AQP9;CISD2;CBLC;ACSM5;C4B;FRAT1;BAIAP2L1;NIPAL1;TRIM25;CHAC1;SLC12A7;MFSD2A;CPT1A;KRT4;SLC6A13;ENTPD8;ACSL5;SLC6A12;CMBL;PPP1R3G;CYP27A1;POR;AZGP1;BTD;PPP1R3B;LACTB2;TRIM14;SUCLG2;RIN3;KDELR2;TRIB1;EPHA1;CES3;CES1;SLC45A3;SDC4;SLC35D1;SLC22A1;SLC35D2;MGST1;SEC14L2;APOH;ASL;APOE;DECR2;PCK1;DECR1;CRADD;GADD45B;SIAH2;OSGIN1;IGF1;BRI3BP;HAL;VNN1;SDC1;PEMT;COL18A1;ORM1;N4BP2L1;TRAM2;PCSK4;KHK;PTMS;HINT2;ACADL;HYAL1;TNFAIP8L1;GNPNAT1;ACADM;AASS;VKORC1;SREBF1;CBR1;MST1;GFRA1;AMPD2;AVPR1A;PARP9;MTSS1;ALDH5A1;NR5A2;PITPNM2;VWA1;TLCD2;CD302;ALDOB;FAM20A;SGK2;AHCY;HAAO;HSD17B4;HSD17B6;CYP17A1;TYMP;PBLD;PGRMC1;CXCR1;PERP;ORMDL3;MGAT2;PEX16;NQO2;GCH1;GDF15;FAH;ALDH4A1;NUDT7;NR6A1;KRT18;GPAM;SAA1;SCARB1;STEAP3;RTKN;ACAA2;WWC1;WWC2;CPOX;TMEM140;HADH;PHYH;HGD;ACOT13;TBC1D2B;DEXI;PDIA5;ERN1;ALDH3A2;GLTPD2;SHPK;GPD1;MASP1;NNMT;H6PD;ACACB;ADIPOR2;NLRP6;FDPS;GCKR;ACBD5;ACBD4;EPHX2;IDH2;EPHX1;CHCHD10;INHBA;CRLS1;ESR1;EFNA1;RCL1;SLC2A9;SEPSECS;GRHPR;AMACR;BMP1;CPS1;FES;ALPL;EBPL;FGFR3;ACADVL;ABCD3;B4GALT1;TREH;PZP;PDE3B;SLC40A1;PCTP;DBI;HEBP1;ALDH2;RASGEF1B;NFKBIZ;DACT2;AOX1;FLOT2;HIBCH;FGB;ABCC3;FGA;ABCC2;FGG;LSR;SHROOM1;KLF15;TTC38;ACOX2;DDAH1;ACOX1;CHDH;EHHADH;BLVRB;FBP1;HLF;LCAT;RRBP1;HMGCR;AGPAT2;DDO;ERBB3;CBS;CLMN;FAHD1;LAMB3;BNIP3;CCS;CD4;CD7;SARDH;GALM;THRSP;ATP13A3;LTBR;LPIN2;LNX2\\\\\n",
       "\t2 & PPARA 22158963 ChIP-Seq LIVER Mouse & 460/2000 & 1.698801e-78 & 5.470140e-76 & 0 & 0 & 3.339068 & 597.9327 & CDA;PID1;GLDC;ABAT;TMEM97;F11R;CLDN1;TSKU;LIPC;LIPG;GSTK1;CXADR;STARD5;SERPINF1;SERPINF2;HDHD3;UPB1;CLPX;RBP4;CLDN3;RNF125;ACOT1;HPD;ATF3;CFB;NGEF;GPLD1;ACOT4;CFH;SAR1B;SHMT2;SHMT1;ABCB4;HPN;A1BG;SDSL;IQGAP2;MTMR4;HSD11B1;C3;LDHA;AFMID;RDH16;PNPO;HMOX1;NRBF2;LHPP;GSTM1;PMM1;FZD5;EDEM1;STARD10;FN1;ERLIN1;CP;SLC16A13;GJB2;ADI1;FASN;FXYD1;SFXN1;PLCH2;SFXN5;PIGR;ADK;LRRC3;GPT;PYGL;TMEM53;SHB;CSAD;ASGR2;SERPINA5;TK1;RNF152;CGNL1;DUSP1;SPHK2;ARG1;ELOVL2;ELOVL6;TMEM171;TOMM40L;F5;TMEM37;TUBB2A;BDH1;OAF;MMP15;DPYD;CKS2;CDC42EP1;PLIN2;PLIN1;ANGPTL4;PPARA;GPRC5C;PLIN5;PHLPP1;SERPINC1;NR1I3;PAPSS2;LMAN1;NTF3;GCNT2;SC5D;METTL7B;BID;LDLR;RNF130;BCHE;F12;G0S2;FMO3;FMO4;FMO5;DHRS3;AGT;AGMAT;GNMT;LRG1;ETNK2;SMOC1;CRAT;PECR;ALDH1L1;MTCH2;PUS10;CRCP;RORC;CLU;CDC14B;FAM107B;RAB43;FADS2;GRB14;PHYHD1;SLC25A44;NUDT12;LAG3;PCYT2;MREG;IGFBP4;FST;PIPOX;TPST2;PKP2;SLC27A2;SLC27A5;INSIG2;LIN7A;ABHD6;ACAT1;TMEM25;SLC9A3R1;VTN;AMDHD1;KDSR;AP1M1;MPDU1;FN3K;SEC16B;AMBP;GOT2;DHCR24;CORO2A;ABHD15;MLXIPL;RCAN1;CXCL12;UQCRQ;CDK3;BCL3;ALB;CLPTM1L;REEP6;NIT1;SERINC2;SERINC5;KCNK5;ALAS1;LEAP2;ETFA;ETFB;FTCD;ALAD;HMGCS2;PGPEP1;BOK;GPX1;SIGMAR1;APOA2;SORD;APOA1;NIPSNAP1;PTP4A1;ARL4D;SLC25A15;DUSP23;PCCA;TST;LCK;ESRP2;ASPG;TMBIM6;SLC25A10;ANG;SLC25A13;CRP;CEBPA;ITIH4;ITIH3;ACSS3;SLC47A1;LRP1;EI24;HSD17B13;FURIN;GLRX;HSD17B11;CXXC5;BPHL;LRP6;ABLIM3;POLR2E;DNAJB9;LRRC8D;MAL2;CSK;PCBD1;SLC25A20;DCAF11;SLC25A22;SEC24A;KCNJ8;SEMA4G;TTC39C;BAIAP2;CPPED1;ATOX1;ASS1;CTH;APOC2;APOC1;SLC25A30;OCIAD2;NAGS;P4HB;PIK3AP1;ERRFI1;IL1RN;FAAH;TRAF3IP3;SLC35B4;PANK1;ACSM1;CISD2;UBE2L6;ACSM5;AQP3;TXNDC17;BAIAP2L1;NIPAL1;TRIM25;SEPHS2;SLC12A7;CPT1A;KRT4;ACSL1;OXSM;KRT8;ENTPD8;ACSL5;CMBL;GCAT;PPP1R3G;CYP27A1;AZGP1;BTD;SOAT2;PPP1R3B;LACTB2;TRIM14;SUCLG2;TRIB1;EPHA1;CES1;SDC4;SLC22A1;SLC35D2;MGST1;SEC14L2;APOE;DECR2;PCK1;DECR1;XBP1;TMEM86B;CRADD;ADHFE1;OSGIN1;RASSF7;IGF1;BRI3BP;HAL;VNN1;ID2;SDC1;PEMT;ECHDC3;COL18A1;ORM1;CITED4;N4BP2L1;ORM2;TRAM2;PCSK4;KHK;ACADL;ACADM;SREBF1;MME;BHMT2;ZDHHC12;AMPD2;TFB2M;IL17RC;RHOD;MTSS1;NR5A2;VWA1;FAM20C;RDH5;TLCD2;TLCD1;CD302;FAM20A;UMPS;DNASE1L3;SGK2;HSD17B4;TMPRSS2;AKAP7;VWCE;HSD17B7;CYP17A1;TYMP;PBLD;NFIL3;CXCR1;CAMK2N1;PERP;ORMDL3;NQO2;PLEKHA6;AIG1;FAH;PEX13;NUDT7;KRT18;GPAM;SAA1;TJP3;SCARB1;STEAP3;RTKN;GOLT1A;TMEM140;HADH;PHYH;SLC30A1;SDHD;PDIA5;PDIA4;ALDH3A2;SHPK;GPD1;MASP1;RAI14;NNMT;H6PD;PROZ;DNAJC22;DTX4;DPP4;NLRP6;COBLL1;ACBD5;ACBD4;AUTS2;KLHL25;EPHX1;CHCHD10;CRLS1;EFNA1;RCL1;SLC2A9;SEPSECS;GRHPR;HOOK1;EBPL;FGFR3;RTP4;DOCK4;TREH;PZP;PCTP;DBI;OPLAH;CXCL2;GHR;HEBP1;CASP6;DACT2;AOX1;HIBCH;FGB;ABCC3;FGA;ABCC2;FGG;LSR;SHROOM1;KLF15;TTC38;ACOX2;DDAH1;ACOX1;CHDH;EHHADH;GFOD2;BLVRB;IRF6;FBP1;RBM47;HLF;ETFDH;RRBP1;MOSPD3;AGPAT2;TOB1;HMGCL;ERBB3;CBS;DDT;CLMN;TMEM205;POC1A;STOM;SUOX;HSPE1;SGPP1;SOD1;CCS;TEC;GALM;SCLY;LTBR;SNTB1;LNX2                                                                                                                                          \\\\\n",
       "\\end{tabular}\n"
      ],
      "text/markdown": [
       "\n",
       "A data.frame: 2 × 9\n",
       "\n",
       "| <!--/--> | Term &lt;chr&gt; | Overlap &lt;chr&gt; | P.value &lt;dbl&gt; | Adjusted.P.value &lt;dbl&gt; | Old.P.value &lt;int&gt; | Old.Adjusted.P.value &lt;int&gt; | Odds.Ratio &lt;dbl&gt; | Combined.Score &lt;dbl&gt; | Genes &lt;chr&gt; |\n",
       "|---|---|---|---|---|---|---|---|---|---|\n",
       "| 1 | RXR 22158963 ChIP-Seq LIVER Mouse   | 483/2000 | 5.760508e-91 | 3.709767e-88 | 0 | 0 | 3.620473 | 752.2772 | PID1;GLDC;SERPINE1;RAPH1;CLDN1;TSKU;AS3MT;SCP2;LIPG;XYLB;GAMT;STARD4;CXADR;STARD5;SERPINF2;HDHD3;UPB1;CLPX;CLDN3;SCO2;ACOT2;ACOT1;CYP2E1;RBCK1;ATF5;HPD;CFB;ACOT4;CFH;PDXDC1;RETSAT;SAR1B;SHMT2;SHMT1;ABCB4;HPN;A1BG;SDSL;IQGAP2;MTMR4;SULT1A1;PRPSAP1;C3;HPX;LDHA;AFMID;RDH16;PNPO;NRBF2;PPARGC1A;LHPP;ABCA1;GSTM1;PMM1;FZD5;GRTP1;ABCA6;EDEM1;STARD10;FN1;ERLIN1;ELL2;NR0B2;CP;NR2F6;ABTB2;GJB2;EIF6;FASN;FXYD1;SFXN1;PLCH2;PIGR;ADK;LRRC3;SNX10;GPT;PYGL;TMEM53;CSAD;ASGR1;ASGR2;SERPINA5;GLT1D1;C1QTNF6;TK1;RNF152;LYPLA1;SPHK2;ELOVL5;ARG1;ELOVL2;RIPK4;TMEM171;SLC39A14;DUSP6;F5;TMEM37;TUBB2A;OAF;DPYD;CDC42EP1;PLIN2;ANGPTL4;PPARA;MOCS1;MGLL;PLIN5;PHLPP1;SERPINC1;NR1I3;SLC7A2;PAPSS2;LMAN1;NTF3;SC5D;METTL7B;LDLR;RNF130;BCHE;F10;SERPIND1;STAT2;F12;G0S2;FMO3;FMO5;DHRS3;AGT;AGMAT;GNMT;LRG1;ETNK2;SMOC1;NOTUM;CRAT;PECR;ALDH1L1;MTCH2;PUS10;PROS1;RORC;HP;DEFB1;AHR;HNMT;CLU;CDC14B;RAB43;FADS2;CDH1;LEPR;SLC25A42;SLC25A44;FADS1;NUDT12;IGFBP4;GPT2;PIPOX;MINPP1;PKP2;IGFALS;TTPAL;SLC27A2;LY6E;INSIG2;INSIG1;ABHD1;UAP1;ACAT1;TMEM25;SLC9A3R1;FGGY;AMDHD1;HACL1;KDSR;NADK;AP1M1;SLC38A4;FN3K;AMBP;GOT1;LRRC61;DHCR24;CORO2A;ABHD15;CXCL10;MLXIPL;RCAN1;CXCL12;GGCX;UQCRQ;CDK3;BCL3;TADA1;PLXNB1;REEP6;NIT1;NIT2;KCNK5;LEAP2;ETFA;FTCD;ALAD;DDI2;LBP;SLC37A4;PGPEP1;GPX1;PLEKHG6;SIGMAR1;APOA2;SORD;APOA1;ARL4D;SLC25A15;PCCA;TST;ESRP2;ASPG;TMBIM6;SLC25A10;ANG;SLC25A13;CRP;CEBPA;ITIH4;CEBPB;ITIH3;LRP1;GLS2;EI24;ZBTB48;CXXC5;LRP6;RAB20;TTR;ABLIM3;LRRC8D;MAL2;PCBD1;BCO2;SLC25A20;SLC25A22;SEC24A;SEMA4G;TTC39C;BAIAP2;ATOX1;ASS1;MYO1B;CTH;APOC1;SLC25A30;NAGS;RAB17;P4HB;PIK3AP1;CDO1;CD244;ERRFI1;TRAF3IP3;PANK3;IFITM2;LPGAT1;PANK1;ACSM1;AQP9;CISD2;CBLC;ACSM5;C4B;FRAT1;BAIAP2L1;NIPAL1;TRIM25;CHAC1;SLC12A7;MFSD2A;CPT1A;KRT4;SLC6A13;ENTPD8;ACSL5;SLC6A12;CMBL;PPP1R3G;CYP27A1;POR;AZGP1;BTD;PPP1R3B;LACTB2;TRIM14;SUCLG2;RIN3;KDELR2;TRIB1;EPHA1;CES3;CES1;SLC45A3;SDC4;SLC35D1;SLC22A1;SLC35D2;MGST1;SEC14L2;APOH;ASL;APOE;DECR2;PCK1;DECR1;CRADD;GADD45B;SIAH2;OSGIN1;IGF1;BRI3BP;HAL;VNN1;SDC1;PEMT;COL18A1;ORM1;N4BP2L1;TRAM2;PCSK4;KHK;PTMS;HINT2;ACADL;HYAL1;TNFAIP8L1;GNPNAT1;ACADM;AASS;VKORC1;SREBF1;CBR1;MST1;GFRA1;AMPD2;AVPR1A;PARP9;MTSS1;ALDH5A1;NR5A2;PITPNM2;VWA1;TLCD2;CD302;ALDOB;FAM20A;SGK2;AHCY;HAAO;HSD17B4;HSD17B6;CYP17A1;TYMP;PBLD;PGRMC1;CXCR1;PERP;ORMDL3;MGAT2;PEX16;NQO2;GCH1;GDF15;FAH;ALDH4A1;NUDT7;NR6A1;KRT18;GPAM;SAA1;SCARB1;STEAP3;RTKN;ACAA2;WWC1;WWC2;CPOX;TMEM140;HADH;PHYH;HGD;ACOT13;TBC1D2B;DEXI;PDIA5;ERN1;ALDH3A2;GLTPD2;SHPK;GPD1;MASP1;NNMT;H6PD;ACACB;ADIPOR2;NLRP6;FDPS;GCKR;ACBD5;ACBD4;EPHX2;IDH2;EPHX1;CHCHD10;INHBA;CRLS1;ESR1;EFNA1;RCL1;SLC2A9;SEPSECS;GRHPR;AMACR;BMP1;CPS1;FES;ALPL;EBPL;FGFR3;ACADVL;ABCD3;B4GALT1;TREH;PZP;PDE3B;SLC40A1;PCTP;DBI;HEBP1;ALDH2;RASGEF1B;NFKBIZ;DACT2;AOX1;FLOT2;HIBCH;FGB;ABCC3;FGA;ABCC2;FGG;LSR;SHROOM1;KLF15;TTC38;ACOX2;DDAH1;ACOX1;CHDH;EHHADH;BLVRB;FBP1;HLF;LCAT;RRBP1;HMGCR;AGPAT2;DDO;ERBB3;CBS;CLMN;FAHD1;LAMB3;BNIP3;CCS;CD4;CD7;SARDH;GALM;THRSP;ATP13A3;LTBR;LPIN2;LNX2 |\n",
       "| 2 | PPARA 22158963 ChIP-Seq LIVER Mouse | 460/2000 | 1.698801e-78 | 5.470140e-76 | 0 | 0 | 3.339068 | 597.9327 | CDA;PID1;GLDC;ABAT;TMEM97;F11R;CLDN1;TSKU;LIPC;LIPG;GSTK1;CXADR;STARD5;SERPINF1;SERPINF2;HDHD3;UPB1;CLPX;RBP4;CLDN3;RNF125;ACOT1;HPD;ATF3;CFB;NGEF;GPLD1;ACOT4;CFH;SAR1B;SHMT2;SHMT1;ABCB4;HPN;A1BG;SDSL;IQGAP2;MTMR4;HSD11B1;C3;LDHA;AFMID;RDH16;PNPO;HMOX1;NRBF2;LHPP;GSTM1;PMM1;FZD5;EDEM1;STARD10;FN1;ERLIN1;CP;SLC16A13;GJB2;ADI1;FASN;FXYD1;SFXN1;PLCH2;SFXN5;PIGR;ADK;LRRC3;GPT;PYGL;TMEM53;SHB;CSAD;ASGR2;SERPINA5;TK1;RNF152;CGNL1;DUSP1;SPHK2;ARG1;ELOVL2;ELOVL6;TMEM171;TOMM40L;F5;TMEM37;TUBB2A;BDH1;OAF;MMP15;DPYD;CKS2;CDC42EP1;PLIN2;PLIN1;ANGPTL4;PPARA;GPRC5C;PLIN5;PHLPP1;SERPINC1;NR1I3;PAPSS2;LMAN1;NTF3;GCNT2;SC5D;METTL7B;BID;LDLR;RNF130;BCHE;F12;G0S2;FMO3;FMO4;FMO5;DHRS3;AGT;AGMAT;GNMT;LRG1;ETNK2;SMOC1;CRAT;PECR;ALDH1L1;MTCH2;PUS10;CRCP;RORC;CLU;CDC14B;FAM107B;RAB43;FADS2;GRB14;PHYHD1;SLC25A44;NUDT12;LAG3;PCYT2;MREG;IGFBP4;FST;PIPOX;TPST2;PKP2;SLC27A2;SLC27A5;INSIG2;LIN7A;ABHD6;ACAT1;TMEM25;SLC9A3R1;VTN;AMDHD1;KDSR;AP1M1;MPDU1;FN3K;SEC16B;AMBP;GOT2;DHCR24;CORO2A;ABHD15;MLXIPL;RCAN1;CXCL12;UQCRQ;CDK3;BCL3;ALB;CLPTM1L;REEP6;NIT1;SERINC2;SERINC5;KCNK5;ALAS1;LEAP2;ETFA;ETFB;FTCD;ALAD;HMGCS2;PGPEP1;BOK;GPX1;SIGMAR1;APOA2;SORD;APOA1;NIPSNAP1;PTP4A1;ARL4D;SLC25A15;DUSP23;PCCA;TST;LCK;ESRP2;ASPG;TMBIM6;SLC25A10;ANG;SLC25A13;CRP;CEBPA;ITIH4;ITIH3;ACSS3;SLC47A1;LRP1;EI24;HSD17B13;FURIN;GLRX;HSD17B11;CXXC5;BPHL;LRP6;ABLIM3;POLR2E;DNAJB9;LRRC8D;MAL2;CSK;PCBD1;SLC25A20;DCAF11;SLC25A22;SEC24A;KCNJ8;SEMA4G;TTC39C;BAIAP2;CPPED1;ATOX1;ASS1;CTH;APOC2;APOC1;SLC25A30;OCIAD2;NAGS;P4HB;PIK3AP1;ERRFI1;IL1RN;FAAH;TRAF3IP3;SLC35B4;PANK1;ACSM1;CISD2;UBE2L6;ACSM5;AQP3;TXNDC17;BAIAP2L1;NIPAL1;TRIM25;SEPHS2;SLC12A7;CPT1A;KRT4;ACSL1;OXSM;KRT8;ENTPD8;ACSL5;CMBL;GCAT;PPP1R3G;CYP27A1;AZGP1;BTD;SOAT2;PPP1R3B;LACTB2;TRIM14;SUCLG2;TRIB1;EPHA1;CES1;SDC4;SLC22A1;SLC35D2;MGST1;SEC14L2;APOE;DECR2;PCK1;DECR1;XBP1;TMEM86B;CRADD;ADHFE1;OSGIN1;RASSF7;IGF1;BRI3BP;HAL;VNN1;ID2;SDC1;PEMT;ECHDC3;COL18A1;ORM1;CITED4;N4BP2L1;ORM2;TRAM2;PCSK4;KHK;ACADL;ACADM;SREBF1;MME;BHMT2;ZDHHC12;AMPD2;TFB2M;IL17RC;RHOD;MTSS1;NR5A2;VWA1;FAM20C;RDH5;TLCD2;TLCD1;CD302;FAM20A;UMPS;DNASE1L3;SGK2;HSD17B4;TMPRSS2;AKAP7;VWCE;HSD17B7;CYP17A1;TYMP;PBLD;NFIL3;CXCR1;CAMK2N1;PERP;ORMDL3;NQO2;PLEKHA6;AIG1;FAH;PEX13;NUDT7;KRT18;GPAM;SAA1;TJP3;SCARB1;STEAP3;RTKN;GOLT1A;TMEM140;HADH;PHYH;SLC30A1;SDHD;PDIA5;PDIA4;ALDH3A2;SHPK;GPD1;MASP1;RAI14;NNMT;H6PD;PROZ;DNAJC22;DTX4;DPP4;NLRP6;COBLL1;ACBD5;ACBD4;AUTS2;KLHL25;EPHX1;CHCHD10;CRLS1;EFNA1;RCL1;SLC2A9;SEPSECS;GRHPR;HOOK1;EBPL;FGFR3;RTP4;DOCK4;TREH;PZP;PCTP;DBI;OPLAH;CXCL2;GHR;HEBP1;CASP6;DACT2;AOX1;HIBCH;FGB;ABCC3;FGA;ABCC2;FGG;LSR;SHROOM1;KLF15;TTC38;ACOX2;DDAH1;ACOX1;CHDH;EHHADH;GFOD2;BLVRB;IRF6;FBP1;RBM47;HLF;ETFDH;RRBP1;MOSPD3;AGPAT2;TOB1;HMGCL;ERBB3;CBS;DDT;CLMN;TMEM205;POC1A;STOM;SUOX;HSPE1;SGPP1;SOD1;CCS;TEC;GALM;SCLY;LTBR;SNTB1;LNX2                                                                                                                                           |\n",
       "\n"
      ],
      "text/plain": [
       "  Term                                Overlap  P.value      Adjusted.P.value\n",
       "1 RXR 22158963 ChIP-Seq LIVER Mouse   483/2000 5.760508e-91 3.709767e-88    \n",
       "2 PPARA 22158963 ChIP-Seq LIVER Mouse 460/2000 1.698801e-78 5.470140e-76    \n",
       "  Old.P.value Old.Adjusted.P.value Odds.Ratio Combined.Score\n",
       "1 0           0                    3.620473   752.2772      \n",
       "2 0           0                    3.339068   597.9327      \n",
       "  Genes                                                                                                                                                                                                                                                                                                                                                                                                                                                                                                                                                                                                                                                                                                                                                                                                                                                                                                                                                                                                                                                                                                                                                                                                                                                                                                                                                                                                                                                                                                                                                                                                                                                                                                                                                                                                                                                                                                                                                                                                                                                                                                                                                                                                                                                                                                                                                                                                                                                                                                                                                                                                                                                                                                                                                                                                                                                                                                                                                                                                     \n",
       "1 PID1;GLDC;SERPINE1;RAPH1;CLDN1;TSKU;AS3MT;SCP2;LIPG;XYLB;GAMT;STARD4;CXADR;STARD5;SERPINF2;HDHD3;UPB1;CLPX;CLDN3;SCO2;ACOT2;ACOT1;CYP2E1;RBCK1;ATF5;HPD;CFB;ACOT4;CFH;PDXDC1;RETSAT;SAR1B;SHMT2;SHMT1;ABCB4;HPN;A1BG;SDSL;IQGAP2;MTMR4;SULT1A1;PRPSAP1;C3;HPX;LDHA;AFMID;RDH16;PNPO;NRBF2;PPARGC1A;LHPP;ABCA1;GSTM1;PMM1;FZD5;GRTP1;ABCA6;EDEM1;STARD10;FN1;ERLIN1;ELL2;NR0B2;CP;NR2F6;ABTB2;GJB2;EIF6;FASN;FXYD1;SFXN1;PLCH2;PIGR;ADK;LRRC3;SNX10;GPT;PYGL;TMEM53;CSAD;ASGR1;ASGR2;SERPINA5;GLT1D1;C1QTNF6;TK1;RNF152;LYPLA1;SPHK2;ELOVL5;ARG1;ELOVL2;RIPK4;TMEM171;SLC39A14;DUSP6;F5;TMEM37;TUBB2A;OAF;DPYD;CDC42EP1;PLIN2;ANGPTL4;PPARA;MOCS1;MGLL;PLIN5;PHLPP1;SERPINC1;NR1I3;SLC7A2;PAPSS2;LMAN1;NTF3;SC5D;METTL7B;LDLR;RNF130;BCHE;F10;SERPIND1;STAT2;F12;G0S2;FMO3;FMO5;DHRS3;AGT;AGMAT;GNMT;LRG1;ETNK2;SMOC1;NOTUM;CRAT;PECR;ALDH1L1;MTCH2;PUS10;PROS1;RORC;HP;DEFB1;AHR;HNMT;CLU;CDC14B;RAB43;FADS2;CDH1;LEPR;SLC25A42;SLC25A44;FADS1;NUDT12;IGFBP4;GPT2;PIPOX;MINPP1;PKP2;IGFALS;TTPAL;SLC27A2;LY6E;INSIG2;INSIG1;ABHD1;UAP1;ACAT1;TMEM25;SLC9A3R1;FGGY;AMDHD1;HACL1;KDSR;NADK;AP1M1;SLC38A4;FN3K;AMBP;GOT1;LRRC61;DHCR24;CORO2A;ABHD15;CXCL10;MLXIPL;RCAN1;CXCL12;GGCX;UQCRQ;CDK3;BCL3;TADA1;PLXNB1;REEP6;NIT1;NIT2;KCNK5;LEAP2;ETFA;FTCD;ALAD;DDI2;LBP;SLC37A4;PGPEP1;GPX1;PLEKHG6;SIGMAR1;APOA2;SORD;APOA1;ARL4D;SLC25A15;PCCA;TST;ESRP2;ASPG;TMBIM6;SLC25A10;ANG;SLC25A13;CRP;CEBPA;ITIH4;CEBPB;ITIH3;LRP1;GLS2;EI24;ZBTB48;CXXC5;LRP6;RAB20;TTR;ABLIM3;LRRC8D;MAL2;PCBD1;BCO2;SLC25A20;SLC25A22;SEC24A;SEMA4G;TTC39C;BAIAP2;ATOX1;ASS1;MYO1B;CTH;APOC1;SLC25A30;NAGS;RAB17;P4HB;PIK3AP1;CDO1;CD244;ERRFI1;TRAF3IP3;PANK3;IFITM2;LPGAT1;PANK1;ACSM1;AQP9;CISD2;CBLC;ACSM5;C4B;FRAT1;BAIAP2L1;NIPAL1;TRIM25;CHAC1;SLC12A7;MFSD2A;CPT1A;KRT4;SLC6A13;ENTPD8;ACSL5;SLC6A12;CMBL;PPP1R3G;CYP27A1;POR;AZGP1;BTD;PPP1R3B;LACTB2;TRIM14;SUCLG2;RIN3;KDELR2;TRIB1;EPHA1;CES3;CES1;SLC45A3;SDC4;SLC35D1;SLC22A1;SLC35D2;MGST1;SEC14L2;APOH;ASL;APOE;DECR2;PCK1;DECR1;CRADD;GADD45B;SIAH2;OSGIN1;IGF1;BRI3BP;HAL;VNN1;SDC1;PEMT;COL18A1;ORM1;N4BP2L1;TRAM2;PCSK4;KHK;PTMS;HINT2;ACADL;HYAL1;TNFAIP8L1;GNPNAT1;ACADM;AASS;VKORC1;SREBF1;CBR1;MST1;GFRA1;AMPD2;AVPR1A;PARP9;MTSS1;ALDH5A1;NR5A2;PITPNM2;VWA1;TLCD2;CD302;ALDOB;FAM20A;SGK2;AHCY;HAAO;HSD17B4;HSD17B6;CYP17A1;TYMP;PBLD;PGRMC1;CXCR1;PERP;ORMDL3;MGAT2;PEX16;NQO2;GCH1;GDF15;FAH;ALDH4A1;NUDT7;NR6A1;KRT18;GPAM;SAA1;SCARB1;STEAP3;RTKN;ACAA2;WWC1;WWC2;CPOX;TMEM140;HADH;PHYH;HGD;ACOT13;TBC1D2B;DEXI;PDIA5;ERN1;ALDH3A2;GLTPD2;SHPK;GPD1;MASP1;NNMT;H6PD;ACACB;ADIPOR2;NLRP6;FDPS;GCKR;ACBD5;ACBD4;EPHX2;IDH2;EPHX1;CHCHD10;INHBA;CRLS1;ESR1;EFNA1;RCL1;SLC2A9;SEPSECS;GRHPR;AMACR;BMP1;CPS1;FES;ALPL;EBPL;FGFR3;ACADVL;ABCD3;B4GALT1;TREH;PZP;PDE3B;SLC40A1;PCTP;DBI;HEBP1;ALDH2;RASGEF1B;NFKBIZ;DACT2;AOX1;FLOT2;HIBCH;FGB;ABCC3;FGA;ABCC2;FGG;LSR;SHROOM1;KLF15;TTC38;ACOX2;DDAH1;ACOX1;CHDH;EHHADH;BLVRB;FBP1;HLF;LCAT;RRBP1;HMGCR;AGPAT2;DDO;ERBB3;CBS;CLMN;FAHD1;LAMB3;BNIP3;CCS;CD4;CD7;SARDH;GALM;THRSP;ATP13A3;LTBR;LPIN2;LNX2\n",
       "2 CDA;PID1;GLDC;ABAT;TMEM97;F11R;CLDN1;TSKU;LIPC;LIPG;GSTK1;CXADR;STARD5;SERPINF1;SERPINF2;HDHD3;UPB1;CLPX;RBP4;CLDN3;RNF125;ACOT1;HPD;ATF3;CFB;NGEF;GPLD1;ACOT4;CFH;SAR1B;SHMT2;SHMT1;ABCB4;HPN;A1BG;SDSL;IQGAP2;MTMR4;HSD11B1;C3;LDHA;AFMID;RDH16;PNPO;HMOX1;NRBF2;LHPP;GSTM1;PMM1;FZD5;EDEM1;STARD10;FN1;ERLIN1;CP;SLC16A13;GJB2;ADI1;FASN;FXYD1;SFXN1;PLCH2;SFXN5;PIGR;ADK;LRRC3;GPT;PYGL;TMEM53;SHB;CSAD;ASGR2;SERPINA5;TK1;RNF152;CGNL1;DUSP1;SPHK2;ARG1;ELOVL2;ELOVL6;TMEM171;TOMM40L;F5;TMEM37;TUBB2A;BDH1;OAF;MMP15;DPYD;CKS2;CDC42EP1;PLIN2;PLIN1;ANGPTL4;PPARA;GPRC5C;PLIN5;PHLPP1;SERPINC1;NR1I3;PAPSS2;LMAN1;NTF3;GCNT2;SC5D;METTL7B;BID;LDLR;RNF130;BCHE;F12;G0S2;FMO3;FMO4;FMO5;DHRS3;AGT;AGMAT;GNMT;LRG1;ETNK2;SMOC1;CRAT;PECR;ALDH1L1;MTCH2;PUS10;CRCP;RORC;CLU;CDC14B;FAM107B;RAB43;FADS2;GRB14;PHYHD1;SLC25A44;NUDT12;LAG3;PCYT2;MREG;IGFBP4;FST;PIPOX;TPST2;PKP2;SLC27A2;SLC27A5;INSIG2;LIN7A;ABHD6;ACAT1;TMEM25;SLC9A3R1;VTN;AMDHD1;KDSR;AP1M1;MPDU1;FN3K;SEC16B;AMBP;GOT2;DHCR24;CORO2A;ABHD15;MLXIPL;RCAN1;CXCL12;UQCRQ;CDK3;BCL3;ALB;CLPTM1L;REEP6;NIT1;SERINC2;SERINC5;KCNK5;ALAS1;LEAP2;ETFA;ETFB;FTCD;ALAD;HMGCS2;PGPEP1;BOK;GPX1;SIGMAR1;APOA2;SORD;APOA1;NIPSNAP1;PTP4A1;ARL4D;SLC25A15;DUSP23;PCCA;TST;LCK;ESRP2;ASPG;TMBIM6;SLC25A10;ANG;SLC25A13;CRP;CEBPA;ITIH4;ITIH3;ACSS3;SLC47A1;LRP1;EI24;HSD17B13;FURIN;GLRX;HSD17B11;CXXC5;BPHL;LRP6;ABLIM3;POLR2E;DNAJB9;LRRC8D;MAL2;CSK;PCBD1;SLC25A20;DCAF11;SLC25A22;SEC24A;KCNJ8;SEMA4G;TTC39C;BAIAP2;CPPED1;ATOX1;ASS1;CTH;APOC2;APOC1;SLC25A30;OCIAD2;NAGS;P4HB;PIK3AP1;ERRFI1;IL1RN;FAAH;TRAF3IP3;SLC35B4;PANK1;ACSM1;CISD2;UBE2L6;ACSM5;AQP3;TXNDC17;BAIAP2L1;NIPAL1;TRIM25;SEPHS2;SLC12A7;CPT1A;KRT4;ACSL1;OXSM;KRT8;ENTPD8;ACSL5;CMBL;GCAT;PPP1R3G;CYP27A1;AZGP1;BTD;SOAT2;PPP1R3B;LACTB2;TRIM14;SUCLG2;TRIB1;EPHA1;CES1;SDC4;SLC22A1;SLC35D2;MGST1;SEC14L2;APOE;DECR2;PCK1;DECR1;XBP1;TMEM86B;CRADD;ADHFE1;OSGIN1;RASSF7;IGF1;BRI3BP;HAL;VNN1;ID2;SDC1;PEMT;ECHDC3;COL18A1;ORM1;CITED4;N4BP2L1;ORM2;TRAM2;PCSK4;KHK;ACADL;ACADM;SREBF1;MME;BHMT2;ZDHHC12;AMPD2;TFB2M;IL17RC;RHOD;MTSS1;NR5A2;VWA1;FAM20C;RDH5;TLCD2;TLCD1;CD302;FAM20A;UMPS;DNASE1L3;SGK2;HSD17B4;TMPRSS2;AKAP7;VWCE;HSD17B7;CYP17A1;TYMP;PBLD;NFIL3;CXCR1;CAMK2N1;PERP;ORMDL3;NQO2;PLEKHA6;AIG1;FAH;PEX13;NUDT7;KRT18;GPAM;SAA1;TJP3;SCARB1;STEAP3;RTKN;GOLT1A;TMEM140;HADH;PHYH;SLC30A1;SDHD;PDIA5;PDIA4;ALDH3A2;SHPK;GPD1;MASP1;RAI14;NNMT;H6PD;PROZ;DNAJC22;DTX4;DPP4;NLRP6;COBLL1;ACBD5;ACBD4;AUTS2;KLHL25;EPHX1;CHCHD10;CRLS1;EFNA1;RCL1;SLC2A9;SEPSECS;GRHPR;HOOK1;EBPL;FGFR3;RTP4;DOCK4;TREH;PZP;PCTP;DBI;OPLAH;CXCL2;GHR;HEBP1;CASP6;DACT2;AOX1;HIBCH;FGB;ABCC3;FGA;ABCC2;FGG;LSR;SHROOM1;KLF15;TTC38;ACOX2;DDAH1;ACOX1;CHDH;EHHADH;GFOD2;BLVRB;IRF6;FBP1;RBM47;HLF;ETFDH;RRBP1;MOSPD3;AGPAT2;TOB1;HMGCL;ERBB3;CBS;DDT;CLMN;TMEM205;POC1A;STOM;SUOX;HSPE1;SGPP1;SOD1;CCS;TEC;GALM;SCLY;LTBR;SNTB1;LNX2                                                                                                                                          "
      ]
     },
     "metadata": {},
     "output_type": "display_data"
    }
   ],
   "source": [
    "CATEGORY <- \"ChEA_2016\"\n",
    "\n",
    "results.db <- enriched[[CATEGORY]]\n",
    "results.db.fdr <- subset(results.db, Adjusted.P.value < 0.05)\n",
    "head(results.db.fdr,2)"
   ]
  },
  {
   "cell_type": "code",
   "execution_count": 39,
   "id": "47c0bd71",
   "metadata": {},
   "outputs": [
    {
     "data": {
      "text/html": [
       "<table class=\"dataframe\">\n",
       "<caption>A data.frame: 2 × 9</caption>\n",
       "<thead>\n",
       "\t<tr><th></th><th scope=col>Term</th><th scope=col>Overlap</th><th scope=col>P.value</th><th scope=col>Adjusted.P.value</th><th scope=col>Old.P.value</th><th scope=col>Old.Adjusted.P.value</th><th scope=col>Odds.Ratio</th><th scope=col>Combined.Score</th><th scope=col>Genes</th></tr>\n",
       "\t<tr><th></th><th scope=col>&lt;chr&gt;</th><th scope=col>&lt;chr&gt;</th><th scope=col>&lt;dbl&gt;</th><th scope=col>&lt;dbl&gt;</th><th scope=col>&lt;int&gt;</th><th scope=col>&lt;int&gt;</th><th scope=col>&lt;dbl&gt;</th><th scope=col>&lt;dbl&gt;</th><th scope=col>&lt;chr&gt;</th></tr>\n",
       "</thead>\n",
       "<tbody>\n",
       "\t<tr><th scope=row>1</th><td>HNF4A ENCODE</td><td>327/1276</td><td>6.427686e-66</td><td>6.684794e-64</td><td>0</td><td>0</td><td>3.660262</td><td>549.44191</td><td>SLC46A1;PANK1;SERPINE1;ABAT;LURAP1L;ANPEP;XYLB;GAMT;GSTK1;NUP210;SERPINF1;ENTPD8;ACSL5;SLC6A12;PDZK1;SLC51A;CYP27A1;RBP4;SLC5A9;RBP5;FNDC4;ARMC5;TFR2;SOAT2;ZNF837;CLDN7;FDX1;ACOT2;PSME2;TRIM14;ACOT1;RIN3;TRIB1;NGEF;CES2;CES1;FTCDNL1;SLC22A3;SLC35D1;MAOB;HPN;SLC35D2;IL20RB;MGST2;MTMR4;IQGAP2;C3;NEU4;AFMID;PNPO;ST3GAL6;ASL;APOE;NRBF2;PCK1;DECR1;PCK2;GSDMD;TMEM86B;FZD5;EDEM1;CYP4F3;SURF4;MTHFS;NR0B2;PAICS;NR2F6;TF;EIF6;MYO5B;GIPC2;SDC1;ECHDC2;CDK10;SFXN1;SFXN5;SLC2A4RG;OGFR;ACY1;QPRT;GPT;PYGL;PEPD;CLYBL;ASGR1;PHF8;ASGR2;SHF;VMO1;C16ORF70;C8G;ENC1;TNFAIP8L1;SH3BGRL2;TK1;ANXA9;AASS;C11ORF24;TIGD2;MRPS26;GSTO1;ELOVL2;RIPK4;MST1;PROX1;PTGR1;SLC39A14;LIME1;DUSP6;IL17RB;TMEM177;GCHFR;UGDH;ALDH5A1;BDH1;CLDN15;MMP15;MZB1;PLIN1;UMPS;MPND;SLC29A3;AVPI1;AHCY;SERPINC1;NR1I3;HAAO;HSD17B4;AKAP7;VWCE;TYMP;CAMK2N1;PERP;ORMDL3;ASPDH;METTL7B;CCL16;IL32;NQO2;SERPIND1;F10;AADAT;GDF15;SLC31A1;F12;NR1H3;DHRS1;AIG1;PEX13;DHRS3;AGT;AGMAT;NUDT8;LBX2;OTULIN;CAMK1;CRAT;ALDH1L1;PUS10;EXOC3L4;IRS1;TACO1;SAT2;SSC4D;HNMT;TMEM140;RAB43;MPC2;PHYHD1;SLC39A5;SLC25A42;ZNF444;TMEM14A;IL13RA1;UNC5CL;PCYT2;ZGPAT;COL27A1;HGD;FBXO17;PIPOX;ACOT13;SLC30A1;THNSL1;SLC9B2;RAB32;ALDH3A2;GLTPD2;TMEM256;C1ORF115;SCNN1D;SHPK;CMPK1;FTL;CCDC142;SLC26A1;PROZ;CHRD;DNAJC22;ACAT2;RAP1GAP;FAM83H;VTN;KLC4;THPO;ISOC1;KDSR;FAM83D;SEC16B;GCKR;AMBP;NEK6;CACFD1;IDH1;EPHX2;RITA1;TNFRSF10B;HPS5;CORO2A;CYP4F11;CYP4F12;EFNA1;CAMSAP3;MLXIPL;RCAN1;AMACR;GGCX;IL7;FES;BCL3;SPIRE2;TADA1;ACO1;PLXNB1;FGFR4;MAP3K11;GALK1;SLC25A1;GAL3ST1;B4GALT1;ABCD3;LEAP2;SOWAHC;RMND1;ETFA;ARHGEF10L;ETFB;RABEPK;FTCD;LMNB1;RND1;SLC2A8;NADK2;ATP7B;SPR;DDI2;AOX1;ACP2;MAN1A1;PGPEP1;TPRN;ABCC3;CERS4;AMN;ABCC2;HMGCS1;TTC31;PLEKHG6;AMT;APOA1;TTC38;NIPSNAP1;SLC25A16;ELF3;ACOX2;RER1;TRAF4;ACOX1;ESRP2;CHDH;EHHADH;SLC25A10;CDHR5;MTFR1;HAGH;RBKS;SLC25A13;CEBPA;CEBPB;SLC47A1;GALT;PON2;PALM3;LCAT;PDXP;HSD17B11;BPHL;HSPD1;POLD4;SLC22A18AS;SH3BP2;EPS8L2;SLC25A20;DCAF11;CYB5A;CMTM8;FAHD1;GALNT2;PLA2G2A;APOC3;SUOX;SOD2;HSPE1;CPPED1;TM6SF2;GALE;GOLPH3;TEN1;SCD;APOC2;SARDH;AQP11;GALM;OCIAD2;RAB17;SLC25A33;MMACHC</td></tr>\n",
       "\t<tr><th scope=row>2</th><td>FOXA2 ENCODE</td><td>69/316  </td><td>7.952176e-11</td><td>4.135131e-09</td><td>0</td><td>0</td><td>2.662739</td><td> 61.92198</td><td>ERRFI1;PUS10;B4GALT1;SERPINE1;CPOX;PLOD2;PTPRH;TMEM140;CXCL2;DUSP16;PHF8;CLGN;C16ORF70;FRAT1;MT2A;DUSP10;LURAP1L;DDI2;ACP2;TK1;C11ORF24;RNF43;FGA;ABCC2;DUSP1;COG3;RIPK4;KRT8;LSR;KCTD3;DUSP6;BTD;CD302;TRIB1;NGEF;SLC29A3;AHCY;PHLPP1;SLC35D1;LRP5;DNAJC25;TSPAN33;TMEM123;VTN;TMEM205;AFMID;HACL1;EPS8L2;RFFL;LDLR;CCL16;EXPH5;NR1H3;DHCR24;SEMA4G;LARP4;CYP4F11;NR0B2;PEX13;CYP4F12;DHRS3;SGPP1;EFNA1;ALDH6A1;KRT18;KLHL5;ID2;PLXNB1;S100P                                                                                                                                                                                                                                                                                                                                                                                                                                                                                                                                                                                                                                                                                                                                                                                                                                                                                                                                                                                                                                                                                                                                                                                                                                                                                                                                                                                                                                                                                                                                                                                                                                                                      </td></tr>\n",
       "</tbody>\n",
       "</table>\n"
      ],
      "text/latex": [
       "A data.frame: 2 × 9\n",
       "\\begin{tabular}{r|lllllllll}\n",
       "  & Term & Overlap & P.value & Adjusted.P.value & Old.P.value & Old.Adjusted.P.value & Odds.Ratio & Combined.Score & Genes\\\\\n",
       "  & <chr> & <chr> & <dbl> & <dbl> & <int> & <int> & <dbl> & <dbl> & <chr>\\\\\n",
       "\\hline\n",
       "\t1 & HNF4A ENCODE & 327/1276 & 6.427686e-66 & 6.684794e-64 & 0 & 0 & 3.660262 & 549.44191 & SLC46A1;PANK1;SERPINE1;ABAT;LURAP1L;ANPEP;XYLB;GAMT;GSTK1;NUP210;SERPINF1;ENTPD8;ACSL5;SLC6A12;PDZK1;SLC51A;CYP27A1;RBP4;SLC5A9;RBP5;FNDC4;ARMC5;TFR2;SOAT2;ZNF837;CLDN7;FDX1;ACOT2;PSME2;TRIM14;ACOT1;RIN3;TRIB1;NGEF;CES2;CES1;FTCDNL1;SLC22A3;SLC35D1;MAOB;HPN;SLC35D2;IL20RB;MGST2;MTMR4;IQGAP2;C3;NEU4;AFMID;PNPO;ST3GAL6;ASL;APOE;NRBF2;PCK1;DECR1;PCK2;GSDMD;TMEM86B;FZD5;EDEM1;CYP4F3;SURF4;MTHFS;NR0B2;PAICS;NR2F6;TF;EIF6;MYO5B;GIPC2;SDC1;ECHDC2;CDK10;SFXN1;SFXN5;SLC2A4RG;OGFR;ACY1;QPRT;GPT;PYGL;PEPD;CLYBL;ASGR1;PHF8;ASGR2;SHF;VMO1;C16ORF70;C8G;ENC1;TNFAIP8L1;SH3BGRL2;TK1;ANXA9;AASS;C11ORF24;TIGD2;MRPS26;GSTO1;ELOVL2;RIPK4;MST1;PROX1;PTGR1;SLC39A14;LIME1;DUSP6;IL17RB;TMEM177;GCHFR;UGDH;ALDH5A1;BDH1;CLDN15;MMP15;MZB1;PLIN1;UMPS;MPND;SLC29A3;AVPI1;AHCY;SERPINC1;NR1I3;HAAO;HSD17B4;AKAP7;VWCE;TYMP;CAMK2N1;PERP;ORMDL3;ASPDH;METTL7B;CCL16;IL32;NQO2;SERPIND1;F10;AADAT;GDF15;SLC31A1;F12;NR1H3;DHRS1;AIG1;PEX13;DHRS3;AGT;AGMAT;NUDT8;LBX2;OTULIN;CAMK1;CRAT;ALDH1L1;PUS10;EXOC3L4;IRS1;TACO1;SAT2;SSC4D;HNMT;TMEM140;RAB43;MPC2;PHYHD1;SLC39A5;SLC25A42;ZNF444;TMEM14A;IL13RA1;UNC5CL;PCYT2;ZGPAT;COL27A1;HGD;FBXO17;PIPOX;ACOT13;SLC30A1;THNSL1;SLC9B2;RAB32;ALDH3A2;GLTPD2;TMEM256;C1ORF115;SCNN1D;SHPK;CMPK1;FTL;CCDC142;SLC26A1;PROZ;CHRD;DNAJC22;ACAT2;RAP1GAP;FAM83H;VTN;KLC4;THPO;ISOC1;KDSR;FAM83D;SEC16B;GCKR;AMBP;NEK6;CACFD1;IDH1;EPHX2;RITA1;TNFRSF10B;HPS5;CORO2A;CYP4F11;CYP4F12;EFNA1;CAMSAP3;MLXIPL;RCAN1;AMACR;GGCX;IL7;FES;BCL3;SPIRE2;TADA1;ACO1;PLXNB1;FGFR4;MAP3K11;GALK1;SLC25A1;GAL3ST1;B4GALT1;ABCD3;LEAP2;SOWAHC;RMND1;ETFA;ARHGEF10L;ETFB;RABEPK;FTCD;LMNB1;RND1;SLC2A8;NADK2;ATP7B;SPR;DDI2;AOX1;ACP2;MAN1A1;PGPEP1;TPRN;ABCC3;CERS4;AMN;ABCC2;HMGCS1;TTC31;PLEKHG6;AMT;APOA1;TTC38;NIPSNAP1;SLC25A16;ELF3;ACOX2;RER1;TRAF4;ACOX1;ESRP2;CHDH;EHHADH;SLC25A10;CDHR5;MTFR1;HAGH;RBKS;SLC25A13;CEBPA;CEBPB;SLC47A1;GALT;PON2;PALM3;LCAT;PDXP;HSD17B11;BPHL;HSPD1;POLD4;SLC22A18AS;SH3BP2;EPS8L2;SLC25A20;DCAF11;CYB5A;CMTM8;FAHD1;GALNT2;PLA2G2A;APOC3;SUOX;SOD2;HSPE1;CPPED1;TM6SF2;GALE;GOLPH3;TEN1;SCD;APOC2;SARDH;AQP11;GALM;OCIAD2;RAB17;SLC25A33;MMACHC\\\\\n",
       "\t2 & FOXA2 ENCODE & 69/316   & 7.952176e-11 & 4.135131e-09 & 0 & 0 & 2.662739 &  61.92198 & ERRFI1;PUS10;B4GALT1;SERPINE1;CPOX;PLOD2;PTPRH;TMEM140;CXCL2;DUSP16;PHF8;CLGN;C16ORF70;FRAT1;MT2A;DUSP10;LURAP1L;DDI2;ACP2;TK1;C11ORF24;RNF43;FGA;ABCC2;DUSP1;COG3;RIPK4;KRT8;LSR;KCTD3;DUSP6;BTD;CD302;TRIB1;NGEF;SLC29A3;AHCY;PHLPP1;SLC35D1;LRP5;DNAJC25;TSPAN33;TMEM123;VTN;TMEM205;AFMID;HACL1;EPS8L2;RFFL;LDLR;CCL16;EXPH5;NR1H3;DHCR24;SEMA4G;LARP4;CYP4F11;NR0B2;PEX13;CYP4F12;DHRS3;SGPP1;EFNA1;ALDH6A1;KRT18;KLHL5;ID2;PLXNB1;S100P                                                                                                                                                                                                                                                                                                                                                                                                                                                                                                                                                                                                                                                                                                                                                                                                                                                                                                                                                                                                                                                                                                                                                                                                                                                                                                                                                                                                                                                                                                                                                                                                                                                                      \\\\\n",
       "\\end{tabular}\n"
      ],
      "text/markdown": [
       "\n",
       "A data.frame: 2 × 9\n",
       "\n",
       "| <!--/--> | Term &lt;chr&gt; | Overlap &lt;chr&gt; | P.value &lt;dbl&gt; | Adjusted.P.value &lt;dbl&gt; | Old.P.value &lt;int&gt; | Old.Adjusted.P.value &lt;int&gt; | Odds.Ratio &lt;dbl&gt; | Combined.Score &lt;dbl&gt; | Genes &lt;chr&gt; |\n",
       "|---|---|---|---|---|---|---|---|---|---|\n",
       "| 1 | HNF4A ENCODE | 327/1276 | 6.427686e-66 | 6.684794e-64 | 0 | 0 | 3.660262 | 549.44191 | SLC46A1;PANK1;SERPINE1;ABAT;LURAP1L;ANPEP;XYLB;GAMT;GSTK1;NUP210;SERPINF1;ENTPD8;ACSL5;SLC6A12;PDZK1;SLC51A;CYP27A1;RBP4;SLC5A9;RBP5;FNDC4;ARMC5;TFR2;SOAT2;ZNF837;CLDN7;FDX1;ACOT2;PSME2;TRIM14;ACOT1;RIN3;TRIB1;NGEF;CES2;CES1;FTCDNL1;SLC22A3;SLC35D1;MAOB;HPN;SLC35D2;IL20RB;MGST2;MTMR4;IQGAP2;C3;NEU4;AFMID;PNPO;ST3GAL6;ASL;APOE;NRBF2;PCK1;DECR1;PCK2;GSDMD;TMEM86B;FZD5;EDEM1;CYP4F3;SURF4;MTHFS;NR0B2;PAICS;NR2F6;TF;EIF6;MYO5B;GIPC2;SDC1;ECHDC2;CDK10;SFXN1;SFXN5;SLC2A4RG;OGFR;ACY1;QPRT;GPT;PYGL;PEPD;CLYBL;ASGR1;PHF8;ASGR2;SHF;VMO1;C16ORF70;C8G;ENC1;TNFAIP8L1;SH3BGRL2;TK1;ANXA9;AASS;C11ORF24;TIGD2;MRPS26;GSTO1;ELOVL2;RIPK4;MST1;PROX1;PTGR1;SLC39A14;LIME1;DUSP6;IL17RB;TMEM177;GCHFR;UGDH;ALDH5A1;BDH1;CLDN15;MMP15;MZB1;PLIN1;UMPS;MPND;SLC29A3;AVPI1;AHCY;SERPINC1;NR1I3;HAAO;HSD17B4;AKAP7;VWCE;TYMP;CAMK2N1;PERP;ORMDL3;ASPDH;METTL7B;CCL16;IL32;NQO2;SERPIND1;F10;AADAT;GDF15;SLC31A1;F12;NR1H3;DHRS1;AIG1;PEX13;DHRS3;AGT;AGMAT;NUDT8;LBX2;OTULIN;CAMK1;CRAT;ALDH1L1;PUS10;EXOC3L4;IRS1;TACO1;SAT2;SSC4D;HNMT;TMEM140;RAB43;MPC2;PHYHD1;SLC39A5;SLC25A42;ZNF444;TMEM14A;IL13RA1;UNC5CL;PCYT2;ZGPAT;COL27A1;HGD;FBXO17;PIPOX;ACOT13;SLC30A1;THNSL1;SLC9B2;RAB32;ALDH3A2;GLTPD2;TMEM256;C1ORF115;SCNN1D;SHPK;CMPK1;FTL;CCDC142;SLC26A1;PROZ;CHRD;DNAJC22;ACAT2;RAP1GAP;FAM83H;VTN;KLC4;THPO;ISOC1;KDSR;FAM83D;SEC16B;GCKR;AMBP;NEK6;CACFD1;IDH1;EPHX2;RITA1;TNFRSF10B;HPS5;CORO2A;CYP4F11;CYP4F12;EFNA1;CAMSAP3;MLXIPL;RCAN1;AMACR;GGCX;IL7;FES;BCL3;SPIRE2;TADA1;ACO1;PLXNB1;FGFR4;MAP3K11;GALK1;SLC25A1;GAL3ST1;B4GALT1;ABCD3;LEAP2;SOWAHC;RMND1;ETFA;ARHGEF10L;ETFB;RABEPK;FTCD;LMNB1;RND1;SLC2A8;NADK2;ATP7B;SPR;DDI2;AOX1;ACP2;MAN1A1;PGPEP1;TPRN;ABCC3;CERS4;AMN;ABCC2;HMGCS1;TTC31;PLEKHG6;AMT;APOA1;TTC38;NIPSNAP1;SLC25A16;ELF3;ACOX2;RER1;TRAF4;ACOX1;ESRP2;CHDH;EHHADH;SLC25A10;CDHR5;MTFR1;HAGH;RBKS;SLC25A13;CEBPA;CEBPB;SLC47A1;GALT;PON2;PALM3;LCAT;PDXP;HSD17B11;BPHL;HSPD1;POLD4;SLC22A18AS;SH3BP2;EPS8L2;SLC25A20;DCAF11;CYB5A;CMTM8;FAHD1;GALNT2;PLA2G2A;APOC3;SUOX;SOD2;HSPE1;CPPED1;TM6SF2;GALE;GOLPH3;TEN1;SCD;APOC2;SARDH;AQP11;GALM;OCIAD2;RAB17;SLC25A33;MMACHC |\n",
       "| 2 | FOXA2 ENCODE | 69/316   | 7.952176e-11 | 4.135131e-09 | 0 | 0 | 2.662739 |  61.92198 | ERRFI1;PUS10;B4GALT1;SERPINE1;CPOX;PLOD2;PTPRH;TMEM140;CXCL2;DUSP16;PHF8;CLGN;C16ORF70;FRAT1;MT2A;DUSP10;LURAP1L;DDI2;ACP2;TK1;C11ORF24;RNF43;FGA;ABCC2;DUSP1;COG3;RIPK4;KRT8;LSR;KCTD3;DUSP6;BTD;CD302;TRIB1;NGEF;SLC29A3;AHCY;PHLPP1;SLC35D1;LRP5;DNAJC25;TSPAN33;TMEM123;VTN;TMEM205;AFMID;HACL1;EPS8L2;RFFL;LDLR;CCL16;EXPH5;NR1H3;DHCR24;SEMA4G;LARP4;CYP4F11;NR0B2;PEX13;CYP4F12;DHRS3;SGPP1;EFNA1;ALDH6A1;KRT18;KLHL5;ID2;PLXNB1;S100P                                                                                                                                                                                                                                                                                                                                                                                                                                                                                                                                                                                                                                                                                                                                                                                                                                                                                                                                                                                                                                                                                                                                                                                                                                                                                                                                                                                                                                                                                                                                                                                                                                                                       |\n",
       "\n"
      ],
      "text/plain": [
       "  Term         Overlap  P.value      Adjusted.P.value Old.P.value\n",
       "1 HNF4A ENCODE 327/1276 6.427686e-66 6.684794e-64     0          \n",
       "2 FOXA2 ENCODE 69/316   7.952176e-11 4.135131e-09     0          \n",
       "  Old.Adjusted.P.value Odds.Ratio Combined.Score\n",
       "1 0                    3.660262   549.44191     \n",
       "2 0                    2.662739    61.92198     \n",
       "  Genes                                                                                                                                                                                                                                                                                                                                                                                                                                                                                                                                                                                                                                                                                                                                                                                                                                                                                                                                                                                                                                                                                                                                                                                                                                                                                                                                                                                                                                                                                                                                                                                                                                                                                                                                                                                                                                                                                                                                                                                                                                                                                                              \n",
       "1 SLC46A1;PANK1;SERPINE1;ABAT;LURAP1L;ANPEP;XYLB;GAMT;GSTK1;NUP210;SERPINF1;ENTPD8;ACSL5;SLC6A12;PDZK1;SLC51A;CYP27A1;RBP4;SLC5A9;RBP5;FNDC4;ARMC5;TFR2;SOAT2;ZNF837;CLDN7;FDX1;ACOT2;PSME2;TRIM14;ACOT1;RIN3;TRIB1;NGEF;CES2;CES1;FTCDNL1;SLC22A3;SLC35D1;MAOB;HPN;SLC35D2;IL20RB;MGST2;MTMR4;IQGAP2;C3;NEU4;AFMID;PNPO;ST3GAL6;ASL;APOE;NRBF2;PCK1;DECR1;PCK2;GSDMD;TMEM86B;FZD5;EDEM1;CYP4F3;SURF4;MTHFS;NR0B2;PAICS;NR2F6;TF;EIF6;MYO5B;GIPC2;SDC1;ECHDC2;CDK10;SFXN1;SFXN5;SLC2A4RG;OGFR;ACY1;QPRT;GPT;PYGL;PEPD;CLYBL;ASGR1;PHF8;ASGR2;SHF;VMO1;C16ORF70;C8G;ENC1;TNFAIP8L1;SH3BGRL2;TK1;ANXA9;AASS;C11ORF24;TIGD2;MRPS26;GSTO1;ELOVL2;RIPK4;MST1;PROX1;PTGR1;SLC39A14;LIME1;DUSP6;IL17RB;TMEM177;GCHFR;UGDH;ALDH5A1;BDH1;CLDN15;MMP15;MZB1;PLIN1;UMPS;MPND;SLC29A3;AVPI1;AHCY;SERPINC1;NR1I3;HAAO;HSD17B4;AKAP7;VWCE;TYMP;CAMK2N1;PERP;ORMDL3;ASPDH;METTL7B;CCL16;IL32;NQO2;SERPIND1;F10;AADAT;GDF15;SLC31A1;F12;NR1H3;DHRS1;AIG1;PEX13;DHRS3;AGT;AGMAT;NUDT8;LBX2;OTULIN;CAMK1;CRAT;ALDH1L1;PUS10;EXOC3L4;IRS1;TACO1;SAT2;SSC4D;HNMT;TMEM140;RAB43;MPC2;PHYHD1;SLC39A5;SLC25A42;ZNF444;TMEM14A;IL13RA1;UNC5CL;PCYT2;ZGPAT;COL27A1;HGD;FBXO17;PIPOX;ACOT13;SLC30A1;THNSL1;SLC9B2;RAB32;ALDH3A2;GLTPD2;TMEM256;C1ORF115;SCNN1D;SHPK;CMPK1;FTL;CCDC142;SLC26A1;PROZ;CHRD;DNAJC22;ACAT2;RAP1GAP;FAM83H;VTN;KLC4;THPO;ISOC1;KDSR;FAM83D;SEC16B;GCKR;AMBP;NEK6;CACFD1;IDH1;EPHX2;RITA1;TNFRSF10B;HPS5;CORO2A;CYP4F11;CYP4F12;EFNA1;CAMSAP3;MLXIPL;RCAN1;AMACR;GGCX;IL7;FES;BCL3;SPIRE2;TADA1;ACO1;PLXNB1;FGFR4;MAP3K11;GALK1;SLC25A1;GAL3ST1;B4GALT1;ABCD3;LEAP2;SOWAHC;RMND1;ETFA;ARHGEF10L;ETFB;RABEPK;FTCD;LMNB1;RND1;SLC2A8;NADK2;ATP7B;SPR;DDI2;AOX1;ACP2;MAN1A1;PGPEP1;TPRN;ABCC3;CERS4;AMN;ABCC2;HMGCS1;TTC31;PLEKHG6;AMT;APOA1;TTC38;NIPSNAP1;SLC25A16;ELF3;ACOX2;RER1;TRAF4;ACOX1;ESRP2;CHDH;EHHADH;SLC25A10;CDHR5;MTFR1;HAGH;RBKS;SLC25A13;CEBPA;CEBPB;SLC47A1;GALT;PON2;PALM3;LCAT;PDXP;HSD17B11;BPHL;HSPD1;POLD4;SLC22A18AS;SH3BP2;EPS8L2;SLC25A20;DCAF11;CYB5A;CMTM8;FAHD1;GALNT2;PLA2G2A;APOC3;SUOX;SOD2;HSPE1;CPPED1;TM6SF2;GALE;GOLPH3;TEN1;SCD;APOC2;SARDH;AQP11;GALM;OCIAD2;RAB17;SLC25A33;MMACHC\n",
       "2 ERRFI1;PUS10;B4GALT1;SERPINE1;CPOX;PLOD2;PTPRH;TMEM140;CXCL2;DUSP16;PHF8;CLGN;C16ORF70;FRAT1;MT2A;DUSP10;LURAP1L;DDI2;ACP2;TK1;C11ORF24;RNF43;FGA;ABCC2;DUSP1;COG3;RIPK4;KRT8;LSR;KCTD3;DUSP6;BTD;CD302;TRIB1;NGEF;SLC29A3;AHCY;PHLPP1;SLC35D1;LRP5;DNAJC25;TSPAN33;TMEM123;VTN;TMEM205;AFMID;HACL1;EPS8L2;RFFL;LDLR;CCL16;EXPH5;NR1H3;DHCR24;SEMA4G;LARP4;CYP4F11;NR0B2;PEX13;CYP4F12;DHRS3;SGPP1;EFNA1;ALDH6A1;KRT18;KLHL5;ID2;PLXNB1;S100P                                                                                                                                                                                                                                                                                                                                                                                                                                                                                                                                                                                                                                                                                                                                                                                                                                                                                                                                                                                                                                                                                                                                                                                                                                                                                                                                                                                                                                                                                                                                                                                                                                                                      "
      ]
     },
     "metadata": {},
     "output_type": "display_data"
    }
   ],
   "source": [
    "CATEGORY <- \"ENCODE_and_ChEA_Consensus_TFs_from_ChIP-X\"\n",
    "\n",
    "results.db <- enriched[[CATEGORY]]\n",
    "results.db.fdr <- subset(results.db, Adjusted.P.value < 0.05)\n",
    "head(results.db.fdr,2)"
   ]
  },
  {
   "cell_type": "code",
   "execution_count": 40,
   "id": "e3e38726",
   "metadata": {},
   "outputs": [
    {
     "data": {
      "text/html": [
       "<table class=\"dataframe\">\n",
       "<caption>A data.frame: 2 × 9</caption>\n",
       "<thead>\n",
       "\t<tr><th></th><th scope=col>Term</th><th scope=col>Overlap</th><th scope=col>P.value</th><th scope=col>Adjusted.P.value</th><th scope=col>Old.P.value</th><th scope=col>Old.Adjusted.P.value</th><th scope=col>Odds.Ratio</th><th scope=col>Combined.Score</th><th scope=col>Genes</th></tr>\n",
       "\t<tr><th></th><th scope=col>&lt;chr&gt;</th><th scope=col>&lt;chr&gt;</th><th scope=col>&lt;dbl&gt;</th><th scope=col>&lt;dbl&gt;</th><th scope=col>&lt;int&gt;</th><th scope=col>&lt;int&gt;</th><th scope=col>&lt;dbl&gt;</th><th scope=col>&lt;dbl&gt;</th><th scope=col>&lt;chr&gt;</th></tr>\n",
       "</thead>\n",
       "<tbody>\n",
       "\t<tr><th scope=row>1</th><td>Metabolic pathways Homo sapiens hsa01100</td><td>312/1239</td><td>8.18629e-61</td><td>2.357652e-58</td><td>0</td><td>0</td><td>3.546814</td><td>490.7203</td><td>DMGDH;CDA;PI4K2B;PANK3;ACSM3;GLDC;PANK1;ACSM1;ABAT;ACSM5;ENO3;LIPF;GCSH;NDST1;NSDHL;LIPC;PNP;SCP2;ANPEP;LIPG;NAMPT;DHRS4L2;SEPHS2;XYLB;GAMT;MCCC2;ALG8;ST6GAL1;SDS;PHYKPL;ACSL1;GLCE;OXSM;ALG3;ACSL5;HOGA1;CMBL;UPB1;CYP27A1;BTD;MTHFD1;MTHFD2L;ACOT2;ACOT1;SUCLG2;IDNK;CYP2E1;HPD;ALDH7A1;ACOT4;CES1;GNE;GCDH;MAOB;SHMT2;FAXDC2;SHMT1;PLA2G5;MTMR4;SDSL;HSD11B1;LDHA;SGPL1;RDH12;RDH11;RDH10;AFMID;RDH16;PLCG2;PNPO;ST3GAL6;ASL;PCK1;PCK2;PMM1;TGDS;CYP4F3;MTHFS;PAICS;ACADSB;DHFR;EXT1;SQLE;GLUD1;CYP2C8;ALDH6A1;GLUD2;HAL;AKR1B10;ADI1;FASN;PEMT;PLCH2;HIBADH;ACY1;QPRT;ADK;GPT;PYGL;CSAD;PIGV;KHK;ACADL;IMPA1;SPTLC3;HYAL1;HYAL3;PHGDH;ACADM;TK1;ACADS;AASS;CBR1;SPHK2;ARG1;BHMT2;AKR1A1;AMPD2;NME4;UGDH;ALDH5A1;BDH1;CYP21A2;IVD;DPYD;RGN;ALDOC;ALDOB;UMPS;MOCS1;MGLL;FH;ECHS1;AHCY;ADH1C;ADH1B;ADH1A;HAAO;HSD17B3;HSD17B4;HSD17B6;HSD17B7;HSD17B8;PAPSS2;PTS;CYP17A1;TYMP;NT5E;GCNT2;SC5D;MGAT2;ATP6V0E2;AOC2;GK;GCH1;AADAT;GLYCTK;AKR1C3;FAH;DHRS3;AGMAT;DHRS4;ETNPPL;ALDH4A1;GATM;GPAM;ETNK2;ACAA2;CPOX;SAT2;MSMO1;OGDHL;COX6A1;COMT;COX6A2;TM7SF2;CNDP2;UROD;ENPP1;GGT1;ACAA1;HADH;NUDT12;DGAT2;PCYT2;HGD;GPT2;PIPOX;SDHD;SDHB;ALDH3A2;MINPP1;FOLH1;CMPK1;SLC27A5;PNLIP;IDI1;NNMT;H6PD;UAP1;AK4;PLD1;ACACB;ACAT2;ACAT1;EBP;AMDHD1;CYP11A1;PMVK;KDSR;NDUFV2;NADK;MPST;CYP2J2;FDPS;GOT1;IDH1;EPHX2;GOT2;IDH2;DHCR24;CRLS1;QDPR;GRHPR;GCLC;AMACR;NAT1;CPS1;UQCRQ;ALPL;CRYL1;ACO1;DHCR7;GALK1;ACADVL;ALAS1;GAL3ST1;B4GALT1;TREH;DBH;FTCD;ALAD;NADK2;HK3;SPR;ALDH2;NAPRT;DBT;AOX1;MAN1A1;HMGCS2;GUSB;PGM1;HIBCH;CERS4;HMGCS1;DCXR;BCKDHB;SORD;AMT;CTPS1;LSS;PCCA;ACOX2;TST;ACOX1;CHDH;EHHADH;PCCB;ALDH1A1;FBP1;RBKS;CERS2;PON3;ACSS3;MVK;GALT;GLS2;PON2;PDXP;HMGCR;HSD17B10;AGPAT2;CYP3A5;HMGCL;POLD4;UGP2;ALDH1B1;CBS;POLR2E;CHSY3;HSD3B7;FAHD1;MMAB;GALNT2;PLA2G2A;ASS1;DHODH;GSTZ1;GALE;PC;PSAT1;POLE2;CTH;MGAT4B;SARDH;GALM;NAGS;SCLY;CDO1;LPIN2;LPIN3</td></tr>\n",
       "\t<tr><th scope=row>2</th><td>Peroxisome Homo sapiens hsa04146        </td><td>42/83   </td><td>2.75347e-21</td><td>3.964997e-19</td><td>0</td><td>0</td><td>9.736570</td><td>460.9431</td><td>PECR;ABCD3;MVK;PEX11A;MPV17L;ECI2;HSD17B4;CROT;DDO;HMGCL;SCP2;PMVK;HACL1;ACAA1;DECR2;NUDT12;PEX16;GSTK1;PHYH;ACSL1;IDH1;EPHX2;ECH1;IDH2;ACSL5;PIPOX;SOD2;PEX13;DHRS4;SOD1;NUDT7;AMACR;ACOX2;PEX3;ACOX1;EHHADH;CAT;PXMP2;PEX11G;SLC27A2;CRAT;PAOX                                                                                                                                                                                                                                                                                                                                                                                                                                                                                                                                                                                                                                                                                                                                                                                                                                                                                                                                                                                                                                                                                                                                                                                                                                                                                                                                                                                                                                                                                                                                                                                                              </td></tr>\n",
       "</tbody>\n",
       "</table>\n"
      ],
      "text/latex": [
       "A data.frame: 2 × 9\n",
       "\\begin{tabular}{r|lllllllll}\n",
       "  & Term & Overlap & P.value & Adjusted.P.value & Old.P.value & Old.Adjusted.P.value & Odds.Ratio & Combined.Score & Genes\\\\\n",
       "  & <chr> & <chr> & <dbl> & <dbl> & <int> & <int> & <dbl> & <dbl> & <chr>\\\\\n",
       "\\hline\n",
       "\t1 & Metabolic pathways Homo sapiens hsa01100 & 312/1239 & 8.18629e-61 & 2.357652e-58 & 0 & 0 & 3.546814 & 490.7203 & DMGDH;CDA;PI4K2B;PANK3;ACSM3;GLDC;PANK1;ACSM1;ABAT;ACSM5;ENO3;LIPF;GCSH;NDST1;NSDHL;LIPC;PNP;SCP2;ANPEP;LIPG;NAMPT;DHRS4L2;SEPHS2;XYLB;GAMT;MCCC2;ALG8;ST6GAL1;SDS;PHYKPL;ACSL1;GLCE;OXSM;ALG3;ACSL5;HOGA1;CMBL;UPB1;CYP27A1;BTD;MTHFD1;MTHFD2L;ACOT2;ACOT1;SUCLG2;IDNK;CYP2E1;HPD;ALDH7A1;ACOT4;CES1;GNE;GCDH;MAOB;SHMT2;FAXDC2;SHMT1;PLA2G5;MTMR4;SDSL;HSD11B1;LDHA;SGPL1;RDH12;RDH11;RDH10;AFMID;RDH16;PLCG2;PNPO;ST3GAL6;ASL;PCK1;PCK2;PMM1;TGDS;CYP4F3;MTHFS;PAICS;ACADSB;DHFR;EXT1;SQLE;GLUD1;CYP2C8;ALDH6A1;GLUD2;HAL;AKR1B10;ADI1;FASN;PEMT;PLCH2;HIBADH;ACY1;QPRT;ADK;GPT;PYGL;CSAD;PIGV;KHK;ACADL;IMPA1;SPTLC3;HYAL1;HYAL3;PHGDH;ACADM;TK1;ACADS;AASS;CBR1;SPHK2;ARG1;BHMT2;AKR1A1;AMPD2;NME4;UGDH;ALDH5A1;BDH1;CYP21A2;IVD;DPYD;RGN;ALDOC;ALDOB;UMPS;MOCS1;MGLL;FH;ECHS1;AHCY;ADH1C;ADH1B;ADH1A;HAAO;HSD17B3;HSD17B4;HSD17B6;HSD17B7;HSD17B8;PAPSS2;PTS;CYP17A1;TYMP;NT5E;GCNT2;SC5D;MGAT2;ATP6V0E2;AOC2;GK;GCH1;AADAT;GLYCTK;AKR1C3;FAH;DHRS3;AGMAT;DHRS4;ETNPPL;ALDH4A1;GATM;GPAM;ETNK2;ACAA2;CPOX;SAT2;MSMO1;OGDHL;COX6A1;COMT;COX6A2;TM7SF2;CNDP2;UROD;ENPP1;GGT1;ACAA1;HADH;NUDT12;DGAT2;PCYT2;HGD;GPT2;PIPOX;SDHD;SDHB;ALDH3A2;MINPP1;FOLH1;CMPK1;SLC27A5;PNLIP;IDI1;NNMT;H6PD;UAP1;AK4;PLD1;ACACB;ACAT2;ACAT1;EBP;AMDHD1;CYP11A1;PMVK;KDSR;NDUFV2;NADK;MPST;CYP2J2;FDPS;GOT1;IDH1;EPHX2;GOT2;IDH2;DHCR24;CRLS1;QDPR;GRHPR;GCLC;AMACR;NAT1;CPS1;UQCRQ;ALPL;CRYL1;ACO1;DHCR7;GALK1;ACADVL;ALAS1;GAL3ST1;B4GALT1;TREH;DBH;FTCD;ALAD;NADK2;HK3;SPR;ALDH2;NAPRT;DBT;AOX1;MAN1A1;HMGCS2;GUSB;PGM1;HIBCH;CERS4;HMGCS1;DCXR;BCKDHB;SORD;AMT;CTPS1;LSS;PCCA;ACOX2;TST;ACOX1;CHDH;EHHADH;PCCB;ALDH1A1;FBP1;RBKS;CERS2;PON3;ACSS3;MVK;GALT;GLS2;PON2;PDXP;HMGCR;HSD17B10;AGPAT2;CYP3A5;HMGCL;POLD4;UGP2;ALDH1B1;CBS;POLR2E;CHSY3;HSD3B7;FAHD1;MMAB;GALNT2;PLA2G2A;ASS1;DHODH;GSTZ1;GALE;PC;PSAT1;POLE2;CTH;MGAT4B;SARDH;GALM;NAGS;SCLY;CDO1;LPIN2;LPIN3\\\\\n",
       "\t2 & Peroxisome Homo sapiens hsa04146         & 42/83    & 2.75347e-21 & 3.964997e-19 & 0 & 0 & 9.736570 & 460.9431 & PECR;ABCD3;MVK;PEX11A;MPV17L;ECI2;HSD17B4;CROT;DDO;HMGCL;SCP2;PMVK;HACL1;ACAA1;DECR2;NUDT12;PEX16;GSTK1;PHYH;ACSL1;IDH1;EPHX2;ECH1;IDH2;ACSL5;PIPOX;SOD2;PEX13;DHRS4;SOD1;NUDT7;AMACR;ACOX2;PEX3;ACOX1;EHHADH;CAT;PXMP2;PEX11G;SLC27A2;CRAT;PAOX                                                                                                                                                                                                                                                                                                                                                                                                                                                                                                                                                                                                                                                                                                                                                                                                                                                                                                                                                                                                                                                                                                                                                                                                                                                                                                                                                                                                                                                                                                                                                                                                              \\\\\n",
       "\\end{tabular}\n"
      ],
      "text/markdown": [
       "\n",
       "A data.frame: 2 × 9\n",
       "\n",
       "| <!--/--> | Term &lt;chr&gt; | Overlap &lt;chr&gt; | P.value &lt;dbl&gt; | Adjusted.P.value &lt;dbl&gt; | Old.P.value &lt;int&gt; | Old.Adjusted.P.value &lt;int&gt; | Odds.Ratio &lt;dbl&gt; | Combined.Score &lt;dbl&gt; | Genes &lt;chr&gt; |\n",
       "|---|---|---|---|---|---|---|---|---|---|\n",
       "| 1 | Metabolic pathways Homo sapiens hsa01100 | 312/1239 | 8.18629e-61 | 2.357652e-58 | 0 | 0 | 3.546814 | 490.7203 | DMGDH;CDA;PI4K2B;PANK3;ACSM3;GLDC;PANK1;ACSM1;ABAT;ACSM5;ENO3;LIPF;GCSH;NDST1;NSDHL;LIPC;PNP;SCP2;ANPEP;LIPG;NAMPT;DHRS4L2;SEPHS2;XYLB;GAMT;MCCC2;ALG8;ST6GAL1;SDS;PHYKPL;ACSL1;GLCE;OXSM;ALG3;ACSL5;HOGA1;CMBL;UPB1;CYP27A1;BTD;MTHFD1;MTHFD2L;ACOT2;ACOT1;SUCLG2;IDNK;CYP2E1;HPD;ALDH7A1;ACOT4;CES1;GNE;GCDH;MAOB;SHMT2;FAXDC2;SHMT1;PLA2G5;MTMR4;SDSL;HSD11B1;LDHA;SGPL1;RDH12;RDH11;RDH10;AFMID;RDH16;PLCG2;PNPO;ST3GAL6;ASL;PCK1;PCK2;PMM1;TGDS;CYP4F3;MTHFS;PAICS;ACADSB;DHFR;EXT1;SQLE;GLUD1;CYP2C8;ALDH6A1;GLUD2;HAL;AKR1B10;ADI1;FASN;PEMT;PLCH2;HIBADH;ACY1;QPRT;ADK;GPT;PYGL;CSAD;PIGV;KHK;ACADL;IMPA1;SPTLC3;HYAL1;HYAL3;PHGDH;ACADM;TK1;ACADS;AASS;CBR1;SPHK2;ARG1;BHMT2;AKR1A1;AMPD2;NME4;UGDH;ALDH5A1;BDH1;CYP21A2;IVD;DPYD;RGN;ALDOC;ALDOB;UMPS;MOCS1;MGLL;FH;ECHS1;AHCY;ADH1C;ADH1B;ADH1A;HAAO;HSD17B3;HSD17B4;HSD17B6;HSD17B7;HSD17B8;PAPSS2;PTS;CYP17A1;TYMP;NT5E;GCNT2;SC5D;MGAT2;ATP6V0E2;AOC2;GK;GCH1;AADAT;GLYCTK;AKR1C3;FAH;DHRS3;AGMAT;DHRS4;ETNPPL;ALDH4A1;GATM;GPAM;ETNK2;ACAA2;CPOX;SAT2;MSMO1;OGDHL;COX6A1;COMT;COX6A2;TM7SF2;CNDP2;UROD;ENPP1;GGT1;ACAA1;HADH;NUDT12;DGAT2;PCYT2;HGD;GPT2;PIPOX;SDHD;SDHB;ALDH3A2;MINPP1;FOLH1;CMPK1;SLC27A5;PNLIP;IDI1;NNMT;H6PD;UAP1;AK4;PLD1;ACACB;ACAT2;ACAT1;EBP;AMDHD1;CYP11A1;PMVK;KDSR;NDUFV2;NADK;MPST;CYP2J2;FDPS;GOT1;IDH1;EPHX2;GOT2;IDH2;DHCR24;CRLS1;QDPR;GRHPR;GCLC;AMACR;NAT1;CPS1;UQCRQ;ALPL;CRYL1;ACO1;DHCR7;GALK1;ACADVL;ALAS1;GAL3ST1;B4GALT1;TREH;DBH;FTCD;ALAD;NADK2;HK3;SPR;ALDH2;NAPRT;DBT;AOX1;MAN1A1;HMGCS2;GUSB;PGM1;HIBCH;CERS4;HMGCS1;DCXR;BCKDHB;SORD;AMT;CTPS1;LSS;PCCA;ACOX2;TST;ACOX1;CHDH;EHHADH;PCCB;ALDH1A1;FBP1;RBKS;CERS2;PON3;ACSS3;MVK;GALT;GLS2;PON2;PDXP;HMGCR;HSD17B10;AGPAT2;CYP3A5;HMGCL;POLD4;UGP2;ALDH1B1;CBS;POLR2E;CHSY3;HSD3B7;FAHD1;MMAB;GALNT2;PLA2G2A;ASS1;DHODH;GSTZ1;GALE;PC;PSAT1;POLE2;CTH;MGAT4B;SARDH;GALM;NAGS;SCLY;CDO1;LPIN2;LPIN3 |\n",
       "| 2 | Peroxisome Homo sapiens hsa04146         | 42/83    | 2.75347e-21 | 3.964997e-19 | 0 | 0 | 9.736570 | 460.9431 | PECR;ABCD3;MVK;PEX11A;MPV17L;ECI2;HSD17B4;CROT;DDO;HMGCL;SCP2;PMVK;HACL1;ACAA1;DECR2;NUDT12;PEX16;GSTK1;PHYH;ACSL1;IDH1;EPHX2;ECH1;IDH2;ACSL5;PIPOX;SOD2;PEX13;DHRS4;SOD1;NUDT7;AMACR;ACOX2;PEX3;ACOX1;EHHADH;CAT;PXMP2;PEX11G;SLC27A2;CRAT;PAOX                                                                                                                                                                                                                                                                                                                                                                                                                                                                                                                                                                                                                                                                                                                                                                                                                                                                                                                                                                                                                                                                                                                                                                                                                                                                                                                                                                                                                                                                                                                                                                                                               |\n",
       "\n"
      ],
      "text/plain": [
       "  Term                                     Overlap  P.value    \n",
       "1 Metabolic pathways Homo sapiens hsa01100 312/1239 8.18629e-61\n",
       "2 Peroxisome Homo sapiens hsa04146         42/83    2.75347e-21\n",
       "  Adjusted.P.value Old.P.value Old.Adjusted.P.value Odds.Ratio Combined.Score\n",
       "1 2.357652e-58     0           0                    3.546814   490.7203      \n",
       "2 3.964997e-19     0           0                    9.736570   460.9431      \n",
       "  Genes                                                                                                                                                                                                                                                                                                                                                                                                                                                                                                                                                                                                                                                                                                                                                                                                                                                                                                                                                                                                                                                                                                                                                                                                                                                                                                                                                                                                                                                                                                                                                                                                                                                                                                                                                                                                                                                         \n",
       "1 DMGDH;CDA;PI4K2B;PANK3;ACSM3;GLDC;PANK1;ACSM1;ABAT;ACSM5;ENO3;LIPF;GCSH;NDST1;NSDHL;LIPC;PNP;SCP2;ANPEP;LIPG;NAMPT;DHRS4L2;SEPHS2;XYLB;GAMT;MCCC2;ALG8;ST6GAL1;SDS;PHYKPL;ACSL1;GLCE;OXSM;ALG3;ACSL5;HOGA1;CMBL;UPB1;CYP27A1;BTD;MTHFD1;MTHFD2L;ACOT2;ACOT1;SUCLG2;IDNK;CYP2E1;HPD;ALDH7A1;ACOT4;CES1;GNE;GCDH;MAOB;SHMT2;FAXDC2;SHMT1;PLA2G5;MTMR4;SDSL;HSD11B1;LDHA;SGPL1;RDH12;RDH11;RDH10;AFMID;RDH16;PLCG2;PNPO;ST3GAL6;ASL;PCK1;PCK2;PMM1;TGDS;CYP4F3;MTHFS;PAICS;ACADSB;DHFR;EXT1;SQLE;GLUD1;CYP2C8;ALDH6A1;GLUD2;HAL;AKR1B10;ADI1;FASN;PEMT;PLCH2;HIBADH;ACY1;QPRT;ADK;GPT;PYGL;CSAD;PIGV;KHK;ACADL;IMPA1;SPTLC3;HYAL1;HYAL3;PHGDH;ACADM;TK1;ACADS;AASS;CBR1;SPHK2;ARG1;BHMT2;AKR1A1;AMPD2;NME4;UGDH;ALDH5A1;BDH1;CYP21A2;IVD;DPYD;RGN;ALDOC;ALDOB;UMPS;MOCS1;MGLL;FH;ECHS1;AHCY;ADH1C;ADH1B;ADH1A;HAAO;HSD17B3;HSD17B4;HSD17B6;HSD17B7;HSD17B8;PAPSS2;PTS;CYP17A1;TYMP;NT5E;GCNT2;SC5D;MGAT2;ATP6V0E2;AOC2;GK;GCH1;AADAT;GLYCTK;AKR1C3;FAH;DHRS3;AGMAT;DHRS4;ETNPPL;ALDH4A1;GATM;GPAM;ETNK2;ACAA2;CPOX;SAT2;MSMO1;OGDHL;COX6A1;COMT;COX6A2;TM7SF2;CNDP2;UROD;ENPP1;GGT1;ACAA1;HADH;NUDT12;DGAT2;PCYT2;HGD;GPT2;PIPOX;SDHD;SDHB;ALDH3A2;MINPP1;FOLH1;CMPK1;SLC27A5;PNLIP;IDI1;NNMT;H6PD;UAP1;AK4;PLD1;ACACB;ACAT2;ACAT1;EBP;AMDHD1;CYP11A1;PMVK;KDSR;NDUFV2;NADK;MPST;CYP2J2;FDPS;GOT1;IDH1;EPHX2;GOT2;IDH2;DHCR24;CRLS1;QDPR;GRHPR;GCLC;AMACR;NAT1;CPS1;UQCRQ;ALPL;CRYL1;ACO1;DHCR7;GALK1;ACADVL;ALAS1;GAL3ST1;B4GALT1;TREH;DBH;FTCD;ALAD;NADK2;HK3;SPR;ALDH2;NAPRT;DBT;AOX1;MAN1A1;HMGCS2;GUSB;PGM1;HIBCH;CERS4;HMGCS1;DCXR;BCKDHB;SORD;AMT;CTPS1;LSS;PCCA;ACOX2;TST;ACOX1;CHDH;EHHADH;PCCB;ALDH1A1;FBP1;RBKS;CERS2;PON3;ACSS3;MVK;GALT;GLS2;PON2;PDXP;HMGCR;HSD17B10;AGPAT2;CYP3A5;HMGCL;POLD4;UGP2;ALDH1B1;CBS;POLR2E;CHSY3;HSD3B7;FAHD1;MMAB;GALNT2;PLA2G2A;ASS1;DHODH;GSTZ1;GALE;PC;PSAT1;POLE2;CTH;MGAT4B;SARDH;GALM;NAGS;SCLY;CDO1;LPIN2;LPIN3\n",
       "2 PECR;ABCD3;MVK;PEX11A;MPV17L;ECI2;HSD17B4;CROT;DDO;HMGCL;SCP2;PMVK;HACL1;ACAA1;DECR2;NUDT12;PEX16;GSTK1;PHYH;ACSL1;IDH1;EPHX2;ECH1;IDH2;ACSL5;PIPOX;SOD2;PEX13;DHRS4;SOD1;NUDT7;AMACR;ACOX2;PEX3;ACOX1;EHHADH;CAT;PXMP2;PEX11G;SLC27A2;CRAT;PAOX                                                                                                                                                                                                                                                                                                                                                                                                                                                                                                                                                                                                                                                                                                                                                                                                                                                                                                                                                                                                                                                                                                                                                                                                                                                                                                                                                                                                                                                                                                                                                                                                              "
      ]
     },
     "metadata": {},
     "output_type": "display_data"
    }
   ],
   "source": [
    "CATEGORY <- \"KEGG_2016\"\n",
    "\n",
    "results.db <- enriched[[CATEGORY]]\n",
    "results.db.fdr <- subset(results.db, Adjusted.P.value < 0.05)\n",
    "head(results.db.fdr,2)\n"
   ]
  },
  {
   "cell_type": "code",
   "execution_count": 41,
   "id": "a72ba507",
   "metadata": {},
   "outputs": [
    {
     "data": {
      "text/html": [
       "<table class=\"dataframe\">\n",
       "<caption>A data.frame: 2 × 9</caption>\n",
       "<thead>\n",
       "\t<tr><th></th><th scope=col>Term</th><th scope=col>Overlap</th><th scope=col>P.value</th><th scope=col>Adjusted.P.value</th><th scope=col>Old.P.value</th><th scope=col>Old.Adjusted.P.value</th><th scope=col>Odds.Ratio</th><th scope=col>Combined.Score</th><th scope=col>Genes</th></tr>\n",
       "\t<tr><th></th><th scope=col>&lt;chr&gt;</th><th scope=col>&lt;chr&gt;</th><th scope=col>&lt;dbl&gt;</th><th scope=col>&lt;dbl&gt;</th><th scope=col>&lt;int&gt;</th><th scope=col>&lt;int&gt;</th><th scope=col>&lt;dbl&gt;</th><th scope=col>&lt;dbl&gt;</th><th scope=col>&lt;chr&gt;</th></tr>\n",
       "</thead>\n",
       "<tbody>\n",
       "\t<tr><th scope=row>1</th><td>Complement and Coagulation Cascades Homo sapiens WP558</td><td>30/59</td><td>1.127195e-15</td><td>4.441148e-13</td><td>0</td><td>0</td><td>9.777163</td><td>336.5206</td><td>SERPINA1;CFH;C1S;C1R;SERPINC1;PROS1;SERPINE1;CFI;C5AR1;TFPI;CLU;SERPINA5;C2;C4B;C3;LMAN1;C8G;C6;FGB;F10;SERPIND1;F12;SERPINF2;APOA2;F5;SERPING1;MASP2;MASP1;KLKB1;CFB</td></tr>\n",
       "\t<tr><th scope=row>2</th><td>Complement and Coagulation Cascades Mus musculus WP449</td><td>26/55</td><td>8.193928e-13</td><td>1.372811e-10</td><td>0</td><td>0</td><td>8.455814</td><td>235.3271</td><td>CFH;C1S;C1R;SERPINC1;PROS1;SERPINE1;CFI;C5AR1;TFPI;SERPINA5;C2;C3;C5;C8G;C6;A2M;FGB;F10;SERPIND1;F12;SERPINF2;F5;SERPING1;MASP2;KLKB1;CFB                            </td></tr>\n",
       "</tbody>\n",
       "</table>\n"
      ],
      "text/latex": [
       "A data.frame: 2 × 9\n",
       "\\begin{tabular}{r|lllllllll}\n",
       "  & Term & Overlap & P.value & Adjusted.P.value & Old.P.value & Old.Adjusted.P.value & Odds.Ratio & Combined.Score & Genes\\\\\n",
       "  & <chr> & <chr> & <dbl> & <dbl> & <int> & <int> & <dbl> & <dbl> & <chr>\\\\\n",
       "\\hline\n",
       "\t1 & Complement and Coagulation Cascades Homo sapiens WP558 & 30/59 & 1.127195e-15 & 4.441148e-13 & 0 & 0 & 9.777163 & 336.5206 & SERPINA1;CFH;C1S;C1R;SERPINC1;PROS1;SERPINE1;CFI;C5AR1;TFPI;CLU;SERPINA5;C2;C4B;C3;LMAN1;C8G;C6;FGB;F10;SERPIND1;F12;SERPINF2;APOA2;F5;SERPING1;MASP2;MASP1;KLKB1;CFB\\\\\n",
       "\t2 & Complement and Coagulation Cascades Mus musculus WP449 & 26/55 & 8.193928e-13 & 1.372811e-10 & 0 & 0 & 8.455814 & 235.3271 & CFH;C1S;C1R;SERPINC1;PROS1;SERPINE1;CFI;C5AR1;TFPI;SERPINA5;C2;C3;C5;C8G;C6;A2M;FGB;F10;SERPIND1;F12;SERPINF2;F5;SERPING1;MASP2;KLKB1;CFB                            \\\\\n",
       "\\end{tabular}\n"
      ],
      "text/markdown": [
       "\n",
       "A data.frame: 2 × 9\n",
       "\n",
       "| <!--/--> | Term &lt;chr&gt; | Overlap &lt;chr&gt; | P.value &lt;dbl&gt; | Adjusted.P.value &lt;dbl&gt; | Old.P.value &lt;int&gt; | Old.Adjusted.P.value &lt;int&gt; | Odds.Ratio &lt;dbl&gt; | Combined.Score &lt;dbl&gt; | Genes &lt;chr&gt; |\n",
       "|---|---|---|---|---|---|---|---|---|---|\n",
       "| 1 | Complement and Coagulation Cascades Homo sapiens WP558 | 30/59 | 1.127195e-15 | 4.441148e-13 | 0 | 0 | 9.777163 | 336.5206 | SERPINA1;CFH;C1S;C1R;SERPINC1;PROS1;SERPINE1;CFI;C5AR1;TFPI;CLU;SERPINA5;C2;C4B;C3;LMAN1;C8G;C6;FGB;F10;SERPIND1;F12;SERPINF2;APOA2;F5;SERPING1;MASP2;MASP1;KLKB1;CFB |\n",
       "| 2 | Complement and Coagulation Cascades Mus musculus WP449 | 26/55 | 8.193928e-13 | 1.372811e-10 | 0 | 0 | 8.455814 | 235.3271 | CFH;C1S;C1R;SERPINC1;PROS1;SERPINE1;CFI;C5AR1;TFPI;SERPINA5;C2;C3;C5;C8G;C6;A2M;FGB;F10;SERPIND1;F12;SERPINF2;F5;SERPING1;MASP2;KLKB1;CFB                             |\n",
       "\n"
      ],
      "text/plain": [
       "  Term                                                   Overlap P.value     \n",
       "1 Complement and Coagulation Cascades Homo sapiens WP558 30/59   1.127195e-15\n",
       "2 Complement and Coagulation Cascades Mus musculus WP449 26/55   8.193928e-13\n",
       "  Adjusted.P.value Old.P.value Old.Adjusted.P.value Odds.Ratio Combined.Score\n",
       "1 4.441148e-13     0           0                    9.777163   336.5206      \n",
       "2 1.372811e-10     0           0                    8.455814   235.3271      \n",
       "  Genes                                                                                                                                                                \n",
       "1 SERPINA1;CFH;C1S;C1R;SERPINC1;PROS1;SERPINE1;CFI;C5AR1;TFPI;CLU;SERPINA5;C2;C4B;C3;LMAN1;C8G;C6;FGB;F10;SERPIND1;F12;SERPINF2;APOA2;F5;SERPING1;MASP2;MASP1;KLKB1;CFB\n",
       "2 CFH;C1S;C1R;SERPINC1;PROS1;SERPINE1;CFI;C5AR1;TFPI;SERPINA5;C2;C3;C5;C8G;C6;A2M;FGB;F10;SERPIND1;F12;SERPINF2;F5;SERPING1;MASP2;KLKB1;CFB                            "
      ]
     },
     "metadata": {},
     "output_type": "display_data"
    }
   ],
   "source": [
    "CATEGORY <- \"WikiPathways_2016\"\n",
    "\n",
    "results.db <- enriched[[CATEGORY]]\n",
    "results.db.fdr <- subset(results.db, Adjusted.P.value < 0.05)\n",
    "head(results.db.fdr,2)"
   ]
  },
  {
   "cell_type": "code",
   "execution_count": null,
   "id": "651354db",
   "metadata": {},
   "outputs": [],
   "source": [
    "\n",
    "CATEGORY <- \"Reactome_2016\"\n",
    "\n",
    "results.db <- enriched[[CATEGORY]]\n",
    "results.db.fdr <- subset(results.db, Adjusted.P.value < 0.05)\n",
    "head(results.db.fdr,2)"
   ]
  },
  {
   "cell_type": "code",
   "execution_count": 43,
   "id": "251e0375",
   "metadata": {},
   "outputs": [
    {
     "data": {
      "text/html": [
       "<table class=\"dataframe\">\n",
       "<caption>A data.frame: 2 × 9</caption>\n",
       "<thead>\n",
       "\t<tr><th></th><th scope=col>Term</th><th scope=col>Overlap</th><th scope=col>P.value</th><th scope=col>Adjusted.P.value</th><th scope=col>Old.P.value</th><th scope=col>Old.Adjusted.P.value</th><th scope=col>Odds.Ratio</th><th scope=col>Combined.Score</th><th scope=col>Genes</th></tr>\n",
       "\t<tr><th></th><th scope=col>&lt;chr&gt;</th><th scope=col>&lt;chr&gt;</th><th scope=col>&lt;dbl&gt;</th><th scope=col>&lt;dbl&gt;</th><th scope=col>&lt;int&gt;</th><th scope=col>&lt;int&gt;</th><th scope=col>&lt;dbl&gt;</th><th scope=col>&lt;dbl&gt;</th><th scope=col>&lt;chr&gt;</th></tr>\n",
       "</thead>\n",
       "<tbody>\n",
       "\t<tr><th scope=row>1</th><td>Lectin Induced Complement Pathway Homo sapiens h lectinPathway</td><td>8/13</td><td>6.31114e-06</td><td>0.001053960</td><td>0</td><td>0</td><td>14.96953</td><td>179.2331</td><td>C3;C4A;C5;C8G;C6;MASP2;MASP1;C2</td></tr>\n",
       "\t<tr><th scope=row>2</th><td>Classical Complement Pathway Homo sapiens h classicPathway    </td><td>8/15</td><td>2.64046e-05</td><td>0.002204784</td><td>0</td><td>0</td><td>10.69134</td><td>112.7078</td><td>C3;C4A;C5;C8G;C6;C1S;C1R;C2    </td></tr>\n",
       "</tbody>\n",
       "</table>\n"
      ],
      "text/latex": [
       "A data.frame: 2 × 9\n",
       "\\begin{tabular}{r|lllllllll}\n",
       "  & Term & Overlap & P.value & Adjusted.P.value & Old.P.value & Old.Adjusted.P.value & Odds.Ratio & Combined.Score & Genes\\\\\n",
       "  & <chr> & <chr> & <dbl> & <dbl> & <int> & <int> & <dbl> & <dbl> & <chr>\\\\\n",
       "\\hline\n",
       "\t1 & Lectin Induced Complement Pathway Homo sapiens h lectinPathway & 8/13 & 6.31114e-06 & 0.001053960 & 0 & 0 & 14.96953 & 179.2331 & C3;C4A;C5;C8G;C6;MASP2;MASP1;C2\\\\\n",
       "\t2 & Classical Complement Pathway Homo sapiens h classicPathway     & 8/15 & 2.64046e-05 & 0.002204784 & 0 & 0 & 10.69134 & 112.7078 & C3;C4A;C5;C8G;C6;C1S;C1R;C2    \\\\\n",
       "\\end{tabular}\n"
      ],
      "text/markdown": [
       "\n",
       "A data.frame: 2 × 9\n",
       "\n",
       "| <!--/--> | Term &lt;chr&gt; | Overlap &lt;chr&gt; | P.value &lt;dbl&gt; | Adjusted.P.value &lt;dbl&gt; | Old.P.value &lt;int&gt; | Old.Adjusted.P.value &lt;int&gt; | Odds.Ratio &lt;dbl&gt; | Combined.Score &lt;dbl&gt; | Genes &lt;chr&gt; |\n",
       "|---|---|---|---|---|---|---|---|---|---|\n",
       "| 1 | Lectin Induced Complement Pathway Homo sapiens h lectinPathway | 8/13 | 6.31114e-06 | 0.001053960 | 0 | 0 | 14.96953 | 179.2331 | C3;C4A;C5;C8G;C6;MASP2;MASP1;C2 |\n",
       "| 2 | Classical Complement Pathway Homo sapiens h classicPathway     | 8/15 | 2.64046e-05 | 0.002204784 | 0 | 0 | 10.69134 | 112.7078 | C3;C4A;C5;C8G;C6;C1S;C1R;C2     |\n",
       "\n"
      ],
      "text/plain": [
       "  Term                                                           Overlap\n",
       "1 Lectin Induced Complement Pathway Homo sapiens h lectinPathway 8/13   \n",
       "2 Classical Complement Pathway Homo sapiens h classicPathway     8/15   \n",
       "  P.value     Adjusted.P.value Old.P.value Old.Adjusted.P.value Odds.Ratio\n",
       "1 6.31114e-06 0.001053960      0           0                    14.96953  \n",
       "2 2.64046e-05 0.002204784      0           0                    10.69134  \n",
       "  Combined.Score Genes                          \n",
       "1 179.2331       C3;C4A;C5;C8G;C6;MASP2;MASP1;C2\n",
       "2 112.7078       C3;C4A;C5;C8G;C6;C1S;C1R;C2    "
      ]
     },
     "metadata": {},
     "output_type": "display_data"
    }
   ],
   "source": [
    "CATEGORY <- \"BioCarta_2016\"\n",
    "\n",
    "results.db <- enriched[[CATEGORY]]\n",
    "results.db.fdr <- subset(results.db, Adjusted.P.value < 0.05)\n",
    "head(results.db.fdr,2)"
   ]
  },
  {
   "cell_type": "code",
   "execution_count": 44,
   "id": "ff338646",
   "metadata": {},
   "outputs": [
    {
     "data": {
      "text/html": [
       "<table class=\"dataframe\">\n",
       "<caption>A data.frame: 2 × 9</caption>\n",
       "<thead>\n",
       "\t<tr><th></th><th scope=col>Term</th><th scope=col>Overlap</th><th scope=col>P.value</th><th scope=col>Adjusted.P.value</th><th scope=col>Old.P.value</th><th scope=col>Old.Adjusted.P.value</th><th scope=col>Odds.Ratio</th><th scope=col>Combined.Score</th><th scope=col>Genes</th></tr>\n",
       "\t<tr><th></th><th scope=col>&lt;chr&gt;</th><th scope=col>&lt;chr&gt;</th><th scope=col>&lt;dbl&gt;</th><th scope=col>&lt;dbl&gt;</th><th scope=col>&lt;int&gt;</th><th scope=col>&lt;int&gt;</th><th scope=col>&lt;dbl&gt;</th><th scope=col>&lt;dbl&gt;</th><th scope=col>&lt;chr&gt;</th></tr>\n",
       "</thead>\n",
       "<tbody>\n",
       "\t<tr><th scope=row>1</th><td>Cholesterol biosynthesis Homo sapiens P00014</td><td>7/11 </td><td>1.842714e-05</td><td>0.00167426</td><td>0</td><td>0</td><td>16.365355</td><td>178.40996</td><td>FDPS;SQLE;MVK;HMGCS1;PMVK;HMGCR;LSS                                          </td></tr>\n",
       "\t<tr><th scope=row>2</th><td>Blood coagulation Homo sapiens P00011       </td><td>13/38</td><td>3.382344e-05</td><td>0.00167426</td><td>0</td><td>0</td><td> 4.872332</td><td> 50.15753</td><td>FGB;FGA;SERPINA1;F10;SERPINC1;PROS1;F12;SERPINE1;FGG;SERPINF2;PROZ;TFPI;KLKB1</td></tr>\n",
       "</tbody>\n",
       "</table>\n"
      ],
      "text/latex": [
       "A data.frame: 2 × 9\n",
       "\\begin{tabular}{r|lllllllll}\n",
       "  & Term & Overlap & P.value & Adjusted.P.value & Old.P.value & Old.Adjusted.P.value & Odds.Ratio & Combined.Score & Genes\\\\\n",
       "  & <chr> & <chr> & <dbl> & <dbl> & <int> & <int> & <dbl> & <dbl> & <chr>\\\\\n",
       "\\hline\n",
       "\t1 & Cholesterol biosynthesis Homo sapiens P00014 & 7/11  & 1.842714e-05 & 0.00167426 & 0 & 0 & 16.365355 & 178.40996 & FDPS;SQLE;MVK;HMGCS1;PMVK;HMGCR;LSS                                          \\\\\n",
       "\t2 & Blood coagulation Homo sapiens P00011        & 13/38 & 3.382344e-05 & 0.00167426 & 0 & 0 &  4.872332 &  50.15753 & FGB;FGA;SERPINA1;F10;SERPINC1;PROS1;F12;SERPINE1;FGG;SERPINF2;PROZ;TFPI;KLKB1\\\\\n",
       "\\end{tabular}\n"
      ],
      "text/markdown": [
       "\n",
       "A data.frame: 2 × 9\n",
       "\n",
       "| <!--/--> | Term &lt;chr&gt; | Overlap &lt;chr&gt; | P.value &lt;dbl&gt; | Adjusted.P.value &lt;dbl&gt; | Old.P.value &lt;int&gt; | Old.Adjusted.P.value &lt;int&gt; | Odds.Ratio &lt;dbl&gt; | Combined.Score &lt;dbl&gt; | Genes &lt;chr&gt; |\n",
       "|---|---|---|---|---|---|---|---|---|---|\n",
       "| 1 | Cholesterol biosynthesis Homo sapiens P00014 | 7/11  | 1.842714e-05 | 0.00167426 | 0 | 0 | 16.365355 | 178.40996 | FDPS;SQLE;MVK;HMGCS1;PMVK;HMGCR;LSS                                           |\n",
       "| 2 | Blood coagulation Homo sapiens P00011        | 13/38 | 3.382344e-05 | 0.00167426 | 0 | 0 |  4.872332 |  50.15753 | FGB;FGA;SERPINA1;F10;SERPINC1;PROS1;F12;SERPINE1;FGG;SERPINF2;PROZ;TFPI;KLKB1 |\n",
       "\n"
      ],
      "text/plain": [
       "  Term                                         Overlap P.value     \n",
       "1 Cholesterol biosynthesis Homo sapiens P00014 7/11    1.842714e-05\n",
       "2 Blood coagulation Homo sapiens P00011        13/38   3.382344e-05\n",
       "  Adjusted.P.value Old.P.value Old.Adjusted.P.value Odds.Ratio Combined.Score\n",
       "1 0.00167426       0           0                    16.365355  178.40996     \n",
       "2 0.00167426       0           0                     4.872332   50.15753     \n",
       "  Genes                                                                        \n",
       "1 FDPS;SQLE;MVK;HMGCS1;PMVK;HMGCR;LSS                                          \n",
       "2 FGB;FGA;SERPINA1;F10;SERPINC1;PROS1;F12;SERPINE1;FGG;SERPINF2;PROZ;TFPI;KLKB1"
      ]
     },
     "metadata": {},
     "output_type": "display_data"
    }
   ],
   "source": [
    "CATEGORY <- \"Panther_2016\"\n",
    "\n",
    "results.db <- enriched[[CATEGORY]]\n",
    "\n",
    "results.db.fdr <- subset(results.db, Adjusted.P.value < 0.05)\n",
    "head(results.db.fdr,2)"
   ]
  },
  {
   "cell_type": "code",
   "execution_count": 45,
   "id": "d5d84e72",
   "metadata": {},
   "outputs": [
    {
     "data": {
      "text/html": [
       "<table class=\"dataframe\">\n",
       "<caption>A data.frame: 2 × 9</caption>\n",
       "<thead>\n",
       "\t<tr><th></th><th scope=col>Term</th><th scope=col>Overlap</th><th scope=col>P.value</th><th scope=col>Adjusted.P.value</th><th scope=col>Old.P.value</th><th scope=col>Old.Adjusted.P.value</th><th scope=col>Odds.Ratio</th><th scope=col>Combined.Score</th><th scope=col>Genes</th></tr>\n",
       "\t<tr><th></th><th scope=col>&lt;chr&gt;</th><th scope=col>&lt;chr&gt;</th><th scope=col>&lt;dbl&gt;</th><th scope=col>&lt;dbl&gt;</th><th scope=col>&lt;int&gt;</th><th scope=col>&lt;int&gt;</th><th scope=col>&lt;dbl&gt;</th><th scope=col>&lt;dbl&gt;</th><th scope=col>&lt;chr&gt;</th></tr>\n",
       "</thead>\n",
       "<tbody>\n",
       "\t<tr><th scope=row>1</th><td>FOXA2 and FOXA3 transcription factor networks Homo sapiens b6933be8-6192-11e5-8ac5-06603eb7f303</td><td>15/45</td><td>1.220721e-05</td><td>0.002221713</td><td>0</td><td>0</td><td>4.688508</td><td>53.04335</td><td>CEBPA;CEBPB;ACADVL;CPT1A;ALAS1;HMGCS1;FOXF1;APOA1;TTR;BDH1;ALB;ACADM;ALDOB;PCK1;HADH        </td></tr>\n",
       "\t<tr><th scope=row>2</th><td>IL12-mediated signaling events Homo sapiens 7acdea19-6193-11e5-8ac5-06603eb7f303               </td><td>16/62</td><td>2.060586e-04</td><td>0.015394883</td><td>0</td><td>0</td><td>3.260372</td><td>27.67192</td><td>GADD45B;SPHK2;GZMA;GZMB;CD3E;IL2RG;GADD45G;CD4;IL18RAP;LCK;HLX;IL2RB;STAT4;CCL3;CD247;IL18R1</td></tr>\n",
       "</tbody>\n",
       "</table>\n"
      ],
      "text/latex": [
       "A data.frame: 2 × 9\n",
       "\\begin{tabular}{r|lllllllll}\n",
       "  & Term & Overlap & P.value & Adjusted.P.value & Old.P.value & Old.Adjusted.P.value & Odds.Ratio & Combined.Score & Genes\\\\\n",
       "  & <chr> & <chr> & <dbl> & <dbl> & <int> & <int> & <dbl> & <dbl> & <chr>\\\\\n",
       "\\hline\n",
       "\t1 & FOXA2 and FOXA3 transcription factor networks Homo sapiens b6933be8-6192-11e5-8ac5-06603eb7f303 & 15/45 & 1.220721e-05 & 0.002221713 & 0 & 0 & 4.688508 & 53.04335 & CEBPA;CEBPB;ACADVL;CPT1A;ALAS1;HMGCS1;FOXF1;APOA1;TTR;BDH1;ALB;ACADM;ALDOB;PCK1;HADH        \\\\\n",
       "\t2 & IL12-mediated signaling events Homo sapiens 7acdea19-6193-11e5-8ac5-06603eb7f303                & 16/62 & 2.060586e-04 & 0.015394883 & 0 & 0 & 3.260372 & 27.67192 & GADD45B;SPHK2;GZMA;GZMB;CD3E;IL2RG;GADD45G;CD4;IL18RAP;LCK;HLX;IL2RB;STAT4;CCL3;CD247;IL18R1\\\\\n",
       "\\end{tabular}\n"
      ],
      "text/markdown": [
       "\n",
       "A data.frame: 2 × 9\n",
       "\n",
       "| <!--/--> | Term &lt;chr&gt; | Overlap &lt;chr&gt; | P.value &lt;dbl&gt; | Adjusted.P.value &lt;dbl&gt; | Old.P.value &lt;int&gt; | Old.Adjusted.P.value &lt;int&gt; | Odds.Ratio &lt;dbl&gt; | Combined.Score &lt;dbl&gt; | Genes &lt;chr&gt; |\n",
       "|---|---|---|---|---|---|---|---|---|---|\n",
       "| 1 | FOXA2 and FOXA3 transcription factor networks Homo sapiens b6933be8-6192-11e5-8ac5-06603eb7f303 | 15/45 | 1.220721e-05 | 0.002221713 | 0 | 0 | 4.688508 | 53.04335 | CEBPA;CEBPB;ACADVL;CPT1A;ALAS1;HMGCS1;FOXF1;APOA1;TTR;BDH1;ALB;ACADM;ALDOB;PCK1;HADH         |\n",
       "| 2 | IL12-mediated signaling events Homo sapiens 7acdea19-6193-11e5-8ac5-06603eb7f303                | 16/62 | 2.060586e-04 | 0.015394883 | 0 | 0 | 3.260372 | 27.67192 | GADD45B;SPHK2;GZMA;GZMB;CD3E;IL2RG;GADD45G;CD4;IL18RAP;LCK;HLX;IL2RB;STAT4;CCL3;CD247;IL18R1 |\n",
       "\n"
      ],
      "text/plain": [
       "  Term                                                                                           \n",
       "1 FOXA2 and FOXA3 transcription factor networks Homo sapiens b6933be8-6192-11e5-8ac5-06603eb7f303\n",
       "2 IL12-mediated signaling events Homo sapiens 7acdea19-6193-11e5-8ac5-06603eb7f303               \n",
       "  Overlap P.value      Adjusted.P.value Old.P.value Old.Adjusted.P.value\n",
       "1 15/45   1.220721e-05 0.002221713      0           0                   \n",
       "2 16/62   2.060586e-04 0.015394883      0           0                   \n",
       "  Odds.Ratio Combined.Score\n",
       "1 4.688508   53.04335      \n",
       "2 3.260372   27.67192      \n",
       "  Genes                                                                                       \n",
       "1 CEBPA;CEBPB;ACADVL;CPT1A;ALAS1;HMGCS1;FOXF1;APOA1;TTR;BDH1;ALB;ACADM;ALDOB;PCK1;HADH        \n",
       "2 GADD45B;SPHK2;GZMA;GZMB;CD3E;IL2RG;GADD45G;CD4;IL18RAP;LCK;HLX;IL2RB;STAT4;CCL3;CD247;IL18R1"
      ]
     },
     "metadata": {},
     "output_type": "display_data"
    }
   ],
   "source": [
    "CATEGORY <- \"NCI-Nature_2016\"\n",
    "\n",
    "results.db <- enriched[[CATEGORY]]\n",
    "results.db.fdr <- subset(results.db, Adjusted.P.value < 0.05)\n",
    "head(results.db.fdr,2)"
   ]
  },
  {
   "cell_type": "code",
   "execution_count": 47,
   "id": "899fe8bf",
   "metadata": {},
   "outputs": [
    {
     "data": {
      "text/html": [
       "<table class=\"dataframe\">\n",
       "<caption>A data.frame: 1 × 9</caption>\n",
       "<thead>\n",
       "\t<tr><th></th><th scope=col>Term</th><th scope=col>Overlap</th><th scope=col>P.value</th><th scope=col>Adjusted.P.value</th><th scope=col>Old.P.value</th><th scope=col>Old.Adjusted.P.value</th><th scope=col>Odds.Ratio</th><th scope=col>Combined.Score</th><th scope=col>Genes</th></tr>\n",
       "\t<tr><th></th><th scope=col>&lt;chr&gt;</th><th scope=col>&lt;chr&gt;</th><th scope=col>&lt;dbl&gt;</th><th scope=col>&lt;dbl&gt;</th><th scope=col>&lt;int&gt;</th><th scope=col>&lt;int&gt;</th><th scope=col>&lt;dbl&gt;</th><th scope=col>&lt;dbl&gt;</th><th scope=col>&lt;chr&gt;</th></tr>\n",
       "</thead>\n",
       "<tbody>\n",
       "\t<tr><th scope=row>1</th><td>cdeficiency</td><td>7/13</td><td>8.040841e-05</td><td>0.005306955</td><td>0</td><td>0</td><td>10.90903</td><td>102.8546</td><td>C3;C4B;C4A;C5;C6;APOC3;C2</td></tr>\n",
       "</tbody>\n",
       "</table>\n"
      ],
      "text/latex": [
       "A data.frame: 1 × 9\n",
       "\\begin{tabular}{r|lllllllll}\n",
       "  & Term & Overlap & P.value & Adjusted.P.value & Old.P.value & Old.Adjusted.P.value & Odds.Ratio & Combined.Score & Genes\\\\\n",
       "  & <chr> & <chr> & <dbl> & <dbl> & <int> & <int> & <dbl> & <dbl> & <chr>\\\\\n",
       "\\hline\n",
       "\t1 & cdeficiency & 7/13 & 8.040841e-05 & 0.005306955 & 0 & 0 & 10.90903 & 102.8546 & C3;C4B;C4A;C5;C6;APOC3;C2\\\\\n",
       "\\end{tabular}\n"
      ],
      "text/markdown": [
       "\n",
       "A data.frame: 1 × 9\n",
       "\n",
       "| <!--/--> | Term &lt;chr&gt; | Overlap &lt;chr&gt; | P.value &lt;dbl&gt; | Adjusted.P.value &lt;dbl&gt; | Old.P.value &lt;int&gt; | Old.Adjusted.P.value &lt;int&gt; | Odds.Ratio &lt;dbl&gt; | Combined.Score &lt;dbl&gt; | Genes &lt;chr&gt; |\n",
       "|---|---|---|---|---|---|---|---|---|---|\n",
       "| 1 | cdeficiency | 7/13 | 8.040841e-05 | 0.005306955 | 0 | 0 | 10.90903 | 102.8546 | C3;C4B;C4A;C5;C6;APOC3;C2 |\n",
       "\n"
      ],
      "text/plain": [
       "  Term        Overlap P.value      Adjusted.P.value Old.P.value\n",
       "1 cdeficiency 7/13    8.040841e-05 0.005306955      0          \n",
       "  Old.Adjusted.P.value Odds.Ratio Combined.Score Genes                    \n",
       "1 0                    10.90903   102.8546       C3;C4B;C4A;C5;C6;APOC3;C2"
      ]
     },
     "metadata": {},
     "output_type": "display_data"
    }
   ],
   "source": [
    "CATEGORY <- \"OMIM_Disease\"\n",
    "\n",
    "results.db <- enriched[[CATEGORY]]\n",
    "results.db.fdr <- subset(results.db, Adjusted.P.value < 0.05)\n",
    "head(results.db.fdr,4)"
   ]
  },
  {
   "cell_type": "code",
   "execution_count": null,
   "id": "f5bd5ed1",
   "metadata": {},
   "outputs": [],
   "source": [
    "CATEGORY <- \"MSigDB_Computational\"\n",
    "\n",
    "results.db <- enriched[[CATEGORY]]\n",
    "results.db.fdr <- subset(results.db, Adjusted.P.value < 0.05)\n",
    "head(results.db.fdr,2)"
   ]
  },
  {
   "cell_type": "code",
   "execution_count": 42,
   "id": "ad95bfaf",
   "metadata": {},
   "outputs": [
    {
     "ename": "ERROR",
     "evalue": "Error in parse(text = x, srcfile = src): <text>:5:23: unexpected ')'\n4: results.db.fdr <- subset(results.db, Adjusted.P.value < 0.05) \n5: head(results.db.fdr,2))\n                         ^\n",
     "output_type": "error",
     "traceback": [
      "Error in parse(text = x, srcfile = src): <text>:5:23: unexpected ')'\n4: results.db.fdr <- subset(results.db, Adjusted.P.value < 0.05) \n5: head(results.db.fdr,2))\n                         ^\nTraceback:\n"
     ]
    }
   ],
   "source": [
    "CATEGORY <- \"MSigDB_Oncogenic_Signatures\"\n",
    "\n",
    "results.db <- enriched[[CATEGORY]]\n",
    "results.db.fdr <- subset(results.db, Adjusted.P.value < 0.05) \n",
    "head(results.db.fdr,2))"
   ]
  },
  {
   "cell_type": "code",
   "execution_count": null,
   "id": "b21b8e63",
   "metadata": {},
   "outputs": [],
   "source": [
    "CATEGORY <- \"MSigDB_Oncogenic_Signatures\"\n",
    "\n",
    "results.db <- enriched[[CATEGORY]]\n",
    "results.db.fdr <- subset(results.db, Adjusted.P.value < 0.05)\n",
    "head(results.db.fdr,2)"
   ]
  },
  {
   "cell_type": "code",
   "execution_count": null,
   "id": "caf16cc6",
   "metadata": {},
   "outputs": [],
   "source": []
  },
  {
   "cell_type": "code",
   "execution_count": null,
   "id": "8828364f",
   "metadata": {},
   "outputs": [],
   "source": []
  }
 ],
 "metadata": {
  "kernelspec": {
   "display_name": "R",
   "language": "R",
   "name": "ir"
  },
  "language_info": {
   "codemirror_mode": "r",
   "file_extension": ".r",
   "mimetype": "text/x-r-source",
   "name": "R",
   "pygments_lexer": "r",
   "version": "4.2.2"
  }
 },
 "nbformat": 4,
 "nbformat_minor": 5
}

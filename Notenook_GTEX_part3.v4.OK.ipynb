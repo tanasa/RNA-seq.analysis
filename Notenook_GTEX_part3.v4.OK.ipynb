{
 "cells": [
  {
   "cell_type": "code",
   "execution_count": 78,
   "id": "95bb42ac",
   "metadata": {},
   "outputs": [],
   "source": [
    "# To start by reading the data frame of the samples of interest that contains the TPM expression \n",
    "# for protein coding genes only\n",
    "\n",
    "# Although GTEX provides also the RAW COUNTS, given the large number of samples, \n",
    "# very likely, it is computationally prohibitve to compute the differential expresson with edgeR, DESEq2, or limma/voom \n",
    "# between liver tissue and all other tissues\n",
    "\n",
    "setwd(\"/Users/tanasab/Desktop/GTEX\")"
   ]
  },
  {
   "cell_type": "code",
   "execution_count": 4,
   "id": "3e3394b4",
   "metadata": {},
   "outputs": [
    {
     "data": {
      "text/html": [
       "10"
      ],
      "text/latex": [
       "10"
      ],
      "text/markdown": [
       "10"
      ],
      "text/plain": [
       "[1] 10"
      ]
     },
     "metadata": {},
     "output_type": "display_data"
    }
   ],
   "source": [
    "suppressMessages({\n",
    "\n",
    "library(data.table, quietly = TRUE)\n",
    "library(plyr, quietly = TRUE)\n",
    "library(doParallel,quietly = TRUE)\n",
    "library(tidyverse, quietly = TRUE)\n",
    "library(\"stringr\", quietly = TRUE)\n",
    "\n",
    "})\n",
    "\n",
    "cores <- detectCores()\n",
    "cores\n",
    "registerDoParallel(cores=cores)\n",
    "options(future.globals.maxSize = Inf)"
   ]
  },
  {
   "cell_type": "code",
   "execution_count": 5,
   "id": "a0651d9c",
   "metadata": {},
   "outputs": [],
   "source": [
    "a = read.table(\"df4.pc.samples.of.interest.txt\", header=T, sep=\"\\t\", stringsAsFactors=F)"
   ]
  },
  {
   "cell_type": "code",
   "execution_count": 6,
   "id": "b38df08e",
   "metadata": {},
   "outputs": [
    {
     "name": "stdout",
     "output_type": "stream",
     "text": [
      "[1] \"df4.pc.samples.of.interest.txt\"\n"
     ]
    }
   ],
   "source": [
    "name = basename(\"df4.pc.samples.of.interest.txt\")\n",
    "print(name)"
   ]
  },
  {
   "cell_type": "code",
   "execution_count": 123,
   "id": "8c0e0623",
   "metadata": {},
   "outputs": [
    {
     "data": {
      "text/html": [
       "<style>\n",
       ".list-inline {list-style: none; margin:0; padding: 0}\n",
       ".list-inline>li {display: inline-block}\n",
       ".list-inline>li:not(:last-child)::after {content: \"\\00b7\"; padding: 0 .5ex}\n",
       "</style>\n",
       "<ol class=list-inline><li>18446</li><li>4421</li></ol>\n"
      ],
      "text/latex": [
       "\\begin{enumerate*}\n",
       "\\item 18446\n",
       "\\item 4421\n",
       "\\end{enumerate*}\n"
      ],
      "text/markdown": [
       "1. 18446\n",
       "2. 4421\n",
       "\n",
       "\n"
      ],
      "text/plain": [
       "[1] 18446  4421"
      ]
     },
     "metadata": {},
     "output_type": "display_data"
    },
    {
     "data": {
      "text/html": [
       "<table class=\"dataframe\">\n",
       "<caption>A data.frame: 1 × 4421</caption>\n",
       "<thead>\n",
       "\t<tr><th></th><th scope=col>GTEX.1117F.0726.SM.5GIEN</th><th scope=col>GTEX.111FC.0626.SM.5N9CU</th><th scope=col>GTEX.111FC.0826.SM.5GZWO</th><th scope=col>GTEX.111VG.0326.SM.5GZX7</th><th scope=col>GTEX.111YS.0326.SM.5GZZ3</th><th scope=col>GTEX.111YS.0426.SM.5987O</th><th scope=col>GTEX.1122O.0626.SM.5N9B9</th><th scope=col>GTEX.1122O.0826.SM.5GICV</th><th scope=col>GTEX.117XS.0726.SM.5H131</th><th scope=col>GTEX.117YW.0326.SM.5N9CY</th><th scope=col>⋯</th><th scope=col>GTEX.ZY6K.0226.SM.5SIAY</th><th scope=col>GTEX.ZYFC.0926.SM.5GZWW</th><th scope=col>GTEX.ZYFD.0826.SM.5NQ9A</th><th scope=col>GTEX.ZYFG.0626.SM.5GZYA</th><th scope=col>GTEX.ZYT6.0426.SM.5GID3</th><th scope=col>GTEX.ZYVF.1126.SM.5E458</th><th scope=col>GTEX.ZYW4.1126.SM.5SI99</th><th scope=col>GTEX.ZYY3.1926.SM.5GZXS</th><th scope=col>GTEX.ZZ64.0126.SM.5GZXA</th><th scope=col>GTEX.ZZPU.1326.SM.5GZWS</th></tr>\n",
       "\t<tr><th></th><th scope=col>&lt;dbl&gt;</th><th scope=col>&lt;dbl&gt;</th><th scope=col>&lt;dbl&gt;</th><th scope=col>&lt;dbl&gt;</th><th scope=col>&lt;dbl&gt;</th><th scope=col>&lt;dbl&gt;</th><th scope=col>&lt;dbl&gt;</th><th scope=col>&lt;dbl&gt;</th><th scope=col>&lt;dbl&gt;</th><th scope=col>&lt;dbl&gt;</th><th scope=col>⋯</th><th scope=col>&lt;dbl&gt;</th><th scope=col>&lt;dbl&gt;</th><th scope=col>&lt;dbl&gt;</th><th scope=col>&lt;dbl&gt;</th><th scope=col>&lt;dbl&gt;</th><th scope=col>&lt;dbl&gt;</th><th scope=col>&lt;dbl&gt;</th><th scope=col>&lt;dbl&gt;</th><th scope=col>&lt;dbl&gt;</th><th scope=col>&lt;dbl&gt;</th></tr>\n",
       "</thead>\n",
       "<tbody>\n",
       "\t<tr><th scope=row>OR4F5</th><td>0.04233</td><td>0.048</td><td>0.147</td><td>0.08739</td><td>0.07495</td><td>0.08668</td><td>0.2024</td><td>0.1403</td><td>0.1016</td><td>0.09944</td><td>⋯</td><td>0</td><td>0</td><td>0</td><td>0.05059</td><td>0</td><td>0</td><td>0.0596</td><td>0.1951</td><td>0.2498</td><td>0.05729</td></tr>\n",
       "</tbody>\n",
       "</table>\n"
      ],
      "text/latex": [
       "A data.frame: 1 × 4421\n",
       "\\begin{tabular}{r|lllllllllllllllllllll}\n",
       "  & GTEX.1117F.0726.SM.5GIEN & GTEX.111FC.0626.SM.5N9CU & GTEX.111FC.0826.SM.5GZWO & GTEX.111VG.0326.SM.5GZX7 & GTEX.111YS.0326.SM.5GZZ3 & GTEX.111YS.0426.SM.5987O & GTEX.1122O.0626.SM.5N9B9 & GTEX.1122O.0826.SM.5GICV & GTEX.117XS.0726.SM.5H131 & GTEX.117YW.0326.SM.5N9CY & ⋯ & GTEX.ZY6K.0226.SM.5SIAY & GTEX.ZYFC.0926.SM.5GZWW & GTEX.ZYFD.0826.SM.5NQ9A & GTEX.ZYFG.0626.SM.5GZYA & GTEX.ZYT6.0426.SM.5GID3 & GTEX.ZYVF.1126.SM.5E458 & GTEX.ZYW4.1126.SM.5SI99 & GTEX.ZYY3.1926.SM.5GZXS & GTEX.ZZ64.0126.SM.5GZXA & GTEX.ZZPU.1326.SM.5GZWS\\\\\n",
       "  & <dbl> & <dbl> & <dbl> & <dbl> & <dbl> & <dbl> & <dbl> & <dbl> & <dbl> & <dbl> & ⋯ & <dbl> & <dbl> & <dbl> & <dbl> & <dbl> & <dbl> & <dbl> & <dbl> & <dbl> & <dbl>\\\\\n",
       "\\hline\n",
       "\tOR4F5 & 0.04233 & 0.048 & 0.147 & 0.08739 & 0.07495 & 0.08668 & 0.2024 & 0.1403 & 0.1016 & 0.09944 & ⋯ & 0 & 0 & 0 & 0.05059 & 0 & 0 & 0.0596 & 0.1951 & 0.2498 & 0.05729\\\\\n",
       "\\end{tabular}\n"
      ],
      "text/markdown": [
       "\n",
       "A data.frame: 1 × 4421\n",
       "\n",
       "| <!--/--> | GTEX.1117F.0726.SM.5GIEN &lt;dbl&gt; | GTEX.111FC.0626.SM.5N9CU &lt;dbl&gt; | GTEX.111FC.0826.SM.5GZWO &lt;dbl&gt; | GTEX.111VG.0326.SM.5GZX7 &lt;dbl&gt; | GTEX.111YS.0326.SM.5GZZ3 &lt;dbl&gt; | GTEX.111YS.0426.SM.5987O &lt;dbl&gt; | GTEX.1122O.0626.SM.5N9B9 &lt;dbl&gt; | GTEX.1122O.0826.SM.5GICV &lt;dbl&gt; | GTEX.117XS.0726.SM.5H131 &lt;dbl&gt; | GTEX.117YW.0326.SM.5N9CY &lt;dbl&gt; | ⋯ ⋯ | GTEX.ZY6K.0226.SM.5SIAY &lt;dbl&gt; | GTEX.ZYFC.0926.SM.5GZWW &lt;dbl&gt; | GTEX.ZYFD.0826.SM.5NQ9A &lt;dbl&gt; | GTEX.ZYFG.0626.SM.5GZYA &lt;dbl&gt; | GTEX.ZYT6.0426.SM.5GID3 &lt;dbl&gt; | GTEX.ZYVF.1126.SM.5E458 &lt;dbl&gt; | GTEX.ZYW4.1126.SM.5SI99 &lt;dbl&gt; | GTEX.ZYY3.1926.SM.5GZXS &lt;dbl&gt; | GTEX.ZZ64.0126.SM.5GZXA &lt;dbl&gt; | GTEX.ZZPU.1326.SM.5GZWS &lt;dbl&gt; |\n",
       "|---|---|---|---|---|---|---|---|---|---|---|---|---|---|---|---|---|---|---|---|---|---|\n",
       "| OR4F5 | 0.04233 | 0.048 | 0.147 | 0.08739 | 0.07495 | 0.08668 | 0.2024 | 0.1403 | 0.1016 | 0.09944 | ⋯ | 0 | 0 | 0 | 0.05059 | 0 | 0 | 0.0596 | 0.1951 | 0.2498 | 0.05729 |\n",
       "\n"
      ],
      "text/plain": [
       "      GTEX.1117F.0726.SM.5GIEN GTEX.111FC.0626.SM.5N9CU\n",
       "OR4F5 0.04233                  0.048                   \n",
       "      GTEX.111FC.0826.SM.5GZWO GTEX.111VG.0326.SM.5GZX7\n",
       "OR4F5 0.147                    0.08739                 \n",
       "      GTEX.111YS.0326.SM.5GZZ3 GTEX.111YS.0426.SM.5987O\n",
       "OR4F5 0.07495                  0.08668                 \n",
       "      GTEX.1122O.0626.SM.5N9B9 GTEX.1122O.0826.SM.5GICV\n",
       "OR4F5 0.2024                   0.1403                  \n",
       "      GTEX.117XS.0726.SM.5H131 GTEX.117YW.0326.SM.5N9CY ⋯\n",
       "OR4F5 0.1016                   0.09944                  ⋯\n",
       "      GTEX.ZY6K.0226.SM.5SIAY GTEX.ZYFC.0926.SM.5GZWW GTEX.ZYFD.0826.SM.5NQ9A\n",
       "OR4F5 0                       0                       0                      \n",
       "      GTEX.ZYFG.0626.SM.5GZYA GTEX.ZYT6.0426.SM.5GID3 GTEX.ZYVF.1126.SM.5E458\n",
       "OR4F5 0.05059                 0                       0                      \n",
       "      GTEX.ZYW4.1126.SM.5SI99 GTEX.ZYY3.1926.SM.5GZXS GTEX.ZZ64.0126.SM.5GZXA\n",
       "OR4F5 0.0596                  0.1951                  0.2498                 \n",
       "      GTEX.ZZPU.1326.SM.5GZWS\n",
       "OR4F5 0.05729                "
      ]
     },
     "metadata": {},
     "output_type": "display_data"
    },
    {
     "data": {
      "text/html": [
       "18446"
      ],
      "text/latex": [
       "18446"
      ],
      "text/markdown": [
       "18446"
      ],
      "text/plain": [
       "[1] 18446"
      ]
     },
     "metadata": {},
     "output_type": "display_data"
    },
    {
     "data": {
      "text/html": [
       "4421"
      ],
      "text/latex": [
       "4421"
      ],
      "text/markdown": [
       "4421"
      ],
      "text/plain": [
       "[1] 4421"
      ]
     },
     "metadata": {},
     "output_type": "display_data"
    }
   ],
   "source": [
    "dim(a)\n",
    "head(a,1)\n",
    "\n",
    "length(rownames(a))\n",
    "length(colnames(a))"
   ]
  },
  {
   "cell_type": "code",
   "execution_count": 9,
   "id": "27e88f8a",
   "metadata": {},
   "outputs": [
    {
     "data": {
      "text/html": [
       "<style>\n",
       ".list-inline {list-style: none; margin:0; padding: 0}\n",
       ".list-inline>li {display: inline-block}\n",
       ".list-inline>li:not(:last-child)::after {content: \"\\00b7\"; padding: 0 .5ex}\n",
       "</style>\n",
       "<ol class=list-inline><li>4421</li><li>4</li></ol>\n"
      ],
      "text/latex": [
       "\\begin{enumerate*}\n",
       "\\item 4421\n",
       "\\item 4\n",
       "\\end{enumerate*}\n"
      ],
      "text/markdown": [
       "1. 4421\n",
       "2. 4\n",
       "\n",
       "\n"
      ],
      "text/plain": [
       "[1] 4421    4"
      ]
     },
     "metadata": {},
     "output_type": "display_data"
    }
   ],
   "source": [
    "# To read the ids of all 4421 samples that we have collected in the previous step\n",
    "\n",
    "meta = read.table(\"GTEx_Analysis_v8_RNAseq_samples.ASSIGN.txt\", header=F, sep=\"\\t\", stringsAsFactors=F)\n",
    "dim(meta)"
   ]
  },
  {
   "cell_type": "code",
   "execution_count": 125,
   "id": "6fbd5885",
   "metadata": {},
   "outputs": [
    {
     "data": {
      "text/html": [
       "<table class=\"dataframe\">\n",
       "<caption>A data.frame: 2 × 7</caption>\n",
       "<thead>\n",
       "\t<tr><th></th><th scope=col>V1</th><th scope=col>V2</th><th scope=col>V3</th><th scope=col>V4</th><th scope=col>numerical</th><th scope=col>id</th><th scope=col>id_sample</th></tr>\n",
       "\t<tr><th></th><th scope=col>&lt;chr&gt;</th><th scope=col>&lt;chr&gt;</th><th scope=col>&lt;chr&gt;</th><th scope=col>&lt;chr&gt;</th><th scope=col>&lt;chr&gt;</th><th scope=col>&lt;chr&gt;</th><th scope=col>&lt;chr&gt;</th></tr>\n",
       "</thead>\n",
       "<tbody>\n",
       "\t<tr><th scope=row>1</th><td>GTEX-1117F-0726-SM-5GIEN</td><td>GTEX-1117F</td><td>True</td><td>Heart_Atrial_Appendage</td><td>1</td><td>Heart_Atrial_Appendage_1</td><td>GTEX.1117F.0726.SM.5GIEN</td></tr>\n",
       "\t<tr><th scope=row>2</th><td>GTEX-111FC-0626-SM-5N9CU</td><td>GTEX-111FC</td><td>True</td><td>Heart_Atrial_Appendage</td><td>2</td><td>Heart_Atrial_Appendage_2</td><td>GTEX.111FC.0626.SM.5N9CU</td></tr>\n",
       "</tbody>\n",
       "</table>\n"
      ],
      "text/latex": [
       "A data.frame: 2 × 7\n",
       "\\begin{tabular}{r|lllllll}\n",
       "  & V1 & V2 & V3 & V4 & numerical & id & id\\_sample\\\\\n",
       "  & <chr> & <chr> & <chr> & <chr> & <chr> & <chr> & <chr>\\\\\n",
       "\\hline\n",
       "\t1 & GTEX-1117F-0726-SM-5GIEN & GTEX-1117F & True & Heart\\_Atrial\\_Appendage & 1 & Heart\\_Atrial\\_Appendage\\_1 & GTEX.1117F.0726.SM.5GIEN\\\\\n",
       "\t2 & GTEX-111FC-0626-SM-5N9CU & GTEX-111FC & True & Heart\\_Atrial\\_Appendage & 2 & Heart\\_Atrial\\_Appendage\\_2 & GTEX.111FC.0626.SM.5N9CU\\\\\n",
       "\\end{tabular}\n"
      ],
      "text/markdown": [
       "\n",
       "A data.frame: 2 × 7\n",
       "\n",
       "| <!--/--> | V1 &lt;chr&gt; | V2 &lt;chr&gt; | V3 &lt;chr&gt; | V4 &lt;chr&gt; | numerical &lt;chr&gt; | id &lt;chr&gt; | id_sample &lt;chr&gt; |\n",
       "|---|---|---|---|---|---|---|---|\n",
       "| 1 | GTEX-1117F-0726-SM-5GIEN | GTEX-1117F | True | Heart_Atrial_Appendage | 1 | Heart_Atrial_Appendage_1 | GTEX.1117F.0726.SM.5GIEN |\n",
       "| 2 | GTEX-111FC-0626-SM-5N9CU | GTEX-111FC | True | Heart_Atrial_Appendage | 2 | Heart_Atrial_Appendage_2 | GTEX.111FC.0626.SM.5N9CU |\n",
       "\n"
      ],
      "text/plain": [
       "  V1                       V2         V3   V4                     numerical\n",
       "1 GTEX-1117F-0726-SM-5GIEN GTEX-1117F True Heart_Atrial_Appendage 1        \n",
       "2 GTEX-111FC-0626-SM-5N9CU GTEX-111FC True Heart_Atrial_Appendage 2        \n",
       "  id                       id_sample               \n",
       "1 Heart_Atrial_Appendage_1 GTEX.1117F.0726.SM.5GIEN\n",
       "2 Heart_Atrial_Appendage_2 GTEX.111FC.0626.SM.5N9CU"
      ]
     },
     "metadata": {},
     "output_type": "display_data"
    }
   ],
   "source": [
    "# To rename the columns of a in such a way that it reflects the name of the tissue\n",
    "# To transform \"-\" into \".\" in order to make it compatible with the column names in the main data frame\n",
    "\n",
    "meta.df = meta\n",
    "meta.df$numerical=rownames(meta)\n",
    "meta.df$id = paste(meta.df$V4, meta.df$numerical, sep=\"_\")\n",
    "meta.df$id_sample = (str_replace_all(meta.df$V1, \"-\", \".\")) \n",
    "head(meta.df,2)"
   ]
  },
  {
   "cell_type": "code",
   "execution_count": 12,
   "id": "373b7564",
   "metadata": {},
   "outputs": [
    {
     "data": {
      "text/html": [
       "<style>\n",
       ".list-inline {list-style: none; margin:0; padding: 0}\n",
       ".list-inline>li {display: inline-block}\n",
       ".list-inline>li:not(:last-child)::after {content: \"\\00b7\"; padding: 0 .5ex}\n",
       "</style>\n",
       "<ol class=list-inline><li>18446</li><li>4421</li></ol>\n"
      ],
      "text/latex": [
       "\\begin{enumerate*}\n",
       "\\item 18446\n",
       "\\item 4421\n",
       "\\end{enumerate*}\n"
      ],
      "text/markdown": [
       "1. 18446\n",
       "2. 4421\n",
       "\n",
       "\n"
      ],
      "text/plain": [
       "[1] 18446  4421"
      ]
     },
     "metadata": {},
     "output_type": "display_data"
    }
   ],
   "source": [
    "# to create a  backup data frame for a\n",
    "b = a \n",
    "dim(b)"
   ]
  },
  {
   "cell_type": "code",
   "execution_count": 24,
   "id": "dd262e15",
   "metadata": {},
   "outputs": [],
   "source": [
    "# Shall we need to keep the data of each tissue in a separate data frame,\n",
    "# in order to apply a more sophisticated gene selection technique\n",
    "# As we do work with only 10 tissues, we separate the data one by one"
   ]
  },
  {
   "cell_type": "code",
   "execution_count": 13,
   "id": "e0b35488",
   "metadata": {},
   "outputs": [
    {
     "data": {
      "text/html": [
       "<table class=\"dataframe\">\n",
       "<caption>A data.frame: 1 × 7</caption>\n",
       "<thead>\n",
       "\t<tr><th></th><th scope=col>V1</th><th scope=col>V2</th><th scope=col>V3</th><th scope=col>V4</th><th scope=col>numerical</th><th scope=col>id</th><th scope=col>id_sample</th></tr>\n",
       "\t<tr><th></th><th scope=col>&lt;chr&gt;</th><th scope=col>&lt;chr&gt;</th><th scope=col>&lt;chr&gt;</th><th scope=col>&lt;chr&gt;</th><th scope=col>&lt;chr&gt;</th><th scope=col>&lt;chr&gt;</th><th scope=col>&lt;chr&gt;</th></tr>\n",
       "</thead>\n",
       "<tbody>\n",
       "\t<tr><th scope=row>1</th><td>GTEX-1117F-0726-SM-5GIEN</td><td>GTEX-1117F</td><td>True</td><td>Heart_Atrial_Appendage</td><td>1</td><td>Heart_Atrial_Appendage_1</td><td>GTEX.1117F.0726.SM.5GIEN</td></tr>\n",
       "</tbody>\n",
       "</table>\n"
      ],
      "text/latex": [
       "A data.frame: 1 × 7\n",
       "\\begin{tabular}{r|lllllll}\n",
       "  & V1 & V2 & V3 & V4 & numerical & id & id\\_sample\\\\\n",
       "  & <chr> & <chr> & <chr> & <chr> & <chr> & <chr> & <chr>\\\\\n",
       "\\hline\n",
       "\t1 & GTEX-1117F-0726-SM-5GIEN & GTEX-1117F & True & Heart\\_Atrial\\_Appendage & 1 & Heart\\_Atrial\\_Appendage\\_1 & GTEX.1117F.0726.SM.5GIEN\\\\\n",
       "\\end{tabular}\n"
      ],
      "text/markdown": [
       "\n",
       "A data.frame: 1 × 7\n",
       "\n",
       "| <!--/--> | V1 &lt;chr&gt; | V2 &lt;chr&gt; | V3 &lt;chr&gt; | V4 &lt;chr&gt; | numerical &lt;chr&gt; | id &lt;chr&gt; | id_sample &lt;chr&gt; |\n",
       "|---|---|---|---|---|---|---|---|\n",
       "| 1 | GTEX-1117F-0726-SM-5GIEN | GTEX-1117F | True | Heart_Atrial_Appendage | 1 | Heart_Atrial_Appendage_1 | GTEX.1117F.0726.SM.5GIEN |\n",
       "\n"
      ],
      "text/plain": [
       "  V1                       V2         V3   V4                     numerical\n",
       "1 GTEX-1117F-0726-SM-5GIEN GTEX-1117F True Heart_Atrial_Appendage 1        \n",
       "  id                       id_sample               \n",
       "1 Heart_Atrial_Appendage_1 GTEX.1117F.0726.SM.5GIEN"
      ]
     },
     "metadata": {},
     "output_type": "display_data"
    },
    {
     "data": {
      "text/html": [
       "<style>\n",
       ".list-inline {list-style: none; margin:0; padding: 0}\n",
       ".list-inline>li {display: inline-block}\n",
       ".list-inline>li:not(:last-child)::after {content: \"\\00b7\"; padding: 0 .5ex}\n",
       "</style>\n",
       "<ol class=list-inline><li>861</li><li>7</li></ol>\n"
      ],
      "text/latex": [
       "\\begin{enumerate*}\n",
       "\\item 861\n",
       "\\item 7\n",
       "\\end{enumerate*}\n"
      ],
      "text/markdown": [
       "1. 861\n",
       "2. 7\n",
       "\n",
       "\n"
      ],
      "text/plain": [
       "[1] 861   7"
      ]
     },
     "metadata": {},
     "output_type": "display_data"
    },
    {
     "data": {
      "text/html": [
       "<table class=\"dataframe\">\n",
       "<caption>A data.frame: 1 × 7</caption>\n",
       "<thead>\n",
       "\t<tr><th></th><th scope=col>V1</th><th scope=col>V2</th><th scope=col>V3</th><th scope=col>V4</th><th scope=col>numerical</th><th scope=col>id</th><th scope=col>id_sample</th></tr>\n",
       "\t<tr><th></th><th scope=col>&lt;chr&gt;</th><th scope=col>&lt;chr&gt;</th><th scope=col>&lt;chr&gt;</th><th scope=col>&lt;chr&gt;</th><th scope=col>&lt;chr&gt;</th><th scope=col>&lt;chr&gt;</th><th scope=col>&lt;chr&gt;</th></tr>\n",
       "</thead>\n",
       "<tbody>\n",
       "\t<tr><th scope=row>1</th><td>GTEX-11GS4-2326-SM-5A5KS</td><td>GTEX-11GS4</td><td>True</td><td>Kidney_Cortex</td><td>1</td><td>Kidney_Cortex_1</td><td>GTEX.11GS4.2326.SM.5A5KS</td></tr>\n",
       "</tbody>\n",
       "</table>\n"
      ],
      "text/latex": [
       "A data.frame: 1 × 7\n",
       "\\begin{tabular}{r|lllllll}\n",
       "  & V1 & V2 & V3 & V4 & numerical & id & id\\_sample\\\\\n",
       "  & <chr> & <chr> & <chr> & <chr> & <chr> & <chr> & <chr>\\\\\n",
       "\\hline\n",
       "\t1 & GTEX-11GS4-2326-SM-5A5KS & GTEX-11GS4 & True & Kidney\\_Cortex & 1 & Kidney\\_Cortex\\_1 & GTEX.11GS4.2326.SM.5A5KS\\\\\n",
       "\\end{tabular}\n"
      ],
      "text/markdown": [
       "\n",
       "A data.frame: 1 × 7\n",
       "\n",
       "| <!--/--> | V1 &lt;chr&gt; | V2 &lt;chr&gt; | V3 &lt;chr&gt; | V4 &lt;chr&gt; | numerical &lt;chr&gt; | id &lt;chr&gt; | id_sample &lt;chr&gt; |\n",
       "|---|---|---|---|---|---|---|---|\n",
       "| 1 | GTEX-11GS4-2326-SM-5A5KS | GTEX-11GS4 | True | Kidney_Cortex | 1 | Kidney_Cortex_1 | GTEX.11GS4.2326.SM.5A5KS |\n",
       "\n"
      ],
      "text/plain": [
       "  V1                       V2         V3   V4            numerical\n",
       "1 GTEX-11GS4-2326-SM-5A5KS GTEX-11GS4 True Kidney_Cortex 1        \n",
       "  id              id_sample               \n",
       "1 Kidney_Cortex_1 GTEX.11GS4.2326.SM.5A5KS"
      ]
     },
     "metadata": {},
     "output_type": "display_data"
    },
    {
     "data": {
      "text/html": [
       "<style>\n",
       ".list-inline {list-style: none; margin:0; padding: 0}\n",
       ".list-inline>li {display: inline-block}\n",
       ".list-inline>li:not(:last-child)::after {content: \"\\00b7\"; padding: 0 .5ex}\n",
       "</style>\n",
       "<ol class=list-inline><li>89</li><li>7</li></ol>\n"
      ],
      "text/latex": [
       "\\begin{enumerate*}\n",
       "\\item 89\n",
       "\\item 7\n",
       "\\end{enumerate*}\n"
      ],
      "text/markdown": [
       "1. 89\n",
       "2. 7\n",
       "\n",
       "\n"
      ],
      "text/plain": [
       "[1] 89  7"
      ]
     },
     "metadata": {},
     "output_type": "display_data"
    },
    {
     "data": {
      "text/html": [
       "<table class=\"dataframe\">\n",
       "<caption>A data.frame: 1 × 7</caption>\n",
       "<thead>\n",
       "\t<tr><th></th><th scope=col>V1</th><th scope=col>V2</th><th scope=col>V3</th><th scope=col>V4</th><th scope=col>numerical</th><th scope=col>id</th><th scope=col>id_sample</th></tr>\n",
       "\t<tr><th></th><th scope=col>&lt;chr&gt;</th><th scope=col>&lt;chr&gt;</th><th scope=col>&lt;chr&gt;</th><th scope=col>&lt;chr&gt;</th><th scope=col>&lt;chr&gt;</th><th scope=col>&lt;chr&gt;</th><th scope=col>&lt;chr&gt;</th></tr>\n",
       "</thead>\n",
       "<tbody>\n",
       "\t<tr><th scope=row>1</th><td>GTEX-11DXY-0526-SM-5EGGQ</td><td>GTEX-11DXY</td><td>False</td><td>Liver</td><td>1</td><td>Liver_1</td><td>GTEX.11DXY.0526.SM.5EGGQ</td></tr>\n",
       "</tbody>\n",
       "</table>\n"
      ],
      "text/latex": [
       "A data.frame: 1 × 7\n",
       "\\begin{tabular}{r|lllllll}\n",
       "  & V1 & V2 & V3 & V4 & numerical & id & id\\_sample\\\\\n",
       "  & <chr> & <chr> & <chr> & <chr> & <chr> & <chr> & <chr>\\\\\n",
       "\\hline\n",
       "\t1 & GTEX-11DXY-0526-SM-5EGGQ & GTEX-11DXY & False & Liver & 1 & Liver\\_1 & GTEX.11DXY.0526.SM.5EGGQ\\\\\n",
       "\\end{tabular}\n"
      ],
      "text/markdown": [
       "\n",
       "A data.frame: 1 × 7\n",
       "\n",
       "| <!--/--> | V1 &lt;chr&gt; | V2 &lt;chr&gt; | V3 &lt;chr&gt; | V4 &lt;chr&gt; | numerical &lt;chr&gt; | id &lt;chr&gt; | id_sample &lt;chr&gt; |\n",
       "|---|---|---|---|---|---|---|---|\n",
       "| 1 | GTEX-11DXY-0526-SM-5EGGQ | GTEX-11DXY | False | Liver | 1 | Liver_1 | GTEX.11DXY.0526.SM.5EGGQ |\n",
       "\n"
      ],
      "text/plain": [
       "  V1                       V2         V3    V4    numerical id     \n",
       "1 GTEX-11DXY-0526-SM-5EGGQ GTEX-11DXY False Liver 1         Liver_1\n",
       "  id_sample               \n",
       "1 GTEX.11DXY.0526.SM.5EGGQ"
      ]
     },
     "metadata": {},
     "output_type": "display_data"
    },
    {
     "data": {
      "text/html": [
       "<style>\n",
       ".list-inline {list-style: none; margin:0; padding: 0}\n",
       ".list-inline>li {display: inline-block}\n",
       ".list-inline>li:not(:last-child)::after {content: \"\\00b7\"; padding: 0 .5ex}\n",
       "</style>\n",
       "<ol class=list-inline><li>226</li><li>7</li></ol>\n"
      ],
      "text/latex": [
       "\\begin{enumerate*}\n",
       "\\item 226\n",
       "\\item 7\n",
       "\\end{enumerate*}\n"
      ],
      "text/markdown": [
       "1. 226\n",
       "2. 7\n",
       "\n",
       "\n"
      ],
      "text/plain": [
       "[1] 226   7"
      ]
     },
     "metadata": {},
     "output_type": "display_data"
    },
    {
     "data": {
      "text/html": [
       "<table class=\"dataframe\">\n",
       "<caption>A data.frame: 1 × 7</caption>\n",
       "<thead>\n",
       "\t<tr><th></th><th scope=col>V1</th><th scope=col>V2</th><th scope=col>V3</th><th scope=col>V4</th><th scope=col>numerical</th><th scope=col>id</th><th scope=col>id_sample</th></tr>\n",
       "\t<tr><th></th><th scope=col>&lt;chr&gt;</th><th scope=col>&lt;chr&gt;</th><th scope=col>&lt;chr&gt;</th><th scope=col>&lt;chr&gt;</th><th scope=col>&lt;chr&gt;</th><th scope=col>&lt;chr&gt;</th><th scope=col>&lt;chr&gt;</th></tr>\n",
       "</thead>\n",
       "<tbody>\n",
       "\t<tr><th scope=row>1</th><td>GTEX-111CU-0326-SM-5GZXO</td><td>GTEX-111CU</td><td>True</td><td>Lung</td><td>1</td><td>Lung_1</td><td>GTEX.111CU.0326.SM.5GZXO</td></tr>\n",
       "</tbody>\n",
       "</table>\n"
      ],
      "text/latex": [
       "A data.frame: 1 × 7\n",
       "\\begin{tabular}{r|lllllll}\n",
       "  & V1 & V2 & V3 & V4 & numerical & id & id\\_sample\\\\\n",
       "  & <chr> & <chr> & <chr> & <chr> & <chr> & <chr> & <chr>\\\\\n",
       "\\hline\n",
       "\t1 & GTEX-111CU-0326-SM-5GZXO & GTEX-111CU & True & Lung & 1 & Lung\\_1 & GTEX.111CU.0326.SM.5GZXO\\\\\n",
       "\\end{tabular}\n"
      ],
      "text/markdown": [
       "\n",
       "A data.frame: 1 × 7\n",
       "\n",
       "| <!--/--> | V1 &lt;chr&gt; | V2 &lt;chr&gt; | V3 &lt;chr&gt; | V4 &lt;chr&gt; | numerical &lt;chr&gt; | id &lt;chr&gt; | id_sample &lt;chr&gt; |\n",
       "|---|---|---|---|---|---|---|---|\n",
       "| 1 | GTEX-111CU-0326-SM-5GZXO | GTEX-111CU | True | Lung | 1 | Lung_1 | GTEX.111CU.0326.SM.5GZXO |\n",
       "\n"
      ],
      "text/plain": [
       "  V1                       V2         V3   V4   numerical id    \n",
       "1 GTEX-111CU-0326-SM-5GZXO GTEX-111CU True Lung 1         Lung_1\n",
       "  id_sample               \n",
       "1 GTEX.111CU.0326.SM.5GZXO"
      ]
     },
     "metadata": {},
     "output_type": "display_data"
    },
    {
     "data": {
      "text/html": [
       "<style>\n",
       ".list-inline {list-style: none; margin:0; padding: 0}\n",
       ".list-inline>li {display: inline-block}\n",
       ".list-inline>li:not(:last-child)::after {content: \"\\00b7\"; padding: 0 .5ex}\n",
       "</style>\n",
       "<ol class=list-inline><li>578</li><li>7</li></ol>\n"
      ],
      "text/latex": [
       "\\begin{enumerate*}\n",
       "\\item 578\n",
       "\\item 7\n",
       "\\end{enumerate*}\n"
      ],
      "text/markdown": [
       "1. 578\n",
       "2. 7\n",
       "\n",
       "\n"
      ],
      "text/plain": [
       "[1] 578   7"
      ]
     },
     "metadata": {},
     "output_type": "display_data"
    },
    {
     "data": {
      "text/html": [
       "<table class=\"dataframe\">\n",
       "<caption>A data.frame: 1 × 7</caption>\n",
       "<thead>\n",
       "\t<tr><th></th><th scope=col>V1</th><th scope=col>V2</th><th scope=col>V3</th><th scope=col>V4</th><th scope=col>numerical</th><th scope=col>id</th><th scope=col>id_sample</th></tr>\n",
       "\t<tr><th></th><th scope=col>&lt;chr&gt;</th><th scope=col>&lt;chr&gt;</th><th scope=col>&lt;chr&gt;</th><th scope=col>&lt;chr&gt;</th><th scope=col>&lt;chr&gt;</th><th scope=col>&lt;chr&gt;</th><th scope=col>&lt;chr&gt;</th></tr>\n",
       "</thead>\n",
       "<tbody>\n",
       "\t<tr><th scope=row>1</th><td>GTEX-1117F-0426-SM-5EGHI</td><td>GTEX-1117F</td><td>True</td><td>Muscle_Skeletal</td><td>1</td><td>Muscle_Skeletal_1</td><td>GTEX.1117F.0426.SM.5EGHI</td></tr>\n",
       "</tbody>\n",
       "</table>\n"
      ],
      "text/latex": [
       "A data.frame: 1 × 7\n",
       "\\begin{tabular}{r|lllllll}\n",
       "  & V1 & V2 & V3 & V4 & numerical & id & id\\_sample\\\\\n",
       "  & <chr> & <chr> & <chr> & <chr> & <chr> & <chr> & <chr>\\\\\n",
       "\\hline\n",
       "\t1 & GTEX-1117F-0426-SM-5EGHI & GTEX-1117F & True & Muscle\\_Skeletal & 1 & Muscle\\_Skeletal\\_1 & GTEX.1117F.0426.SM.5EGHI\\\\\n",
       "\\end{tabular}\n"
      ],
      "text/markdown": [
       "\n",
       "A data.frame: 1 × 7\n",
       "\n",
       "| <!--/--> | V1 &lt;chr&gt; | V2 &lt;chr&gt; | V3 &lt;chr&gt; | V4 &lt;chr&gt; | numerical &lt;chr&gt; | id &lt;chr&gt; | id_sample &lt;chr&gt; |\n",
       "|---|---|---|---|---|---|---|---|\n",
       "| 1 | GTEX-1117F-0426-SM-5EGHI | GTEX-1117F | True | Muscle_Skeletal | 1 | Muscle_Skeletal_1 | GTEX.1117F.0426.SM.5EGHI |\n",
       "\n"
      ],
      "text/plain": [
       "  V1                       V2         V3   V4              numerical\n",
       "1 GTEX-1117F-0426-SM-5EGHI GTEX-1117F True Muscle_Skeletal 1        \n",
       "  id                id_sample               \n",
       "1 Muscle_Skeletal_1 GTEX.1117F.0426.SM.5EGHI"
      ]
     },
     "metadata": {},
     "output_type": "display_data"
    },
    {
     "data": {
      "text/html": [
       "<style>\n",
       ".list-inline {list-style: none; margin:0; padding: 0}\n",
       ".list-inline>li {display: inline-block}\n",
       ".list-inline>li:not(:last-child)::after {content: \"\\00b7\"; padding: 0 .5ex}\n",
       "</style>\n",
       "<ol class=list-inline><li>803</li><li>7</li></ol>\n"
      ],
      "text/latex": [
       "\\begin{enumerate*}\n",
       "\\item 803\n",
       "\\item 7\n",
       "\\end{enumerate*}\n"
      ],
      "text/markdown": [
       "1. 803\n",
       "2. 7\n",
       "\n",
       "\n"
      ],
      "text/plain": [
       "[1] 803   7"
      ]
     },
     "metadata": {},
     "output_type": "display_data"
    },
    {
     "data": {
      "text/html": [
       "<table class=\"dataframe\">\n",
       "<caption>A data.frame: 1 × 7</caption>\n",
       "<thead>\n",
       "\t<tr><th></th><th scope=col>V1</th><th scope=col>V2</th><th scope=col>V3</th><th scope=col>V4</th><th scope=col>numerical</th><th scope=col>id</th><th scope=col>id_sample</th></tr>\n",
       "\t<tr><th></th><th scope=col>&lt;chr&gt;</th><th scope=col>&lt;chr&gt;</th><th scope=col>&lt;chr&gt;</th><th scope=col>&lt;chr&gt;</th><th scope=col>&lt;chr&gt;</th><th scope=col>&lt;chr&gt;</th><th scope=col>&lt;chr&gt;</th></tr>\n",
       "</thead>\n",
       "<tbody>\n",
       "\t<tr><th scope=row>1</th><td>GTEX-111CU-0526-SM-5EGHK</td><td>GTEX-111CU</td><td>True</td><td>Pancreas</td><td>1</td><td>Pancreas_1</td><td>GTEX.111CU.0526.SM.5EGHK</td></tr>\n",
       "</tbody>\n",
       "</table>\n"
      ],
      "text/latex": [
       "A data.frame: 1 × 7\n",
       "\\begin{tabular}{r|lllllll}\n",
       "  & V1 & V2 & V3 & V4 & numerical & id & id\\_sample\\\\\n",
       "  & <chr> & <chr> & <chr> & <chr> & <chr> & <chr> & <chr>\\\\\n",
       "\\hline\n",
       "\t1 & GTEX-111CU-0526-SM-5EGHK & GTEX-111CU & True & Pancreas & 1 & Pancreas\\_1 & GTEX.111CU.0526.SM.5EGHK\\\\\n",
       "\\end{tabular}\n"
      ],
      "text/markdown": [
       "\n",
       "A data.frame: 1 × 7\n",
       "\n",
       "| <!--/--> | V1 &lt;chr&gt; | V2 &lt;chr&gt; | V3 &lt;chr&gt; | V4 &lt;chr&gt; | numerical &lt;chr&gt; | id &lt;chr&gt; | id_sample &lt;chr&gt; |\n",
       "|---|---|---|---|---|---|---|---|\n",
       "| 1 | GTEX-111CU-0526-SM-5EGHK | GTEX-111CU | True | Pancreas | 1 | Pancreas_1 | GTEX.111CU.0526.SM.5EGHK |\n",
       "\n"
      ],
      "text/plain": [
       "  V1                       V2         V3   V4       numerical id        \n",
       "1 GTEX-111CU-0526-SM-5EGHK GTEX-111CU True Pancreas 1         Pancreas_1\n",
       "  id_sample               \n",
       "1 GTEX.111CU.0526.SM.5EGHK"
      ]
     },
     "metadata": {},
     "output_type": "display_data"
    },
    {
     "data": {
      "text/html": [
       "<style>\n",
       ".list-inline {list-style: none; margin:0; padding: 0}\n",
       ".list-inline>li {display: inline-block}\n",
       ".list-inline>li:not(:last-child)::after {content: \"\\00b7\"; padding: 0 .5ex}\n",
       "</style>\n",
       "<ol class=list-inline><li>328</li><li>7</li></ol>\n"
      ],
      "text/latex": [
       "\\begin{enumerate*}\n",
       "\\item 328\n",
       "\\item 7\n",
       "\\end{enumerate*}\n"
      ],
      "text/markdown": [
       "1. 328\n",
       "2. 7\n",
       "\n",
       "\n"
      ],
      "text/plain": [
       "[1] 328   7"
      ]
     },
     "metadata": {},
     "output_type": "display_data"
    },
    {
     "data": {
      "text/html": [
       "<table class=\"dataframe\">\n",
       "<caption>A data.frame: 1 × 7</caption>\n",
       "<thead>\n",
       "\t<tr><th></th><th scope=col>V1</th><th scope=col>V2</th><th scope=col>V3</th><th scope=col>V4</th><th scope=col>numerical</th><th scope=col>id</th><th scope=col>id_sample</th></tr>\n",
       "\t<tr><th></th><th scope=col>&lt;chr&gt;</th><th scope=col>&lt;chr&gt;</th><th scope=col>&lt;chr&gt;</th><th scope=col>&lt;chr&gt;</th><th scope=col>&lt;chr&gt;</th><th scope=col>&lt;chr&gt;</th><th scope=col>&lt;chr&gt;</th></tr>\n",
       "</thead>\n",
       "<tbody>\n",
       "\t<tr><th scope=row>1</th><td>GTEX-1128S-2626-SM-5H11Z</td><td>GTEX-1128S</td><td>True</td><td>Pituitary</td><td>1</td><td>Pituitary_1</td><td>GTEX.1128S.2626.SM.5H11Z</td></tr>\n",
       "</tbody>\n",
       "</table>\n"
      ],
      "text/latex": [
       "A data.frame: 1 × 7\n",
       "\\begin{tabular}{r|lllllll}\n",
       "  & V1 & V2 & V3 & V4 & numerical & id & id\\_sample\\\\\n",
       "  & <chr> & <chr> & <chr> & <chr> & <chr> & <chr> & <chr>\\\\\n",
       "\\hline\n",
       "\t1 & GTEX-1128S-2626-SM-5H11Z & GTEX-1128S & True & Pituitary & 1 & Pituitary\\_1 & GTEX.1128S.2626.SM.5H11Z\\\\\n",
       "\\end{tabular}\n"
      ],
      "text/markdown": [
       "\n",
       "A data.frame: 1 × 7\n",
       "\n",
       "| <!--/--> | V1 &lt;chr&gt; | V2 &lt;chr&gt; | V3 &lt;chr&gt; | V4 &lt;chr&gt; | numerical &lt;chr&gt; | id &lt;chr&gt; | id_sample &lt;chr&gt; |\n",
       "|---|---|---|---|---|---|---|---|\n",
       "| 1 | GTEX-1128S-2626-SM-5H11Z | GTEX-1128S | True | Pituitary | 1 | Pituitary_1 | GTEX.1128S.2626.SM.5H11Z |\n",
       "\n"
      ],
      "text/plain": [
       "  V1                       V2         V3   V4        numerical id         \n",
       "1 GTEX-1128S-2626-SM-5H11Z GTEX-1128S True Pituitary 1         Pituitary_1\n",
       "  id_sample               \n",
       "1 GTEX.1128S.2626.SM.5H11Z"
      ]
     },
     "metadata": {},
     "output_type": "display_data"
    },
    {
     "data": {
      "text/html": [
       "<style>\n",
       ".list-inline {list-style: none; margin:0; padding: 0}\n",
       ".list-inline>li {display: inline-block}\n",
       ".list-inline>li:not(:last-child)::after {content: \"\\00b7\"; padding: 0 .5ex}\n",
       "</style>\n",
       "<ol class=list-inline><li>283</li><li>7</li></ol>\n"
      ],
      "text/latex": [
       "\\begin{enumerate*}\n",
       "\\item 283\n",
       "\\item 7\n",
       "\\end{enumerate*}\n"
      ],
      "text/markdown": [
       "1. 283\n",
       "2. 7\n",
       "\n",
       "\n"
      ],
      "text/plain": [
       "[1] 283   7"
      ]
     },
     "metadata": {},
     "output_type": "display_data"
    },
    {
     "data": {
      "text/html": [
       "<table class=\"dataframe\">\n",
       "<caption>A data.frame: 1 × 7</caption>\n",
       "<thead>\n",
       "\t<tr><th></th><th scope=col>V1</th><th scope=col>V2</th><th scope=col>V3</th><th scope=col>V4</th><th scope=col>numerical</th><th scope=col>id</th><th scope=col>id_sample</th></tr>\n",
       "\t<tr><th></th><th scope=col>&lt;chr&gt;</th><th scope=col>&lt;chr&gt;</th><th scope=col>&lt;chr&gt;</th><th scope=col>&lt;chr&gt;</th><th scope=col>&lt;chr&gt;</th><th scope=col>&lt;chr&gt;</th><th scope=col>&lt;chr&gt;</th></tr>\n",
       "</thead>\n",
       "<tbody>\n",
       "\t<tr><th scope=row>1</th><td>GTEX-111CU-0426-SM-5GZY1</td><td>GTEX-111CU</td><td>True</td><td>Spleen</td><td>1</td><td>Spleen_1</td><td>GTEX.111CU.0426.SM.5GZY1</td></tr>\n",
       "</tbody>\n",
       "</table>\n"
      ],
      "text/latex": [
       "A data.frame: 1 × 7\n",
       "\\begin{tabular}{r|lllllll}\n",
       "  & V1 & V2 & V3 & V4 & numerical & id & id\\_sample\\\\\n",
       "  & <chr> & <chr> & <chr> & <chr> & <chr> & <chr> & <chr>\\\\\n",
       "\\hline\n",
       "\t1 & GTEX-111CU-0426-SM-5GZY1 & GTEX-111CU & True & Spleen & 1 & Spleen\\_1 & GTEX.111CU.0426.SM.5GZY1\\\\\n",
       "\\end{tabular}\n"
      ],
      "text/markdown": [
       "\n",
       "A data.frame: 1 × 7\n",
       "\n",
       "| <!--/--> | V1 &lt;chr&gt; | V2 &lt;chr&gt; | V3 &lt;chr&gt; | V4 &lt;chr&gt; | numerical &lt;chr&gt; | id &lt;chr&gt; | id_sample &lt;chr&gt; |\n",
       "|---|---|---|---|---|---|---|---|\n",
       "| 1 | GTEX-111CU-0426-SM-5GZY1 | GTEX-111CU | True | Spleen | 1 | Spleen_1 | GTEX.111CU.0426.SM.5GZY1 |\n",
       "\n"
      ],
      "text/plain": [
       "  V1                       V2         V3   V4     numerical id      \n",
       "1 GTEX-111CU-0426-SM-5GZY1 GTEX-111CU True Spleen 1         Spleen_1\n",
       "  id_sample               \n",
       "1 GTEX.111CU.0426.SM.5GZY1"
      ]
     },
     "metadata": {},
     "output_type": "display_data"
    },
    {
     "data": {
      "text/html": [
       "<style>\n",
       ".list-inline {list-style: none; margin:0; padding: 0}\n",
       ".list-inline>li {display: inline-block}\n",
       ".list-inline>li:not(:last-child)::after {content: \"\\00b7\"; padding: 0 .5ex}\n",
       "</style>\n",
       "<ol class=list-inline><li>241</li><li>7</li></ol>\n"
      ],
      "text/latex": [
       "\\begin{enumerate*}\n",
       "\\item 241\n",
       "\\item 7\n",
       "\\end{enumerate*}\n"
      ],
      "text/markdown": [
       "1. 241\n",
       "2. 7\n",
       "\n",
       "\n"
      ],
      "text/plain": [
       "[1] 241   7"
      ]
     },
     "metadata": {},
     "output_type": "display_data"
    },
    {
     "data": {
      "text/html": [
       "<table class=\"dataframe\">\n",
       "<caption>A data.frame: 1 × 7</caption>\n",
       "<thead>\n",
       "\t<tr><th></th><th scope=col>V1</th><th scope=col>V2</th><th scope=col>V3</th><th scope=col>V4</th><th scope=col>numerical</th><th scope=col>id</th><th scope=col>id_sample</th></tr>\n",
       "\t<tr><th></th><th scope=col>&lt;chr&gt;</th><th scope=col>&lt;chr&gt;</th><th scope=col>&lt;chr&gt;</th><th scope=col>&lt;chr&gt;</th><th scope=col>&lt;chr&gt;</th><th scope=col>&lt;chr&gt;</th><th scope=col>&lt;chr&gt;</th></tr>\n",
       "</thead>\n",
       "<tbody>\n",
       "\t<tr><th scope=row>1</th><td>GTEX-111CU-0926-SM-5EGIK</td><td>GTEX-111CU</td><td>True</td><td>Stomach</td><td>1</td><td>Stomach_1</td><td>GTEX.111CU.0926.SM.5EGIK</td></tr>\n",
       "</tbody>\n",
       "</table>\n"
      ],
      "text/latex": [
       "A data.frame: 1 × 7\n",
       "\\begin{tabular}{r|lllllll}\n",
       "  & V1 & V2 & V3 & V4 & numerical & id & id\\_sample\\\\\n",
       "  & <chr> & <chr> & <chr> & <chr> & <chr> & <chr> & <chr>\\\\\n",
       "\\hline\n",
       "\t1 & GTEX-111CU-0926-SM-5EGIK & GTEX-111CU & True & Stomach & 1 & Stomach\\_1 & GTEX.111CU.0926.SM.5EGIK\\\\\n",
       "\\end{tabular}\n"
      ],
      "text/markdown": [
       "\n",
       "A data.frame: 1 × 7\n",
       "\n",
       "| <!--/--> | V1 &lt;chr&gt; | V2 &lt;chr&gt; | V3 &lt;chr&gt; | V4 &lt;chr&gt; | numerical &lt;chr&gt; | id &lt;chr&gt; | id_sample &lt;chr&gt; |\n",
       "|---|---|---|---|---|---|---|---|\n",
       "| 1 | GTEX-111CU-0926-SM-5EGIK | GTEX-111CU | True | Stomach | 1 | Stomach_1 | GTEX.111CU.0926.SM.5EGIK |\n",
       "\n"
      ],
      "text/plain": [
       "  V1                       V2         V3   V4      numerical id       \n",
       "1 GTEX-111CU-0926-SM-5EGIK GTEX-111CU True Stomach 1         Stomach_1\n",
       "  id_sample               \n",
       "1 GTEX.111CU.0926.SM.5EGIK"
      ]
     },
     "metadata": {},
     "output_type": "display_data"
    },
    {
     "data": {
      "text/html": [
       "<style>\n",
       ".list-inline {list-style: none; margin:0; padding: 0}\n",
       ".list-inline>li {display: inline-block}\n",
       ".list-inline>li:not(:last-child)::after {content: \"\\00b7\"; padding: 0 .5ex}\n",
       "</style>\n",
       "<ol class=list-inline><li>359</li><li>7</li></ol>\n"
      ],
      "text/latex": [
       "\\begin{enumerate*}\n",
       "\\item 359\n",
       "\\item 7\n",
       "\\end{enumerate*}\n"
      ],
      "text/markdown": [
       "1. 359\n",
       "2. 7\n",
       "\n",
       "\n"
      ],
      "text/plain": [
       "[1] 359   7"
      ]
     },
     "metadata": {},
     "output_type": "display_data"
    },
    {
     "data": {
      "text/html": [
       "<table class=\"dataframe\">\n",
       "<caption>A data.frame: 1 × 7</caption>\n",
       "<thead>\n",
       "\t<tr><th></th><th scope=col>V1</th><th scope=col>V2</th><th scope=col>V3</th><th scope=col>V4</th><th scope=col>numerical</th><th scope=col>id</th><th scope=col>id_sample</th></tr>\n",
       "\t<tr><th></th><th scope=col>&lt;chr&gt;</th><th scope=col>&lt;chr&gt;</th><th scope=col>&lt;chr&gt;</th><th scope=col>&lt;chr&gt;</th><th scope=col>&lt;chr&gt;</th><th scope=col>&lt;chr&gt;</th><th scope=col>&lt;chr&gt;</th></tr>\n",
       "</thead>\n",
       "<tbody>\n",
       "\t<tr><th scope=row>1</th><td>GTEX-111CU-0226-SM-5GZXC</td><td>GTEX-111CU</td><td>True</td><td>Thyroid</td><td>1</td><td>Thyroid_1</td><td>GTEX.111CU.0226.SM.5GZXC</td></tr>\n",
       "</tbody>\n",
       "</table>\n"
      ],
      "text/latex": [
       "A data.frame: 1 × 7\n",
       "\\begin{tabular}{r|lllllll}\n",
       "  & V1 & V2 & V3 & V4 & numerical & id & id\\_sample\\\\\n",
       "  & <chr> & <chr> & <chr> & <chr> & <chr> & <chr> & <chr>\\\\\n",
       "\\hline\n",
       "\t1 & GTEX-111CU-0226-SM-5GZXC & GTEX-111CU & True & Thyroid & 1 & Thyroid\\_1 & GTEX.111CU.0226.SM.5GZXC\\\\\n",
       "\\end{tabular}\n"
      ],
      "text/markdown": [
       "\n",
       "A data.frame: 1 × 7\n",
       "\n",
       "| <!--/--> | V1 &lt;chr&gt; | V2 &lt;chr&gt; | V3 &lt;chr&gt; | V4 &lt;chr&gt; | numerical &lt;chr&gt; | id &lt;chr&gt; | id_sample &lt;chr&gt; |\n",
       "|---|---|---|---|---|---|---|---|\n",
       "| 1 | GTEX-111CU-0226-SM-5GZXC | GTEX-111CU | True | Thyroid | 1 | Thyroid_1 | GTEX.111CU.0226.SM.5GZXC |\n",
       "\n"
      ],
      "text/plain": [
       "  V1                       V2         V3   V4      numerical id       \n",
       "1 GTEX-111CU-0226-SM-5GZXC GTEX-111CU True Thyroid 1         Thyroid_1\n",
       "  id_sample               \n",
       "1 GTEX.111CU.0226.SM.5GZXC"
      ]
     },
     "metadata": {},
     "output_type": "display_data"
    },
    {
     "data": {
      "text/html": [
       "<style>\n",
       ".list-inline {list-style: none; margin:0; padding: 0}\n",
       ".list-inline>li {display: inline-block}\n",
       ".list-inline>li:not(:last-child)::after {content: \"\\00b7\"; padding: 0 .5ex}\n",
       "</style>\n",
       "<ol class=list-inline><li>653</li><li>7</li></ol>\n"
      ],
      "text/latex": [
       "\\begin{enumerate*}\n",
       "\\item 653\n",
       "\\item 7\n",
       "\\end{enumerate*}\n"
      ],
      "text/markdown": [
       "1. 653\n",
       "2. 7\n",
       "\n",
       "\n"
      ],
      "text/plain": [
       "[1] 653   7"
      ]
     },
     "metadata": {},
     "output_type": "display_data"
    }
   ],
   "source": [
    "Heart = read.table(\"GTEx_Analysis_v8_RNAseq_samples.Heart.txt\",  header=F, sep=\"\\t\", stringsAsFactors=F)\n",
    "Heart$numerical = rownames(Heart)\n",
    "Heart$id = paste(Heart$V4, Heart$numerical, sep=\"_\")\n",
    "Heart$id_sample = (str_replace_all(Heart$V1, \"-\", \".\")) \n",
    "head(Heart, n=1)\n",
    "dim(Heart)\n",
    "\n",
    "\n",
    "\n",
    "Kidney = read.table(\"GTEx_Analysis_v8_RNAseq_samples.Kidney.txt\",  header=F, sep=\"\\t\", stringsAsFactors=F)\n",
    "Kidney$numerical = rownames(Kidney)\n",
    "Kidney$id = paste(Kidney$V4, Kidney$numerical, sep=\"_\")\n",
    "Kidney$id_sample = (str_replace_all(Kidney$V1, \"-\", \".\")) \n",
    "head(Kidney, n=1)\n",
    "dim(Kidney)\n",
    "\n",
    "\n",
    "\n",
    "Liver = read.table(\"GTEx_Analysis_v8_RNAseq_samples.Liver.txt\",  header=F, sep=\"\\t\", stringsAsFactors=F)\n",
    "Liver$numerical = rownames(Liver)\n",
    "Liver$id = paste(Liver$V4, Liver$numerical, sep=\"_\")\n",
    "Liver$id_sample = (str_replace_all(Liver$V1, \"-\", \".\")) \n",
    "head(Liver, n=1)\n",
    "dim(Liver)\n",
    "\n",
    "\n",
    "\n",
    "Lung = read.table(\"GTEx_Analysis_v8_RNAseq_samples.Lung.txt\",  header=F, sep=\"\\t\", stringsAsFactors=F)\n",
    "Lung$numerical = rownames(Lung)\n",
    "Lung$id = paste(Lung$V4, Lung$numerical, sep=\"_\")\n",
    "Lung$id_sample = (str_replace_all(Lung$V1, \"-\", \".\")) \n",
    "head(Lung, n=1)\n",
    "dim(Lung)\n",
    "\n",
    "\n",
    "\n",
    "Muscle = read.table(\"GTEx_Analysis_v8_RNAseq_samples.Muscle.txt\",  header=F, sep=\"\\t\", stringsAsFactors=F)\n",
    "Muscle$numerical = rownames(Muscle)\n",
    "Muscle$id = paste(Muscle$V4, Muscle$numerical, sep=\"_\")\n",
    "Muscle$id_sample = (str_replace_all(Muscle$V1, \"-\", \".\")) \n",
    "head(Muscle, n=1)\n",
    "dim(Muscle)\n",
    "\n",
    "\n",
    "Pancreas = read.table(\"GTEx_Analysis_v8_RNAseq_samples.Pancreas.txt\",  header=F, sep=\"\\t\", stringsAsFactors=F)\n",
    "Pancreas$numerical = rownames(Pancreas)\n",
    "Pancreas$id = paste(Pancreas$V4, Pancreas$numerical, sep=\"_\")\n",
    "Pancreas$id_sample = (str_replace_all(Pancreas$V1, \"-\", \".\")) \n",
    "head(Pancreas, n=1)\n",
    "dim(Pancreas)\n",
    "\n",
    "\n",
    "Pituitary = read.table(\"GTEx_Analysis_v8_RNAseq_samples.Pituitary.txt\",  header=F, sep=\"\\t\", stringsAsFactors=F)\n",
    "Pituitary$numerical = rownames(Pituitary)\n",
    "Pituitary$id = paste(Pituitary$V4, Pituitary$numerical, sep=\"_\")\n",
    "Pituitary$id_sample = (str_replace_all(Pituitary$V1, \"-\", \".\")) \n",
    "head(Pituitary, n=1)\n",
    "dim(Pituitary)\n",
    "\n",
    "\n",
    "\n",
    "Spleen = read.table(\"GTEx_Analysis_v8_RNAseq_samples.Spleen.txt\",  header=F, sep=\"\\t\", stringsAsFactors=F)\n",
    "Spleen$numerical = rownames(Spleen)\n",
    "Spleen$id = paste(Spleen$V4, Spleen$numerical, sep=\"_\")\n",
    "Spleen$id_sample = (str_replace_all(Spleen$V1, \"-\", \".\")) \n",
    "head(Spleen, n=1)\n",
    "dim(Spleen)\n",
    "\n",
    "\n",
    "\n",
    "Stomach = read.table(\"GTEx_Analysis_v8_RNAseq_samples.Stomach.txt\",  header=F, sep=\"\\t\", stringsAsFactors=F)\n",
    "Stomach$numerical = rownames(Stomach)\n",
    "Stomach$id = paste(Stomach$V4, Stomach$numerical, sep=\"_\")\n",
    "Stomach$id_sample = (str_replace_all(Stomach$V1, \"-\", \".\")) \n",
    "head(Stomach, n=1)\n",
    "dim(Stomach)\n",
    "\n",
    "\n",
    "\n",
    "Thyroid = read.table(\"GTEx_Analysis_v8_RNAseq_samples.Thyroid.txt\",  header=F, sep=\"\\t\", stringsAsFactors=F)\n",
    "Thyroid$numerical = rownames(Thyroid)\n",
    "Thyroid$id = paste(Thyroid$V4, Thyroid$numerical, sep=\"_\")\n",
    "Thyroid$id_sample = (str_replace_all(Thyroid$V1, \"-\", \".\")) \n",
    "head(Thyroid, n=1)\n",
    "dim(Thyroid)\n"
   ]
  },
  {
   "cell_type": "code",
   "execution_count": 15,
   "id": "03ac4579",
   "metadata": {
    "scrolled": true
   },
   "outputs": [],
   "source": [
    "# To separate the data frame per tissue"
   ]
  },
  {
   "cell_type": "code",
   "execution_count": 166,
   "id": "b17c175c",
   "metadata": {},
   "outputs": [
    {
     "data": {
      "text/html": [
       "<style>\n",
       ".list-inline {list-style: none; margin:0; padding: 0}\n",
       ".list-inline>li {display: inline-block}\n",
       ".list-inline>li:not(:last-child)::after {content: \"\\00b7\"; padding: 0 .5ex}\n",
       "</style>\n",
       "<ol class=list-inline><li>18446</li><li>861</li></ol>\n"
      ],
      "text/latex": [
       "\\begin{enumerate*}\n",
       "\\item 18446\n",
       "\\item 861\n",
       "\\end{enumerate*}\n"
      ],
      "text/markdown": [
       "1. 18446\n",
       "2. 861\n",
       "\n",
       "\n"
      ],
      "text/plain": [
       "[1] 18446   861"
      ]
     },
     "metadata": {},
     "output_type": "display_data"
    },
    {
     "data": {
      "text/html": [
       "<table class=\"dataframe\">\n",
       "<caption>A data.frame: 6 × 861</caption>\n",
       "<thead>\n",
       "\t<tr><th></th><th scope=col>GTEX.1117F.0726.SM.5GIEN</th><th scope=col>GTEX.111FC.0626.SM.5N9CU</th><th scope=col>GTEX.111FC.0826.SM.5GZWO</th><th scope=col>GTEX.111VG.0326.SM.5GZX7</th><th scope=col>GTEX.111YS.0326.SM.5GZZ3</th><th scope=col>GTEX.111YS.0426.SM.5987O</th><th scope=col>GTEX.1122O.0626.SM.5N9B9</th><th scope=col>GTEX.1122O.0826.SM.5GICV</th><th scope=col>GTEX.117XS.0726.SM.5H131</th><th scope=col>GTEX.117YW.0326.SM.5N9CY</th><th scope=col>⋯</th><th scope=col>GTEX.ZYFD.2026.SM.5E459</th><th scope=col>GTEX.ZYFG.0426.SM.5E43M</th><th scope=col>GTEX.ZYFG.0526.SM.5GZXX</th><th scope=col>GTEX.ZYT6.0926.SM.5GIEM</th><th scope=col>GTEX.ZYT6.1726.SM.5E44P</th><th scope=col>GTEX.ZYVF.1826.SM.5E44F</th><th scope=col>GTEX.ZYW4.0926.SM.59HJS</th><th scope=col>GTEX.ZZPT.0926.SM.5GICZ</th><th scope=col>GTEX.ZZPU.0926.SM.5GZYT</th><th scope=col>GTEX.ZZPU.1126.SM.5N9CW</th></tr>\n",
       "\t<tr><th></th><th scope=col>&lt;dbl&gt;</th><th scope=col>&lt;dbl&gt;</th><th scope=col>&lt;dbl&gt;</th><th scope=col>&lt;dbl&gt;</th><th scope=col>&lt;dbl&gt;</th><th scope=col>&lt;dbl&gt;</th><th scope=col>&lt;dbl&gt;</th><th scope=col>&lt;dbl&gt;</th><th scope=col>&lt;dbl&gt;</th><th scope=col>&lt;dbl&gt;</th><th scope=col>⋯</th><th scope=col>&lt;dbl&gt;</th><th scope=col>&lt;dbl&gt;</th><th scope=col>&lt;dbl&gt;</th><th scope=col>&lt;dbl&gt;</th><th scope=col>&lt;dbl&gt;</th><th scope=col>&lt;dbl&gt;</th><th scope=col>&lt;dbl&gt;</th><th scope=col>&lt;dbl&gt;</th><th scope=col>&lt;dbl&gt;</th><th scope=col>&lt;dbl&gt;</th></tr>\n",
       "</thead>\n",
       "<tbody>\n",
       "\t<tr><th scope=row>OR4F5</th><td> 0.04233</td><td> 0.048</td><td> 0.14700</td><td> 0.08739</td><td> 0.07495</td><td> 0.08668</td><td> 0.20240</td><td> 0.1403</td><td> 0.10160</td><td>0.09944</td><td>⋯</td><td> 0.11300</td><td> 0.1398</td><td> 0.00000</td><td> 0.03603</td><td>0.11200</td><td> 0.18270</td><td> 0.2386</td><td> 0.06841</td><td> 0.06997</td><td> 0.12900</td></tr>\n",
       "\t<tr><th scope=row>OR4F29</th><td> 0.00000</td><td> 0.000</td><td> 0.11490</td><td> 0.05696</td><td> 0.03664</td><td> 0.08474</td><td> 0.00000</td><td> 0.0343</td><td> 0.06622</td><td>0.09721</td><td>⋯</td><td> 0.03684</td><td> 0.1366</td><td> 0.09622</td><td> 0.03522</td><td>0.03651</td><td> 0.17870</td><td> 0.1696</td><td> 0.00000</td><td> 0.10260</td><td> 0.00000</td></tr>\n",
       "\t<tr><th scope=row>OR4F16</th><td> 0.04138</td><td> 0.000</td><td> 0.02873</td><td> 0.11390</td><td> 0.03664</td><td> 0.02825</td><td> 0.06595</td><td> 0.0343</td><td> 0.09933</td><td>0.04861</td><td>⋯</td><td> 0.22100</td><td> 0.1093</td><td> 0.16040</td><td> 0.03522</td><td>0.05476</td><td> 0.07657</td><td> 0.2332</td><td> 0.10030</td><td> 0.03420</td><td> 0.03154</td></tr>\n",
       "\t<tr><th scope=row>SAMD11</th><td>11.39000</td><td>18.940</td><td> 1.59900</td><td>10.90000</td><td> 0.95480</td><td> 0.29140</td><td> 1.66500</td><td> 0.3259</td><td> 9.38300</td><td>0.73890</td><td>⋯</td><td> 4.40000</td><td> 0.3487</td><td> 2.57700</td><td> 9.15000</td><td>0.35680</td><td> 9.84600</td><td> 0.3972</td><td> 4.55700</td><td> 0.64060</td><td> 6.65200</td></tr>\n",
       "\t<tr><th scope=row>NOC2L</th><td>26.52000</td><td>40.990</td><td>21.96000</td><td>16.94000</td><td>28.45000</td><td>21.76000</td><td>34.88000</td><td>31.1300</td><td>20.39000</td><td>9.71600</td><td>⋯</td><td>52.84000</td><td>25.9000</td><td>21.84000</td><td>31.91000</td><td>4.64800</td><td>30.88000</td><td>19.6200</td><td>29.06000</td><td>28.40000</td><td>34.88000</td></tr>\n",
       "\t<tr><th scope=row>KLHL17</th><td> 6.50300</td><td> 7.844</td><td> 3.57900</td><td> 4.99000</td><td> 2.42400</td><td> 2.47000</td><td> 3.91600</td><td> 2.7560</td><td> 4.02800</td><td>2.18800</td><td>⋯</td><td> 3.09100</td><td> 2.5840</td><td> 2.28700</td><td> 5.99000</td><td>1.73200</td><td> 4.36500</td><td> 2.2300</td><td> 9.33400</td><td> 3.64200</td><td> 6.38100</td></tr>\n",
       "</tbody>\n",
       "</table>\n"
      ],
      "text/latex": [
       "A data.frame: 6 × 861\n",
       "\\begin{tabular}{r|lllllllllllllllllllll}\n",
       "  & GTEX.1117F.0726.SM.5GIEN & GTEX.111FC.0626.SM.5N9CU & GTEX.111FC.0826.SM.5GZWO & GTEX.111VG.0326.SM.5GZX7 & GTEX.111YS.0326.SM.5GZZ3 & GTEX.111YS.0426.SM.5987O & GTEX.1122O.0626.SM.5N9B9 & GTEX.1122O.0826.SM.5GICV & GTEX.117XS.0726.SM.5H131 & GTEX.117YW.0326.SM.5N9CY & ⋯ & GTEX.ZYFD.2026.SM.5E459 & GTEX.ZYFG.0426.SM.5E43M & GTEX.ZYFG.0526.SM.5GZXX & GTEX.ZYT6.0926.SM.5GIEM & GTEX.ZYT6.1726.SM.5E44P & GTEX.ZYVF.1826.SM.5E44F & GTEX.ZYW4.0926.SM.59HJS & GTEX.ZZPT.0926.SM.5GICZ & GTEX.ZZPU.0926.SM.5GZYT & GTEX.ZZPU.1126.SM.5N9CW\\\\\n",
       "  & <dbl> & <dbl> & <dbl> & <dbl> & <dbl> & <dbl> & <dbl> & <dbl> & <dbl> & <dbl> & ⋯ & <dbl> & <dbl> & <dbl> & <dbl> & <dbl> & <dbl> & <dbl> & <dbl> & <dbl> & <dbl>\\\\\n",
       "\\hline\n",
       "\tOR4F5 &  0.04233 &  0.048 &  0.14700 &  0.08739 &  0.07495 &  0.08668 &  0.20240 &  0.1403 &  0.10160 & 0.09944 & ⋯ &  0.11300 &  0.1398 &  0.00000 &  0.03603 & 0.11200 &  0.18270 &  0.2386 &  0.06841 &  0.06997 &  0.12900\\\\\n",
       "\tOR4F29 &  0.00000 &  0.000 &  0.11490 &  0.05696 &  0.03664 &  0.08474 &  0.00000 &  0.0343 &  0.06622 & 0.09721 & ⋯ &  0.03684 &  0.1366 &  0.09622 &  0.03522 & 0.03651 &  0.17870 &  0.1696 &  0.00000 &  0.10260 &  0.00000\\\\\n",
       "\tOR4F16 &  0.04138 &  0.000 &  0.02873 &  0.11390 &  0.03664 &  0.02825 &  0.06595 &  0.0343 &  0.09933 & 0.04861 & ⋯ &  0.22100 &  0.1093 &  0.16040 &  0.03522 & 0.05476 &  0.07657 &  0.2332 &  0.10030 &  0.03420 &  0.03154\\\\\n",
       "\tSAMD11 & 11.39000 & 18.940 &  1.59900 & 10.90000 &  0.95480 &  0.29140 &  1.66500 &  0.3259 &  9.38300 & 0.73890 & ⋯ &  4.40000 &  0.3487 &  2.57700 &  9.15000 & 0.35680 &  9.84600 &  0.3972 &  4.55700 &  0.64060 &  6.65200\\\\\n",
       "\tNOC2L & 26.52000 & 40.990 & 21.96000 & 16.94000 & 28.45000 & 21.76000 & 34.88000 & 31.1300 & 20.39000 & 9.71600 & ⋯ & 52.84000 & 25.9000 & 21.84000 & 31.91000 & 4.64800 & 30.88000 & 19.6200 & 29.06000 & 28.40000 & 34.88000\\\\\n",
       "\tKLHL17 &  6.50300 &  7.844 &  3.57900 &  4.99000 &  2.42400 &  2.47000 &  3.91600 &  2.7560 &  4.02800 & 2.18800 & ⋯ &  3.09100 &  2.5840 &  2.28700 &  5.99000 & 1.73200 &  4.36500 &  2.2300 &  9.33400 &  3.64200 &  6.38100\\\\\n",
       "\\end{tabular}\n"
      ],
      "text/markdown": [
       "\n",
       "A data.frame: 6 × 861\n",
       "\n",
       "| <!--/--> | GTEX.1117F.0726.SM.5GIEN &lt;dbl&gt; | GTEX.111FC.0626.SM.5N9CU &lt;dbl&gt; | GTEX.111FC.0826.SM.5GZWO &lt;dbl&gt; | GTEX.111VG.0326.SM.5GZX7 &lt;dbl&gt; | GTEX.111YS.0326.SM.5GZZ3 &lt;dbl&gt; | GTEX.111YS.0426.SM.5987O &lt;dbl&gt; | GTEX.1122O.0626.SM.5N9B9 &lt;dbl&gt; | GTEX.1122O.0826.SM.5GICV &lt;dbl&gt; | GTEX.117XS.0726.SM.5H131 &lt;dbl&gt; | GTEX.117YW.0326.SM.5N9CY &lt;dbl&gt; | ⋯ ⋯ | GTEX.ZYFD.2026.SM.5E459 &lt;dbl&gt; | GTEX.ZYFG.0426.SM.5E43M &lt;dbl&gt; | GTEX.ZYFG.0526.SM.5GZXX &lt;dbl&gt; | GTEX.ZYT6.0926.SM.5GIEM &lt;dbl&gt; | GTEX.ZYT6.1726.SM.5E44P &lt;dbl&gt; | GTEX.ZYVF.1826.SM.5E44F &lt;dbl&gt; | GTEX.ZYW4.0926.SM.59HJS &lt;dbl&gt; | GTEX.ZZPT.0926.SM.5GICZ &lt;dbl&gt; | GTEX.ZZPU.0926.SM.5GZYT &lt;dbl&gt; | GTEX.ZZPU.1126.SM.5N9CW &lt;dbl&gt; |\n",
       "|---|---|---|---|---|---|---|---|---|---|---|---|---|---|---|---|---|---|---|---|---|---|\n",
       "| OR4F5 |  0.04233 |  0.048 |  0.14700 |  0.08739 |  0.07495 |  0.08668 |  0.20240 |  0.1403 |  0.10160 | 0.09944 | ⋯ |  0.11300 |  0.1398 |  0.00000 |  0.03603 | 0.11200 |  0.18270 |  0.2386 |  0.06841 |  0.06997 |  0.12900 |\n",
       "| OR4F29 |  0.00000 |  0.000 |  0.11490 |  0.05696 |  0.03664 |  0.08474 |  0.00000 |  0.0343 |  0.06622 | 0.09721 | ⋯ |  0.03684 |  0.1366 |  0.09622 |  0.03522 | 0.03651 |  0.17870 |  0.1696 |  0.00000 |  0.10260 |  0.00000 |\n",
       "| OR4F16 |  0.04138 |  0.000 |  0.02873 |  0.11390 |  0.03664 |  0.02825 |  0.06595 |  0.0343 |  0.09933 | 0.04861 | ⋯ |  0.22100 |  0.1093 |  0.16040 |  0.03522 | 0.05476 |  0.07657 |  0.2332 |  0.10030 |  0.03420 |  0.03154 |\n",
       "| SAMD11 | 11.39000 | 18.940 |  1.59900 | 10.90000 |  0.95480 |  0.29140 |  1.66500 |  0.3259 |  9.38300 | 0.73890 | ⋯ |  4.40000 |  0.3487 |  2.57700 |  9.15000 | 0.35680 |  9.84600 |  0.3972 |  4.55700 |  0.64060 |  6.65200 |\n",
       "| NOC2L | 26.52000 | 40.990 | 21.96000 | 16.94000 | 28.45000 | 21.76000 | 34.88000 | 31.1300 | 20.39000 | 9.71600 | ⋯ | 52.84000 | 25.9000 | 21.84000 | 31.91000 | 4.64800 | 30.88000 | 19.6200 | 29.06000 | 28.40000 | 34.88000 |\n",
       "| KLHL17 |  6.50300 |  7.844 |  3.57900 |  4.99000 |  2.42400 |  2.47000 |  3.91600 |  2.7560 |  4.02800 | 2.18800 | ⋯ |  3.09100 |  2.5840 |  2.28700 |  5.99000 | 1.73200 |  4.36500 |  2.2300 |  9.33400 |  3.64200 |  6.38100 |\n",
       "\n"
      ],
      "text/plain": [
       "       GTEX.1117F.0726.SM.5GIEN GTEX.111FC.0626.SM.5N9CU\n",
       "OR4F5   0.04233                  0.048                  \n",
       "OR4F29  0.00000                  0.000                  \n",
       "OR4F16  0.04138                  0.000                  \n",
       "SAMD11 11.39000                 18.940                  \n",
       "NOC2L  26.52000                 40.990                  \n",
       "KLHL17  6.50300                  7.844                  \n",
       "       GTEX.111FC.0826.SM.5GZWO GTEX.111VG.0326.SM.5GZX7\n",
       "OR4F5   0.14700                  0.08739                \n",
       "OR4F29  0.11490                  0.05696                \n",
       "OR4F16  0.02873                  0.11390                \n",
       "SAMD11  1.59900                 10.90000                \n",
       "NOC2L  21.96000                 16.94000                \n",
       "KLHL17  3.57900                  4.99000                \n",
       "       GTEX.111YS.0326.SM.5GZZ3 GTEX.111YS.0426.SM.5987O\n",
       "OR4F5   0.07495                  0.08668                \n",
       "OR4F29  0.03664                  0.08474                \n",
       "OR4F16  0.03664                  0.02825                \n",
       "SAMD11  0.95480                  0.29140                \n",
       "NOC2L  28.45000                 21.76000                \n",
       "KLHL17  2.42400                  2.47000                \n",
       "       GTEX.1122O.0626.SM.5N9B9 GTEX.1122O.0826.SM.5GICV\n",
       "OR4F5   0.20240                  0.1403                 \n",
       "OR4F29  0.00000                  0.0343                 \n",
       "OR4F16  0.06595                  0.0343                 \n",
       "SAMD11  1.66500                  0.3259                 \n",
       "NOC2L  34.88000                 31.1300                 \n",
       "KLHL17  3.91600                  2.7560                 \n",
       "       GTEX.117XS.0726.SM.5H131 GTEX.117YW.0326.SM.5N9CY ⋯\n",
       "OR4F5   0.10160                 0.09944                  ⋯\n",
       "OR4F29  0.06622                 0.09721                  ⋯\n",
       "OR4F16  0.09933                 0.04861                  ⋯\n",
       "SAMD11  9.38300                 0.73890                  ⋯\n",
       "NOC2L  20.39000                 9.71600                  ⋯\n",
       "KLHL17  4.02800                 2.18800                  ⋯\n",
       "       GTEX.ZYFD.2026.SM.5E459 GTEX.ZYFG.0426.SM.5E43M GTEX.ZYFG.0526.SM.5GZXX\n",
       "OR4F5   0.11300                 0.1398                  0.00000               \n",
       "OR4F29  0.03684                 0.1366                  0.09622               \n",
       "OR4F16  0.22100                 0.1093                  0.16040               \n",
       "SAMD11  4.40000                 0.3487                  2.57700               \n",
       "NOC2L  52.84000                25.9000                 21.84000               \n",
       "KLHL17  3.09100                 2.5840                  2.28700               \n",
       "       GTEX.ZYT6.0926.SM.5GIEM GTEX.ZYT6.1726.SM.5E44P GTEX.ZYVF.1826.SM.5E44F\n",
       "OR4F5   0.03603                0.11200                  0.18270               \n",
       "OR4F29  0.03522                0.03651                  0.17870               \n",
       "OR4F16  0.03522                0.05476                  0.07657               \n",
       "SAMD11  9.15000                0.35680                  9.84600               \n",
       "NOC2L  31.91000                4.64800                 30.88000               \n",
       "KLHL17  5.99000                1.73200                  4.36500               \n",
       "       GTEX.ZYW4.0926.SM.59HJS GTEX.ZZPT.0926.SM.5GICZ GTEX.ZZPU.0926.SM.5GZYT\n",
       "OR4F5   0.2386                  0.06841                 0.06997               \n",
       "OR4F29  0.1696                  0.00000                 0.10260               \n",
       "OR4F16  0.2332                  0.10030                 0.03420               \n",
       "SAMD11  0.3972                  4.55700                 0.64060               \n",
       "NOC2L  19.6200                 29.06000                28.40000               \n",
       "KLHL17  2.2300                  9.33400                 3.64200               \n",
       "       GTEX.ZZPU.1126.SM.5N9CW\n",
       "OR4F5   0.12900               \n",
       "OR4F29  0.00000               \n",
       "OR4F16  0.03154               \n",
       "SAMD11  6.65200               \n",
       "NOC2L  34.88000               \n",
       "KLHL17  6.38100               "
      ]
     },
     "metadata": {},
     "output_type": "display_data"
    },
    {
     "data": {
      "text/html": [
       "<style>\n",
       ".list-inline {list-style: none; margin:0; padding: 0}\n",
       ".list-inline>li {display: inline-block}\n",
       ".list-inline>li:not(:last-child)::after {content: \"\\00b7\"; padding: 0 .5ex}\n",
       "</style>\n",
       "<ol class=list-inline><li>18446</li><li>89</li></ol>\n"
      ],
      "text/latex": [
       "\\begin{enumerate*}\n",
       "\\item 18446\n",
       "\\item 89\n",
       "\\end{enumerate*}\n"
      ],
      "text/markdown": [
       "1. 18446\n",
       "2. 89\n",
       "\n",
       "\n"
      ],
      "text/plain": [
       "[1] 18446    89"
      ]
     },
     "metadata": {},
     "output_type": "display_data"
    },
    {
     "data": {
      "text/html": [
       "<table class=\"dataframe\">\n",
       "<caption>A data.frame: 6 × 89</caption>\n",
       "<thead>\n",
       "\t<tr><th></th><th scope=col>GTEX.11GS4.2326.SM.5A5KS</th><th scope=col>GTEX.11OF3.1326.SM.5N9FJ</th><th scope=col>GTEX.11TTK.1926.SM.5PNW8</th><th scope=col>GTEX.12696.0926.SM.5FQTV</th><th scope=col>GTEX.12WSG.0826.SM.5EQ5A</th><th scope=col>GTEX.13112.2126.SM.5GCO4</th><th scope=col>GTEX.1399S.0526.SM.5IJG8</th><th scope=col>GTEX.13NYB.1726.SM.5N9G2</th><th scope=col>GTEX.13O1R.2526.SM.5N9FW</th><th scope=col>GTEX.13OVI.1126.SM.5KLZF</th><th scope=col>⋯</th><th scope=col>GTEX.XPVG.0526.SM.4B65N</th><th scope=col>GTEX.Y5V5.1226.SM.EYYVP</th><th scope=col>GTEX.Y5V6.2026.SM.5IFHO</th><th scope=col>GTEX.ZC5H.1726.SM.5HL7X</th><th scope=col>GTEX.ZDXO.0226.SM.4WKH7</th><th scope=col>GTEX.ZE9C.1426.SM.4WKGM</th><th scope=col>GTEX.ZLFU.0926.SM.5P9F8</th><th scope=col>GTEX.ZVZP.0926.SM.5GIDB</th><th scope=col>GTEX.ZYFG.1626.SM.5GZYY</th><th scope=col>GTEX.ZYT6.2226.SM.5GIC9</th></tr>\n",
       "\t<tr><th></th><th scope=col>&lt;dbl&gt;</th><th scope=col>&lt;dbl&gt;</th><th scope=col>&lt;dbl&gt;</th><th scope=col>&lt;dbl&gt;</th><th scope=col>&lt;dbl&gt;</th><th scope=col>&lt;dbl&gt;</th><th scope=col>&lt;dbl&gt;</th><th scope=col>&lt;dbl&gt;</th><th scope=col>&lt;dbl&gt;</th><th scope=col>&lt;dbl&gt;</th><th scope=col>⋯</th><th scope=col>&lt;dbl&gt;</th><th scope=col>&lt;dbl&gt;</th><th scope=col>&lt;dbl&gt;</th><th scope=col>&lt;dbl&gt;</th><th scope=col>&lt;dbl&gt;</th><th scope=col>&lt;dbl&gt;</th><th scope=col>&lt;dbl&gt;</th><th scope=col>&lt;dbl&gt;</th><th scope=col>&lt;dbl&gt;</th><th scope=col>&lt;dbl&gt;</th></tr>\n",
       "</thead>\n",
       "<tbody>\n",
       "\t<tr><th scope=row>OR4F5</th><td> 0.03939</td><td> 0.13430</td><td> 0.00</td><td> 0.00000</td><td> 0.00000</td><td> 0.08239</td><td> 0.33860</td><td> 0.08503</td><td> 0.13610</td><td> 0.15660</td><td>⋯</td><td> 0.08677</td><td> 0.04811</td><td> 0.02756</td><td> 0.1103</td><td> 0.08474</td><td> 0.00000</td><td> 0.11670</td><td> 0.09065</td><td> 0.1046</td><td> 0.1424</td></tr>\n",
       "\t<tr><th scope=row>OR4F29</th><td> 0.11550</td><td> 0.13130</td><td> 0.00</td><td> 0.00000</td><td> 0.00000</td><td> 0.04027</td><td> 0.03009</td><td> 0.02771</td><td> 0.11090</td><td> 0.07657</td><td>⋯</td><td> 0.02828</td><td> 0.09407</td><td> 0.08084</td><td> 0.1079</td><td> 0.08285</td><td> 0.05707</td><td> 0.08557</td><td> 0.08862</td><td> 0.1363</td><td> 0.0000</td></tr>\n",
       "\t<tr><th scope=row>OR4F16</th><td> 0.03851</td><td> 0.03753</td><td> 0.00</td><td> 0.07983</td><td> 0.04106</td><td> 0.20140</td><td> 0.00000</td><td> 0.02771</td><td> 0.02218</td><td> 0.03828</td><td>⋯</td><td> 0.16970</td><td> 0.02352</td><td> 0.05389</td><td> 0.0000</td><td> 0.08285</td><td> 0.11410</td><td> 0.05705</td><td> 0.13290</td><td> 0.1363</td><td> 0.0000</td></tr>\n",
       "\t<tr><th scope=row>SAMD11</th><td>11.66000</td><td> 4.95600</td><td>21.96</td><td>12.54000</td><td> 7.29000</td><td>19.90000</td><td>19.41000</td><td> 7.53700</td><td> 5.74400</td><td>28.29000</td><td>⋯</td><td> 9.83300</td><td> 7.08000</td><td> 4.29400</td><td> 6.4120</td><td>10.07000</td><td>36.54000</td><td>25.07000</td><td>16.02000</td><td>12.4400</td><td>41.4600</td></tr>\n",
       "\t<tr><th scope=row>NOC2L</th><td>24.56000</td><td>13.80000</td><td>59.97</td><td>54.30000</td><td>42.01000</td><td>43.57000</td><td>58.05000</td><td>34.80000</td><td>33.59000</td><td>52.63000</td><td>⋯</td><td>53.45000</td><td>21.10000</td><td>26.47000</td><td>21.4300</td><td>15.11000</td><td>87.25000</td><td>54.19000</td><td>50.14000</td><td>53.9600</td><td>41.4400</td></tr>\n",
       "\t<tr><th scope=row>KLHL17</th><td> 7.91000</td><td> 3.94100</td><td>16.26</td><td>16.60000</td><td>13.38000</td><td>18.31000</td><td>20.02000</td><td> 5.64200</td><td>10.34000</td><td>16.71000</td><td>⋯</td><td>12.16000</td><td> 6.66300</td><td> 5.11300</td><td>13.1600</td><td> 6.76300</td><td>28.01000</td><td>16.27000</td><td>15.67000</td><td> 9.4670</td><td>17.4400</td></tr>\n",
       "</tbody>\n",
       "</table>\n"
      ],
      "text/latex": [
       "A data.frame: 6 × 89\n",
       "\\begin{tabular}{r|lllllllllllllllllllll}\n",
       "  & GTEX.11GS4.2326.SM.5A5KS & GTEX.11OF3.1326.SM.5N9FJ & GTEX.11TTK.1926.SM.5PNW8 & GTEX.12696.0926.SM.5FQTV & GTEX.12WSG.0826.SM.5EQ5A & GTEX.13112.2126.SM.5GCO4 & GTEX.1399S.0526.SM.5IJG8 & GTEX.13NYB.1726.SM.5N9G2 & GTEX.13O1R.2526.SM.5N9FW & GTEX.13OVI.1126.SM.5KLZF & ⋯ & GTEX.XPVG.0526.SM.4B65N & GTEX.Y5V5.1226.SM.EYYVP & GTEX.Y5V6.2026.SM.5IFHO & GTEX.ZC5H.1726.SM.5HL7X & GTEX.ZDXO.0226.SM.4WKH7 & GTEX.ZE9C.1426.SM.4WKGM & GTEX.ZLFU.0926.SM.5P9F8 & GTEX.ZVZP.0926.SM.5GIDB & GTEX.ZYFG.1626.SM.5GZYY & GTEX.ZYT6.2226.SM.5GIC9\\\\\n",
       "  & <dbl> & <dbl> & <dbl> & <dbl> & <dbl> & <dbl> & <dbl> & <dbl> & <dbl> & <dbl> & ⋯ & <dbl> & <dbl> & <dbl> & <dbl> & <dbl> & <dbl> & <dbl> & <dbl> & <dbl> & <dbl>\\\\\n",
       "\\hline\n",
       "\tOR4F5 &  0.03939 &  0.13430 &  0.00 &  0.00000 &  0.00000 &  0.08239 &  0.33860 &  0.08503 &  0.13610 &  0.15660 & ⋯ &  0.08677 &  0.04811 &  0.02756 &  0.1103 &  0.08474 &  0.00000 &  0.11670 &  0.09065 &  0.1046 &  0.1424\\\\\n",
       "\tOR4F29 &  0.11550 &  0.13130 &  0.00 &  0.00000 &  0.00000 &  0.04027 &  0.03009 &  0.02771 &  0.11090 &  0.07657 & ⋯ &  0.02828 &  0.09407 &  0.08084 &  0.1079 &  0.08285 &  0.05707 &  0.08557 &  0.08862 &  0.1363 &  0.0000\\\\\n",
       "\tOR4F16 &  0.03851 &  0.03753 &  0.00 &  0.07983 &  0.04106 &  0.20140 &  0.00000 &  0.02771 &  0.02218 &  0.03828 & ⋯ &  0.16970 &  0.02352 &  0.05389 &  0.0000 &  0.08285 &  0.11410 &  0.05705 &  0.13290 &  0.1363 &  0.0000\\\\\n",
       "\tSAMD11 & 11.66000 &  4.95600 & 21.96 & 12.54000 &  7.29000 & 19.90000 & 19.41000 &  7.53700 &  5.74400 & 28.29000 & ⋯ &  9.83300 &  7.08000 &  4.29400 &  6.4120 & 10.07000 & 36.54000 & 25.07000 & 16.02000 & 12.4400 & 41.4600\\\\\n",
       "\tNOC2L & 24.56000 & 13.80000 & 59.97 & 54.30000 & 42.01000 & 43.57000 & 58.05000 & 34.80000 & 33.59000 & 52.63000 & ⋯ & 53.45000 & 21.10000 & 26.47000 & 21.4300 & 15.11000 & 87.25000 & 54.19000 & 50.14000 & 53.9600 & 41.4400\\\\\n",
       "\tKLHL17 &  7.91000 &  3.94100 & 16.26 & 16.60000 & 13.38000 & 18.31000 & 20.02000 &  5.64200 & 10.34000 & 16.71000 & ⋯ & 12.16000 &  6.66300 &  5.11300 & 13.1600 &  6.76300 & 28.01000 & 16.27000 & 15.67000 &  9.4670 & 17.4400\\\\\n",
       "\\end{tabular}\n"
      ],
      "text/markdown": [
       "\n",
       "A data.frame: 6 × 89\n",
       "\n",
       "| <!--/--> | GTEX.11GS4.2326.SM.5A5KS &lt;dbl&gt; | GTEX.11OF3.1326.SM.5N9FJ &lt;dbl&gt; | GTEX.11TTK.1926.SM.5PNW8 &lt;dbl&gt; | GTEX.12696.0926.SM.5FQTV &lt;dbl&gt; | GTEX.12WSG.0826.SM.5EQ5A &lt;dbl&gt; | GTEX.13112.2126.SM.5GCO4 &lt;dbl&gt; | GTEX.1399S.0526.SM.5IJG8 &lt;dbl&gt; | GTEX.13NYB.1726.SM.5N9G2 &lt;dbl&gt; | GTEX.13O1R.2526.SM.5N9FW &lt;dbl&gt; | GTEX.13OVI.1126.SM.5KLZF &lt;dbl&gt; | ⋯ ⋯ | GTEX.XPVG.0526.SM.4B65N &lt;dbl&gt; | GTEX.Y5V5.1226.SM.EYYVP &lt;dbl&gt; | GTEX.Y5V6.2026.SM.5IFHO &lt;dbl&gt; | GTEX.ZC5H.1726.SM.5HL7X &lt;dbl&gt; | GTEX.ZDXO.0226.SM.4WKH7 &lt;dbl&gt; | GTEX.ZE9C.1426.SM.4WKGM &lt;dbl&gt; | GTEX.ZLFU.0926.SM.5P9F8 &lt;dbl&gt; | GTEX.ZVZP.0926.SM.5GIDB &lt;dbl&gt; | GTEX.ZYFG.1626.SM.5GZYY &lt;dbl&gt; | GTEX.ZYT6.2226.SM.5GIC9 &lt;dbl&gt; |\n",
       "|---|---|---|---|---|---|---|---|---|---|---|---|---|---|---|---|---|---|---|---|---|---|\n",
       "| OR4F5 |  0.03939 |  0.13430 |  0.00 |  0.00000 |  0.00000 |  0.08239 |  0.33860 |  0.08503 |  0.13610 |  0.15660 | ⋯ |  0.08677 |  0.04811 |  0.02756 |  0.1103 |  0.08474 |  0.00000 |  0.11670 |  0.09065 |  0.1046 |  0.1424 |\n",
       "| OR4F29 |  0.11550 |  0.13130 |  0.00 |  0.00000 |  0.00000 |  0.04027 |  0.03009 |  0.02771 |  0.11090 |  0.07657 | ⋯ |  0.02828 |  0.09407 |  0.08084 |  0.1079 |  0.08285 |  0.05707 |  0.08557 |  0.08862 |  0.1363 |  0.0000 |\n",
       "| OR4F16 |  0.03851 |  0.03753 |  0.00 |  0.07983 |  0.04106 |  0.20140 |  0.00000 |  0.02771 |  0.02218 |  0.03828 | ⋯ |  0.16970 |  0.02352 |  0.05389 |  0.0000 |  0.08285 |  0.11410 |  0.05705 |  0.13290 |  0.1363 |  0.0000 |\n",
       "| SAMD11 | 11.66000 |  4.95600 | 21.96 | 12.54000 |  7.29000 | 19.90000 | 19.41000 |  7.53700 |  5.74400 | 28.29000 | ⋯ |  9.83300 |  7.08000 |  4.29400 |  6.4120 | 10.07000 | 36.54000 | 25.07000 | 16.02000 | 12.4400 | 41.4600 |\n",
       "| NOC2L | 24.56000 | 13.80000 | 59.97 | 54.30000 | 42.01000 | 43.57000 | 58.05000 | 34.80000 | 33.59000 | 52.63000 | ⋯ | 53.45000 | 21.10000 | 26.47000 | 21.4300 | 15.11000 | 87.25000 | 54.19000 | 50.14000 | 53.9600 | 41.4400 |\n",
       "| KLHL17 |  7.91000 |  3.94100 | 16.26 | 16.60000 | 13.38000 | 18.31000 | 20.02000 |  5.64200 | 10.34000 | 16.71000 | ⋯ | 12.16000 |  6.66300 |  5.11300 | 13.1600 |  6.76300 | 28.01000 | 16.27000 | 15.67000 |  9.4670 | 17.4400 |\n",
       "\n"
      ],
      "text/plain": [
       "       GTEX.11GS4.2326.SM.5A5KS GTEX.11OF3.1326.SM.5N9FJ\n",
       "OR4F5   0.03939                  0.13430                \n",
       "OR4F29  0.11550                  0.13130                \n",
       "OR4F16  0.03851                  0.03753                \n",
       "SAMD11 11.66000                  4.95600                \n",
       "NOC2L  24.56000                 13.80000                \n",
       "KLHL17  7.91000                  3.94100                \n",
       "       GTEX.11TTK.1926.SM.5PNW8 GTEX.12696.0926.SM.5FQTV\n",
       "OR4F5   0.00                     0.00000                \n",
       "OR4F29  0.00                     0.00000                \n",
       "OR4F16  0.00                     0.07983                \n",
       "SAMD11 21.96                    12.54000                \n",
       "NOC2L  59.97                    54.30000                \n",
       "KLHL17 16.26                    16.60000                \n",
       "       GTEX.12WSG.0826.SM.5EQ5A GTEX.13112.2126.SM.5GCO4\n",
       "OR4F5   0.00000                  0.08239                \n",
       "OR4F29  0.00000                  0.04027                \n",
       "OR4F16  0.04106                  0.20140                \n",
       "SAMD11  7.29000                 19.90000                \n",
       "NOC2L  42.01000                 43.57000                \n",
       "KLHL17 13.38000                 18.31000                \n",
       "       GTEX.1399S.0526.SM.5IJG8 GTEX.13NYB.1726.SM.5N9G2\n",
       "OR4F5   0.33860                  0.08503                \n",
       "OR4F29  0.03009                  0.02771                \n",
       "OR4F16  0.00000                  0.02771                \n",
       "SAMD11 19.41000                  7.53700                \n",
       "NOC2L  58.05000                 34.80000                \n",
       "KLHL17 20.02000                  5.64200                \n",
       "       GTEX.13O1R.2526.SM.5N9FW GTEX.13OVI.1126.SM.5KLZF ⋯\n",
       "OR4F5   0.13610                  0.15660                 ⋯\n",
       "OR4F29  0.11090                  0.07657                 ⋯\n",
       "OR4F16  0.02218                  0.03828                 ⋯\n",
       "SAMD11  5.74400                 28.29000                 ⋯\n",
       "NOC2L  33.59000                 52.63000                 ⋯\n",
       "KLHL17 10.34000                 16.71000                 ⋯\n",
       "       GTEX.XPVG.0526.SM.4B65N GTEX.Y5V5.1226.SM.EYYVP GTEX.Y5V6.2026.SM.5IFHO\n",
       "OR4F5   0.08677                 0.04811                 0.02756               \n",
       "OR4F29  0.02828                 0.09407                 0.08084               \n",
       "OR4F16  0.16970                 0.02352                 0.05389               \n",
       "SAMD11  9.83300                 7.08000                 4.29400               \n",
       "NOC2L  53.45000                21.10000                26.47000               \n",
       "KLHL17 12.16000                 6.66300                 5.11300               \n",
       "       GTEX.ZC5H.1726.SM.5HL7X GTEX.ZDXO.0226.SM.4WKH7 GTEX.ZE9C.1426.SM.4WKGM\n",
       "OR4F5   0.1103                  0.08474                 0.00000               \n",
       "OR4F29  0.1079                  0.08285                 0.05707               \n",
       "OR4F16  0.0000                  0.08285                 0.11410               \n",
       "SAMD11  6.4120                 10.07000                36.54000               \n",
       "NOC2L  21.4300                 15.11000                87.25000               \n",
       "KLHL17 13.1600                  6.76300                28.01000               \n",
       "       GTEX.ZLFU.0926.SM.5P9F8 GTEX.ZVZP.0926.SM.5GIDB GTEX.ZYFG.1626.SM.5GZYY\n",
       "OR4F5   0.11670                 0.09065                 0.1046                \n",
       "OR4F29  0.08557                 0.08862                 0.1363                \n",
       "OR4F16  0.05705                 0.13290                 0.1363                \n",
       "SAMD11 25.07000                16.02000                12.4400                \n",
       "NOC2L  54.19000                50.14000                53.9600                \n",
       "KLHL17 16.27000                15.67000                 9.4670                \n",
       "       GTEX.ZYT6.2226.SM.5GIC9\n",
       "OR4F5   0.1424                \n",
       "OR4F29  0.0000                \n",
       "OR4F16  0.0000                \n",
       "SAMD11 41.4600                \n",
       "NOC2L  41.4400                \n",
       "KLHL17 17.4400                "
      ]
     },
     "metadata": {},
     "output_type": "display_data"
    },
    {
     "data": {
      "text/html": [
       "<style>\n",
       ".list-inline {list-style: none; margin:0; padding: 0}\n",
       ".list-inline>li {display: inline-block}\n",
       ".list-inline>li:not(:last-child)::after {content: \"\\00b7\"; padding: 0 .5ex}\n",
       "</style>\n",
       "<ol class=list-inline><li>18446</li><li>226</li></ol>\n"
      ],
      "text/latex": [
       "\\begin{enumerate*}\n",
       "\\item 18446\n",
       "\\item 226\n",
       "\\end{enumerate*}\n"
      ],
      "text/markdown": [
       "1. 18446\n",
       "2. 226\n",
       "\n",
       "\n"
      ],
      "text/plain": [
       "[1] 18446   226"
      ]
     },
     "metadata": {},
     "output_type": "display_data"
    },
    {
     "data": {
      "text/html": [
       "<table class=\"dataframe\">\n",
       "<caption>A data.frame: 6 × 226</caption>\n",
       "<thead>\n",
       "\t<tr><th></th><th scope=col>GTEX.11DXY.0526.SM.5EGGQ</th><th scope=col>GTEX.11DXZ.0126.SM.5EGGY</th><th scope=col>GTEX.11EQ9.0526.SM.5A5JZ</th><th scope=col>GTEX.11GSP.0626.SM.5986T</th><th scope=col>GTEX.11NUK.1226.SM.5P9GM</th><th scope=col>GTEX.11NV4.1326.SM.5HL6V</th><th scope=col>GTEX.11OF3.0726.SM.5BC4Z</th><th scope=col>GTEX.11TT1.1726.SM.5EQLJ</th><th scope=col>GTEX.11TUW.1726.SM.5BC5C</th><th scope=col>GTEX.11WQC.0726.SM.5EQMR</th><th scope=col>⋯</th><th scope=col>GTEX.ZF29.2026.SM.DNZYW</th><th scope=col>GTEX.ZF2S.3026.SM.4WWCH</th><th scope=col>GTEX.ZPU1.0826.SM.57WG2</th><th scope=col>GTEX.ZTPG.1426.SM.51MT3</th><th scope=col>GTEX.ZVP2.0626.SM.51MSO</th><th scope=col>GTEX.ZVT3.1626.SM.5GU66</th><th scope=col>GTEX.ZVT4.0626.SM.5E45T</th><th scope=col>GTEX.ZYT6.0626.SM.5E45V</th><th scope=col>GTEX.ZYY3.0626.SM.5NQ6W</th><th scope=col>GTEX.ZZPU.0426.SM.5GZYH</th></tr>\n",
       "\t<tr><th></th><th scope=col>&lt;dbl&gt;</th><th scope=col>&lt;dbl&gt;</th><th scope=col>&lt;dbl&gt;</th><th scope=col>&lt;dbl&gt;</th><th scope=col>&lt;dbl&gt;</th><th scope=col>&lt;dbl&gt;</th><th scope=col>&lt;dbl&gt;</th><th scope=col>&lt;dbl&gt;</th><th scope=col>&lt;dbl&gt;</th><th scope=col>&lt;dbl&gt;</th><th scope=col>⋯</th><th scope=col>&lt;dbl&gt;</th><th scope=col>&lt;dbl&gt;</th><th scope=col>&lt;dbl&gt;</th><th scope=col>&lt;dbl&gt;</th><th scope=col>&lt;dbl&gt;</th><th scope=col>&lt;dbl&gt;</th><th scope=col>&lt;dbl&gt;</th><th scope=col>&lt;dbl&gt;</th><th scope=col>&lt;dbl&gt;</th><th scope=col>&lt;dbl&gt;</th></tr>\n",
       "</thead>\n",
       "<tbody>\n",
       "\t<tr><th scope=row>OR4F5</th><td> 0.00000</td><td> 0.09123</td><td> 0.03197</td><td> 0.13520</td><td> 0.11990</td><td> 0.05194</td><td> 0.13380</td><td>  0.1551</td><td> 0.06967</td><td> 0.07092</td><td>⋯</td><td> 0.02642</td><td> 0.00000</td><td> 0.06901</td><td> 0.12330</td><td> 0.07165</td><td> 0.08659</td><td> 0.06814</td><td> 0.12400</td><td> 0.00</td><td> 0.08212</td></tr>\n",
       "\t<tr><th scope=row>OR4F29</th><td> 0.00000</td><td> 0.13380</td><td> 0.03126</td><td> 0.03305</td><td> 0.09376</td><td> 0.02539</td><td> 0.08722</td><td>  0.1011</td><td> 0.06811</td><td> 0.10400</td><td>⋯</td><td> 0.02583</td><td> 0.03943</td><td> 0.06747</td><td> 0.08037</td><td> 0.10510</td><td> 0.04233</td><td> 0.09993</td><td> 0.09092</td><td> 0.00</td><td> 0.08028</td></tr>\n",
       "\t<tr><th scope=row>OR4F16</th><td> 0.03106</td><td> 0.17840</td><td> 0.06251</td><td> 0.06610</td><td> 0.00000</td><td> 0.00000</td><td> 0.13080</td><td>  0.1011</td><td> 0.10220</td><td> 0.10400</td><td>⋯</td><td> 0.02583</td><td> 0.07885</td><td> 0.03373</td><td> 0.08037</td><td> 0.03502</td><td> 0.04233</td><td> 0.09993</td><td> 0.09092</td><td> 0.00</td><td> 0.08028</td></tr>\n",
       "\t<tr><th scope=row>SAMD11</th><td> 1.00300</td><td> 1.29500</td><td> 5.19300</td><td> 3.74100</td><td> 0.63630</td><td> 0.75820</td><td> 1.56300</td><td>  0.1783</td><td> 0.93380</td><td> 2.34300</td><td>⋯</td><td> 1.19200</td><td> 1.02700</td><td> 0.63190</td><td> 1.44000</td><td> 5.15300</td><td> 3.17100</td><td> 2.34200</td><td> 0.78160</td><td>10.10</td><td> 0.95890</td></tr>\n",
       "\t<tr><th scope=row>NOC2L</th><td>21.10000</td><td>25.41000</td><td>40.09000</td><td>15.39000</td><td>19.10000</td><td>27.12000</td><td>18.90000</td><td>118.4000</td><td>53.05000</td><td>23.38000</td><td>⋯</td><td>40.15000</td><td>23.27000</td><td>33.95000</td><td>53.00000</td><td>33.16000</td><td>30.76000</td><td>25.53000</td><td>20.47000</td><td>30.42</td><td>32.48000</td></tr>\n",
       "\t<tr><th scope=row>KLHL17</th><td> 4.98100</td><td> 5.46800</td><td> 4.49800</td><td> 6.95400</td><td> 6.58000</td><td> 5.65300</td><td> 6.57200</td><td>  8.9190</td><td> 4.91200</td><td> 5.85000</td><td>⋯</td><td> 3.44300</td><td> 3.68900</td><td> 3.27600</td><td>12.19000</td><td> 5.26700</td><td> 7.19800</td><td> 5.83600</td><td> 5.59400</td><td>10.35</td><td> 5.67300</td></tr>\n",
       "</tbody>\n",
       "</table>\n"
      ],
      "text/latex": [
       "A data.frame: 6 × 226\n",
       "\\begin{tabular}{r|lllllllllllllllllllll}\n",
       "  & GTEX.11DXY.0526.SM.5EGGQ & GTEX.11DXZ.0126.SM.5EGGY & GTEX.11EQ9.0526.SM.5A5JZ & GTEX.11GSP.0626.SM.5986T & GTEX.11NUK.1226.SM.5P9GM & GTEX.11NV4.1326.SM.5HL6V & GTEX.11OF3.0726.SM.5BC4Z & GTEX.11TT1.1726.SM.5EQLJ & GTEX.11TUW.1726.SM.5BC5C & GTEX.11WQC.0726.SM.5EQMR & ⋯ & GTEX.ZF29.2026.SM.DNZYW & GTEX.ZF2S.3026.SM.4WWCH & GTEX.ZPU1.0826.SM.57WG2 & GTEX.ZTPG.1426.SM.51MT3 & GTEX.ZVP2.0626.SM.51MSO & GTEX.ZVT3.1626.SM.5GU66 & GTEX.ZVT4.0626.SM.5E45T & GTEX.ZYT6.0626.SM.5E45V & GTEX.ZYY3.0626.SM.5NQ6W & GTEX.ZZPU.0426.SM.5GZYH\\\\\n",
       "  & <dbl> & <dbl> & <dbl> & <dbl> & <dbl> & <dbl> & <dbl> & <dbl> & <dbl> & <dbl> & ⋯ & <dbl> & <dbl> & <dbl> & <dbl> & <dbl> & <dbl> & <dbl> & <dbl> & <dbl> & <dbl>\\\\\n",
       "\\hline\n",
       "\tOR4F5 &  0.00000 &  0.09123 &  0.03197 &  0.13520 &  0.11990 &  0.05194 &  0.13380 &   0.1551 &  0.06967 &  0.07092 & ⋯ &  0.02642 &  0.00000 &  0.06901 &  0.12330 &  0.07165 &  0.08659 &  0.06814 &  0.12400 &  0.00 &  0.08212\\\\\n",
       "\tOR4F29 &  0.00000 &  0.13380 &  0.03126 &  0.03305 &  0.09376 &  0.02539 &  0.08722 &   0.1011 &  0.06811 &  0.10400 & ⋯ &  0.02583 &  0.03943 &  0.06747 &  0.08037 &  0.10510 &  0.04233 &  0.09993 &  0.09092 &  0.00 &  0.08028\\\\\n",
       "\tOR4F16 &  0.03106 &  0.17840 &  0.06251 &  0.06610 &  0.00000 &  0.00000 &  0.13080 &   0.1011 &  0.10220 &  0.10400 & ⋯ &  0.02583 &  0.07885 &  0.03373 &  0.08037 &  0.03502 &  0.04233 &  0.09993 &  0.09092 &  0.00 &  0.08028\\\\\n",
       "\tSAMD11 &  1.00300 &  1.29500 &  5.19300 &  3.74100 &  0.63630 &  0.75820 &  1.56300 &   0.1783 &  0.93380 &  2.34300 & ⋯ &  1.19200 &  1.02700 &  0.63190 &  1.44000 &  5.15300 &  3.17100 &  2.34200 &  0.78160 & 10.10 &  0.95890\\\\\n",
       "\tNOC2L & 21.10000 & 25.41000 & 40.09000 & 15.39000 & 19.10000 & 27.12000 & 18.90000 & 118.4000 & 53.05000 & 23.38000 & ⋯ & 40.15000 & 23.27000 & 33.95000 & 53.00000 & 33.16000 & 30.76000 & 25.53000 & 20.47000 & 30.42 & 32.48000\\\\\n",
       "\tKLHL17 &  4.98100 &  5.46800 &  4.49800 &  6.95400 &  6.58000 &  5.65300 &  6.57200 &   8.9190 &  4.91200 &  5.85000 & ⋯ &  3.44300 &  3.68900 &  3.27600 & 12.19000 &  5.26700 &  7.19800 &  5.83600 &  5.59400 & 10.35 &  5.67300\\\\\n",
       "\\end{tabular}\n"
      ],
      "text/markdown": [
       "\n",
       "A data.frame: 6 × 226\n",
       "\n",
       "| <!--/--> | GTEX.11DXY.0526.SM.5EGGQ &lt;dbl&gt; | GTEX.11DXZ.0126.SM.5EGGY &lt;dbl&gt; | GTEX.11EQ9.0526.SM.5A5JZ &lt;dbl&gt; | GTEX.11GSP.0626.SM.5986T &lt;dbl&gt; | GTEX.11NUK.1226.SM.5P9GM &lt;dbl&gt; | GTEX.11NV4.1326.SM.5HL6V &lt;dbl&gt; | GTEX.11OF3.0726.SM.5BC4Z &lt;dbl&gt; | GTEX.11TT1.1726.SM.5EQLJ &lt;dbl&gt; | GTEX.11TUW.1726.SM.5BC5C &lt;dbl&gt; | GTEX.11WQC.0726.SM.5EQMR &lt;dbl&gt; | ⋯ ⋯ | GTEX.ZF29.2026.SM.DNZYW &lt;dbl&gt; | GTEX.ZF2S.3026.SM.4WWCH &lt;dbl&gt; | GTEX.ZPU1.0826.SM.57WG2 &lt;dbl&gt; | GTEX.ZTPG.1426.SM.51MT3 &lt;dbl&gt; | GTEX.ZVP2.0626.SM.51MSO &lt;dbl&gt; | GTEX.ZVT3.1626.SM.5GU66 &lt;dbl&gt; | GTEX.ZVT4.0626.SM.5E45T &lt;dbl&gt; | GTEX.ZYT6.0626.SM.5E45V &lt;dbl&gt; | GTEX.ZYY3.0626.SM.5NQ6W &lt;dbl&gt; | GTEX.ZZPU.0426.SM.5GZYH &lt;dbl&gt; |\n",
       "|---|---|---|---|---|---|---|---|---|---|---|---|---|---|---|---|---|---|---|---|---|---|\n",
       "| OR4F5 |  0.00000 |  0.09123 |  0.03197 |  0.13520 |  0.11990 |  0.05194 |  0.13380 |   0.1551 |  0.06967 |  0.07092 | ⋯ |  0.02642 |  0.00000 |  0.06901 |  0.12330 |  0.07165 |  0.08659 |  0.06814 |  0.12400 |  0.00 |  0.08212 |\n",
       "| OR4F29 |  0.00000 |  0.13380 |  0.03126 |  0.03305 |  0.09376 |  0.02539 |  0.08722 |   0.1011 |  0.06811 |  0.10400 | ⋯ |  0.02583 |  0.03943 |  0.06747 |  0.08037 |  0.10510 |  0.04233 |  0.09993 |  0.09092 |  0.00 |  0.08028 |\n",
       "| OR4F16 |  0.03106 |  0.17840 |  0.06251 |  0.06610 |  0.00000 |  0.00000 |  0.13080 |   0.1011 |  0.10220 |  0.10400 | ⋯ |  0.02583 |  0.07885 |  0.03373 |  0.08037 |  0.03502 |  0.04233 |  0.09993 |  0.09092 |  0.00 |  0.08028 |\n",
       "| SAMD11 |  1.00300 |  1.29500 |  5.19300 |  3.74100 |  0.63630 |  0.75820 |  1.56300 |   0.1783 |  0.93380 |  2.34300 | ⋯ |  1.19200 |  1.02700 |  0.63190 |  1.44000 |  5.15300 |  3.17100 |  2.34200 |  0.78160 | 10.10 |  0.95890 |\n",
       "| NOC2L | 21.10000 | 25.41000 | 40.09000 | 15.39000 | 19.10000 | 27.12000 | 18.90000 | 118.4000 | 53.05000 | 23.38000 | ⋯ | 40.15000 | 23.27000 | 33.95000 | 53.00000 | 33.16000 | 30.76000 | 25.53000 | 20.47000 | 30.42 | 32.48000 |\n",
       "| KLHL17 |  4.98100 |  5.46800 |  4.49800 |  6.95400 |  6.58000 |  5.65300 |  6.57200 |   8.9190 |  4.91200 |  5.85000 | ⋯ |  3.44300 |  3.68900 |  3.27600 | 12.19000 |  5.26700 |  7.19800 |  5.83600 |  5.59400 | 10.35 |  5.67300 |\n",
       "\n"
      ],
      "text/plain": [
       "       GTEX.11DXY.0526.SM.5EGGQ GTEX.11DXZ.0126.SM.5EGGY\n",
       "OR4F5   0.00000                  0.09123                \n",
       "OR4F29  0.00000                  0.13380                \n",
       "OR4F16  0.03106                  0.17840                \n",
       "SAMD11  1.00300                  1.29500                \n",
       "NOC2L  21.10000                 25.41000                \n",
       "KLHL17  4.98100                  5.46800                \n",
       "       GTEX.11EQ9.0526.SM.5A5JZ GTEX.11GSP.0626.SM.5986T\n",
       "OR4F5   0.03197                  0.13520                \n",
       "OR4F29  0.03126                  0.03305                \n",
       "OR4F16  0.06251                  0.06610                \n",
       "SAMD11  5.19300                  3.74100                \n",
       "NOC2L  40.09000                 15.39000                \n",
       "KLHL17  4.49800                  6.95400                \n",
       "       GTEX.11NUK.1226.SM.5P9GM GTEX.11NV4.1326.SM.5HL6V\n",
       "OR4F5   0.11990                  0.05194                \n",
       "OR4F29  0.09376                  0.02539                \n",
       "OR4F16  0.00000                  0.00000                \n",
       "SAMD11  0.63630                  0.75820                \n",
       "NOC2L  19.10000                 27.12000                \n",
       "KLHL17  6.58000                  5.65300                \n",
       "       GTEX.11OF3.0726.SM.5BC4Z GTEX.11TT1.1726.SM.5EQLJ\n",
       "OR4F5   0.13380                   0.1551                \n",
       "OR4F29  0.08722                   0.1011                \n",
       "OR4F16  0.13080                   0.1011                \n",
       "SAMD11  1.56300                   0.1783                \n",
       "NOC2L  18.90000                 118.4000                \n",
       "KLHL17  6.57200                   8.9190                \n",
       "       GTEX.11TUW.1726.SM.5BC5C GTEX.11WQC.0726.SM.5EQMR ⋯\n",
       "OR4F5   0.06967                  0.07092                 ⋯\n",
       "OR4F29  0.06811                  0.10400                 ⋯\n",
       "OR4F16  0.10220                  0.10400                 ⋯\n",
       "SAMD11  0.93380                  2.34300                 ⋯\n",
       "NOC2L  53.05000                 23.38000                 ⋯\n",
       "KLHL17  4.91200                  5.85000                 ⋯\n",
       "       GTEX.ZF29.2026.SM.DNZYW GTEX.ZF2S.3026.SM.4WWCH GTEX.ZPU1.0826.SM.57WG2\n",
       "OR4F5   0.02642                 0.00000                 0.06901               \n",
       "OR4F29  0.02583                 0.03943                 0.06747               \n",
       "OR4F16  0.02583                 0.07885                 0.03373               \n",
       "SAMD11  1.19200                 1.02700                 0.63190               \n",
       "NOC2L  40.15000                23.27000                33.95000               \n",
       "KLHL17  3.44300                 3.68900                 3.27600               \n",
       "       GTEX.ZTPG.1426.SM.51MT3 GTEX.ZVP2.0626.SM.51MSO GTEX.ZVT3.1626.SM.5GU66\n",
       "OR4F5   0.12330                 0.07165                 0.08659               \n",
       "OR4F29  0.08037                 0.10510                 0.04233               \n",
       "OR4F16  0.08037                 0.03502                 0.04233               \n",
       "SAMD11  1.44000                 5.15300                 3.17100               \n",
       "NOC2L  53.00000                33.16000                30.76000               \n",
       "KLHL17 12.19000                 5.26700                 7.19800               \n",
       "       GTEX.ZVT4.0626.SM.5E45T GTEX.ZYT6.0626.SM.5E45V GTEX.ZYY3.0626.SM.5NQ6W\n",
       "OR4F5   0.06814                 0.12400                 0.00                  \n",
       "OR4F29  0.09993                 0.09092                 0.00                  \n",
       "OR4F16  0.09993                 0.09092                 0.00                  \n",
       "SAMD11  2.34200                 0.78160                10.10                  \n",
       "NOC2L  25.53000                20.47000                30.42                  \n",
       "KLHL17  5.83600                 5.59400                10.35                  \n",
       "       GTEX.ZZPU.0426.SM.5GZYH\n",
       "OR4F5   0.08212               \n",
       "OR4F29  0.08028               \n",
       "OR4F16  0.08028               \n",
       "SAMD11  0.95890               \n",
       "NOC2L  32.48000               \n",
       "KLHL17  5.67300               "
      ]
     },
     "metadata": {},
     "output_type": "display_data"
    },
    {
     "data": {
      "text/html": [
       "<style>\n",
       ".list-inline {list-style: none; margin:0; padding: 0}\n",
       ".list-inline>li {display: inline-block}\n",
       ".list-inline>li:not(:last-child)::after {content: \"\\00b7\"; padding: 0 .5ex}\n",
       "</style>\n",
       "<ol class=list-inline><li>18446</li><li>578</li></ol>\n"
      ],
      "text/latex": [
       "\\begin{enumerate*}\n",
       "\\item 18446\n",
       "\\item 578\n",
       "\\end{enumerate*}\n"
      ],
      "text/markdown": [
       "1. 18446\n",
       "2. 578\n",
       "\n",
       "\n"
      ],
      "text/plain": [
       "[1] 18446   578"
      ]
     },
     "metadata": {},
     "output_type": "display_data"
    },
    {
     "data": {
      "text/html": [
       "<table class=\"dataframe\">\n",
       "<caption>A data.frame: 6 × 578</caption>\n",
       "<thead>\n",
       "\t<tr><th></th><th scope=col>GTEX.111CU.0326.SM.5GZXO</th><th scope=col>GTEX.111FC.1126.SM.5GZWU</th><th scope=col>GTEX.111VG.0726.SM.5GIDC</th><th scope=col>GTEX.111YS.0626.SM.5GZXV</th><th scope=col>GTEX.1122O.0126.SM.5GICA</th><th scope=col>GTEX.1128S.0726.SM.5N9D6</th><th scope=col>GTEX.117YW.0526.SM.5H11C</th><th scope=col>GTEX.117YX.1326.SM.5H125</th><th scope=col>GTEX.11DXX.0626.SM.5Q5AG</th><th scope=col>GTEX.11DXZ.0726.SM.5N9C4</th><th scope=col>⋯</th><th scope=col>GTEX.ZVZQ.1526.SM.5N9G6</th><th scope=col>GTEX.ZXG5.0826.SM.5GID6</th><th scope=col>GTEX.ZY6K.0326.SM.5SIBB</th><th scope=col>GTEX.ZYFG.0226.SM.5GIDT</th><th scope=col>GTEX.ZYT6.0526.SM.5GIEA</th><th scope=col>GTEX.ZYVF.1726.SM.5E443</th><th scope=col>GTEX.ZYW4.1526.SM.5SIBA</th><th scope=col>GTEX.ZYY3.0926.SM.5E454</th><th scope=col>GTEX.ZZPT.1326.SM.5E43H</th><th scope=col>GTEX.ZZPU.0526.SM.5E44U</th></tr>\n",
       "\t<tr><th></th><th scope=col>&lt;dbl&gt;</th><th scope=col>&lt;dbl&gt;</th><th scope=col>&lt;dbl&gt;</th><th scope=col>&lt;dbl&gt;</th><th scope=col>&lt;dbl&gt;</th><th scope=col>&lt;dbl&gt;</th><th scope=col>&lt;dbl&gt;</th><th scope=col>&lt;dbl&gt;</th><th scope=col>&lt;dbl&gt;</th><th scope=col>&lt;dbl&gt;</th><th scope=col>⋯</th><th scope=col>&lt;dbl&gt;</th><th scope=col>&lt;dbl&gt;</th><th scope=col>&lt;dbl&gt;</th><th scope=col>&lt;dbl&gt;</th><th scope=col>&lt;dbl&gt;</th><th scope=col>&lt;dbl&gt;</th><th scope=col>&lt;dbl&gt;</th><th scope=col>&lt;dbl&gt;</th><th scope=col>&lt;dbl&gt;</th><th scope=col>&lt;dbl&gt;</th></tr>\n",
       "</thead>\n",
       "<tbody>\n",
       "\t<tr><th scope=row>OR4F5</th><td>  0.04399</td><td> 0.06408</td><td> 0.09648</td><td> 0.05075</td><td> 0.00000</td><td> 0.00000</td><td> 0.00000</td><td> 0.00000</td><td> 0.05705</td><td> 0.00</td><td>⋯</td><td> 0.00000</td><td> 0.05983</td><td> 0.00000</td><td> 0.1058</td><td> 0.09608</td><td> 0.05545</td><td> 0.00</td><td> 0.00000</td><td> 0.09658</td><td> 0.08690</td></tr>\n",
       "\t<tr><th scope=row>OR4F29</th><td>  0.04301</td><td> 0.00000</td><td> 0.00000</td><td> 0.04962</td><td> 0.04791</td><td> 0.00000</td><td> 0.05948</td><td> 0.04892</td><td> 0.00000</td><td> 0.00</td><td>⋯</td><td> 0.08587</td><td> 0.00000</td><td> 0.04301</td><td> 0.0000</td><td> 0.04696</td><td> 0.05421</td><td> 0.00</td><td> 0.00000</td><td> 0.04721</td><td> 0.04248</td></tr>\n",
       "\t<tr><th scope=row>OR4F16</th><td>  0.04301</td><td> 0.06264</td><td> 0.09433</td><td> 0.04962</td><td> 0.00000</td><td> 0.05748</td><td> 0.05948</td><td> 0.04892</td><td> 0.27890</td><td> 0.00</td><td>⋯</td><td> 0.00000</td><td> 0.00000</td><td> 0.04301</td><td> 0.1034</td><td> 0.04696</td><td> 0.16260</td><td> 0.00</td><td> 0.09271</td><td> 0.09442</td><td> 0.00000</td></tr>\n",
       "\t<tr><th scope=row>SAMD11</th><td>  1.49500</td><td> 4.88100</td><td>12.02000</td><td> 0.79470</td><td> 1.23500</td><td> 2.12200</td><td>18.16000</td><td> 2.84200</td><td> 1.62000</td><td>11.32</td><td>⋯</td><td> 3.15900</td><td>14.51000</td><td> 8.52400</td><td> 5.8250</td><td> 3.18700</td><td> 3.31100</td><td>15.28</td><td> 1.18300</td><td> 1.51200</td><td> 1.97200</td></tr>\n",
       "\t<tr><th scope=row>NOC2L</th><td>106.80000</td><td>45.69000</td><td>44.25000</td><td>49.35000</td><td>58.77000</td><td>65.06000</td><td>36.85000</td><td>58.60000</td><td>63.91000</td><td>58.42</td><td>⋯</td><td>38.34000</td><td>54.78000</td><td>82.42000</td><td>46.1200</td><td>48.64000</td><td>67.49000</td><td>53.26</td><td>52.65000</td><td>45.73000</td><td>55.78000</td></tr>\n",
       "\t<tr><th scope=row>KLHL17</th><td> 11.14000</td><td>19.00000</td><td>16.01000</td><td>11.46000</td><td>14.14000</td><td>19.70000</td><td>15.14000</td><td>14.92000</td><td>14.92000</td><td>23.91</td><td>⋯</td><td>15.41000</td><td>16.59000</td><td>19.44000</td><td>14.5000</td><td>20.84000</td><td>21.83000</td><td>12.94</td><td> 9.69300</td><td>30.30000</td><td>12.60000</td></tr>\n",
       "</tbody>\n",
       "</table>\n"
      ],
      "text/latex": [
       "A data.frame: 6 × 578\n",
       "\\begin{tabular}{r|lllllllllllllllllllll}\n",
       "  & GTEX.111CU.0326.SM.5GZXO & GTEX.111FC.1126.SM.5GZWU & GTEX.111VG.0726.SM.5GIDC & GTEX.111YS.0626.SM.5GZXV & GTEX.1122O.0126.SM.5GICA & GTEX.1128S.0726.SM.5N9D6 & GTEX.117YW.0526.SM.5H11C & GTEX.117YX.1326.SM.5H125 & GTEX.11DXX.0626.SM.5Q5AG & GTEX.11DXZ.0726.SM.5N9C4 & ⋯ & GTEX.ZVZQ.1526.SM.5N9G6 & GTEX.ZXG5.0826.SM.5GID6 & GTEX.ZY6K.0326.SM.5SIBB & GTEX.ZYFG.0226.SM.5GIDT & GTEX.ZYT6.0526.SM.5GIEA & GTEX.ZYVF.1726.SM.5E443 & GTEX.ZYW4.1526.SM.5SIBA & GTEX.ZYY3.0926.SM.5E454 & GTEX.ZZPT.1326.SM.5E43H & GTEX.ZZPU.0526.SM.5E44U\\\\\n",
       "  & <dbl> & <dbl> & <dbl> & <dbl> & <dbl> & <dbl> & <dbl> & <dbl> & <dbl> & <dbl> & ⋯ & <dbl> & <dbl> & <dbl> & <dbl> & <dbl> & <dbl> & <dbl> & <dbl> & <dbl> & <dbl>\\\\\n",
       "\\hline\n",
       "\tOR4F5 &   0.04399 &  0.06408 &  0.09648 &  0.05075 &  0.00000 &  0.00000 &  0.00000 &  0.00000 &  0.05705 &  0.00 & ⋯ &  0.00000 &  0.05983 &  0.00000 &  0.1058 &  0.09608 &  0.05545 &  0.00 &  0.00000 &  0.09658 &  0.08690\\\\\n",
       "\tOR4F29 &   0.04301 &  0.00000 &  0.00000 &  0.04962 &  0.04791 &  0.00000 &  0.05948 &  0.04892 &  0.00000 &  0.00 & ⋯ &  0.08587 &  0.00000 &  0.04301 &  0.0000 &  0.04696 &  0.05421 &  0.00 &  0.00000 &  0.04721 &  0.04248\\\\\n",
       "\tOR4F16 &   0.04301 &  0.06264 &  0.09433 &  0.04962 &  0.00000 &  0.05748 &  0.05948 &  0.04892 &  0.27890 &  0.00 & ⋯ &  0.00000 &  0.00000 &  0.04301 &  0.1034 &  0.04696 &  0.16260 &  0.00 &  0.09271 &  0.09442 &  0.00000\\\\\n",
       "\tSAMD11 &   1.49500 &  4.88100 & 12.02000 &  0.79470 &  1.23500 &  2.12200 & 18.16000 &  2.84200 &  1.62000 & 11.32 & ⋯ &  3.15900 & 14.51000 &  8.52400 &  5.8250 &  3.18700 &  3.31100 & 15.28 &  1.18300 &  1.51200 &  1.97200\\\\\n",
       "\tNOC2L & 106.80000 & 45.69000 & 44.25000 & 49.35000 & 58.77000 & 65.06000 & 36.85000 & 58.60000 & 63.91000 & 58.42 & ⋯ & 38.34000 & 54.78000 & 82.42000 & 46.1200 & 48.64000 & 67.49000 & 53.26 & 52.65000 & 45.73000 & 55.78000\\\\\n",
       "\tKLHL17 &  11.14000 & 19.00000 & 16.01000 & 11.46000 & 14.14000 & 19.70000 & 15.14000 & 14.92000 & 14.92000 & 23.91 & ⋯ & 15.41000 & 16.59000 & 19.44000 & 14.5000 & 20.84000 & 21.83000 & 12.94 &  9.69300 & 30.30000 & 12.60000\\\\\n",
       "\\end{tabular}\n"
      ],
      "text/markdown": [
       "\n",
       "A data.frame: 6 × 578\n",
       "\n",
       "| <!--/--> | GTEX.111CU.0326.SM.5GZXO &lt;dbl&gt; | GTEX.111FC.1126.SM.5GZWU &lt;dbl&gt; | GTEX.111VG.0726.SM.5GIDC &lt;dbl&gt; | GTEX.111YS.0626.SM.5GZXV &lt;dbl&gt; | GTEX.1122O.0126.SM.5GICA &lt;dbl&gt; | GTEX.1128S.0726.SM.5N9D6 &lt;dbl&gt; | GTEX.117YW.0526.SM.5H11C &lt;dbl&gt; | GTEX.117YX.1326.SM.5H125 &lt;dbl&gt; | GTEX.11DXX.0626.SM.5Q5AG &lt;dbl&gt; | GTEX.11DXZ.0726.SM.5N9C4 &lt;dbl&gt; | ⋯ ⋯ | GTEX.ZVZQ.1526.SM.5N9G6 &lt;dbl&gt; | GTEX.ZXG5.0826.SM.5GID6 &lt;dbl&gt; | GTEX.ZY6K.0326.SM.5SIBB &lt;dbl&gt; | GTEX.ZYFG.0226.SM.5GIDT &lt;dbl&gt; | GTEX.ZYT6.0526.SM.5GIEA &lt;dbl&gt; | GTEX.ZYVF.1726.SM.5E443 &lt;dbl&gt; | GTEX.ZYW4.1526.SM.5SIBA &lt;dbl&gt; | GTEX.ZYY3.0926.SM.5E454 &lt;dbl&gt; | GTEX.ZZPT.1326.SM.5E43H &lt;dbl&gt; | GTEX.ZZPU.0526.SM.5E44U &lt;dbl&gt; |\n",
       "|---|---|---|---|---|---|---|---|---|---|---|---|---|---|---|---|---|---|---|---|---|---|\n",
       "| OR4F5 |   0.04399 |  0.06408 |  0.09648 |  0.05075 |  0.00000 |  0.00000 |  0.00000 |  0.00000 |  0.05705 |  0.00 | ⋯ |  0.00000 |  0.05983 |  0.00000 |  0.1058 |  0.09608 |  0.05545 |  0.00 |  0.00000 |  0.09658 |  0.08690 |\n",
       "| OR4F29 |   0.04301 |  0.00000 |  0.00000 |  0.04962 |  0.04791 |  0.00000 |  0.05948 |  0.04892 |  0.00000 |  0.00 | ⋯ |  0.08587 |  0.00000 |  0.04301 |  0.0000 |  0.04696 |  0.05421 |  0.00 |  0.00000 |  0.04721 |  0.04248 |\n",
       "| OR4F16 |   0.04301 |  0.06264 |  0.09433 |  0.04962 |  0.00000 |  0.05748 |  0.05948 |  0.04892 |  0.27890 |  0.00 | ⋯ |  0.00000 |  0.00000 |  0.04301 |  0.1034 |  0.04696 |  0.16260 |  0.00 |  0.09271 |  0.09442 |  0.00000 |\n",
       "| SAMD11 |   1.49500 |  4.88100 | 12.02000 |  0.79470 |  1.23500 |  2.12200 | 18.16000 |  2.84200 |  1.62000 | 11.32 | ⋯ |  3.15900 | 14.51000 |  8.52400 |  5.8250 |  3.18700 |  3.31100 | 15.28 |  1.18300 |  1.51200 |  1.97200 |\n",
       "| NOC2L | 106.80000 | 45.69000 | 44.25000 | 49.35000 | 58.77000 | 65.06000 | 36.85000 | 58.60000 | 63.91000 | 58.42 | ⋯ | 38.34000 | 54.78000 | 82.42000 | 46.1200 | 48.64000 | 67.49000 | 53.26 | 52.65000 | 45.73000 | 55.78000 |\n",
       "| KLHL17 |  11.14000 | 19.00000 | 16.01000 | 11.46000 | 14.14000 | 19.70000 | 15.14000 | 14.92000 | 14.92000 | 23.91 | ⋯ | 15.41000 | 16.59000 | 19.44000 | 14.5000 | 20.84000 | 21.83000 | 12.94 |  9.69300 | 30.30000 | 12.60000 |\n",
       "\n"
      ],
      "text/plain": [
       "       GTEX.111CU.0326.SM.5GZXO GTEX.111FC.1126.SM.5GZWU\n",
       "OR4F5    0.04399                 0.06408                \n",
       "OR4F29   0.04301                 0.00000                \n",
       "OR4F16   0.04301                 0.06264                \n",
       "SAMD11   1.49500                 4.88100                \n",
       "NOC2L  106.80000                45.69000                \n",
       "KLHL17  11.14000                19.00000                \n",
       "       GTEX.111VG.0726.SM.5GIDC GTEX.111YS.0626.SM.5GZXV\n",
       "OR4F5   0.09648                  0.05075                \n",
       "OR4F29  0.00000                  0.04962                \n",
       "OR4F16  0.09433                  0.04962                \n",
       "SAMD11 12.02000                  0.79470                \n",
       "NOC2L  44.25000                 49.35000                \n",
       "KLHL17 16.01000                 11.46000                \n",
       "       GTEX.1122O.0126.SM.5GICA GTEX.1128S.0726.SM.5N9D6\n",
       "OR4F5   0.00000                  0.00000                \n",
       "OR4F29  0.04791                  0.00000                \n",
       "OR4F16  0.00000                  0.05748                \n",
       "SAMD11  1.23500                  2.12200                \n",
       "NOC2L  58.77000                 65.06000                \n",
       "KLHL17 14.14000                 19.70000                \n",
       "       GTEX.117YW.0526.SM.5H11C GTEX.117YX.1326.SM.5H125\n",
       "OR4F5   0.00000                  0.00000                \n",
       "OR4F29  0.05948                  0.04892                \n",
       "OR4F16  0.05948                  0.04892                \n",
       "SAMD11 18.16000                  2.84200                \n",
       "NOC2L  36.85000                 58.60000                \n",
       "KLHL17 15.14000                 14.92000                \n",
       "       GTEX.11DXX.0626.SM.5Q5AG GTEX.11DXZ.0726.SM.5N9C4 ⋯\n",
       "OR4F5   0.05705                  0.00                    ⋯\n",
       "OR4F29  0.00000                  0.00                    ⋯\n",
       "OR4F16  0.27890                  0.00                    ⋯\n",
       "SAMD11  1.62000                 11.32                    ⋯\n",
       "NOC2L  63.91000                 58.42                    ⋯\n",
       "KLHL17 14.92000                 23.91                    ⋯\n",
       "       GTEX.ZVZQ.1526.SM.5N9G6 GTEX.ZXG5.0826.SM.5GID6 GTEX.ZY6K.0326.SM.5SIBB\n",
       "OR4F5   0.00000                 0.05983                 0.00000               \n",
       "OR4F29  0.08587                 0.00000                 0.04301               \n",
       "OR4F16  0.00000                 0.00000                 0.04301               \n",
       "SAMD11  3.15900                14.51000                 8.52400               \n",
       "NOC2L  38.34000                54.78000                82.42000               \n",
       "KLHL17 15.41000                16.59000                19.44000               \n",
       "       GTEX.ZYFG.0226.SM.5GIDT GTEX.ZYT6.0526.SM.5GIEA GTEX.ZYVF.1726.SM.5E443\n",
       "OR4F5   0.1058                  0.09608                 0.05545               \n",
       "OR4F29  0.0000                  0.04696                 0.05421               \n",
       "OR4F16  0.1034                  0.04696                 0.16260               \n",
       "SAMD11  5.8250                  3.18700                 3.31100               \n",
       "NOC2L  46.1200                 48.64000                67.49000               \n",
       "KLHL17 14.5000                 20.84000                21.83000               \n",
       "       GTEX.ZYW4.1526.SM.5SIBA GTEX.ZYY3.0926.SM.5E454 GTEX.ZZPT.1326.SM.5E43H\n",
       "OR4F5   0.00                    0.00000                 0.09658               \n",
       "OR4F29  0.00                    0.00000                 0.04721               \n",
       "OR4F16  0.00                    0.09271                 0.09442               \n",
       "SAMD11 15.28                    1.18300                 1.51200               \n",
       "NOC2L  53.26                   52.65000                45.73000               \n",
       "KLHL17 12.94                    9.69300                30.30000               \n",
       "       GTEX.ZZPU.0526.SM.5E44U\n",
       "OR4F5   0.08690               \n",
       "OR4F29  0.04248               \n",
       "OR4F16  0.00000               \n",
       "SAMD11  1.97200               \n",
       "NOC2L  55.78000               \n",
       "KLHL17 12.60000               "
      ]
     },
     "metadata": {},
     "output_type": "display_data"
    },
    {
     "data": {
      "text/html": [
       "<style>\n",
       ".list-inline {list-style: none; margin:0; padding: 0}\n",
       ".list-inline>li {display: inline-block}\n",
       ".list-inline>li:not(:last-child)::after {content: \"\\00b7\"; padding: 0 .5ex}\n",
       "</style>\n",
       "<ol class=list-inline><li>18446</li><li>803</li></ol>\n"
      ],
      "text/latex": [
       "\\begin{enumerate*}\n",
       "\\item 18446\n",
       "\\item 803\n",
       "\\end{enumerate*}\n"
      ],
      "text/markdown": [
       "1. 18446\n",
       "2. 803\n",
       "\n",
       "\n"
      ],
      "text/plain": [
       "[1] 18446   803"
      ]
     },
     "metadata": {},
     "output_type": "display_data"
    },
    {
     "data": {
      "text/html": [
       "<table class=\"dataframe\">\n",
       "<caption>A data.frame: 6 × 803</caption>\n",
       "<thead>\n",
       "\t<tr><th></th><th scope=col>GTEX.1117F.0426.SM.5EGHI</th><th scope=col>GTEX.111CU.2026.SM.5GZZC</th><th scope=col>GTEX.111FC.0326.SM.5GZZ1</th><th scope=col>GTEX.111VG.2626.SM.5GZY2</th><th scope=col>GTEX.111YS.2326.SM.5987L</th><th scope=col>GTEX.1122O.2426.SM.5GIDN</th><th scope=col>GTEX.1128S.2426.SM.5H11B</th><th scope=col>GTEX.113JC.2726.SM.5EGIS</th><th scope=col>GTEX.117XS.2526.SM.5H11G</th><th scope=col>GTEX.117YW.2426.SM.5Q5AE</th><th scope=col>⋯</th><th scope=col>GTEX.ZY6K.2026.SM.5GZXQ</th><th scope=col>GTEX.ZYFC.0526.SM.5GIDF</th><th scope=col>GTEX.ZYFD.0326.SM.5NQ8I</th><th scope=col>GTEX.ZYFG.2426.SM.5GIE8</th><th scope=col>GTEX.ZYT6.1626.SM.5E45R</th><th scope=col>GTEX.ZYW4.0526.SM.5GZZ5</th><th scope=col>GTEX.ZYY3.0526.SM.5E45G</th><th scope=col>GTEX.ZZ64.1526.SM.5E43K</th><th scope=col>GTEX.ZZPT.0626.SM.5GZXT</th><th scope=col>GTEX.ZZPU.2626.SM.5E45Y</th></tr>\n",
       "\t<tr><th></th><th scope=col>&lt;dbl&gt;</th><th scope=col>&lt;dbl&gt;</th><th scope=col>&lt;dbl&gt;</th><th scope=col>&lt;dbl&gt;</th><th scope=col>&lt;dbl&gt;</th><th scope=col>&lt;dbl&gt;</th><th scope=col>&lt;dbl&gt;</th><th scope=col>&lt;dbl&gt;</th><th scope=col>&lt;dbl&gt;</th><th scope=col>&lt;dbl&gt;</th><th scope=col>⋯</th><th scope=col>&lt;dbl&gt;</th><th scope=col>&lt;dbl&gt;</th><th scope=col>&lt;dbl&gt;</th><th scope=col>&lt;dbl&gt;</th><th scope=col>&lt;dbl&gt;</th><th scope=col>&lt;dbl&gt;</th><th scope=col>&lt;dbl&gt;</th><th scope=col>&lt;dbl&gt;</th><th scope=col>&lt;dbl&gt;</th><th scope=col>&lt;dbl&gt;</th></tr>\n",
       "</thead>\n",
       "<tbody>\n",
       "\t<tr><th scope=row>OR4F5</th><td> 0.10250</td><td> 0.00000</td><td> 0.09989</td><td> 0.03538</td><td> 0.12780</td><td>  0.00000</td><td> 0.05355</td><td> 0.04380</td><td> 0.03276</td><td> 0.03230</td><td>⋯</td><td> 0.04965</td><td> 0.04083</td><td> 0.04366</td><td> 0.03872</td><td> 0.1224</td><td> 0.0000</td><td> 0.1036</td><td> 0.03556</td><td>  0.05266</td><td> 0.1480</td></tr>\n",
       "\t<tr><th scope=row>OR4F29</th><td> 0.05009</td><td> 0.00000</td><td> 0.06511</td><td> 0.03459</td><td> 0.04166</td><td>  0.04942</td><td> 0.05236</td><td> 0.00000</td><td> 0.00000</td><td> 0.12630</td><td>⋯</td><td> 0.02427</td><td> 0.11980</td><td> 0.00000</td><td> 0.00000</td><td> 0.0299</td><td> 0.0000</td><td> 0.0000</td><td> 0.10430</td><td>  0.05148</td><td> 0.1447</td></tr>\n",
       "\t<tr><th scope=row>OR4F16</th><td> 0.00000</td><td> 0.03664</td><td> 0.09766</td><td> 0.03459</td><td> 0.12500</td><td>  0.00000</td><td> 0.07854</td><td> 0.08563</td><td> 0.00000</td><td> 0.09472</td><td>⋯</td><td> 0.04854</td><td> 0.07984</td><td> 0.00000</td><td> 0.03786</td><td> 0.0299</td><td> 0.0400</td><td> 0.0000</td><td> 0.13910</td><td>  0.00000</td><td> 0.0000</td></tr>\n",
       "\t<tr><th scope=row>SAMD11</th><td> 0.47600</td><td> 0.23870</td><td> 1.09600</td><td> 0.44130</td><td> 4.18400</td><td>  0.10730</td><td> 0.32690</td><td> 0.47650</td><td> 0.34780</td><td> 0.28280</td><td>⋯</td><td> 0.46780</td><td> 0.21670</td><td> 0.28960</td><td> 0.28780</td><td> 0.3166</td><td> 0.2824</td><td> 0.1375</td><td> 0.31140</td><td>  0.22360</td><td> 1.0510</td></tr>\n",
       "\t<tr><th scope=row>NOC2L</th><td>93.56000</td><td>65.98000</td><td>34.21000</td><td>40.89000</td><td>63.77000</td><td>104.40000</td><td>63.74000</td><td>39.23000</td><td>32.46000</td><td>40.88000</td><td>⋯</td><td>89.06000</td><td>24.16000</td><td>28.26000</td><td>87.25000</td><td>30.9500</td><td>54.9000</td><td>96.2100</td><td>45.44000</td><td>116.40000</td><td>75.2200</td></tr>\n",
       "\t<tr><th scope=row>KLHL17</th><td> 1.11500</td><td> 3.22700</td><td> 2.56300</td><td> 2.16500</td><td> 3.69700</td><td>  3.20500</td><td> 2.17900</td><td> 1.98900</td><td> 1.20900</td><td> 1.06000</td><td>⋯</td><td> 3.81400</td><td> 0.95320</td><td> 0.63350</td><td> 3.21300</td><td> 1.4760</td><td> 1.4840</td><td> 3.1490</td><td> 2.82700</td><td>  9.43600</td><td> 2.7900</td></tr>\n",
       "</tbody>\n",
       "</table>\n"
      ],
      "text/latex": [
       "A data.frame: 6 × 803\n",
       "\\begin{tabular}{r|lllllllllllllllllllll}\n",
       "  & GTEX.1117F.0426.SM.5EGHI & GTEX.111CU.2026.SM.5GZZC & GTEX.111FC.0326.SM.5GZZ1 & GTEX.111VG.2626.SM.5GZY2 & GTEX.111YS.2326.SM.5987L & GTEX.1122O.2426.SM.5GIDN & GTEX.1128S.2426.SM.5H11B & GTEX.113JC.2726.SM.5EGIS & GTEX.117XS.2526.SM.5H11G & GTEX.117YW.2426.SM.5Q5AE & ⋯ & GTEX.ZY6K.2026.SM.5GZXQ & GTEX.ZYFC.0526.SM.5GIDF & GTEX.ZYFD.0326.SM.5NQ8I & GTEX.ZYFG.2426.SM.5GIE8 & GTEX.ZYT6.1626.SM.5E45R & GTEX.ZYW4.0526.SM.5GZZ5 & GTEX.ZYY3.0526.SM.5E45G & GTEX.ZZ64.1526.SM.5E43K & GTEX.ZZPT.0626.SM.5GZXT & GTEX.ZZPU.2626.SM.5E45Y\\\\\n",
       "  & <dbl> & <dbl> & <dbl> & <dbl> & <dbl> & <dbl> & <dbl> & <dbl> & <dbl> & <dbl> & ⋯ & <dbl> & <dbl> & <dbl> & <dbl> & <dbl> & <dbl> & <dbl> & <dbl> & <dbl> & <dbl>\\\\\n",
       "\\hline\n",
       "\tOR4F5 &  0.10250 &  0.00000 &  0.09989 &  0.03538 &  0.12780 &   0.00000 &  0.05355 &  0.04380 &  0.03276 &  0.03230 & ⋯ &  0.04965 &  0.04083 &  0.04366 &  0.03872 &  0.1224 &  0.0000 &  0.1036 &  0.03556 &   0.05266 &  0.1480\\\\\n",
       "\tOR4F29 &  0.05009 &  0.00000 &  0.06511 &  0.03459 &  0.04166 &   0.04942 &  0.05236 &  0.00000 &  0.00000 &  0.12630 & ⋯ &  0.02427 &  0.11980 &  0.00000 &  0.00000 &  0.0299 &  0.0000 &  0.0000 &  0.10430 &   0.05148 &  0.1447\\\\\n",
       "\tOR4F16 &  0.00000 &  0.03664 &  0.09766 &  0.03459 &  0.12500 &   0.00000 &  0.07854 &  0.08563 &  0.00000 &  0.09472 & ⋯ &  0.04854 &  0.07984 &  0.00000 &  0.03786 &  0.0299 &  0.0400 &  0.0000 &  0.13910 &   0.00000 &  0.0000\\\\\n",
       "\tSAMD11 &  0.47600 &  0.23870 &  1.09600 &  0.44130 &  4.18400 &   0.10730 &  0.32690 &  0.47650 &  0.34780 &  0.28280 & ⋯ &  0.46780 &  0.21670 &  0.28960 &  0.28780 &  0.3166 &  0.2824 &  0.1375 &  0.31140 &   0.22360 &  1.0510\\\\\n",
       "\tNOC2L & 93.56000 & 65.98000 & 34.21000 & 40.89000 & 63.77000 & 104.40000 & 63.74000 & 39.23000 & 32.46000 & 40.88000 & ⋯ & 89.06000 & 24.16000 & 28.26000 & 87.25000 & 30.9500 & 54.9000 & 96.2100 & 45.44000 & 116.40000 & 75.2200\\\\\n",
       "\tKLHL17 &  1.11500 &  3.22700 &  2.56300 &  2.16500 &  3.69700 &   3.20500 &  2.17900 &  1.98900 &  1.20900 &  1.06000 & ⋯ &  3.81400 &  0.95320 &  0.63350 &  3.21300 &  1.4760 &  1.4840 &  3.1490 &  2.82700 &   9.43600 &  2.7900\\\\\n",
       "\\end{tabular}\n"
      ],
      "text/markdown": [
       "\n",
       "A data.frame: 6 × 803\n",
       "\n",
       "| <!--/--> | GTEX.1117F.0426.SM.5EGHI &lt;dbl&gt; | GTEX.111CU.2026.SM.5GZZC &lt;dbl&gt; | GTEX.111FC.0326.SM.5GZZ1 &lt;dbl&gt; | GTEX.111VG.2626.SM.5GZY2 &lt;dbl&gt; | GTEX.111YS.2326.SM.5987L &lt;dbl&gt; | GTEX.1122O.2426.SM.5GIDN &lt;dbl&gt; | GTEX.1128S.2426.SM.5H11B &lt;dbl&gt; | GTEX.113JC.2726.SM.5EGIS &lt;dbl&gt; | GTEX.117XS.2526.SM.5H11G &lt;dbl&gt; | GTEX.117YW.2426.SM.5Q5AE &lt;dbl&gt; | ⋯ ⋯ | GTEX.ZY6K.2026.SM.5GZXQ &lt;dbl&gt; | GTEX.ZYFC.0526.SM.5GIDF &lt;dbl&gt; | GTEX.ZYFD.0326.SM.5NQ8I &lt;dbl&gt; | GTEX.ZYFG.2426.SM.5GIE8 &lt;dbl&gt; | GTEX.ZYT6.1626.SM.5E45R &lt;dbl&gt; | GTEX.ZYW4.0526.SM.5GZZ5 &lt;dbl&gt; | GTEX.ZYY3.0526.SM.5E45G &lt;dbl&gt; | GTEX.ZZ64.1526.SM.5E43K &lt;dbl&gt; | GTEX.ZZPT.0626.SM.5GZXT &lt;dbl&gt; | GTEX.ZZPU.2626.SM.5E45Y &lt;dbl&gt; |\n",
       "|---|---|---|---|---|---|---|---|---|---|---|---|---|---|---|---|---|---|---|---|---|---|\n",
       "| OR4F5 |  0.10250 |  0.00000 |  0.09989 |  0.03538 |  0.12780 |   0.00000 |  0.05355 |  0.04380 |  0.03276 |  0.03230 | ⋯ |  0.04965 |  0.04083 |  0.04366 |  0.03872 |  0.1224 |  0.0000 |  0.1036 |  0.03556 |   0.05266 |  0.1480 |\n",
       "| OR4F29 |  0.05009 |  0.00000 |  0.06511 |  0.03459 |  0.04166 |   0.04942 |  0.05236 |  0.00000 |  0.00000 |  0.12630 | ⋯ |  0.02427 |  0.11980 |  0.00000 |  0.00000 |  0.0299 |  0.0000 |  0.0000 |  0.10430 |   0.05148 |  0.1447 |\n",
       "| OR4F16 |  0.00000 |  0.03664 |  0.09766 |  0.03459 |  0.12500 |   0.00000 |  0.07854 |  0.08563 |  0.00000 |  0.09472 | ⋯ |  0.04854 |  0.07984 |  0.00000 |  0.03786 |  0.0299 |  0.0400 |  0.0000 |  0.13910 |   0.00000 |  0.0000 |\n",
       "| SAMD11 |  0.47600 |  0.23870 |  1.09600 |  0.44130 |  4.18400 |   0.10730 |  0.32690 |  0.47650 |  0.34780 |  0.28280 | ⋯ |  0.46780 |  0.21670 |  0.28960 |  0.28780 |  0.3166 |  0.2824 |  0.1375 |  0.31140 |   0.22360 |  1.0510 |\n",
       "| NOC2L | 93.56000 | 65.98000 | 34.21000 | 40.89000 | 63.77000 | 104.40000 | 63.74000 | 39.23000 | 32.46000 | 40.88000 | ⋯ | 89.06000 | 24.16000 | 28.26000 | 87.25000 | 30.9500 | 54.9000 | 96.2100 | 45.44000 | 116.40000 | 75.2200 |\n",
       "| KLHL17 |  1.11500 |  3.22700 |  2.56300 |  2.16500 |  3.69700 |   3.20500 |  2.17900 |  1.98900 |  1.20900 |  1.06000 | ⋯ |  3.81400 |  0.95320 |  0.63350 |  3.21300 |  1.4760 |  1.4840 |  3.1490 |  2.82700 |   9.43600 |  2.7900 |\n",
       "\n"
      ],
      "text/plain": [
       "       GTEX.1117F.0426.SM.5EGHI GTEX.111CU.2026.SM.5GZZC\n",
       "OR4F5   0.10250                  0.00000                \n",
       "OR4F29  0.05009                  0.00000                \n",
       "OR4F16  0.00000                  0.03664                \n",
       "SAMD11  0.47600                  0.23870                \n",
       "NOC2L  93.56000                 65.98000                \n",
       "KLHL17  1.11500                  3.22700                \n",
       "       GTEX.111FC.0326.SM.5GZZ1 GTEX.111VG.2626.SM.5GZY2\n",
       "OR4F5   0.09989                  0.03538                \n",
       "OR4F29  0.06511                  0.03459                \n",
       "OR4F16  0.09766                  0.03459                \n",
       "SAMD11  1.09600                  0.44130                \n",
       "NOC2L  34.21000                 40.89000                \n",
       "KLHL17  2.56300                  2.16500                \n",
       "       GTEX.111YS.2326.SM.5987L GTEX.1122O.2426.SM.5GIDN\n",
       "OR4F5   0.12780                   0.00000               \n",
       "OR4F29  0.04166                   0.04942               \n",
       "OR4F16  0.12500                   0.00000               \n",
       "SAMD11  4.18400                   0.10730               \n",
       "NOC2L  63.77000                 104.40000               \n",
       "KLHL17  3.69700                   3.20500               \n",
       "       GTEX.1128S.2426.SM.5H11B GTEX.113JC.2726.SM.5EGIS\n",
       "OR4F5   0.05355                  0.04380                \n",
       "OR4F29  0.05236                  0.00000                \n",
       "OR4F16  0.07854                  0.08563                \n",
       "SAMD11  0.32690                  0.47650                \n",
       "NOC2L  63.74000                 39.23000                \n",
       "KLHL17  2.17900                  1.98900                \n",
       "       GTEX.117XS.2526.SM.5H11G GTEX.117YW.2426.SM.5Q5AE ⋯\n",
       "OR4F5   0.03276                  0.03230                 ⋯\n",
       "OR4F29  0.00000                  0.12630                 ⋯\n",
       "OR4F16  0.00000                  0.09472                 ⋯\n",
       "SAMD11  0.34780                  0.28280                 ⋯\n",
       "NOC2L  32.46000                 40.88000                 ⋯\n",
       "KLHL17  1.20900                  1.06000                 ⋯\n",
       "       GTEX.ZY6K.2026.SM.5GZXQ GTEX.ZYFC.0526.SM.5GIDF GTEX.ZYFD.0326.SM.5NQ8I\n",
       "OR4F5   0.04965                 0.04083                 0.04366               \n",
       "OR4F29  0.02427                 0.11980                 0.00000               \n",
       "OR4F16  0.04854                 0.07984                 0.00000               \n",
       "SAMD11  0.46780                 0.21670                 0.28960               \n",
       "NOC2L  89.06000                24.16000                28.26000               \n",
       "KLHL17  3.81400                 0.95320                 0.63350               \n",
       "       GTEX.ZYFG.2426.SM.5GIE8 GTEX.ZYT6.1626.SM.5E45R GTEX.ZYW4.0526.SM.5GZZ5\n",
       "OR4F5   0.03872                 0.1224                  0.0000                \n",
       "OR4F29  0.00000                 0.0299                  0.0000                \n",
       "OR4F16  0.03786                 0.0299                  0.0400                \n",
       "SAMD11  0.28780                 0.3166                  0.2824                \n",
       "NOC2L  87.25000                30.9500                 54.9000                \n",
       "KLHL17  3.21300                 1.4760                  1.4840                \n",
       "       GTEX.ZYY3.0526.SM.5E45G GTEX.ZZ64.1526.SM.5E43K GTEX.ZZPT.0626.SM.5GZXT\n",
       "OR4F5   0.1036                  0.03556                  0.05266              \n",
       "OR4F29  0.0000                  0.10430                  0.05148              \n",
       "OR4F16  0.0000                  0.13910                  0.00000              \n",
       "SAMD11  0.1375                  0.31140                  0.22360              \n",
       "NOC2L  96.2100                 45.44000                116.40000              \n",
       "KLHL17  3.1490                  2.82700                  9.43600              \n",
       "       GTEX.ZZPU.2626.SM.5E45Y\n",
       "OR4F5   0.1480                \n",
       "OR4F29  0.1447                \n",
       "OR4F16  0.0000                \n",
       "SAMD11  1.0510                \n",
       "NOC2L  75.2200                \n",
       "KLHL17  2.7900                "
      ]
     },
     "metadata": {},
     "output_type": "display_data"
    },
    {
     "data": {
      "text/html": [
       "<style>\n",
       ".list-inline {list-style: none; margin:0; padding: 0}\n",
       ".list-inline>li {display: inline-block}\n",
       ".list-inline>li:not(:last-child)::after {content: \"\\00b7\"; padding: 0 .5ex}\n",
       "</style>\n",
       "<ol class=list-inline><li>18446</li><li>328</li></ol>\n"
      ],
      "text/latex": [
       "\\begin{enumerate*}\n",
       "\\item 18446\n",
       "\\item 328\n",
       "\\end{enumerate*}\n"
      ],
      "text/markdown": [
       "1. 18446\n",
       "2. 328\n",
       "\n",
       "\n"
      ],
      "text/plain": [
       "[1] 18446   328"
      ]
     },
     "metadata": {},
     "output_type": "display_data"
    },
    {
     "data": {
      "text/html": [
       "<table class=\"dataframe\">\n",
       "<caption>A data.frame: 6 × 328</caption>\n",
       "<thead>\n",
       "\t<tr><th></th><th scope=col>GTEX.111CU.0526.SM.5EGHK</th><th scope=col>GTEX.111YS.1226.SM.5EGGJ</th><th scope=col>GTEX.1122O.0726.SM.5GIEV</th><th scope=col>GTEX.1128S.0826.SM.5GZZI</th><th scope=col>GTEX.117YX.0226.SM.5EGH6</th><th scope=col>GTEX.11DXX.0926.SM.5H112</th><th scope=col>GTEX.11EQ9.1026.SM.5H134</th><th scope=col>GTEX.11GSP.0426.SM.5A5KX</th><th scope=col>GTEX.11I78.0626.SM.5A5LZ</th><th scope=col>GTEX.11LCK.0226.SM.5A5M6</th><th scope=col>⋯</th><th scope=col>GTEX.ZTPG.1026.SM.5DUWP</th><th scope=col>GTEX.ZV7C.0726.SM.59HKH</th><th scope=col>GTEX.ZVP2.0726.SM.59HKY</th><th scope=col>GTEX.ZVT2.2026.SM.5NQ8Q</th><th scope=col>GTEX.ZVZP.0626.SM.59HL5</th><th scope=col>GTEX.ZYFG.0826.SM.5BC5T</th><th scope=col>GTEX.ZYT6.1326.SM.5E453</th><th scope=col>GTEX.ZYW4.2126.SM.59HJ9</th><th scope=col>GTEX.ZYY3.0826.SM.5E44R</th><th scope=col>GTEX.ZZPU.0726.SM.5N9C8</th></tr>\n",
       "\t<tr><th></th><th scope=col>&lt;dbl&gt;</th><th scope=col>&lt;dbl&gt;</th><th scope=col>&lt;dbl&gt;</th><th scope=col>&lt;dbl&gt;</th><th scope=col>&lt;dbl&gt;</th><th scope=col>&lt;dbl&gt;</th><th scope=col>&lt;dbl&gt;</th><th scope=col>&lt;dbl&gt;</th><th scope=col>&lt;dbl&gt;</th><th scope=col>&lt;dbl&gt;</th><th scope=col>⋯</th><th scope=col>&lt;dbl&gt;</th><th scope=col>&lt;dbl&gt;</th><th scope=col>&lt;dbl&gt;</th><th scope=col>&lt;dbl&gt;</th><th scope=col>&lt;dbl&gt;</th><th scope=col>&lt;dbl&gt;</th><th scope=col>&lt;dbl&gt;</th><th scope=col>&lt;dbl&gt;</th><th scope=col>&lt;dbl&gt;</th><th scope=col>&lt;dbl&gt;</th></tr>\n",
       "</thead>\n",
       "<tbody>\n",
       "\t<tr><th scope=row>OR4F5</th><td> 0.08019</td><td> 0.03353</td><td> 0.07382</td><td> 0.06011</td><td> 0.03366</td><td> 0.00000</td><td> 0.00000</td><td> 0.08492</td><td> 0.03285</td><td> 0.00000</td><td>⋯</td><td> 0.03349</td><td> 0.11100</td><td> 0.06992</td><td> 0.0000</td><td> 0.02697</td><td> 0.06631</td><td> 0.05595</td><td> 0.07793</td><td> 0.000</td><td> 0.000</td></tr>\n",
       "\t<tr><th scope=row>OR4F29</th><td> 0.00000</td><td> 0.00000</td><td> 0.09623</td><td> 0.05876</td><td> 0.06582</td><td> 0.00000</td><td> 0.02553</td><td> 0.05535</td><td> 0.06423</td><td> 0.03331</td><td>⋯</td><td> 0.09821</td><td> 0.05426</td><td> 0.03418</td><td> 0.0000</td><td> 0.02637</td><td> 0.03241</td><td> 0.02735</td><td> 0.03809</td><td> 0.000</td><td> 0.000</td></tr>\n",
       "\t<tr><th scope=row>OR4F16</th><td> 0.00000</td><td> 0.03278</td><td> 0.00000</td><td> 0.05876</td><td> 0.13160</td><td> 0.05462</td><td> 0.02553</td><td> 0.02767</td><td> 0.00000</td><td> 0.00000</td><td>⋯</td><td> 0.03274</td><td> 0.08139</td><td> 0.00000</td><td> 0.0371</td><td> 0.05274</td><td> 0.03241</td><td> 0.10940</td><td> 0.00000</td><td> 0.000</td><td> 0.000</td></tr>\n",
       "\t<tr><th scope=row>SAMD11</th><td> 0.50010</td><td> 0.31140</td><td> 0.18940</td><td> 0.48660</td><td> 0.63430</td><td> 0.20760</td><td> 0.52670</td><td> 0.16530</td><td> 1.27300</td><td> 0.47920</td><td>⋯</td><td> 2.44400</td><td> 0.92060</td><td> 0.47320</td><td> 0.4129</td><td> 0.50110</td><td> 0.64240</td><td> 3.34800</td><td> 0.25850</td><td> 1.392</td><td> 2.678</td></tr>\n",
       "\t<tr><th scope=row>NOC2L</th><td>27.83000</td><td>22.14000</td><td>28.45000</td><td>41.65000</td><td>27.51000</td><td>21.56000</td><td>25.03000</td><td>11.44000</td><td>20.33000</td><td>35.15000</td><td>⋯</td><td>45.03000</td><td>34.96000</td><td>24.61000</td><td>23.1800</td><td>22.59000</td><td>29.10000</td><td>20.05000</td><td>35.42000</td><td>31.360</td><td>33.410</td></tr>\n",
       "\t<tr><th scope=row>KLHL17</th><td> 3.50300</td><td> 3.55400</td><td> 3.80400</td><td> 3.97300</td><td> 3.72800</td><td> 3.66600</td><td> 5.65900</td><td> 2.54500</td><td> 5.02600</td><td> 5.41700</td><td>⋯</td><td> 7.05600</td><td> 4.06200</td><td> 3.26400</td><td> 4.7890</td><td> 3.69300</td><td> 4.04800</td><td> 7.62500</td><td> 4.99100</td><td> 6.017</td><td> 9.654</td></tr>\n",
       "</tbody>\n",
       "</table>\n"
      ],
      "text/latex": [
       "A data.frame: 6 × 328\n",
       "\\begin{tabular}{r|lllllllllllllllllllll}\n",
       "  & GTEX.111CU.0526.SM.5EGHK & GTEX.111YS.1226.SM.5EGGJ & GTEX.1122O.0726.SM.5GIEV & GTEX.1128S.0826.SM.5GZZI & GTEX.117YX.0226.SM.5EGH6 & GTEX.11DXX.0926.SM.5H112 & GTEX.11EQ9.1026.SM.5H134 & GTEX.11GSP.0426.SM.5A5KX & GTEX.11I78.0626.SM.5A5LZ & GTEX.11LCK.0226.SM.5A5M6 & ⋯ & GTEX.ZTPG.1026.SM.5DUWP & GTEX.ZV7C.0726.SM.59HKH & GTEX.ZVP2.0726.SM.59HKY & GTEX.ZVT2.2026.SM.5NQ8Q & GTEX.ZVZP.0626.SM.59HL5 & GTEX.ZYFG.0826.SM.5BC5T & GTEX.ZYT6.1326.SM.5E453 & GTEX.ZYW4.2126.SM.59HJ9 & GTEX.ZYY3.0826.SM.5E44R & GTEX.ZZPU.0726.SM.5N9C8\\\\\n",
       "  & <dbl> & <dbl> & <dbl> & <dbl> & <dbl> & <dbl> & <dbl> & <dbl> & <dbl> & <dbl> & ⋯ & <dbl> & <dbl> & <dbl> & <dbl> & <dbl> & <dbl> & <dbl> & <dbl> & <dbl> & <dbl>\\\\\n",
       "\\hline\n",
       "\tOR4F5 &  0.08019 &  0.03353 &  0.07382 &  0.06011 &  0.03366 &  0.00000 &  0.00000 &  0.08492 &  0.03285 &  0.00000 & ⋯ &  0.03349 &  0.11100 &  0.06992 &  0.0000 &  0.02697 &  0.06631 &  0.05595 &  0.07793 &  0.000 &  0.000\\\\\n",
       "\tOR4F29 &  0.00000 &  0.00000 &  0.09623 &  0.05876 &  0.06582 &  0.00000 &  0.02553 &  0.05535 &  0.06423 &  0.03331 & ⋯ &  0.09821 &  0.05426 &  0.03418 &  0.0000 &  0.02637 &  0.03241 &  0.02735 &  0.03809 &  0.000 &  0.000\\\\\n",
       "\tOR4F16 &  0.00000 &  0.03278 &  0.00000 &  0.05876 &  0.13160 &  0.05462 &  0.02553 &  0.02767 &  0.00000 &  0.00000 & ⋯ &  0.03274 &  0.08139 &  0.00000 &  0.0371 &  0.05274 &  0.03241 &  0.10940 &  0.00000 &  0.000 &  0.000\\\\\n",
       "\tSAMD11 &  0.50010 &  0.31140 &  0.18940 &  0.48660 &  0.63430 &  0.20760 &  0.52670 &  0.16530 &  1.27300 &  0.47920 & ⋯ &  2.44400 &  0.92060 &  0.47320 &  0.4129 &  0.50110 &  0.64240 &  3.34800 &  0.25850 &  1.392 &  2.678\\\\\n",
       "\tNOC2L & 27.83000 & 22.14000 & 28.45000 & 41.65000 & 27.51000 & 21.56000 & 25.03000 & 11.44000 & 20.33000 & 35.15000 & ⋯ & 45.03000 & 34.96000 & 24.61000 & 23.1800 & 22.59000 & 29.10000 & 20.05000 & 35.42000 & 31.360 & 33.410\\\\\n",
       "\tKLHL17 &  3.50300 &  3.55400 &  3.80400 &  3.97300 &  3.72800 &  3.66600 &  5.65900 &  2.54500 &  5.02600 &  5.41700 & ⋯ &  7.05600 &  4.06200 &  3.26400 &  4.7890 &  3.69300 &  4.04800 &  7.62500 &  4.99100 &  6.017 &  9.654\\\\\n",
       "\\end{tabular}\n"
      ],
      "text/markdown": [
       "\n",
       "A data.frame: 6 × 328\n",
       "\n",
       "| <!--/--> | GTEX.111CU.0526.SM.5EGHK &lt;dbl&gt; | GTEX.111YS.1226.SM.5EGGJ &lt;dbl&gt; | GTEX.1122O.0726.SM.5GIEV &lt;dbl&gt; | GTEX.1128S.0826.SM.5GZZI &lt;dbl&gt; | GTEX.117YX.0226.SM.5EGH6 &lt;dbl&gt; | GTEX.11DXX.0926.SM.5H112 &lt;dbl&gt; | GTEX.11EQ9.1026.SM.5H134 &lt;dbl&gt; | GTEX.11GSP.0426.SM.5A5KX &lt;dbl&gt; | GTEX.11I78.0626.SM.5A5LZ &lt;dbl&gt; | GTEX.11LCK.0226.SM.5A5M6 &lt;dbl&gt; | ⋯ ⋯ | GTEX.ZTPG.1026.SM.5DUWP &lt;dbl&gt; | GTEX.ZV7C.0726.SM.59HKH &lt;dbl&gt; | GTEX.ZVP2.0726.SM.59HKY &lt;dbl&gt; | GTEX.ZVT2.2026.SM.5NQ8Q &lt;dbl&gt; | GTEX.ZVZP.0626.SM.59HL5 &lt;dbl&gt; | GTEX.ZYFG.0826.SM.5BC5T &lt;dbl&gt; | GTEX.ZYT6.1326.SM.5E453 &lt;dbl&gt; | GTEX.ZYW4.2126.SM.59HJ9 &lt;dbl&gt; | GTEX.ZYY3.0826.SM.5E44R &lt;dbl&gt; | GTEX.ZZPU.0726.SM.5N9C8 &lt;dbl&gt; |\n",
       "|---|---|---|---|---|---|---|---|---|---|---|---|---|---|---|---|---|---|---|---|---|---|\n",
       "| OR4F5 |  0.08019 |  0.03353 |  0.07382 |  0.06011 |  0.03366 |  0.00000 |  0.00000 |  0.08492 |  0.03285 |  0.00000 | ⋯ |  0.03349 |  0.11100 |  0.06992 |  0.0000 |  0.02697 |  0.06631 |  0.05595 |  0.07793 |  0.000 |  0.000 |\n",
       "| OR4F29 |  0.00000 |  0.00000 |  0.09623 |  0.05876 |  0.06582 |  0.00000 |  0.02553 |  0.05535 |  0.06423 |  0.03331 | ⋯ |  0.09821 |  0.05426 |  0.03418 |  0.0000 |  0.02637 |  0.03241 |  0.02735 |  0.03809 |  0.000 |  0.000 |\n",
       "| OR4F16 |  0.00000 |  0.03278 |  0.00000 |  0.05876 |  0.13160 |  0.05462 |  0.02553 |  0.02767 |  0.00000 |  0.00000 | ⋯ |  0.03274 |  0.08139 |  0.00000 |  0.0371 |  0.05274 |  0.03241 |  0.10940 |  0.00000 |  0.000 |  0.000 |\n",
       "| SAMD11 |  0.50010 |  0.31140 |  0.18940 |  0.48660 |  0.63430 |  0.20760 |  0.52670 |  0.16530 |  1.27300 |  0.47920 | ⋯ |  2.44400 |  0.92060 |  0.47320 |  0.4129 |  0.50110 |  0.64240 |  3.34800 |  0.25850 |  1.392 |  2.678 |\n",
       "| NOC2L | 27.83000 | 22.14000 | 28.45000 | 41.65000 | 27.51000 | 21.56000 | 25.03000 | 11.44000 | 20.33000 | 35.15000 | ⋯ | 45.03000 | 34.96000 | 24.61000 | 23.1800 | 22.59000 | 29.10000 | 20.05000 | 35.42000 | 31.360 | 33.410 |\n",
       "| KLHL17 |  3.50300 |  3.55400 |  3.80400 |  3.97300 |  3.72800 |  3.66600 |  5.65900 |  2.54500 |  5.02600 |  5.41700 | ⋯ |  7.05600 |  4.06200 |  3.26400 |  4.7890 |  3.69300 |  4.04800 |  7.62500 |  4.99100 |  6.017 |  9.654 |\n",
       "\n"
      ],
      "text/plain": [
       "       GTEX.111CU.0526.SM.5EGHK GTEX.111YS.1226.SM.5EGGJ\n",
       "OR4F5   0.08019                  0.03353                \n",
       "OR4F29  0.00000                  0.00000                \n",
       "OR4F16  0.00000                  0.03278                \n",
       "SAMD11  0.50010                  0.31140                \n",
       "NOC2L  27.83000                 22.14000                \n",
       "KLHL17  3.50300                  3.55400                \n",
       "       GTEX.1122O.0726.SM.5GIEV GTEX.1128S.0826.SM.5GZZI\n",
       "OR4F5   0.07382                  0.06011                \n",
       "OR4F29  0.09623                  0.05876                \n",
       "OR4F16  0.00000                  0.05876                \n",
       "SAMD11  0.18940                  0.48660                \n",
       "NOC2L  28.45000                 41.65000                \n",
       "KLHL17  3.80400                  3.97300                \n",
       "       GTEX.117YX.0226.SM.5EGH6 GTEX.11DXX.0926.SM.5H112\n",
       "OR4F5   0.03366                  0.00000                \n",
       "OR4F29  0.06582                  0.00000                \n",
       "OR4F16  0.13160                  0.05462                \n",
       "SAMD11  0.63430                  0.20760                \n",
       "NOC2L  27.51000                 21.56000                \n",
       "KLHL17  3.72800                  3.66600                \n",
       "       GTEX.11EQ9.1026.SM.5H134 GTEX.11GSP.0426.SM.5A5KX\n",
       "OR4F5   0.00000                  0.08492                \n",
       "OR4F29  0.02553                  0.05535                \n",
       "OR4F16  0.02553                  0.02767                \n",
       "SAMD11  0.52670                  0.16530                \n",
       "NOC2L  25.03000                 11.44000                \n",
       "KLHL17  5.65900                  2.54500                \n",
       "       GTEX.11I78.0626.SM.5A5LZ GTEX.11LCK.0226.SM.5A5M6 ⋯\n",
       "OR4F5   0.03285                  0.00000                 ⋯\n",
       "OR4F29  0.06423                  0.03331                 ⋯\n",
       "OR4F16  0.00000                  0.00000                 ⋯\n",
       "SAMD11  1.27300                  0.47920                 ⋯\n",
       "NOC2L  20.33000                 35.15000                 ⋯\n",
       "KLHL17  5.02600                  5.41700                 ⋯\n",
       "       GTEX.ZTPG.1026.SM.5DUWP GTEX.ZV7C.0726.SM.59HKH GTEX.ZVP2.0726.SM.59HKY\n",
       "OR4F5   0.03349                 0.11100                 0.06992               \n",
       "OR4F29  0.09821                 0.05426                 0.03418               \n",
       "OR4F16  0.03274                 0.08139                 0.00000               \n",
       "SAMD11  2.44400                 0.92060                 0.47320               \n",
       "NOC2L  45.03000                34.96000                24.61000               \n",
       "KLHL17  7.05600                 4.06200                 3.26400               \n",
       "       GTEX.ZVT2.2026.SM.5NQ8Q GTEX.ZVZP.0626.SM.59HL5 GTEX.ZYFG.0826.SM.5BC5T\n",
       "OR4F5   0.0000                  0.02697                 0.06631               \n",
       "OR4F29  0.0000                  0.02637                 0.03241               \n",
       "OR4F16  0.0371                  0.05274                 0.03241               \n",
       "SAMD11  0.4129                  0.50110                 0.64240               \n",
       "NOC2L  23.1800                 22.59000                29.10000               \n",
       "KLHL17  4.7890                  3.69300                 4.04800               \n",
       "       GTEX.ZYT6.1326.SM.5E453 GTEX.ZYW4.2126.SM.59HJ9 GTEX.ZYY3.0826.SM.5E44R\n",
       "OR4F5   0.05595                 0.07793                 0.000                 \n",
       "OR4F29  0.02735                 0.03809                 0.000                 \n",
       "OR4F16  0.10940                 0.00000                 0.000                 \n",
       "SAMD11  3.34800                 0.25850                 1.392                 \n",
       "NOC2L  20.05000                35.42000                31.360                 \n",
       "KLHL17  7.62500                 4.99100                 6.017                 \n",
       "       GTEX.ZZPU.0726.SM.5N9C8\n",
       "OR4F5   0.000                 \n",
       "OR4F29  0.000                 \n",
       "OR4F16  0.000                 \n",
       "SAMD11  2.678                 \n",
       "NOC2L  33.410                 \n",
       "KLHL17  9.654                 "
      ]
     },
     "metadata": {},
     "output_type": "display_data"
    },
    {
     "data": {
      "text/html": [
       "<style>\n",
       ".list-inline {list-style: none; margin:0; padding: 0}\n",
       ".list-inline>li {display: inline-block}\n",
       ".list-inline>li:not(:last-child)::after {content: \"\\00b7\"; padding: 0 .5ex}\n",
       "</style>\n",
       "<ol class=list-inline><li>18446</li><li>283</li></ol>\n"
      ],
      "text/latex": [
       "\\begin{enumerate*}\n",
       "\\item 18446\n",
       "\\item 283\n",
       "\\end{enumerate*}\n"
      ],
      "text/markdown": [
       "1. 18446\n",
       "2. 283\n",
       "\n",
       "\n"
      ],
      "text/plain": [
       "[1] 18446   283"
      ]
     },
     "metadata": {},
     "output_type": "display_data"
    },
    {
     "data": {
      "text/html": [
       "<table class=\"dataframe\">\n",
       "<caption>A data.frame: 6 × 283</caption>\n",
       "<thead>\n",
       "\t<tr><th></th><th scope=col>GTEX.1128S.2626.SM.5H11Z</th><th scope=col>GTEX.113JC.2826.SM.5EGIT</th><th scope=col>GTEX.117XS.2926.SM.5N9BX</th><th scope=col>GTEX.117YW.2826.SM.5H116</th><th scope=col>GTEX.1192W.3026.SM.5GZZV</th><th scope=col>GTEX.1192X.3026.SM.5N9BM</th><th scope=col>GTEX.11DXW.1226.SM.5H133</th><th scope=col>GTEX.11DXY.3026.SM.5N9CB</th><th scope=col>GTEX.11DYG.3126.SM.5A5L6</th><th scope=col>GTEX.11EI6.3126.SM.5H111</th><th scope=col>⋯</th><th scope=col>GTEX.YFC4.3226.SM.5CVM2</th><th scope=col>GTEX.Z93S.3026.SM.5CVMS</th><th scope=col>GTEX.ZAB4.3126.SM.57WCJ</th><th scope=col>GTEX.ZAJG.3226.SM.5HL9V</th><th scope=col>GTEX.ZAK1.3126.SM.5S2O8</th><th scope=col>GTEX.ZDXO.1426.SM.4WKHG</th><th scope=col>GTEX.ZE9C.3126.SM.4WKHN</th><th scope=col>GTEX.ZF28.3126.SM.4WKFC</th><th scope=col>GTEX.ZUA1.3126.SM.59HJ8</th><th scope=col>GTEX.ZYY3.3226.SM.5SI9X</th></tr>\n",
       "\t<tr><th></th><th scope=col>&lt;dbl&gt;</th><th scope=col>&lt;dbl&gt;</th><th scope=col>&lt;dbl&gt;</th><th scope=col>&lt;dbl&gt;</th><th scope=col>&lt;dbl&gt;</th><th scope=col>&lt;dbl&gt;</th><th scope=col>&lt;dbl&gt;</th><th scope=col>&lt;dbl&gt;</th><th scope=col>&lt;dbl&gt;</th><th scope=col>&lt;dbl&gt;</th><th scope=col>⋯</th><th scope=col>&lt;dbl&gt;</th><th scope=col>&lt;dbl&gt;</th><th scope=col>&lt;dbl&gt;</th><th scope=col>&lt;dbl&gt;</th><th scope=col>&lt;dbl&gt;</th><th scope=col>&lt;dbl&gt;</th><th scope=col>&lt;dbl&gt;</th><th scope=col>&lt;dbl&gt;</th><th scope=col>&lt;dbl&gt;</th><th scope=col>&lt;dbl&gt;</th></tr>\n",
       "</thead>\n",
       "<tbody>\n",
       "\t<tr><th scope=row>OR4F5</th><td> 0.00000</td><td> 0.00</td><td> 0.1055</td><td> 0.05423</td><td> 0.00</td><td> 0.00000</td><td> 0.00000</td><td> 0.03334</td><td> 0.00000</td><td> 0.12080</td><td>⋯</td><td> 0.04921</td><td> 0.10620</td><td> 0.09964</td><td> 0.06113</td><td> 0.07591</td><td> 0.07472</td><td>  0.0000</td><td> 0.03928</td><td> 0.09744</td><td> 0.00</td></tr>\n",
       "\t<tr><th scope=row>OR4F29</th><td> 0.00000</td><td> 0.00</td><td> 0.0000</td><td> 0.00000</td><td> 0.00</td><td> 0.04105</td><td> 0.09455</td><td> 0.03259</td><td> 0.00000</td><td> 0.03936</td><td>⋯</td><td> 0.09621</td><td> 0.05192</td><td> 0.09742</td><td> 0.05977</td><td> 0.00000</td><td> 0.07305</td><td>  0.0595</td><td> 0.03840</td><td> 0.04763</td><td> 0.00</td></tr>\n",
       "\t<tr><th scope=row>OR4F16</th><td> 0.05726</td><td> 0.00</td><td> 0.0000</td><td> 0.05302</td><td> 0.00</td><td> 0.00000</td><td> 0.00000</td><td> 0.00000</td><td> 0.05578</td><td> 0.03936</td><td>⋯</td><td> 0.00000</td><td> 0.00000</td><td> 0.04871</td><td> 0.00000</td><td> 0.00000</td><td> 0.00000</td><td>  0.0000</td><td> 0.03840</td><td> 0.19050</td><td> 0.00</td></tr>\n",
       "\t<tr><th scope=row>SAMD11</th><td>85.49000</td><td>10.35</td><td>20.0200</td><td>41.28000</td><td>64.66</td><td>11.98000</td><td>67.80000</td><td>59.38000</td><td>34.47000</td><td>24.87000</td><td>⋯</td><td>22.94000</td><td>52.02000</td><td>28.68000</td><td>53.64000</td><td>47.00000</td><td>22.13000</td><td>150.7000</td><td>24.04000</td><td>23.45000</td><td>28.20</td></tr>\n",
       "\t<tr><th scope=row>NOC2L</th><td>67.37000</td><td>56.98</td><td>42.0900</td><td>51.11000</td><td>55.40</td><td>53.59000</td><td>63.12000</td><td>55.35000</td><td>60.97000</td><td>44.69000</td><td>⋯</td><td>37.74000</td><td>39.40000</td><td>58.70000</td><td>96.87000</td><td>65.00000</td><td>48.01000</td><td> 75.7100</td><td>64.45000</td><td>55.02000</td><td>67.88</td></tr>\n",
       "\t<tr><th scope=row>KLHL17</th><td>18.96000</td><td>17.48</td><td>14.8600</td><td>19.62000</td><td>21.67</td><td>25.52000</td><td>19.79000</td><td>21.59000</td><td>16.81000</td><td>22.02000</td><td>⋯</td><td>17.37000</td><td>15.45000</td><td>24.69000</td><td>43.08000</td><td>24.11000</td><td>13.72000</td><td> 37.0100</td><td>40.05000</td><td>18.81000</td><td>34.96</td></tr>\n",
       "</tbody>\n",
       "</table>\n"
      ],
      "text/latex": [
       "A data.frame: 6 × 283\n",
       "\\begin{tabular}{r|lllllllllllllllllllll}\n",
       "  & GTEX.1128S.2626.SM.5H11Z & GTEX.113JC.2826.SM.5EGIT & GTEX.117XS.2926.SM.5N9BX & GTEX.117YW.2826.SM.5H116 & GTEX.1192W.3026.SM.5GZZV & GTEX.1192X.3026.SM.5N9BM & GTEX.11DXW.1226.SM.5H133 & GTEX.11DXY.3026.SM.5N9CB & GTEX.11DYG.3126.SM.5A5L6 & GTEX.11EI6.3126.SM.5H111 & ⋯ & GTEX.YFC4.3226.SM.5CVM2 & GTEX.Z93S.3026.SM.5CVMS & GTEX.ZAB4.3126.SM.57WCJ & GTEX.ZAJG.3226.SM.5HL9V & GTEX.ZAK1.3126.SM.5S2O8 & GTEX.ZDXO.1426.SM.4WKHG & GTEX.ZE9C.3126.SM.4WKHN & GTEX.ZF28.3126.SM.4WKFC & GTEX.ZUA1.3126.SM.59HJ8 & GTEX.ZYY3.3226.SM.5SI9X\\\\\n",
       "  & <dbl> & <dbl> & <dbl> & <dbl> & <dbl> & <dbl> & <dbl> & <dbl> & <dbl> & <dbl> & ⋯ & <dbl> & <dbl> & <dbl> & <dbl> & <dbl> & <dbl> & <dbl> & <dbl> & <dbl> & <dbl>\\\\\n",
       "\\hline\n",
       "\tOR4F5 &  0.00000 &  0.00 &  0.1055 &  0.05423 &  0.00 &  0.00000 &  0.00000 &  0.03334 &  0.00000 &  0.12080 & ⋯ &  0.04921 &  0.10620 &  0.09964 &  0.06113 &  0.07591 &  0.07472 &   0.0000 &  0.03928 &  0.09744 &  0.00\\\\\n",
       "\tOR4F29 &  0.00000 &  0.00 &  0.0000 &  0.00000 &  0.00 &  0.04105 &  0.09455 &  0.03259 &  0.00000 &  0.03936 & ⋯ &  0.09621 &  0.05192 &  0.09742 &  0.05977 &  0.00000 &  0.07305 &   0.0595 &  0.03840 &  0.04763 &  0.00\\\\\n",
       "\tOR4F16 &  0.05726 &  0.00 &  0.0000 &  0.05302 &  0.00 &  0.00000 &  0.00000 &  0.00000 &  0.05578 &  0.03936 & ⋯ &  0.00000 &  0.00000 &  0.04871 &  0.00000 &  0.00000 &  0.00000 &   0.0000 &  0.03840 &  0.19050 &  0.00\\\\\n",
       "\tSAMD11 & 85.49000 & 10.35 & 20.0200 & 41.28000 & 64.66 & 11.98000 & 67.80000 & 59.38000 & 34.47000 & 24.87000 & ⋯ & 22.94000 & 52.02000 & 28.68000 & 53.64000 & 47.00000 & 22.13000 & 150.7000 & 24.04000 & 23.45000 & 28.20\\\\\n",
       "\tNOC2L & 67.37000 & 56.98 & 42.0900 & 51.11000 & 55.40 & 53.59000 & 63.12000 & 55.35000 & 60.97000 & 44.69000 & ⋯ & 37.74000 & 39.40000 & 58.70000 & 96.87000 & 65.00000 & 48.01000 &  75.7100 & 64.45000 & 55.02000 & 67.88\\\\\n",
       "\tKLHL17 & 18.96000 & 17.48 & 14.8600 & 19.62000 & 21.67 & 25.52000 & 19.79000 & 21.59000 & 16.81000 & 22.02000 & ⋯ & 17.37000 & 15.45000 & 24.69000 & 43.08000 & 24.11000 & 13.72000 &  37.0100 & 40.05000 & 18.81000 & 34.96\\\\\n",
       "\\end{tabular}\n"
      ],
      "text/markdown": [
       "\n",
       "A data.frame: 6 × 283\n",
       "\n",
       "| <!--/--> | GTEX.1128S.2626.SM.5H11Z &lt;dbl&gt; | GTEX.113JC.2826.SM.5EGIT &lt;dbl&gt; | GTEX.117XS.2926.SM.5N9BX &lt;dbl&gt; | GTEX.117YW.2826.SM.5H116 &lt;dbl&gt; | GTEX.1192W.3026.SM.5GZZV &lt;dbl&gt; | GTEX.1192X.3026.SM.5N9BM &lt;dbl&gt; | GTEX.11DXW.1226.SM.5H133 &lt;dbl&gt; | GTEX.11DXY.3026.SM.5N9CB &lt;dbl&gt; | GTEX.11DYG.3126.SM.5A5L6 &lt;dbl&gt; | GTEX.11EI6.3126.SM.5H111 &lt;dbl&gt; | ⋯ ⋯ | GTEX.YFC4.3226.SM.5CVM2 &lt;dbl&gt; | GTEX.Z93S.3026.SM.5CVMS &lt;dbl&gt; | GTEX.ZAB4.3126.SM.57WCJ &lt;dbl&gt; | GTEX.ZAJG.3226.SM.5HL9V &lt;dbl&gt; | GTEX.ZAK1.3126.SM.5S2O8 &lt;dbl&gt; | GTEX.ZDXO.1426.SM.4WKHG &lt;dbl&gt; | GTEX.ZE9C.3126.SM.4WKHN &lt;dbl&gt; | GTEX.ZF28.3126.SM.4WKFC &lt;dbl&gt; | GTEX.ZUA1.3126.SM.59HJ8 &lt;dbl&gt; | GTEX.ZYY3.3226.SM.5SI9X &lt;dbl&gt; |\n",
       "|---|---|---|---|---|---|---|---|---|---|---|---|---|---|---|---|---|---|---|---|---|---|\n",
       "| OR4F5 |  0.00000 |  0.00 |  0.1055 |  0.05423 |  0.00 |  0.00000 |  0.00000 |  0.03334 |  0.00000 |  0.12080 | ⋯ |  0.04921 |  0.10620 |  0.09964 |  0.06113 |  0.07591 |  0.07472 |   0.0000 |  0.03928 |  0.09744 |  0.00 |\n",
       "| OR4F29 |  0.00000 |  0.00 |  0.0000 |  0.00000 |  0.00 |  0.04105 |  0.09455 |  0.03259 |  0.00000 |  0.03936 | ⋯ |  0.09621 |  0.05192 |  0.09742 |  0.05977 |  0.00000 |  0.07305 |   0.0595 |  0.03840 |  0.04763 |  0.00 |\n",
       "| OR4F16 |  0.05726 |  0.00 |  0.0000 |  0.05302 |  0.00 |  0.00000 |  0.00000 |  0.00000 |  0.05578 |  0.03936 | ⋯ |  0.00000 |  0.00000 |  0.04871 |  0.00000 |  0.00000 |  0.00000 |   0.0000 |  0.03840 |  0.19050 |  0.00 |\n",
       "| SAMD11 | 85.49000 | 10.35 | 20.0200 | 41.28000 | 64.66 | 11.98000 | 67.80000 | 59.38000 | 34.47000 | 24.87000 | ⋯ | 22.94000 | 52.02000 | 28.68000 | 53.64000 | 47.00000 | 22.13000 | 150.7000 | 24.04000 | 23.45000 | 28.20 |\n",
       "| NOC2L | 67.37000 | 56.98 | 42.0900 | 51.11000 | 55.40 | 53.59000 | 63.12000 | 55.35000 | 60.97000 | 44.69000 | ⋯ | 37.74000 | 39.40000 | 58.70000 | 96.87000 | 65.00000 | 48.01000 |  75.7100 | 64.45000 | 55.02000 | 67.88 |\n",
       "| KLHL17 | 18.96000 | 17.48 | 14.8600 | 19.62000 | 21.67 | 25.52000 | 19.79000 | 21.59000 | 16.81000 | 22.02000 | ⋯ | 17.37000 | 15.45000 | 24.69000 | 43.08000 | 24.11000 | 13.72000 |  37.0100 | 40.05000 | 18.81000 | 34.96 |\n",
       "\n"
      ],
      "text/plain": [
       "       GTEX.1128S.2626.SM.5H11Z GTEX.113JC.2826.SM.5EGIT\n",
       "OR4F5   0.00000                  0.00                   \n",
       "OR4F29  0.00000                  0.00                   \n",
       "OR4F16  0.05726                  0.00                   \n",
       "SAMD11 85.49000                 10.35                   \n",
       "NOC2L  67.37000                 56.98                   \n",
       "KLHL17 18.96000                 17.48                   \n",
       "       GTEX.117XS.2926.SM.5N9BX GTEX.117YW.2826.SM.5H116\n",
       "OR4F5   0.1055                   0.05423                \n",
       "OR4F29  0.0000                   0.00000                \n",
       "OR4F16  0.0000                   0.05302                \n",
       "SAMD11 20.0200                  41.28000                \n",
       "NOC2L  42.0900                  51.11000                \n",
       "KLHL17 14.8600                  19.62000                \n",
       "       GTEX.1192W.3026.SM.5GZZV GTEX.1192X.3026.SM.5N9BM\n",
       "OR4F5   0.00                     0.00000                \n",
       "OR4F29  0.00                     0.04105                \n",
       "OR4F16  0.00                     0.00000                \n",
       "SAMD11 64.66                    11.98000                \n",
       "NOC2L  55.40                    53.59000                \n",
       "KLHL17 21.67                    25.52000                \n",
       "       GTEX.11DXW.1226.SM.5H133 GTEX.11DXY.3026.SM.5N9CB\n",
       "OR4F5   0.00000                  0.03334                \n",
       "OR4F29  0.09455                  0.03259                \n",
       "OR4F16  0.00000                  0.00000                \n",
       "SAMD11 67.80000                 59.38000                \n",
       "NOC2L  63.12000                 55.35000                \n",
       "KLHL17 19.79000                 21.59000                \n",
       "       GTEX.11DYG.3126.SM.5A5L6 GTEX.11EI6.3126.SM.5H111 ⋯\n",
       "OR4F5   0.00000                  0.12080                 ⋯\n",
       "OR4F29  0.00000                  0.03936                 ⋯\n",
       "OR4F16  0.05578                  0.03936                 ⋯\n",
       "SAMD11 34.47000                 24.87000                 ⋯\n",
       "NOC2L  60.97000                 44.69000                 ⋯\n",
       "KLHL17 16.81000                 22.02000                 ⋯\n",
       "       GTEX.YFC4.3226.SM.5CVM2 GTEX.Z93S.3026.SM.5CVMS GTEX.ZAB4.3126.SM.57WCJ\n",
       "OR4F5   0.04921                 0.10620                 0.09964               \n",
       "OR4F29  0.09621                 0.05192                 0.09742               \n",
       "OR4F16  0.00000                 0.00000                 0.04871               \n",
       "SAMD11 22.94000                52.02000                28.68000               \n",
       "NOC2L  37.74000                39.40000                58.70000               \n",
       "KLHL17 17.37000                15.45000                24.69000               \n",
       "       GTEX.ZAJG.3226.SM.5HL9V GTEX.ZAK1.3126.SM.5S2O8 GTEX.ZDXO.1426.SM.4WKHG\n",
       "OR4F5   0.06113                 0.07591                 0.07472               \n",
       "OR4F29  0.05977                 0.00000                 0.07305               \n",
       "OR4F16  0.00000                 0.00000                 0.00000               \n",
       "SAMD11 53.64000                47.00000                22.13000               \n",
       "NOC2L  96.87000                65.00000                48.01000               \n",
       "KLHL17 43.08000                24.11000                13.72000               \n",
       "       GTEX.ZE9C.3126.SM.4WKHN GTEX.ZF28.3126.SM.4WKFC GTEX.ZUA1.3126.SM.59HJ8\n",
       "OR4F5    0.0000                 0.03928                 0.09744               \n",
       "OR4F29   0.0595                 0.03840                 0.04763               \n",
       "OR4F16   0.0000                 0.03840                 0.19050               \n",
       "SAMD11 150.7000                24.04000                23.45000               \n",
       "NOC2L   75.7100                64.45000                55.02000               \n",
       "KLHL17  37.0100                40.05000                18.81000               \n",
       "       GTEX.ZYY3.3226.SM.5SI9X\n",
       "OR4F5   0.00                  \n",
       "OR4F29  0.00                  \n",
       "OR4F16  0.00                  \n",
       "SAMD11 28.20                  \n",
       "NOC2L  67.88                  \n",
       "KLHL17 34.96                  "
      ]
     },
     "metadata": {},
     "output_type": "display_data"
    },
    {
     "data": {
      "text/html": [
       "<style>\n",
       ".list-inline {list-style: none; margin:0; padding: 0}\n",
       ".list-inline>li {display: inline-block}\n",
       ".list-inline>li:not(:last-child)::after {content: \"\\00b7\"; padding: 0 .5ex}\n",
       "</style>\n",
       "<ol class=list-inline><li>18446</li><li>241</li></ol>\n"
      ],
      "text/latex": [
       "\\begin{enumerate*}\n",
       "\\item 18446\n",
       "\\item 241\n",
       "\\end{enumerate*}\n"
      ],
      "text/markdown": [
       "1. 18446\n",
       "2. 241\n",
       "\n",
       "\n"
      ],
      "text/plain": [
       "[1] 18446   241"
      ]
     },
     "metadata": {},
     "output_type": "display_data"
    },
    {
     "data": {
      "text/html": [
       "<table class=\"dataframe\">\n",
       "<caption>A data.frame: 6 × 241</caption>\n",
       "<thead>\n",
       "\t<tr><th></th><th scope=col>GTEX.111CU.0426.SM.5GZY1</th><th scope=col>GTEX.111FC.1326.SM.5N9D9</th><th scope=col>GTEX.1122O.0526.SM.5N9DM</th><th scope=col>GTEX.117YX.2126.SM.5GIEL</th><th scope=col>GTEX.11DXX.0726.SM.5H12X</th><th scope=col>GTEX.11EQ9.0426.SM.5A5JY</th><th scope=col>GTEX.11LCK.0126.SM.5A5M5</th><th scope=col>GTEX.11NSD.0426.SM.5N9CR</th><th scope=col>GTEX.11P7K.0426.SM.5BC5H</th><th scope=col>GTEX.11P81.1326.SM.5GU5S</th><th scope=col>⋯</th><th scope=col>GTEX.ZP4G.0326.SM.4YCEF</th><th scope=col>GTEX.ZPCL.0626.SM.DNZZ6</th><th scope=col>GTEX.ZPIC.0126.SM.DNZZ9</th><th scope=col>GTEX.ZPU1.1026.SM.4YCEQ</th><th scope=col>GTEX.ZTTD.1726.SM.57WEL</th><th scope=col>GTEX.ZV6S.0826.SM.5NQ6Z</th><th scope=col>GTEX.ZVP2.0526.SM.51MSC</th><th scope=col>GTEX.ZVZP.0726.SM.59HKA</th><th scope=col>GTEX.ZYFG.0726.SM.5GIDX</th><th scope=col>GTEX.ZZPU.0126.SM.5E446</th></tr>\n",
       "\t<tr><th></th><th scope=col>&lt;dbl&gt;</th><th scope=col>&lt;dbl&gt;</th><th scope=col>&lt;dbl&gt;</th><th scope=col>&lt;dbl&gt;</th><th scope=col>&lt;dbl&gt;</th><th scope=col>&lt;dbl&gt;</th><th scope=col>&lt;dbl&gt;</th><th scope=col>&lt;dbl&gt;</th><th scope=col>&lt;dbl&gt;</th><th scope=col>&lt;dbl&gt;</th><th scope=col>⋯</th><th scope=col>&lt;dbl&gt;</th><th scope=col>&lt;dbl&gt;</th><th scope=col>&lt;dbl&gt;</th><th scope=col>&lt;dbl&gt;</th><th scope=col>&lt;dbl&gt;</th><th scope=col>&lt;dbl&gt;</th><th scope=col>&lt;dbl&gt;</th><th scope=col>&lt;dbl&gt;</th><th scope=col>&lt;dbl&gt;</th><th scope=col>&lt;dbl&gt;</th></tr>\n",
       "</thead>\n",
       "<tbody>\n",
       "\t<tr><th scope=row>OR4F5</th><td> 0.03451</td><td>  0.00</td><td> 0.00</td><td> 0.04146</td><td> 0.05517</td><td> 0.00000</td><td> 0.03895</td><td> 0.00</td><td> 0.0000</td><td> 0.10870</td><td>⋯</td><td> 0.1184</td><td> 0.04096</td><td> 0.03638</td><td> 0.05738</td><td> 0.11370</td><td> 0.00</td><td> 0.08744</td><td> 0.05096</td><td> 0.05353</td><td> 0.10650</td></tr>\n",
       "\t<tr><th scope=row>OR4F29</th><td> 0.03374</td><td>  0.00</td><td> 0.00</td><td> 0.04053</td><td> 0.00000</td><td> 0.04028</td><td> 0.00000</td><td> 0.00</td><td> 0.1065</td><td> 0.05311</td><td>⋯</td><td> 0.0000</td><td> 0.00000</td><td> 0.03556</td><td> 0.11220</td><td> 0.00000</td><td> 0.00</td><td> 0.00000</td><td> 0.00000</td><td> 0.10470</td><td> 0.06939</td></tr>\n",
       "\t<tr><th scope=row>OR4F16</th><td> 0.03374</td><td>  0.00</td><td> 0.00</td><td> 0.00000</td><td> 0.05394</td><td> 0.00000</td><td> 0.03808</td><td> 0.00</td><td> 0.1598</td><td> 0.05311</td><td>⋯</td><td> 0.0000</td><td> 0.00000</td><td> 0.07113</td><td> 0.11220</td><td> 0.05559</td><td> 0.00</td><td> 0.00000</td><td> 0.00000</td><td> 0.00000</td><td> 0.06939</td></tr>\n",
       "\t<tr><th scope=row>SAMD11</th><td>21.00000</td><td>123.90</td><td>14.30</td><td>11.30000</td><td> 8.20000</td><td>15.27000</td><td>13.13000</td><td>30.91</td><td>18.9700</td><td>32.48000</td><td>⋯</td><td>23.1500</td><td>17.83000</td><td>31.02000</td><td>16.86000</td><td> 4.96500</td><td>23.29</td><td>21.14000</td><td>21.92000</td><td>16.71000</td><td>17.88000</td></tr>\n",
       "\t<tr><th scope=row>NOC2L</th><td>64.49000</td><td> 63.42</td><td>64.59</td><td>47.02000</td><td>59.56000</td><td>50.35000</td><td>55.57000</td><td>59.98</td><td>48.7800</td><td>55.42000</td><td>⋯</td><td>70.7500</td><td>47.62000</td><td>73.91000</td><td>67.16000</td><td>90.21000</td><td>47.23</td><td>55.45000</td><td>49.70000</td><td>47.85000</td><td>44.21000</td></tr>\n",
       "\t<tr><th scope=row>KLHL17</th><td>18.05000</td><td> 38.04</td><td>20.01</td><td>19.37000</td><td>23.36000</td><td>16.47000</td><td>21.59000</td><td>27.05</td><td>15.8800</td><td>20.79000</td><td>⋯</td><td>17.5400</td><td>20.53000</td><td>24.52000</td><td>18.30000</td><td>36.29000</td><td>20.80</td><td>23.79000</td><td>21.20000</td><td>15.96000</td><td>14.15000</td></tr>\n",
       "</tbody>\n",
       "</table>\n"
      ],
      "text/latex": [
       "A data.frame: 6 × 241\n",
       "\\begin{tabular}{r|lllllllllllllllllllll}\n",
       "  & GTEX.111CU.0426.SM.5GZY1 & GTEX.111FC.1326.SM.5N9D9 & GTEX.1122O.0526.SM.5N9DM & GTEX.117YX.2126.SM.5GIEL & GTEX.11DXX.0726.SM.5H12X & GTEX.11EQ9.0426.SM.5A5JY & GTEX.11LCK.0126.SM.5A5M5 & GTEX.11NSD.0426.SM.5N9CR & GTEX.11P7K.0426.SM.5BC5H & GTEX.11P81.1326.SM.5GU5S & ⋯ & GTEX.ZP4G.0326.SM.4YCEF & GTEX.ZPCL.0626.SM.DNZZ6 & GTEX.ZPIC.0126.SM.DNZZ9 & GTEX.ZPU1.1026.SM.4YCEQ & GTEX.ZTTD.1726.SM.57WEL & GTEX.ZV6S.0826.SM.5NQ6Z & GTEX.ZVP2.0526.SM.51MSC & GTEX.ZVZP.0726.SM.59HKA & GTEX.ZYFG.0726.SM.5GIDX & GTEX.ZZPU.0126.SM.5E446\\\\\n",
       "  & <dbl> & <dbl> & <dbl> & <dbl> & <dbl> & <dbl> & <dbl> & <dbl> & <dbl> & <dbl> & ⋯ & <dbl> & <dbl> & <dbl> & <dbl> & <dbl> & <dbl> & <dbl> & <dbl> & <dbl> & <dbl>\\\\\n",
       "\\hline\n",
       "\tOR4F5 &  0.03451 &   0.00 &  0.00 &  0.04146 &  0.05517 &  0.00000 &  0.03895 &  0.00 &  0.0000 &  0.10870 & ⋯ &  0.1184 &  0.04096 &  0.03638 &  0.05738 &  0.11370 &  0.00 &  0.08744 &  0.05096 &  0.05353 &  0.10650\\\\\n",
       "\tOR4F29 &  0.03374 &   0.00 &  0.00 &  0.04053 &  0.00000 &  0.04028 &  0.00000 &  0.00 &  0.1065 &  0.05311 & ⋯ &  0.0000 &  0.00000 &  0.03556 &  0.11220 &  0.00000 &  0.00 &  0.00000 &  0.00000 &  0.10470 &  0.06939\\\\\n",
       "\tOR4F16 &  0.03374 &   0.00 &  0.00 &  0.00000 &  0.05394 &  0.00000 &  0.03808 &  0.00 &  0.1598 &  0.05311 & ⋯ &  0.0000 &  0.00000 &  0.07113 &  0.11220 &  0.05559 &  0.00 &  0.00000 &  0.00000 &  0.00000 &  0.06939\\\\\n",
       "\tSAMD11 & 21.00000 & 123.90 & 14.30 & 11.30000 &  8.20000 & 15.27000 & 13.13000 & 30.91 & 18.9700 & 32.48000 & ⋯ & 23.1500 & 17.83000 & 31.02000 & 16.86000 &  4.96500 & 23.29 & 21.14000 & 21.92000 & 16.71000 & 17.88000\\\\\n",
       "\tNOC2L & 64.49000 &  63.42 & 64.59 & 47.02000 & 59.56000 & 50.35000 & 55.57000 & 59.98 & 48.7800 & 55.42000 & ⋯ & 70.7500 & 47.62000 & 73.91000 & 67.16000 & 90.21000 & 47.23 & 55.45000 & 49.70000 & 47.85000 & 44.21000\\\\\n",
       "\tKLHL17 & 18.05000 &  38.04 & 20.01 & 19.37000 & 23.36000 & 16.47000 & 21.59000 & 27.05 & 15.8800 & 20.79000 & ⋯ & 17.5400 & 20.53000 & 24.52000 & 18.30000 & 36.29000 & 20.80 & 23.79000 & 21.20000 & 15.96000 & 14.15000\\\\\n",
       "\\end{tabular}\n"
      ],
      "text/markdown": [
       "\n",
       "A data.frame: 6 × 241\n",
       "\n",
       "| <!--/--> | GTEX.111CU.0426.SM.5GZY1 &lt;dbl&gt; | GTEX.111FC.1326.SM.5N9D9 &lt;dbl&gt; | GTEX.1122O.0526.SM.5N9DM &lt;dbl&gt; | GTEX.117YX.2126.SM.5GIEL &lt;dbl&gt; | GTEX.11DXX.0726.SM.5H12X &lt;dbl&gt; | GTEX.11EQ9.0426.SM.5A5JY &lt;dbl&gt; | GTEX.11LCK.0126.SM.5A5M5 &lt;dbl&gt; | GTEX.11NSD.0426.SM.5N9CR &lt;dbl&gt; | GTEX.11P7K.0426.SM.5BC5H &lt;dbl&gt; | GTEX.11P81.1326.SM.5GU5S &lt;dbl&gt; | ⋯ ⋯ | GTEX.ZP4G.0326.SM.4YCEF &lt;dbl&gt; | GTEX.ZPCL.0626.SM.DNZZ6 &lt;dbl&gt; | GTEX.ZPIC.0126.SM.DNZZ9 &lt;dbl&gt; | GTEX.ZPU1.1026.SM.4YCEQ &lt;dbl&gt; | GTEX.ZTTD.1726.SM.57WEL &lt;dbl&gt; | GTEX.ZV6S.0826.SM.5NQ6Z &lt;dbl&gt; | GTEX.ZVP2.0526.SM.51MSC &lt;dbl&gt; | GTEX.ZVZP.0726.SM.59HKA &lt;dbl&gt; | GTEX.ZYFG.0726.SM.5GIDX &lt;dbl&gt; | GTEX.ZZPU.0126.SM.5E446 &lt;dbl&gt; |\n",
       "|---|---|---|---|---|---|---|---|---|---|---|---|---|---|---|---|---|---|---|---|---|---|\n",
       "| OR4F5 |  0.03451 |   0.00 |  0.00 |  0.04146 |  0.05517 |  0.00000 |  0.03895 |  0.00 |  0.0000 |  0.10870 | ⋯ |  0.1184 |  0.04096 |  0.03638 |  0.05738 |  0.11370 |  0.00 |  0.08744 |  0.05096 |  0.05353 |  0.10650 |\n",
       "| OR4F29 |  0.03374 |   0.00 |  0.00 |  0.04053 |  0.00000 |  0.04028 |  0.00000 |  0.00 |  0.1065 |  0.05311 | ⋯ |  0.0000 |  0.00000 |  0.03556 |  0.11220 |  0.00000 |  0.00 |  0.00000 |  0.00000 |  0.10470 |  0.06939 |\n",
       "| OR4F16 |  0.03374 |   0.00 |  0.00 |  0.00000 |  0.05394 |  0.00000 |  0.03808 |  0.00 |  0.1598 |  0.05311 | ⋯ |  0.0000 |  0.00000 |  0.07113 |  0.11220 |  0.05559 |  0.00 |  0.00000 |  0.00000 |  0.00000 |  0.06939 |\n",
       "| SAMD11 | 21.00000 | 123.90 | 14.30 | 11.30000 |  8.20000 | 15.27000 | 13.13000 | 30.91 | 18.9700 | 32.48000 | ⋯ | 23.1500 | 17.83000 | 31.02000 | 16.86000 |  4.96500 | 23.29 | 21.14000 | 21.92000 | 16.71000 | 17.88000 |\n",
       "| NOC2L | 64.49000 |  63.42 | 64.59 | 47.02000 | 59.56000 | 50.35000 | 55.57000 | 59.98 | 48.7800 | 55.42000 | ⋯ | 70.7500 | 47.62000 | 73.91000 | 67.16000 | 90.21000 | 47.23 | 55.45000 | 49.70000 | 47.85000 | 44.21000 |\n",
       "| KLHL17 | 18.05000 |  38.04 | 20.01 | 19.37000 | 23.36000 | 16.47000 | 21.59000 | 27.05 | 15.8800 | 20.79000 | ⋯ | 17.5400 | 20.53000 | 24.52000 | 18.30000 | 36.29000 | 20.80 | 23.79000 | 21.20000 | 15.96000 | 14.15000 |\n",
       "\n"
      ],
      "text/plain": [
       "       GTEX.111CU.0426.SM.5GZY1 GTEX.111FC.1326.SM.5N9D9\n",
       "OR4F5   0.03451                   0.00                  \n",
       "OR4F29  0.03374                   0.00                  \n",
       "OR4F16  0.03374                   0.00                  \n",
       "SAMD11 21.00000                 123.90                  \n",
       "NOC2L  64.49000                  63.42                  \n",
       "KLHL17 18.05000                  38.04                  \n",
       "       GTEX.1122O.0526.SM.5N9DM GTEX.117YX.2126.SM.5GIEL\n",
       "OR4F5   0.00                     0.04146                \n",
       "OR4F29  0.00                     0.04053                \n",
       "OR4F16  0.00                     0.00000                \n",
       "SAMD11 14.30                    11.30000                \n",
       "NOC2L  64.59                    47.02000                \n",
       "KLHL17 20.01                    19.37000                \n",
       "       GTEX.11DXX.0726.SM.5H12X GTEX.11EQ9.0426.SM.5A5JY\n",
       "OR4F5   0.05517                  0.00000                \n",
       "OR4F29  0.00000                  0.04028                \n",
       "OR4F16  0.05394                  0.00000                \n",
       "SAMD11  8.20000                 15.27000                \n",
       "NOC2L  59.56000                 50.35000                \n",
       "KLHL17 23.36000                 16.47000                \n",
       "       GTEX.11LCK.0126.SM.5A5M5 GTEX.11NSD.0426.SM.5N9CR\n",
       "OR4F5   0.03895                  0.00                   \n",
       "OR4F29  0.00000                  0.00                   \n",
       "OR4F16  0.03808                  0.00                   \n",
       "SAMD11 13.13000                 30.91                   \n",
       "NOC2L  55.57000                 59.98                   \n",
       "KLHL17 21.59000                 27.05                   \n",
       "       GTEX.11P7K.0426.SM.5BC5H GTEX.11P81.1326.SM.5GU5S ⋯\n",
       "OR4F5   0.0000                   0.10870                 ⋯\n",
       "OR4F29  0.1065                   0.05311                 ⋯\n",
       "OR4F16  0.1598                   0.05311                 ⋯\n",
       "SAMD11 18.9700                  32.48000                 ⋯\n",
       "NOC2L  48.7800                  55.42000                 ⋯\n",
       "KLHL17 15.8800                  20.79000                 ⋯\n",
       "       GTEX.ZP4G.0326.SM.4YCEF GTEX.ZPCL.0626.SM.DNZZ6 GTEX.ZPIC.0126.SM.DNZZ9\n",
       "OR4F5   0.1184                  0.04096                 0.03638               \n",
       "OR4F29  0.0000                  0.00000                 0.03556               \n",
       "OR4F16  0.0000                  0.00000                 0.07113               \n",
       "SAMD11 23.1500                 17.83000                31.02000               \n",
       "NOC2L  70.7500                 47.62000                73.91000               \n",
       "KLHL17 17.5400                 20.53000                24.52000               \n",
       "       GTEX.ZPU1.1026.SM.4YCEQ GTEX.ZTTD.1726.SM.57WEL GTEX.ZV6S.0826.SM.5NQ6Z\n",
       "OR4F5   0.05738                 0.11370                 0.00                  \n",
       "OR4F29  0.11220                 0.00000                 0.00                  \n",
       "OR4F16  0.11220                 0.05559                 0.00                  \n",
       "SAMD11 16.86000                 4.96500                23.29                  \n",
       "NOC2L  67.16000                90.21000                47.23                  \n",
       "KLHL17 18.30000                36.29000                20.80                  \n",
       "       GTEX.ZVP2.0526.SM.51MSC GTEX.ZVZP.0726.SM.59HKA GTEX.ZYFG.0726.SM.5GIDX\n",
       "OR4F5   0.08744                 0.05096                 0.05353               \n",
       "OR4F29  0.00000                 0.00000                 0.10470               \n",
       "OR4F16  0.00000                 0.00000                 0.00000               \n",
       "SAMD11 21.14000                21.92000                16.71000               \n",
       "NOC2L  55.45000                49.70000                47.85000               \n",
       "KLHL17 23.79000                21.20000                15.96000               \n",
       "       GTEX.ZZPU.0126.SM.5E446\n",
       "OR4F5   0.10650               \n",
       "OR4F29  0.06939               \n",
       "OR4F16  0.06939               \n",
       "SAMD11 17.88000               \n",
       "NOC2L  44.21000               \n",
       "KLHL17 14.15000               "
      ]
     },
     "metadata": {},
     "output_type": "display_data"
    },
    {
     "data": {
      "text/html": [
       "<style>\n",
       ".list-inline {list-style: none; margin:0; padding: 0}\n",
       ".list-inline>li {display: inline-block}\n",
       ".list-inline>li:not(:last-child)::after {content: \"\\00b7\"; padding: 0 .5ex}\n",
       "</style>\n",
       "<ol class=list-inline><li>18446</li><li>359</li></ol>\n"
      ],
      "text/latex": [
       "\\begin{enumerate*}\n",
       "\\item 18446\n",
       "\\item 359\n",
       "\\end{enumerate*}\n"
      ],
      "text/markdown": [
       "1. 18446\n",
       "2. 359\n",
       "\n",
       "\n"
      ],
      "text/plain": [
       "[1] 18446   359"
      ]
     },
     "metadata": {},
     "output_type": "display_data"
    },
    {
     "data": {
      "text/html": [
       "<table class=\"dataframe\">\n",
       "<caption>A data.frame: 6 × 359</caption>\n",
       "<thead>\n",
       "\t<tr><th></th><th scope=col>GTEX.111CU.0926.SM.5EGIK</th><th scope=col>GTEX.111YS.1126.SM.5GZYQ</th><th scope=col>GTEX.1122O.1926.SM.5EGIQ</th><th scope=col>GTEX.117YW.2226.SM.5N9DB</th><th scope=col>GTEX.117YX.1026.SM.5H11V</th><th scope=col>GTEX.11DXX.1326.SM.5GIDZ</th><th scope=col>GTEX.11EI6.2426.SM.5PNVS</th><th scope=col>GTEX.11EM3.1026.SM.5A5KL</th><th scope=col>GTEX.11EQ9.1226.SM.5987E</th><th scope=col>GTEX.11GSP.2126.SM.5HL5E</th><th scope=col>⋯</th><th scope=col>GTEX.ZVT2.1626.SM.51MRC</th><th scope=col>GTEX.ZVT3.2126.SM.59HL2</th><th scope=col>GTEX.ZVZP.1726.SM.5GZWY</th><th scope=col>GTEX.ZXES.1426.SM.5NQ8S</th><th scope=col>GTEX.ZY6K.0726.SM.5A5L8</th><th scope=col>GTEX.ZYFG.1326.SM.5GICJ</th><th scope=col>GTEX.ZYVF.2726.SM.5GID4</th><th scope=col>GTEX.ZYY3.1726.SM.5EGH3</th><th scope=col>GTEX.ZZ64.0426.SM.5E43F</th><th scope=col>GTEX.ZZPU.1426.SM.5GZZ6</th></tr>\n",
       "\t<tr><th></th><th scope=col>&lt;dbl&gt;</th><th scope=col>&lt;dbl&gt;</th><th scope=col>&lt;dbl&gt;</th><th scope=col>&lt;dbl&gt;</th><th scope=col>&lt;dbl&gt;</th><th scope=col>&lt;dbl&gt;</th><th scope=col>&lt;dbl&gt;</th><th scope=col>&lt;dbl&gt;</th><th scope=col>&lt;dbl&gt;</th><th scope=col>&lt;dbl&gt;</th><th scope=col>⋯</th><th scope=col>&lt;dbl&gt;</th><th scope=col>&lt;dbl&gt;</th><th scope=col>&lt;dbl&gt;</th><th scope=col>&lt;dbl&gt;</th><th scope=col>&lt;dbl&gt;</th><th scope=col>&lt;dbl&gt;</th><th scope=col>&lt;dbl&gt;</th><th scope=col>&lt;dbl&gt;</th><th scope=col>&lt;dbl&gt;</th><th scope=col>&lt;dbl&gt;</th></tr>\n",
       "</thead>\n",
       "<tbody>\n",
       "\t<tr><th scope=row>OR4F5</th><td> 0.1335</td><td> 0.1508</td><td> 0.1524</td><td> 0.04992</td><td> 0.19910</td><td> 0.04578</td><td> 0.04205</td><td> 0.05578</td><td> 0.04767</td><td> 0.0000</td><td>⋯</td><td> 0.1604</td><td> 0.08514</td><td> 0.08101</td><td> 0.07967</td><td> 0.00000</td><td> 0.0000</td><td> 0.0000</td><td> 0.13690</td><td> 0.1666</td><td> 0.12690</td></tr>\n",
       "\t<tr><th scope=row>OR4F29</th><td> 0.0000</td><td> 0.0983</td><td> 0.1986</td><td> 0.04880</td><td> 0.03892</td><td> 0.04476</td><td> 0.00000</td><td> 0.05454</td><td> 0.04660</td><td> 0.0581</td><td>⋯</td><td> 0.0000</td><td> 0.00000</td><td> 0.03960</td><td> 0.11680</td><td> 0.00000</td><td> 0.1485</td><td> 0.0000</td><td> 0.04462</td><td> 0.1628</td><td> 0.00000</td></tr>\n",
       "\t<tr><th scope=row>OR4F16</th><td> 0.0000</td><td> 0.2458</td><td> 0.2483</td><td> 0.00000</td><td> 0.03892</td><td> 0.04476</td><td> 0.04111</td><td> 0.00000</td><td> 0.09320</td><td> 0.0000</td><td>⋯</td><td> 0.1176</td><td> 0.12490</td><td> 0.11880</td><td> 0.00000</td><td> 0.04662</td><td> 0.1485</td><td> 0.1096</td><td> 0.17850</td><td> 0.1221</td><td> 0.04136</td></tr>\n",
       "\t<tr><th scope=row>SAMD11</th><td> 2.0560</td><td> 1.3080</td><td> 0.6740</td><td> 1.70900</td><td> 3.95200</td><td> 2.35700</td><td> 3.32500</td><td> 0.45890</td><td> 6.00900</td><td> 1.9400</td><td>⋯</td><td> 1.7560</td><td> 3.42300</td><td> 2.40800</td><td> 2.66400</td><td> 3.63200</td><td> 1.8670</td><td>25.4500</td><td> 1.74400</td><td> 1.3810</td><td> 1.76300</td></tr>\n",
       "\t<tr><th scope=row>NOC2L</th><td>52.8700</td><td>32.5700</td><td>35.2000</td><td>55.00000</td><td>43.14000</td><td>41.76000</td><td>25.13000</td><td>40.86000</td><td>62.56000</td><td>32.2400</td><td>⋯</td><td>32.1000</td><td>27.31000</td><td>32.69000</td><td>35.34000</td><td>43.56000</td><td>32.5800</td><td>84.2600</td><td>24.31000</td><td>35.1500</td><td>41.23000</td></tr>\n",
       "\t<tr><th scope=row>KLHL17</th><td>12.4300</td><td> 8.9450</td><td> 8.2840</td><td> 6.48800</td><td>11.79000</td><td>14.56000</td><td>12.69000</td><td> 8.74600</td><td> 7.92500</td><td> 6.8990</td><td>⋯</td><td> 9.5540</td><td>11.63000</td><td> 7.57700</td><td>10.23000</td><td>12.22000</td><td> 9.7090</td><td>24.2800</td><td>11.46000</td><td> 8.2750</td><td> 9.94300</td></tr>\n",
       "</tbody>\n",
       "</table>\n"
      ],
      "text/latex": [
       "A data.frame: 6 × 359\n",
       "\\begin{tabular}{r|lllllllllllllllllllll}\n",
       "  & GTEX.111CU.0926.SM.5EGIK & GTEX.111YS.1126.SM.5GZYQ & GTEX.1122O.1926.SM.5EGIQ & GTEX.117YW.2226.SM.5N9DB & GTEX.117YX.1026.SM.5H11V & GTEX.11DXX.1326.SM.5GIDZ & GTEX.11EI6.2426.SM.5PNVS & GTEX.11EM3.1026.SM.5A5KL & GTEX.11EQ9.1226.SM.5987E & GTEX.11GSP.2126.SM.5HL5E & ⋯ & GTEX.ZVT2.1626.SM.51MRC & GTEX.ZVT3.2126.SM.59HL2 & GTEX.ZVZP.1726.SM.5GZWY & GTEX.ZXES.1426.SM.5NQ8S & GTEX.ZY6K.0726.SM.5A5L8 & GTEX.ZYFG.1326.SM.5GICJ & GTEX.ZYVF.2726.SM.5GID4 & GTEX.ZYY3.1726.SM.5EGH3 & GTEX.ZZ64.0426.SM.5E43F & GTEX.ZZPU.1426.SM.5GZZ6\\\\\n",
       "  & <dbl> & <dbl> & <dbl> & <dbl> & <dbl> & <dbl> & <dbl> & <dbl> & <dbl> & <dbl> & ⋯ & <dbl> & <dbl> & <dbl> & <dbl> & <dbl> & <dbl> & <dbl> & <dbl> & <dbl> & <dbl>\\\\\n",
       "\\hline\n",
       "\tOR4F5 &  0.1335 &  0.1508 &  0.1524 &  0.04992 &  0.19910 &  0.04578 &  0.04205 &  0.05578 &  0.04767 &  0.0000 & ⋯ &  0.1604 &  0.08514 &  0.08101 &  0.07967 &  0.00000 &  0.0000 &  0.0000 &  0.13690 &  0.1666 &  0.12690\\\\\n",
       "\tOR4F29 &  0.0000 &  0.0983 &  0.1986 &  0.04880 &  0.03892 &  0.04476 &  0.00000 &  0.05454 &  0.04660 &  0.0581 & ⋯ &  0.0000 &  0.00000 &  0.03960 &  0.11680 &  0.00000 &  0.1485 &  0.0000 &  0.04462 &  0.1628 &  0.00000\\\\\n",
       "\tOR4F16 &  0.0000 &  0.2458 &  0.2483 &  0.00000 &  0.03892 &  0.04476 &  0.04111 &  0.00000 &  0.09320 &  0.0000 & ⋯ &  0.1176 &  0.12490 &  0.11880 &  0.00000 &  0.04662 &  0.1485 &  0.1096 &  0.17850 &  0.1221 &  0.04136\\\\\n",
       "\tSAMD11 &  2.0560 &  1.3080 &  0.6740 &  1.70900 &  3.95200 &  2.35700 &  3.32500 &  0.45890 &  6.00900 &  1.9400 & ⋯ &  1.7560 &  3.42300 &  2.40800 &  2.66400 &  3.63200 &  1.8670 & 25.4500 &  1.74400 &  1.3810 &  1.76300\\\\\n",
       "\tNOC2L & 52.8700 & 32.5700 & 35.2000 & 55.00000 & 43.14000 & 41.76000 & 25.13000 & 40.86000 & 62.56000 & 32.2400 & ⋯ & 32.1000 & 27.31000 & 32.69000 & 35.34000 & 43.56000 & 32.5800 & 84.2600 & 24.31000 & 35.1500 & 41.23000\\\\\n",
       "\tKLHL17 & 12.4300 &  8.9450 &  8.2840 &  6.48800 & 11.79000 & 14.56000 & 12.69000 &  8.74600 &  7.92500 &  6.8990 & ⋯ &  9.5540 & 11.63000 &  7.57700 & 10.23000 & 12.22000 &  9.7090 & 24.2800 & 11.46000 &  8.2750 &  9.94300\\\\\n",
       "\\end{tabular}\n"
      ],
      "text/markdown": [
       "\n",
       "A data.frame: 6 × 359\n",
       "\n",
       "| <!--/--> | GTEX.111CU.0926.SM.5EGIK &lt;dbl&gt; | GTEX.111YS.1126.SM.5GZYQ &lt;dbl&gt; | GTEX.1122O.1926.SM.5EGIQ &lt;dbl&gt; | GTEX.117YW.2226.SM.5N9DB &lt;dbl&gt; | GTEX.117YX.1026.SM.5H11V &lt;dbl&gt; | GTEX.11DXX.1326.SM.5GIDZ &lt;dbl&gt; | GTEX.11EI6.2426.SM.5PNVS &lt;dbl&gt; | GTEX.11EM3.1026.SM.5A5KL &lt;dbl&gt; | GTEX.11EQ9.1226.SM.5987E &lt;dbl&gt; | GTEX.11GSP.2126.SM.5HL5E &lt;dbl&gt; | ⋯ ⋯ | GTEX.ZVT2.1626.SM.51MRC &lt;dbl&gt; | GTEX.ZVT3.2126.SM.59HL2 &lt;dbl&gt; | GTEX.ZVZP.1726.SM.5GZWY &lt;dbl&gt; | GTEX.ZXES.1426.SM.5NQ8S &lt;dbl&gt; | GTEX.ZY6K.0726.SM.5A5L8 &lt;dbl&gt; | GTEX.ZYFG.1326.SM.5GICJ &lt;dbl&gt; | GTEX.ZYVF.2726.SM.5GID4 &lt;dbl&gt; | GTEX.ZYY3.1726.SM.5EGH3 &lt;dbl&gt; | GTEX.ZZ64.0426.SM.5E43F &lt;dbl&gt; | GTEX.ZZPU.1426.SM.5GZZ6 &lt;dbl&gt; |\n",
       "|---|---|---|---|---|---|---|---|---|---|---|---|---|---|---|---|---|---|---|---|---|---|\n",
       "| OR4F5 |  0.1335 |  0.1508 |  0.1524 |  0.04992 |  0.19910 |  0.04578 |  0.04205 |  0.05578 |  0.04767 |  0.0000 | ⋯ |  0.1604 |  0.08514 |  0.08101 |  0.07967 |  0.00000 |  0.0000 |  0.0000 |  0.13690 |  0.1666 |  0.12690 |\n",
       "| OR4F29 |  0.0000 |  0.0983 |  0.1986 |  0.04880 |  0.03892 |  0.04476 |  0.00000 |  0.05454 |  0.04660 |  0.0581 | ⋯ |  0.0000 |  0.00000 |  0.03960 |  0.11680 |  0.00000 |  0.1485 |  0.0000 |  0.04462 |  0.1628 |  0.00000 |\n",
       "| OR4F16 |  0.0000 |  0.2458 |  0.2483 |  0.00000 |  0.03892 |  0.04476 |  0.04111 |  0.00000 |  0.09320 |  0.0000 | ⋯ |  0.1176 |  0.12490 |  0.11880 |  0.00000 |  0.04662 |  0.1485 |  0.1096 |  0.17850 |  0.1221 |  0.04136 |\n",
       "| SAMD11 |  2.0560 |  1.3080 |  0.6740 |  1.70900 |  3.95200 |  2.35700 |  3.32500 |  0.45890 |  6.00900 |  1.9400 | ⋯ |  1.7560 |  3.42300 |  2.40800 |  2.66400 |  3.63200 |  1.8670 | 25.4500 |  1.74400 |  1.3810 |  1.76300 |\n",
       "| NOC2L | 52.8700 | 32.5700 | 35.2000 | 55.00000 | 43.14000 | 41.76000 | 25.13000 | 40.86000 | 62.56000 | 32.2400 | ⋯ | 32.1000 | 27.31000 | 32.69000 | 35.34000 | 43.56000 | 32.5800 | 84.2600 | 24.31000 | 35.1500 | 41.23000 |\n",
       "| KLHL17 | 12.4300 |  8.9450 |  8.2840 |  6.48800 | 11.79000 | 14.56000 | 12.69000 |  8.74600 |  7.92500 |  6.8990 | ⋯ |  9.5540 | 11.63000 |  7.57700 | 10.23000 | 12.22000 |  9.7090 | 24.2800 | 11.46000 |  8.2750 |  9.94300 |\n",
       "\n"
      ],
      "text/plain": [
       "       GTEX.111CU.0926.SM.5EGIK GTEX.111YS.1126.SM.5GZYQ\n",
       "OR4F5   0.1335                   0.1508                 \n",
       "OR4F29  0.0000                   0.0983                 \n",
       "OR4F16  0.0000                   0.2458                 \n",
       "SAMD11  2.0560                   1.3080                 \n",
       "NOC2L  52.8700                  32.5700                 \n",
       "KLHL17 12.4300                   8.9450                 \n",
       "       GTEX.1122O.1926.SM.5EGIQ GTEX.117YW.2226.SM.5N9DB\n",
       "OR4F5   0.1524                   0.04992                \n",
       "OR4F29  0.1986                   0.04880                \n",
       "OR4F16  0.2483                   0.00000                \n",
       "SAMD11  0.6740                   1.70900                \n",
       "NOC2L  35.2000                  55.00000                \n",
       "KLHL17  8.2840                   6.48800                \n",
       "       GTEX.117YX.1026.SM.5H11V GTEX.11DXX.1326.SM.5GIDZ\n",
       "OR4F5   0.19910                  0.04578                \n",
       "OR4F29  0.03892                  0.04476                \n",
       "OR4F16  0.03892                  0.04476                \n",
       "SAMD11  3.95200                  2.35700                \n",
       "NOC2L  43.14000                 41.76000                \n",
       "KLHL17 11.79000                 14.56000                \n",
       "       GTEX.11EI6.2426.SM.5PNVS GTEX.11EM3.1026.SM.5A5KL\n",
       "OR4F5   0.04205                  0.05578                \n",
       "OR4F29  0.00000                  0.05454                \n",
       "OR4F16  0.04111                  0.00000                \n",
       "SAMD11  3.32500                  0.45890                \n",
       "NOC2L  25.13000                 40.86000                \n",
       "KLHL17 12.69000                  8.74600                \n",
       "       GTEX.11EQ9.1226.SM.5987E GTEX.11GSP.2126.SM.5HL5E ⋯\n",
       "OR4F5   0.04767                  0.0000                  ⋯\n",
       "OR4F29  0.04660                  0.0581                  ⋯\n",
       "OR4F16  0.09320                  0.0000                  ⋯\n",
       "SAMD11  6.00900                  1.9400                  ⋯\n",
       "NOC2L  62.56000                 32.2400                  ⋯\n",
       "KLHL17  7.92500                  6.8990                  ⋯\n",
       "       GTEX.ZVT2.1626.SM.51MRC GTEX.ZVT3.2126.SM.59HL2 GTEX.ZVZP.1726.SM.5GZWY\n",
       "OR4F5   0.1604                  0.08514                 0.08101               \n",
       "OR4F29  0.0000                  0.00000                 0.03960               \n",
       "OR4F16  0.1176                  0.12490                 0.11880               \n",
       "SAMD11  1.7560                  3.42300                 2.40800               \n",
       "NOC2L  32.1000                 27.31000                32.69000               \n",
       "KLHL17  9.5540                 11.63000                 7.57700               \n",
       "       GTEX.ZXES.1426.SM.5NQ8S GTEX.ZY6K.0726.SM.5A5L8 GTEX.ZYFG.1326.SM.5GICJ\n",
       "OR4F5   0.07967                 0.00000                 0.0000                \n",
       "OR4F29  0.11680                 0.00000                 0.1485                \n",
       "OR4F16  0.00000                 0.04662                 0.1485                \n",
       "SAMD11  2.66400                 3.63200                 1.8670                \n",
       "NOC2L  35.34000                43.56000                32.5800                \n",
       "KLHL17 10.23000                12.22000                 9.7090                \n",
       "       GTEX.ZYVF.2726.SM.5GID4 GTEX.ZYY3.1726.SM.5EGH3 GTEX.ZZ64.0426.SM.5E43F\n",
       "OR4F5   0.0000                  0.13690                 0.1666                \n",
       "OR4F29  0.0000                  0.04462                 0.1628                \n",
       "OR4F16  0.1096                  0.17850                 0.1221                \n",
       "SAMD11 25.4500                  1.74400                 1.3810                \n",
       "NOC2L  84.2600                 24.31000                35.1500                \n",
       "KLHL17 24.2800                 11.46000                 8.2750                \n",
       "       GTEX.ZZPU.1426.SM.5GZZ6\n",
       "OR4F5   0.12690               \n",
       "OR4F29  0.00000               \n",
       "OR4F16  0.04136               \n",
       "SAMD11  1.76300               \n",
       "NOC2L  41.23000               \n",
       "KLHL17  9.94300               "
      ]
     },
     "metadata": {},
     "output_type": "display_data"
    },
    {
     "data": {
      "text/html": [
       "<style>\n",
       ".list-inline {list-style: none; margin:0; padding: 0}\n",
       ".list-inline>li {display: inline-block}\n",
       ".list-inline>li:not(:last-child)::after {content: \"\\00b7\"; padding: 0 .5ex}\n",
       "</style>\n",
       "<ol class=list-inline><li>18446</li><li>653</li></ol>\n"
      ],
      "text/latex": [
       "\\begin{enumerate*}\n",
       "\\item 18446\n",
       "\\item 653\n",
       "\\end{enumerate*}\n"
      ],
      "text/markdown": [
       "1. 18446\n",
       "2. 653\n",
       "\n",
       "\n"
      ],
      "text/plain": [
       "[1] 18446   653"
      ]
     },
     "metadata": {},
     "output_type": "display_data"
    },
    {
     "data": {
      "text/html": [
       "<table class=\"dataframe\">\n",
       "<caption>A data.frame: 6 × 653</caption>\n",
       "<thead>\n",
       "\t<tr><th></th><th scope=col>GTEX.111CU.0226.SM.5GZXC</th><th scope=col>GTEX.111FC.1026.SM.5GZX1</th><th scope=col>GTEX.111VG.0526.SM.5N9BW</th><th scope=col>GTEX.111YS.0726.SM.5GZY8</th><th scope=col>GTEX.1122O.0226.SM.5N9DA</th><th scope=col>GTEX.1128S.0126.SM.5H12S</th><th scope=col>GTEX.113JC.0126.SM.5EGJW</th><th scope=col>GTEX.117XS.0526.SM.5987Q</th><th scope=col>GTEX.117YW.0126.SM.5EGGN</th><th scope=col>GTEX.117YX.1226.SM.5H11S</th><th scope=col>⋯</th><th scope=col>GTEX.ZY6K.0226.SM.5SIAY</th><th scope=col>GTEX.ZYFC.0926.SM.5GZWW</th><th scope=col>GTEX.ZYFD.0826.SM.5NQ9A</th><th scope=col>GTEX.ZYFG.0626.SM.5GZYA</th><th scope=col>GTEX.ZYT6.0426.SM.5GID3</th><th scope=col>GTEX.ZYVF.1126.SM.5E458</th><th scope=col>GTEX.ZYW4.1126.SM.5SI99</th><th scope=col>GTEX.ZYY3.1926.SM.5GZXS</th><th scope=col>GTEX.ZZ64.0126.SM.5GZXA</th><th scope=col>GTEX.ZZPU.1326.SM.5GZWS</th></tr>\n",
       "\t<tr><th></th><th scope=col>&lt;dbl&gt;</th><th scope=col>&lt;dbl&gt;</th><th scope=col>&lt;dbl&gt;</th><th scope=col>&lt;dbl&gt;</th><th scope=col>&lt;dbl&gt;</th><th scope=col>&lt;dbl&gt;</th><th scope=col>&lt;dbl&gt;</th><th scope=col>&lt;dbl&gt;</th><th scope=col>&lt;dbl&gt;</th><th scope=col>&lt;dbl&gt;</th><th scope=col>⋯</th><th scope=col>&lt;dbl&gt;</th><th scope=col>&lt;dbl&gt;</th><th scope=col>&lt;dbl&gt;</th><th scope=col>&lt;dbl&gt;</th><th scope=col>&lt;dbl&gt;</th><th scope=col>&lt;dbl&gt;</th><th scope=col>&lt;dbl&gt;</th><th scope=col>&lt;dbl&gt;</th><th scope=col>&lt;dbl&gt;</th><th scope=col>&lt;dbl&gt;</th></tr>\n",
       "</thead>\n",
       "<tbody>\n",
       "\t<tr><th scope=row>OR4F5</th><td> 0.04395</td><td> 0.05304</td><td> 0.04320</td><td> 0.0000</td><td> 0.04593</td><td> 0.06872</td><td> 0.000</td><td> 0.07647</td><td> 0.00000</td><td> 0.1066</td><td>⋯</td><td> 0.00000</td><td> 0.00000</td><td>  0.000</td><td> 0.05059</td><td> 0.00000</td><td> 0.0000</td><td> 0.0596</td><td> 0.19510</td><td> 0.2498</td><td> 0.05729</td></tr>\n",
       "\t<tr><th scope=row>OR4F29</th><td> 0.08594</td><td> 0.05186</td><td> 0.04224</td><td> 0.0000</td><td> 0.08981</td><td> 0.00000</td><td> 0.000</td><td> 0.00000</td><td> 0.00000</td><td> 0.1043</td><td>⋯</td><td> 0.05389</td><td> 0.00000</td><td>  0.000</td><td> 0.04945</td><td> 0.06155</td><td> 0.2103</td><td> 0.0000</td><td> 0.00000</td><td> 0.0000</td><td> 0.11200</td></tr>\n",
       "\t<tr><th scope=row>OR4F16</th><td> 0.00000</td><td> 0.00000</td><td> 0.04224</td><td> 0.1602</td><td> 0.00000</td><td> 0.13440</td><td> 0.000</td><td> 0.14950</td><td> 0.07848</td><td> 0.1043</td><td>⋯</td><td> 0.05389</td><td> 0.06385</td><td>  0.000</td><td> 0.04945</td><td> 0.06155</td><td> 0.0000</td><td> 0.0000</td><td> 0.09535</td><td> 0.0000</td><td> 0.00000</td></tr>\n",
       "\t<tr><th scope=row>SAMD11</th><td> 4.23400</td><td> 9.95300</td><td>11.50000</td><td> 7.9850</td><td> 3.09600</td><td> 2.60800</td><td> 3.813</td><td> 6.27100</td><td> 3.11000</td><td> 1.8680</td><td>⋯</td><td> 4.27200</td><td>15.22000</td><td>  5.599</td><td> 4.75300</td><td> 9.90800</td><td> 3.7300</td><td> 0.5220</td><td> 8.34800</td><td> 9.0150</td><td> 1.24700</td></tr>\n",
       "\t<tr><th scope=row>NOC2L</th><td>75.24000</td><td>62.23000</td><td>36.38000</td><td>63.9700</td><td>49.26000</td><td>90.78000</td><td>66.790</td><td>73.13000</td><td>66.30000</td><td>57.1500</td><td>⋯</td><td>65.57000</td><td>70.77000</td><td>103.900</td><td>57.76000</td><td>71.05000</td><td>96.0900</td><td>69.3800</td><td>49.24000</td><td>60.4200</td><td>60.42000</td></tr>\n",
       "\t<tr><th scope=row>KLHL17</th><td> 9.02600</td><td>13.35000</td><td>17.09000</td><td>13.3500</td><td>13.11000</td><td>16.87000</td><td>10.080</td><td>17.92000</td><td>11.42000</td><td>14.2500</td><td>⋯</td><td>13.88000</td><td> 7.54000</td><td>  9.333</td><td>12.58000</td><td>18.61000</td><td>23.4600</td><td>10.9000</td><td>19.00000</td><td>11.2400</td><td>20.48000</td></tr>\n",
       "</tbody>\n",
       "</table>\n"
      ],
      "text/latex": [
       "A data.frame: 6 × 653\n",
       "\\begin{tabular}{r|lllllllllllllllllllll}\n",
       "  & GTEX.111CU.0226.SM.5GZXC & GTEX.111FC.1026.SM.5GZX1 & GTEX.111VG.0526.SM.5N9BW & GTEX.111YS.0726.SM.5GZY8 & GTEX.1122O.0226.SM.5N9DA & GTEX.1128S.0126.SM.5H12S & GTEX.113JC.0126.SM.5EGJW & GTEX.117XS.0526.SM.5987Q & GTEX.117YW.0126.SM.5EGGN & GTEX.117YX.1226.SM.5H11S & ⋯ & GTEX.ZY6K.0226.SM.5SIAY & GTEX.ZYFC.0926.SM.5GZWW & GTEX.ZYFD.0826.SM.5NQ9A & GTEX.ZYFG.0626.SM.5GZYA & GTEX.ZYT6.0426.SM.5GID3 & GTEX.ZYVF.1126.SM.5E458 & GTEX.ZYW4.1126.SM.5SI99 & GTEX.ZYY3.1926.SM.5GZXS & GTEX.ZZ64.0126.SM.5GZXA & GTEX.ZZPU.1326.SM.5GZWS\\\\\n",
       "  & <dbl> & <dbl> & <dbl> & <dbl> & <dbl> & <dbl> & <dbl> & <dbl> & <dbl> & <dbl> & ⋯ & <dbl> & <dbl> & <dbl> & <dbl> & <dbl> & <dbl> & <dbl> & <dbl> & <dbl> & <dbl>\\\\\n",
       "\\hline\n",
       "\tOR4F5 &  0.04395 &  0.05304 &  0.04320 &  0.0000 &  0.04593 &  0.06872 &  0.000 &  0.07647 &  0.00000 &  0.1066 & ⋯ &  0.00000 &  0.00000 &   0.000 &  0.05059 &  0.00000 &  0.0000 &  0.0596 &  0.19510 &  0.2498 &  0.05729\\\\\n",
       "\tOR4F29 &  0.08594 &  0.05186 &  0.04224 &  0.0000 &  0.08981 &  0.00000 &  0.000 &  0.00000 &  0.00000 &  0.1043 & ⋯ &  0.05389 &  0.00000 &   0.000 &  0.04945 &  0.06155 &  0.2103 &  0.0000 &  0.00000 &  0.0000 &  0.11200\\\\\n",
       "\tOR4F16 &  0.00000 &  0.00000 &  0.04224 &  0.1602 &  0.00000 &  0.13440 &  0.000 &  0.14950 &  0.07848 &  0.1043 & ⋯ &  0.05389 &  0.06385 &   0.000 &  0.04945 &  0.06155 &  0.0000 &  0.0000 &  0.09535 &  0.0000 &  0.00000\\\\\n",
       "\tSAMD11 &  4.23400 &  9.95300 & 11.50000 &  7.9850 &  3.09600 &  2.60800 &  3.813 &  6.27100 &  3.11000 &  1.8680 & ⋯ &  4.27200 & 15.22000 &   5.599 &  4.75300 &  9.90800 &  3.7300 &  0.5220 &  8.34800 &  9.0150 &  1.24700\\\\\n",
       "\tNOC2L & 75.24000 & 62.23000 & 36.38000 & 63.9700 & 49.26000 & 90.78000 & 66.790 & 73.13000 & 66.30000 & 57.1500 & ⋯ & 65.57000 & 70.77000 & 103.900 & 57.76000 & 71.05000 & 96.0900 & 69.3800 & 49.24000 & 60.4200 & 60.42000\\\\\n",
       "\tKLHL17 &  9.02600 & 13.35000 & 17.09000 & 13.3500 & 13.11000 & 16.87000 & 10.080 & 17.92000 & 11.42000 & 14.2500 & ⋯ & 13.88000 &  7.54000 &   9.333 & 12.58000 & 18.61000 & 23.4600 & 10.9000 & 19.00000 & 11.2400 & 20.48000\\\\\n",
       "\\end{tabular}\n"
      ],
      "text/markdown": [
       "\n",
       "A data.frame: 6 × 653\n",
       "\n",
       "| <!--/--> | GTEX.111CU.0226.SM.5GZXC &lt;dbl&gt; | GTEX.111FC.1026.SM.5GZX1 &lt;dbl&gt; | GTEX.111VG.0526.SM.5N9BW &lt;dbl&gt; | GTEX.111YS.0726.SM.5GZY8 &lt;dbl&gt; | GTEX.1122O.0226.SM.5N9DA &lt;dbl&gt; | GTEX.1128S.0126.SM.5H12S &lt;dbl&gt; | GTEX.113JC.0126.SM.5EGJW &lt;dbl&gt; | GTEX.117XS.0526.SM.5987Q &lt;dbl&gt; | GTEX.117YW.0126.SM.5EGGN &lt;dbl&gt; | GTEX.117YX.1226.SM.5H11S &lt;dbl&gt; | ⋯ ⋯ | GTEX.ZY6K.0226.SM.5SIAY &lt;dbl&gt; | GTEX.ZYFC.0926.SM.5GZWW &lt;dbl&gt; | GTEX.ZYFD.0826.SM.5NQ9A &lt;dbl&gt; | GTEX.ZYFG.0626.SM.5GZYA &lt;dbl&gt; | GTEX.ZYT6.0426.SM.5GID3 &lt;dbl&gt; | GTEX.ZYVF.1126.SM.5E458 &lt;dbl&gt; | GTEX.ZYW4.1126.SM.5SI99 &lt;dbl&gt; | GTEX.ZYY3.1926.SM.5GZXS &lt;dbl&gt; | GTEX.ZZ64.0126.SM.5GZXA &lt;dbl&gt; | GTEX.ZZPU.1326.SM.5GZWS &lt;dbl&gt; |\n",
       "|---|---|---|---|---|---|---|---|---|---|---|---|---|---|---|---|---|---|---|---|---|---|\n",
       "| OR4F5 |  0.04395 |  0.05304 |  0.04320 |  0.0000 |  0.04593 |  0.06872 |  0.000 |  0.07647 |  0.00000 |  0.1066 | ⋯ |  0.00000 |  0.00000 |   0.000 |  0.05059 |  0.00000 |  0.0000 |  0.0596 |  0.19510 |  0.2498 |  0.05729 |\n",
       "| OR4F29 |  0.08594 |  0.05186 |  0.04224 |  0.0000 |  0.08981 |  0.00000 |  0.000 |  0.00000 |  0.00000 |  0.1043 | ⋯ |  0.05389 |  0.00000 |   0.000 |  0.04945 |  0.06155 |  0.2103 |  0.0000 |  0.00000 |  0.0000 |  0.11200 |\n",
       "| OR4F16 |  0.00000 |  0.00000 |  0.04224 |  0.1602 |  0.00000 |  0.13440 |  0.000 |  0.14950 |  0.07848 |  0.1043 | ⋯ |  0.05389 |  0.06385 |   0.000 |  0.04945 |  0.06155 |  0.0000 |  0.0000 |  0.09535 |  0.0000 |  0.00000 |\n",
       "| SAMD11 |  4.23400 |  9.95300 | 11.50000 |  7.9850 |  3.09600 |  2.60800 |  3.813 |  6.27100 |  3.11000 |  1.8680 | ⋯ |  4.27200 | 15.22000 |   5.599 |  4.75300 |  9.90800 |  3.7300 |  0.5220 |  8.34800 |  9.0150 |  1.24700 |\n",
       "| NOC2L | 75.24000 | 62.23000 | 36.38000 | 63.9700 | 49.26000 | 90.78000 | 66.790 | 73.13000 | 66.30000 | 57.1500 | ⋯ | 65.57000 | 70.77000 | 103.900 | 57.76000 | 71.05000 | 96.0900 | 69.3800 | 49.24000 | 60.4200 | 60.42000 |\n",
       "| KLHL17 |  9.02600 | 13.35000 | 17.09000 | 13.3500 | 13.11000 | 16.87000 | 10.080 | 17.92000 | 11.42000 | 14.2500 | ⋯ | 13.88000 |  7.54000 |   9.333 | 12.58000 | 18.61000 | 23.4600 | 10.9000 | 19.00000 | 11.2400 | 20.48000 |\n",
       "\n"
      ],
      "text/plain": [
       "       GTEX.111CU.0226.SM.5GZXC GTEX.111FC.1026.SM.5GZX1\n",
       "OR4F5   0.04395                  0.05304                \n",
       "OR4F29  0.08594                  0.05186                \n",
       "OR4F16  0.00000                  0.00000                \n",
       "SAMD11  4.23400                  9.95300                \n",
       "NOC2L  75.24000                 62.23000                \n",
       "KLHL17  9.02600                 13.35000                \n",
       "       GTEX.111VG.0526.SM.5N9BW GTEX.111YS.0726.SM.5GZY8\n",
       "OR4F5   0.04320                  0.0000                 \n",
       "OR4F29  0.04224                  0.0000                 \n",
       "OR4F16  0.04224                  0.1602                 \n",
       "SAMD11 11.50000                  7.9850                 \n",
       "NOC2L  36.38000                 63.9700                 \n",
       "KLHL17 17.09000                 13.3500                 \n",
       "       GTEX.1122O.0226.SM.5N9DA GTEX.1128S.0126.SM.5H12S\n",
       "OR4F5   0.04593                  0.06872                \n",
       "OR4F29  0.08981                  0.00000                \n",
       "OR4F16  0.00000                  0.13440                \n",
       "SAMD11  3.09600                  2.60800                \n",
       "NOC2L  49.26000                 90.78000                \n",
       "KLHL17 13.11000                 16.87000                \n",
       "       GTEX.113JC.0126.SM.5EGJW GTEX.117XS.0526.SM.5987Q\n",
       "OR4F5   0.000                    0.07647                \n",
       "OR4F29  0.000                    0.00000                \n",
       "OR4F16  0.000                    0.14950                \n",
       "SAMD11  3.813                    6.27100                \n",
       "NOC2L  66.790                   73.13000                \n",
       "KLHL17 10.080                   17.92000                \n",
       "       GTEX.117YW.0126.SM.5EGGN GTEX.117YX.1226.SM.5H11S ⋯\n",
       "OR4F5   0.00000                  0.1066                  ⋯\n",
       "OR4F29  0.00000                  0.1043                  ⋯\n",
       "OR4F16  0.07848                  0.1043                  ⋯\n",
       "SAMD11  3.11000                  1.8680                  ⋯\n",
       "NOC2L  66.30000                 57.1500                  ⋯\n",
       "KLHL17 11.42000                 14.2500                  ⋯\n",
       "       GTEX.ZY6K.0226.SM.5SIAY GTEX.ZYFC.0926.SM.5GZWW GTEX.ZYFD.0826.SM.5NQ9A\n",
       "OR4F5   0.00000                 0.00000                  0.000                \n",
       "OR4F29  0.05389                 0.00000                  0.000                \n",
       "OR4F16  0.05389                 0.06385                  0.000                \n",
       "SAMD11  4.27200                15.22000                  5.599                \n",
       "NOC2L  65.57000                70.77000                103.900                \n",
       "KLHL17 13.88000                 7.54000                  9.333                \n",
       "       GTEX.ZYFG.0626.SM.5GZYA GTEX.ZYT6.0426.SM.5GID3 GTEX.ZYVF.1126.SM.5E458\n",
       "OR4F5   0.05059                 0.00000                 0.0000                \n",
       "OR4F29  0.04945                 0.06155                 0.2103                \n",
       "OR4F16  0.04945                 0.06155                 0.0000                \n",
       "SAMD11  4.75300                 9.90800                 3.7300                \n",
       "NOC2L  57.76000                71.05000                96.0900                \n",
       "KLHL17 12.58000                18.61000                23.4600                \n",
       "       GTEX.ZYW4.1126.SM.5SI99 GTEX.ZYY3.1926.SM.5GZXS GTEX.ZZ64.0126.SM.5GZXA\n",
       "OR4F5   0.0596                  0.19510                 0.2498                \n",
       "OR4F29  0.0000                  0.00000                 0.0000                \n",
       "OR4F16  0.0000                  0.09535                 0.0000                \n",
       "SAMD11  0.5220                  8.34800                 9.0150                \n",
       "NOC2L  69.3800                 49.24000                60.4200                \n",
       "KLHL17 10.9000                 19.00000                11.2400                \n",
       "       GTEX.ZZPU.1326.SM.5GZWS\n",
       "OR4F5   0.05729               \n",
       "OR4F29  0.11200               \n",
       "OR4F16  0.00000               \n",
       "SAMD11  1.24700               \n",
       "NOC2L  60.42000               \n",
       "KLHL17 20.48000               "
      ]
     },
     "metadata": {},
     "output_type": "display_data"
    }
   ],
   "source": [
    "Heart.df = b %>% select(any_of(Heart$id_sample))\n",
    "dim(Heart.df)\n",
    "head(Heart.df,1)\n",
    "write.table(Heart.df, file = paste(name, \"Heart\", \"txt\", sep=\".\"), \n",
    "            append = FALSE, quote = FALSE, \n",
    "            sep = \"\\t\", row.names = TRUE, col.names = TRUE)\n",
    "\n",
    "\n",
    "Kidney.df = b %>% select(any_of(Kidney$id_sample))\n",
    "dim(Kidney.df)\n",
    "head(Kidney.df,1)\n",
    "write.table(Kidney.df, file = paste(name, \"Kidney\", \"txt\", sep=\".\"), \n",
    "            append = FALSE, quote = FALSE, \n",
    "            sep = \"\\t\", row.names = TRUE, col.names = TRUE)\n",
    "\n",
    "Liver.df = b %>% select(any_of(Liver$id_sample))\n",
    "dim(Liver.df)\n",
    "head(Liver.df,1)\n",
    "write.table(Liver.df, file = paste(name, \"Liver\", \"txt\", sep=\".\"), \n",
    "            append = FALSE, quote = FALSE, \n",
    "            sep = \"\\t\", row.names = TRUE, col.names = TRUE)\n",
    "\n",
    "Lung.df = b %>% select(any_of(Lung$id_sample))\n",
    "dim(Lung.df)\n",
    "head(Lung.df,1)\n",
    "write.table(Lung.df, file = paste(name, \"Lung\", \"txt\", sep=\".\"), \n",
    "            append = FALSE, quote = FALSE, \n",
    "            sep = \"\\t\", row.names = TRUE, col.names = TRUE)\n",
    "\n",
    "Muscle.df = b %>% select(any_of(Muscle$id_sample))\n",
    "dim(Muscle.df)\n",
    "head(Muscle.df,1)\n",
    "write.table(Muscle.df, file = paste(name, \"Muscle\", \"txt\", sep=\".\"), \n",
    "            append = FALSE, quote = FALSE, \n",
    "            sep = \"\\t\", row.names = TRUE, col.names = TRUE)\n",
    "\n",
    "Pancreas.df = b %>% select(any_of(Pancreas$id_sample))\n",
    "dim(Pancreas.df)\n",
    "head(Pancreas.df,1)\n",
    "write.table(Pancreas.df, file = paste(name, \"Pancreas\", \"txt\", sep=\".\"), \n",
    "            append = FALSE, quote = FALSE, \n",
    "            sep = \"\\t\", row.names = TRUE, col.names = TRUE)\n",
    "\n",
    "Pituitary.df = b %>% select(any_of(Pituitary$id_sample))\n",
    "dim(Pituitary.df)\n",
    "head(Pituitary.df,1)\n",
    "write.table(Pituitary.df, file = paste(name, \"Pituitary\", \"txt\", sep=\".\"), \n",
    "            append = FALSE, quote = FALSE, \n",
    "            sep = \"\\t\", row.names = TRUE, col.names = TRUE)\n",
    "\n",
    "Spleen.df = b %>% select(any_of(Spleen$id_sample))\n",
    "dim(Spleen.df)\n",
    "head(Spleen.df,1)\n",
    "write.table(Spleen.df, file = paste(name, \"Spleen\", \"txt\", sep=\".\"), \n",
    "            append = FALSE, quote = FALSE, \n",
    "            sep = \"\\t\", row.names = TRUE, col.names = TRUE)\n",
    "\n",
    "Stomach.df = b %>% select(any_of(Stomach$id_sample))\n",
    "dim(Stomach.df)\n",
    "head(Stomach.df,1)\n",
    "write.table(Stomach.df, file = paste(name, \"Stomach\", \"txt\", sep=\".\"), \n",
    "            append = FALSE, quote = FALSE, \n",
    "            sep = \"\\t\", row.names = TRUE, col.names = TRUE)\n",
    "\n",
    "Thyroid.df = b %>% select(any_of(Thyroid$id_sample))\n",
    "dim(Thyroid.df)\n",
    "head(Thyroid.df,1)\n",
    "write.table(Thyroid.df, file = paste(name, \"Thyroid\", \"txt\", sep=\".\"), \n",
    "            append = FALSE, quote = FALSE, \n",
    "            sep = \"\\t\", row.names = TRUE, col.names = TRUE)"
   ]
  },
  {
   "cell_type": "code",
   "execution_count": 126,
   "id": "64ffb35d",
   "metadata": {},
   "outputs": [
    {
     "data": {
      "text/html": [
       "<table class=\"dataframe\">\n",
       "<caption>A data.frame: 1 × 8</caption>\n",
       "<thead>\n",
       "\t<tr><th></th><th scope=col>V1</th><th scope=col>V2</th><th scope=col>V3</th><th scope=col>V4</th><th scope=col>numerical</th><th scope=col>id</th><th scope=col>id_sample</th><th scope=col>class</th></tr>\n",
       "\t<tr><th></th><th scope=col>&lt;chr&gt;</th><th scope=col>&lt;chr&gt;</th><th scope=col>&lt;chr&gt;</th><th scope=col>&lt;chr&gt;</th><th scope=col>&lt;chr&gt;</th><th scope=col>&lt;chr&gt;</th><th scope=col>&lt;chr&gt;</th><th scope=col>&lt;chr&gt;</th></tr>\n",
       "</thead>\n",
       "<tbody>\n",
       "\t<tr><th scope=row>1</th><td>GTEX-1117F-0726-SM-5GIEN</td><td>GTEX-1117F</td><td>True</td><td>Heart_Atrial_Appendage</td><td>1</td><td>Heart_Atrial_Appendage_1</td><td>GTEX.1117F.0726.SM.5GIEN</td><td>Other</td></tr>\n",
       "</tbody>\n",
       "</table>\n"
      ],
      "text/latex": [
       "A data.frame: 1 × 8\n",
       "\\begin{tabular}{r|llllllll}\n",
       "  & V1 & V2 & V3 & V4 & numerical & id & id\\_sample & class\\\\\n",
       "  & <chr> & <chr> & <chr> & <chr> & <chr> & <chr> & <chr> & <chr>\\\\\n",
       "\\hline\n",
       "\t1 & GTEX-1117F-0726-SM-5GIEN & GTEX-1117F & True & Heart\\_Atrial\\_Appendage & 1 & Heart\\_Atrial\\_Appendage\\_1 & GTEX.1117F.0726.SM.5GIEN & Other\\\\\n",
       "\\end{tabular}\n"
      ],
      "text/markdown": [
       "\n",
       "A data.frame: 1 × 8\n",
       "\n",
       "| <!--/--> | V1 &lt;chr&gt; | V2 &lt;chr&gt; | V3 &lt;chr&gt; | V4 &lt;chr&gt; | numerical &lt;chr&gt; | id &lt;chr&gt; | id_sample &lt;chr&gt; | class &lt;chr&gt; |\n",
       "|---|---|---|---|---|---|---|---|---|\n",
       "| 1 | GTEX-1117F-0726-SM-5GIEN | GTEX-1117F | True | Heart_Atrial_Appendage | 1 | Heart_Atrial_Appendage_1 | GTEX.1117F.0726.SM.5GIEN | Other |\n",
       "\n"
      ],
      "text/plain": [
       "  V1                       V2         V3   V4                     numerical\n",
       "1 GTEX-1117F-0726-SM-5GIEN GTEX-1117F True Heart_Atrial_Appendage 1        \n",
       "  id                       id_sample                class\n",
       "1 Heart_Atrial_Appendage_1 GTEX.1117F.0726.SM.5GIEN Other"
      ]
     },
     "metadata": {},
     "output_type": "display_data"
    },
    {
     "data": {
      "text/html": [
       "<table class=\"dataframe\">\n",
       "<caption>A data.frame: 1 × 8</caption>\n",
       "<thead>\n",
       "\t<tr><th></th><th scope=col>V1</th><th scope=col>V2</th><th scope=col>V3</th><th scope=col>V4</th><th scope=col>numerical</th><th scope=col>id</th><th scope=col>id_sample</th><th scope=col>class</th></tr>\n",
       "\t<tr><th></th><th scope=col>&lt;chr&gt;</th><th scope=col>&lt;chr&gt;</th><th scope=col>&lt;chr&gt;</th><th scope=col>&lt;chr&gt;</th><th scope=col>&lt;chr&gt;</th><th scope=col>&lt;chr&gt;</th><th scope=col>&lt;chr&gt;</th><th scope=col>&lt;chr&gt;</th></tr>\n",
       "</thead>\n",
       "<tbody>\n",
       "\t<tr><th scope=row>951</th><td>GTEX-11DXY-0526-SM-5EGGQ</td><td>GTEX-11DXY</td><td>False</td><td>Liver</td><td>951</td><td>Liver_951</td><td>GTEX.11DXY.0526.SM.5EGGQ</td><td>Liver</td></tr>\n",
       "</tbody>\n",
       "</table>\n"
      ],
      "text/latex": [
       "A data.frame: 1 × 8\n",
       "\\begin{tabular}{r|llllllll}\n",
       "  & V1 & V2 & V3 & V4 & numerical & id & id\\_sample & class\\\\\n",
       "  & <chr> & <chr> & <chr> & <chr> & <chr> & <chr> & <chr> & <chr>\\\\\n",
       "\\hline\n",
       "\t951 & GTEX-11DXY-0526-SM-5EGGQ & GTEX-11DXY & False & Liver & 951 & Liver\\_951 & GTEX.11DXY.0526.SM.5EGGQ & Liver\\\\\n",
       "\\end{tabular}\n"
      ],
      "text/markdown": [
       "\n",
       "A data.frame: 1 × 8\n",
       "\n",
       "| <!--/--> | V1 &lt;chr&gt; | V2 &lt;chr&gt; | V3 &lt;chr&gt; | V4 &lt;chr&gt; | numerical &lt;chr&gt; | id &lt;chr&gt; | id_sample &lt;chr&gt; | class &lt;chr&gt; |\n",
       "|---|---|---|---|---|---|---|---|---|\n",
       "| 951 | GTEX-11DXY-0526-SM-5EGGQ | GTEX-11DXY | False | Liver | 951 | Liver_951 | GTEX.11DXY.0526.SM.5EGGQ | Liver |\n",
       "\n"
      ],
      "text/plain": [
       "    V1                       V2         V3    V4    numerical id       \n",
       "951 GTEX-11DXY-0526-SM-5EGGQ GTEX-11DXY False Liver 951       Liver_951\n",
       "    id_sample                class\n",
       "951 GTEX.11DXY.0526.SM.5EGGQ Liver"
      ]
     },
     "metadata": {},
     "output_type": "display_data"
    },
    {
     "data": {
      "text/html": [
       "<style>\n",
       ".list-inline {list-style: none; margin:0; padding: 0}\n",
       ".list-inline>li {display: inline-block}\n",
       ".list-inline>li:not(:last-child)::after {content: \"\\00b7\"; padding: 0 .5ex}\n",
       "</style>\n",
       "<ol class=list-inline><li>226</li><li>8</li></ol>\n"
      ],
      "text/latex": [
       "\\begin{enumerate*}\n",
       "\\item 226\n",
       "\\item 8\n",
       "\\end{enumerate*}\n"
      ],
      "text/markdown": [
       "1. 226\n",
       "2. 8\n",
       "\n",
       "\n"
      ],
      "text/plain": [
       "[1] 226   8"
      ]
     },
     "metadata": {},
     "output_type": "display_data"
    },
    {
     "data": {
      "text/html": [
       "<table class=\"dataframe\">\n",
       "<caption>A data.frame: 1 × 8</caption>\n",
       "<thead>\n",
       "\t<tr><th></th><th scope=col>V1</th><th scope=col>V2</th><th scope=col>V3</th><th scope=col>V4</th><th scope=col>numerical</th><th scope=col>id</th><th scope=col>id_sample</th><th scope=col>class</th></tr>\n",
       "\t<tr><th></th><th scope=col>&lt;chr&gt;</th><th scope=col>&lt;chr&gt;</th><th scope=col>&lt;chr&gt;</th><th scope=col>&lt;chr&gt;</th><th scope=col>&lt;chr&gt;</th><th scope=col>&lt;chr&gt;</th><th scope=col>&lt;chr&gt;</th><th scope=col>&lt;chr&gt;</th></tr>\n",
       "</thead>\n",
       "<tbody>\n",
       "\t<tr><th scope=row>1</th><td>GTEX-1117F-0726-SM-5GIEN</td><td>GTEX-1117F</td><td>True</td><td>Heart_Atrial_Appendage</td><td>1</td><td>Heart_Atrial_Appendage_1</td><td>GTEX.1117F.0726.SM.5GIEN</td><td>Other</td></tr>\n",
       "</tbody>\n",
       "</table>\n"
      ],
      "text/latex": [
       "A data.frame: 1 × 8\n",
       "\\begin{tabular}{r|llllllll}\n",
       "  & V1 & V2 & V3 & V4 & numerical & id & id\\_sample & class\\\\\n",
       "  & <chr> & <chr> & <chr> & <chr> & <chr> & <chr> & <chr> & <chr>\\\\\n",
       "\\hline\n",
       "\t1 & GTEX-1117F-0726-SM-5GIEN & GTEX-1117F & True & Heart\\_Atrial\\_Appendage & 1 & Heart\\_Atrial\\_Appendage\\_1 & GTEX.1117F.0726.SM.5GIEN & Other\\\\\n",
       "\\end{tabular}\n"
      ],
      "text/markdown": [
       "\n",
       "A data.frame: 1 × 8\n",
       "\n",
       "| <!--/--> | V1 &lt;chr&gt; | V2 &lt;chr&gt; | V3 &lt;chr&gt; | V4 &lt;chr&gt; | numerical &lt;chr&gt; | id &lt;chr&gt; | id_sample &lt;chr&gt; | class &lt;chr&gt; |\n",
       "|---|---|---|---|---|---|---|---|---|\n",
       "| 1 | GTEX-1117F-0726-SM-5GIEN | GTEX-1117F | True | Heart_Atrial_Appendage | 1 | Heart_Atrial_Appendage_1 | GTEX.1117F.0726.SM.5GIEN | Other |\n",
       "\n"
      ],
      "text/plain": [
       "  V1                       V2         V3   V4                     numerical\n",
       "1 GTEX-1117F-0726-SM-5GIEN GTEX-1117F True Heart_Atrial_Appendage 1        \n",
       "  id                       id_sample                class\n",
       "1 Heart_Atrial_Appendage_1 GTEX.1117F.0726.SM.5GIEN Other"
      ]
     },
     "metadata": {},
     "output_type": "display_data"
    },
    {
     "data": {
      "text/html": [
       "<style>\n",
       ".list-inline {list-style: none; margin:0; padding: 0}\n",
       ".list-inline>li {display: inline-block}\n",
       ".list-inline>li:not(:last-child)::after {content: \"\\00b7\"; padding: 0 .5ex}\n",
       "</style>\n",
       "<ol class=list-inline><li>4195</li><li>8</li></ol>\n"
      ],
      "text/latex": [
       "\\begin{enumerate*}\n",
       "\\item 4195\n",
       "\\item 8\n",
       "\\end{enumerate*}\n"
      ],
      "text/markdown": [
       "1. 4195\n",
       "2. 8\n",
       "\n",
       "\n"
      ],
      "text/plain": [
       "[1] 4195    8"
      ]
     },
     "metadata": {},
     "output_type": "display_data"
    }
   ],
   "source": [
    "# to separate the META DATA FRAME into LIVER versus ANY OTHER TISSUE\n",
    "meta.df$class = ifelse(meta.df$V4 == \"Liver\", \"Liver\", \"Other\")\n",
    "head(meta.df, 1)\n",
    "\n",
    "meta.df.Liver = subset(meta.df, V4 == \"Liver\")\n",
    "head(meta.df.Liver, 1)\n",
    "dim(meta.df.Liver)\n",
    "\n",
    "meta.df.Other = subset(meta.df, V4 != \"Liver\")\n",
    "head(meta.df.Other, 1)\n",
    "dim(meta.df.Other)\n"
   ]
  },
  {
   "cell_type": "code",
   "execution_count": 127,
   "id": "6e04b40c",
   "metadata": {},
   "outputs": [
    {
     "data": {
      "text/html": [
       "<table class=\"dataframe\">\n",
       "<caption>A data.frame: 1 × 226</caption>\n",
       "<thead>\n",
       "\t<tr><th></th><th scope=col>GTEX.11DXY.0526.SM.5EGGQ</th><th scope=col>GTEX.11DXZ.0126.SM.5EGGY</th><th scope=col>GTEX.11EQ9.0526.SM.5A5JZ</th><th scope=col>GTEX.11GSP.0626.SM.5986T</th><th scope=col>GTEX.11NUK.1226.SM.5P9GM</th><th scope=col>GTEX.11NV4.1326.SM.5HL6V</th><th scope=col>GTEX.11OF3.0726.SM.5BC4Z</th><th scope=col>GTEX.11TT1.1726.SM.5EQLJ</th><th scope=col>GTEX.11TUW.1726.SM.5BC5C</th><th scope=col>GTEX.11WQC.0726.SM.5EQMR</th><th scope=col>⋯</th><th scope=col>GTEX.ZF29.2026.SM.DNZYW</th><th scope=col>GTEX.ZF2S.3026.SM.4WWCH</th><th scope=col>GTEX.ZPU1.0826.SM.57WG2</th><th scope=col>GTEX.ZTPG.1426.SM.51MT3</th><th scope=col>GTEX.ZVP2.0626.SM.51MSO</th><th scope=col>GTEX.ZVT3.1626.SM.5GU66</th><th scope=col>GTEX.ZVT4.0626.SM.5E45T</th><th scope=col>GTEX.ZYT6.0626.SM.5E45V</th><th scope=col>GTEX.ZYY3.0626.SM.5NQ6W</th><th scope=col>GTEX.ZZPU.0426.SM.5GZYH</th></tr>\n",
       "\t<tr><th></th><th scope=col>&lt;dbl&gt;</th><th scope=col>&lt;dbl&gt;</th><th scope=col>&lt;dbl&gt;</th><th scope=col>&lt;dbl&gt;</th><th scope=col>&lt;dbl&gt;</th><th scope=col>&lt;dbl&gt;</th><th scope=col>&lt;dbl&gt;</th><th scope=col>&lt;dbl&gt;</th><th scope=col>&lt;dbl&gt;</th><th scope=col>&lt;dbl&gt;</th><th scope=col>⋯</th><th scope=col>&lt;dbl&gt;</th><th scope=col>&lt;dbl&gt;</th><th scope=col>&lt;dbl&gt;</th><th scope=col>&lt;dbl&gt;</th><th scope=col>&lt;dbl&gt;</th><th scope=col>&lt;dbl&gt;</th><th scope=col>&lt;dbl&gt;</th><th scope=col>&lt;dbl&gt;</th><th scope=col>&lt;dbl&gt;</th><th scope=col>&lt;dbl&gt;</th></tr>\n",
       "</thead>\n",
       "<tbody>\n",
       "\t<tr><th scope=row>OR4F5</th><td>0</td><td>0.09123</td><td>0.03197</td><td>0.1352</td><td>0.1199</td><td>0.05194</td><td>0.1338</td><td>0.1551</td><td>0.06967</td><td>0.07092</td><td>⋯</td><td>0.02642</td><td>0</td><td>0.06901</td><td>0.1233</td><td>0.07165</td><td>0.08659</td><td>0.06814</td><td>0.124</td><td>0</td><td>0.08212</td></tr>\n",
       "</tbody>\n",
       "</table>\n"
      ],
      "text/latex": [
       "A data.frame: 1 × 226\n",
       "\\begin{tabular}{r|lllllllllllllllllllll}\n",
       "  & GTEX.11DXY.0526.SM.5EGGQ & GTEX.11DXZ.0126.SM.5EGGY & GTEX.11EQ9.0526.SM.5A5JZ & GTEX.11GSP.0626.SM.5986T & GTEX.11NUK.1226.SM.5P9GM & GTEX.11NV4.1326.SM.5HL6V & GTEX.11OF3.0726.SM.5BC4Z & GTEX.11TT1.1726.SM.5EQLJ & GTEX.11TUW.1726.SM.5BC5C & GTEX.11WQC.0726.SM.5EQMR & ⋯ & GTEX.ZF29.2026.SM.DNZYW & GTEX.ZF2S.3026.SM.4WWCH & GTEX.ZPU1.0826.SM.57WG2 & GTEX.ZTPG.1426.SM.51MT3 & GTEX.ZVP2.0626.SM.51MSO & GTEX.ZVT3.1626.SM.5GU66 & GTEX.ZVT4.0626.SM.5E45T & GTEX.ZYT6.0626.SM.5E45V & GTEX.ZYY3.0626.SM.5NQ6W & GTEX.ZZPU.0426.SM.5GZYH\\\\\n",
       "  & <dbl> & <dbl> & <dbl> & <dbl> & <dbl> & <dbl> & <dbl> & <dbl> & <dbl> & <dbl> & ⋯ & <dbl> & <dbl> & <dbl> & <dbl> & <dbl> & <dbl> & <dbl> & <dbl> & <dbl> & <dbl>\\\\\n",
       "\\hline\n",
       "\tOR4F5 & 0 & 0.09123 & 0.03197 & 0.1352 & 0.1199 & 0.05194 & 0.1338 & 0.1551 & 0.06967 & 0.07092 & ⋯ & 0.02642 & 0 & 0.06901 & 0.1233 & 0.07165 & 0.08659 & 0.06814 & 0.124 & 0 & 0.08212\\\\\n",
       "\\end{tabular}\n"
      ],
      "text/markdown": [
       "\n",
       "A data.frame: 1 × 226\n",
       "\n",
       "| <!--/--> | GTEX.11DXY.0526.SM.5EGGQ &lt;dbl&gt; | GTEX.11DXZ.0126.SM.5EGGY &lt;dbl&gt; | GTEX.11EQ9.0526.SM.5A5JZ &lt;dbl&gt; | GTEX.11GSP.0626.SM.5986T &lt;dbl&gt; | GTEX.11NUK.1226.SM.5P9GM &lt;dbl&gt; | GTEX.11NV4.1326.SM.5HL6V &lt;dbl&gt; | GTEX.11OF3.0726.SM.5BC4Z &lt;dbl&gt; | GTEX.11TT1.1726.SM.5EQLJ &lt;dbl&gt; | GTEX.11TUW.1726.SM.5BC5C &lt;dbl&gt; | GTEX.11WQC.0726.SM.5EQMR &lt;dbl&gt; | ⋯ ⋯ | GTEX.ZF29.2026.SM.DNZYW &lt;dbl&gt; | GTEX.ZF2S.3026.SM.4WWCH &lt;dbl&gt; | GTEX.ZPU1.0826.SM.57WG2 &lt;dbl&gt; | GTEX.ZTPG.1426.SM.51MT3 &lt;dbl&gt; | GTEX.ZVP2.0626.SM.51MSO &lt;dbl&gt; | GTEX.ZVT3.1626.SM.5GU66 &lt;dbl&gt; | GTEX.ZVT4.0626.SM.5E45T &lt;dbl&gt; | GTEX.ZYT6.0626.SM.5E45V &lt;dbl&gt; | GTEX.ZYY3.0626.SM.5NQ6W &lt;dbl&gt; | GTEX.ZZPU.0426.SM.5GZYH &lt;dbl&gt; |\n",
       "|---|---|---|---|---|---|---|---|---|---|---|---|---|---|---|---|---|---|---|---|---|---|\n",
       "| OR4F5 | 0 | 0.09123 | 0.03197 | 0.1352 | 0.1199 | 0.05194 | 0.1338 | 0.1551 | 0.06967 | 0.07092 | ⋯ | 0.02642 | 0 | 0.06901 | 0.1233 | 0.07165 | 0.08659 | 0.06814 | 0.124 | 0 | 0.08212 |\n",
       "\n"
      ],
      "text/plain": [
       "      GTEX.11DXY.0526.SM.5EGGQ GTEX.11DXZ.0126.SM.5EGGY\n",
       "OR4F5 0                        0.09123                 \n",
       "      GTEX.11EQ9.0526.SM.5A5JZ GTEX.11GSP.0626.SM.5986T\n",
       "OR4F5 0.03197                  0.1352                  \n",
       "      GTEX.11NUK.1226.SM.5P9GM GTEX.11NV4.1326.SM.5HL6V\n",
       "OR4F5 0.1199                   0.05194                 \n",
       "      GTEX.11OF3.0726.SM.5BC4Z GTEX.11TT1.1726.SM.5EQLJ\n",
       "OR4F5 0.1338                   0.1551                  \n",
       "      GTEX.11TUW.1726.SM.5BC5C GTEX.11WQC.0726.SM.5EQMR ⋯\n",
       "OR4F5 0.06967                  0.07092                  ⋯\n",
       "      GTEX.ZF29.2026.SM.DNZYW GTEX.ZF2S.3026.SM.4WWCH GTEX.ZPU1.0826.SM.57WG2\n",
       "OR4F5 0.02642                 0                       0.06901                \n",
       "      GTEX.ZTPG.1426.SM.51MT3 GTEX.ZVP2.0626.SM.51MSO GTEX.ZVT3.1626.SM.5GU66\n",
       "OR4F5 0.1233                  0.07165                 0.08659                \n",
       "      GTEX.ZVT4.0626.SM.5E45T GTEX.ZYT6.0626.SM.5E45V GTEX.ZYY3.0626.SM.5NQ6W\n",
       "OR4F5 0.06814                 0.124                   0                      \n",
       "      GTEX.ZZPU.0426.SM.5GZYH\n",
       "OR4F5 0.08212                "
      ]
     },
     "metadata": {},
     "output_type": "display_data"
    },
    {
     "data": {
      "text/html": [
       "<style>\n",
       ".list-inline {list-style: none; margin:0; padding: 0}\n",
       ".list-inline>li {display: inline-block}\n",
       ".list-inline>li:not(:last-child)::after {content: \"\\00b7\"; padding: 0 .5ex}\n",
       "</style>\n",
       "<ol class=list-inline><li>18446</li><li>226</li></ol>\n"
      ],
      "text/latex": [
       "\\begin{enumerate*}\n",
       "\\item 18446\n",
       "\\item 226\n",
       "\\end{enumerate*}\n"
      ],
      "text/markdown": [
       "1. 18446\n",
       "2. 226\n",
       "\n",
       "\n"
      ],
      "text/plain": [
       "[1] 18446   226"
      ]
     },
     "metadata": {},
     "output_type": "display_data"
    },
    {
     "data": {
      "text/html": [
       "<table class=\"dataframe\">\n",
       "<caption>A data.frame: 1 × 4195</caption>\n",
       "<thead>\n",
       "\t<tr><th></th><th scope=col>GTEX.1117F.0726.SM.5GIEN</th><th scope=col>GTEX.111FC.0626.SM.5N9CU</th><th scope=col>GTEX.111FC.0826.SM.5GZWO</th><th scope=col>GTEX.111VG.0326.SM.5GZX7</th><th scope=col>GTEX.111YS.0326.SM.5GZZ3</th><th scope=col>GTEX.111YS.0426.SM.5987O</th><th scope=col>GTEX.1122O.0626.SM.5N9B9</th><th scope=col>GTEX.1122O.0826.SM.5GICV</th><th scope=col>GTEX.117XS.0726.SM.5H131</th><th scope=col>GTEX.117YW.0326.SM.5N9CY</th><th scope=col>⋯</th><th scope=col>GTEX.ZY6K.0226.SM.5SIAY</th><th scope=col>GTEX.ZYFC.0926.SM.5GZWW</th><th scope=col>GTEX.ZYFD.0826.SM.5NQ9A</th><th scope=col>GTEX.ZYFG.0626.SM.5GZYA</th><th scope=col>GTEX.ZYT6.0426.SM.5GID3</th><th scope=col>GTEX.ZYVF.1126.SM.5E458</th><th scope=col>GTEX.ZYW4.1126.SM.5SI99</th><th scope=col>GTEX.ZYY3.1926.SM.5GZXS</th><th scope=col>GTEX.ZZ64.0126.SM.5GZXA</th><th scope=col>GTEX.ZZPU.1326.SM.5GZWS</th></tr>\n",
       "\t<tr><th></th><th scope=col>&lt;dbl&gt;</th><th scope=col>&lt;dbl&gt;</th><th scope=col>&lt;dbl&gt;</th><th scope=col>&lt;dbl&gt;</th><th scope=col>&lt;dbl&gt;</th><th scope=col>&lt;dbl&gt;</th><th scope=col>&lt;dbl&gt;</th><th scope=col>&lt;dbl&gt;</th><th scope=col>&lt;dbl&gt;</th><th scope=col>&lt;dbl&gt;</th><th scope=col>⋯</th><th scope=col>&lt;dbl&gt;</th><th scope=col>&lt;dbl&gt;</th><th scope=col>&lt;dbl&gt;</th><th scope=col>&lt;dbl&gt;</th><th scope=col>&lt;dbl&gt;</th><th scope=col>&lt;dbl&gt;</th><th scope=col>&lt;dbl&gt;</th><th scope=col>&lt;dbl&gt;</th><th scope=col>&lt;dbl&gt;</th><th scope=col>&lt;dbl&gt;</th></tr>\n",
       "</thead>\n",
       "<tbody>\n",
       "\t<tr><th scope=row>OR4F5</th><td>0.04233</td><td>0.048</td><td>0.147</td><td>0.08739</td><td>0.07495</td><td>0.08668</td><td>0.2024</td><td>0.1403</td><td>0.1016</td><td>0.09944</td><td>⋯</td><td>0</td><td>0</td><td>0</td><td>0.05059</td><td>0</td><td>0</td><td>0.0596</td><td>0.1951</td><td>0.2498</td><td>0.05729</td></tr>\n",
       "</tbody>\n",
       "</table>\n"
      ],
      "text/latex": [
       "A data.frame: 1 × 4195\n",
       "\\begin{tabular}{r|lllllllllllllllllllll}\n",
       "  & GTEX.1117F.0726.SM.5GIEN & GTEX.111FC.0626.SM.5N9CU & GTEX.111FC.0826.SM.5GZWO & GTEX.111VG.0326.SM.5GZX7 & GTEX.111YS.0326.SM.5GZZ3 & GTEX.111YS.0426.SM.5987O & GTEX.1122O.0626.SM.5N9B9 & GTEX.1122O.0826.SM.5GICV & GTEX.117XS.0726.SM.5H131 & GTEX.117YW.0326.SM.5N9CY & ⋯ & GTEX.ZY6K.0226.SM.5SIAY & GTEX.ZYFC.0926.SM.5GZWW & GTEX.ZYFD.0826.SM.5NQ9A & GTEX.ZYFG.0626.SM.5GZYA & GTEX.ZYT6.0426.SM.5GID3 & GTEX.ZYVF.1126.SM.5E458 & GTEX.ZYW4.1126.SM.5SI99 & GTEX.ZYY3.1926.SM.5GZXS & GTEX.ZZ64.0126.SM.5GZXA & GTEX.ZZPU.1326.SM.5GZWS\\\\\n",
       "  & <dbl> & <dbl> & <dbl> & <dbl> & <dbl> & <dbl> & <dbl> & <dbl> & <dbl> & <dbl> & ⋯ & <dbl> & <dbl> & <dbl> & <dbl> & <dbl> & <dbl> & <dbl> & <dbl> & <dbl> & <dbl>\\\\\n",
       "\\hline\n",
       "\tOR4F5 & 0.04233 & 0.048 & 0.147 & 0.08739 & 0.07495 & 0.08668 & 0.2024 & 0.1403 & 0.1016 & 0.09944 & ⋯ & 0 & 0 & 0 & 0.05059 & 0 & 0 & 0.0596 & 0.1951 & 0.2498 & 0.05729\\\\\n",
       "\\end{tabular}\n"
      ],
      "text/markdown": [
       "\n",
       "A data.frame: 1 × 4195\n",
       "\n",
       "| <!--/--> | GTEX.1117F.0726.SM.5GIEN &lt;dbl&gt; | GTEX.111FC.0626.SM.5N9CU &lt;dbl&gt; | GTEX.111FC.0826.SM.5GZWO &lt;dbl&gt; | GTEX.111VG.0326.SM.5GZX7 &lt;dbl&gt; | GTEX.111YS.0326.SM.5GZZ3 &lt;dbl&gt; | GTEX.111YS.0426.SM.5987O &lt;dbl&gt; | GTEX.1122O.0626.SM.5N9B9 &lt;dbl&gt; | GTEX.1122O.0826.SM.5GICV &lt;dbl&gt; | GTEX.117XS.0726.SM.5H131 &lt;dbl&gt; | GTEX.117YW.0326.SM.5N9CY &lt;dbl&gt; | ⋯ ⋯ | GTEX.ZY6K.0226.SM.5SIAY &lt;dbl&gt; | GTEX.ZYFC.0926.SM.5GZWW &lt;dbl&gt; | GTEX.ZYFD.0826.SM.5NQ9A &lt;dbl&gt; | GTEX.ZYFG.0626.SM.5GZYA &lt;dbl&gt; | GTEX.ZYT6.0426.SM.5GID3 &lt;dbl&gt; | GTEX.ZYVF.1126.SM.5E458 &lt;dbl&gt; | GTEX.ZYW4.1126.SM.5SI99 &lt;dbl&gt; | GTEX.ZYY3.1926.SM.5GZXS &lt;dbl&gt; | GTEX.ZZ64.0126.SM.5GZXA &lt;dbl&gt; | GTEX.ZZPU.1326.SM.5GZWS &lt;dbl&gt; |\n",
       "|---|---|---|---|---|---|---|---|---|---|---|---|---|---|---|---|---|---|---|---|---|---|\n",
       "| OR4F5 | 0.04233 | 0.048 | 0.147 | 0.08739 | 0.07495 | 0.08668 | 0.2024 | 0.1403 | 0.1016 | 0.09944 | ⋯ | 0 | 0 | 0 | 0.05059 | 0 | 0 | 0.0596 | 0.1951 | 0.2498 | 0.05729 |\n",
       "\n"
      ],
      "text/plain": [
       "      GTEX.1117F.0726.SM.5GIEN GTEX.111FC.0626.SM.5N9CU\n",
       "OR4F5 0.04233                  0.048                   \n",
       "      GTEX.111FC.0826.SM.5GZWO GTEX.111VG.0326.SM.5GZX7\n",
       "OR4F5 0.147                    0.08739                 \n",
       "      GTEX.111YS.0326.SM.5GZZ3 GTEX.111YS.0426.SM.5987O\n",
       "OR4F5 0.07495                  0.08668                 \n",
       "      GTEX.1122O.0626.SM.5N9B9 GTEX.1122O.0826.SM.5GICV\n",
       "OR4F5 0.2024                   0.1403                  \n",
       "      GTEX.117XS.0726.SM.5H131 GTEX.117YW.0326.SM.5N9CY ⋯\n",
       "OR4F5 0.1016                   0.09944                  ⋯\n",
       "      GTEX.ZY6K.0226.SM.5SIAY GTEX.ZYFC.0926.SM.5GZWW GTEX.ZYFD.0826.SM.5NQ9A\n",
       "OR4F5 0                       0                       0                      \n",
       "      GTEX.ZYFG.0626.SM.5GZYA GTEX.ZYT6.0426.SM.5GID3 GTEX.ZYVF.1126.SM.5E458\n",
       "OR4F5 0.05059                 0                       0                      \n",
       "      GTEX.ZYW4.1126.SM.5SI99 GTEX.ZYY3.1926.SM.5GZXS GTEX.ZZ64.0126.SM.5GZXA\n",
       "OR4F5 0.0596                  0.1951                  0.2498                 \n",
       "      GTEX.ZZPU.1326.SM.5GZWS\n",
       "OR4F5 0.05729                "
      ]
     },
     "metadata": {},
     "output_type": "display_data"
    },
    {
     "data": {
      "text/html": [
       "<style>\n",
       ".list-inline {list-style: none; margin:0; padding: 0}\n",
       ".list-inline>li {display: inline-block}\n",
       ".list-inline>li:not(:last-child)::after {content: \"\\00b7\"; padding: 0 .5ex}\n",
       "</style>\n",
       "<ol class=list-inline><li>18446</li><li>4195</li></ol>\n"
      ],
      "text/latex": [
       "\\begin{enumerate*}\n",
       "\\item 18446\n",
       "\\item 4195\n",
       "\\end{enumerate*}\n"
      ],
      "text/markdown": [
       "1. 18446\n",
       "2. 4195\n",
       "\n",
       "\n"
      ],
      "text/plain": [
       "[1] 18446  4195"
      ]
     },
     "metadata": {},
     "output_type": "display_data"
    }
   ],
   "source": [
    "Liver.only.df = b %>% select(any_of(meta.df.Liver$id_sample))\n",
    "head(Liver.only.df,1)\n",
    "dim(Liver.only.df)\n",
    "write.table(Liver.only.df, file = paste(name, \"only.Liver\", \"txt\", sep=\".\"), \n",
    "            append = FALSE, quote = FALSE, \n",
    "            sep = \"\\t\", row.names = TRUE, col.names = TRUE)\n",
    "\n",
    "\n",
    "Other.only.df = b %>% select(any_of(meta.df.Other$id_sample))\n",
    "head(Other.only.df,1)\n",
    "dim(Other.only.df)\n",
    "\n",
    "write.table(Other.only.df, file = paste(name, \"only.Other\", \"txt\", sep=\".\"), \n",
    "            append = FALSE, quote = FALSE, \n",
    "            sep = \"\\t\", row.names = TRUE, col.names = TRUE)"
   ]
  },
  {
   "cell_type": "code",
   "execution_count": null,
   "id": "60b9c8e7",
   "metadata": {},
   "outputs": [],
   "source": [
    "# To compute the SPECIFIC GENES based on the MEDIAN of GENE EPRESSION in LIVER versus OTHER tissues"
   ]
  },
  {
   "cell_type": "code",
   "execution_count": 22,
   "id": "7c630f27",
   "metadata": {},
   "outputs": [
    {
     "data": {
      "text/html": [
       "<table class=\"dataframe\">\n",
       "<caption>A data.frame: 2 × 226</caption>\n",
       "<thead>\n",
       "\t<tr><th></th><th scope=col>GTEX.11DXY.0526.SM.5EGGQ</th><th scope=col>GTEX.11DXZ.0126.SM.5EGGY</th><th scope=col>GTEX.11EQ9.0526.SM.5A5JZ</th><th scope=col>GTEX.11GSP.0626.SM.5986T</th><th scope=col>GTEX.11NUK.1226.SM.5P9GM</th><th scope=col>GTEX.11NV4.1326.SM.5HL6V</th><th scope=col>GTEX.11OF3.0726.SM.5BC4Z</th><th scope=col>GTEX.11TT1.1726.SM.5EQLJ</th><th scope=col>GTEX.11TUW.1726.SM.5BC5C</th><th scope=col>GTEX.11WQC.0726.SM.5EQMR</th><th scope=col>⋯</th><th scope=col>GTEX.ZF29.2026.SM.DNZYW</th><th scope=col>GTEX.ZF2S.3026.SM.4WWCH</th><th scope=col>GTEX.ZPU1.0826.SM.57WG2</th><th scope=col>GTEX.ZTPG.1426.SM.51MT3</th><th scope=col>GTEX.ZVP2.0626.SM.51MSO</th><th scope=col>GTEX.ZVT3.1626.SM.5GU66</th><th scope=col>GTEX.ZVT4.0626.SM.5E45T</th><th scope=col>GTEX.ZYT6.0626.SM.5E45V</th><th scope=col>GTEX.ZYY3.0626.SM.5NQ6W</th><th scope=col>GTEX.ZZPU.0426.SM.5GZYH</th></tr>\n",
       "\t<tr><th></th><th scope=col>&lt;dbl&gt;</th><th scope=col>&lt;dbl&gt;</th><th scope=col>&lt;dbl&gt;</th><th scope=col>&lt;dbl&gt;</th><th scope=col>&lt;dbl&gt;</th><th scope=col>&lt;dbl&gt;</th><th scope=col>&lt;dbl&gt;</th><th scope=col>&lt;dbl&gt;</th><th scope=col>&lt;dbl&gt;</th><th scope=col>&lt;dbl&gt;</th><th scope=col>⋯</th><th scope=col>&lt;dbl&gt;</th><th scope=col>&lt;dbl&gt;</th><th scope=col>&lt;dbl&gt;</th><th scope=col>&lt;dbl&gt;</th><th scope=col>&lt;dbl&gt;</th><th scope=col>&lt;dbl&gt;</th><th scope=col>&lt;dbl&gt;</th><th scope=col>&lt;dbl&gt;</th><th scope=col>&lt;dbl&gt;</th><th scope=col>&lt;dbl&gt;</th></tr>\n",
       "</thead>\n",
       "<tbody>\n",
       "\t<tr><th scope=row>OR4F5</th><td>0</td><td>0.09123</td><td>0.03197</td><td>0.13520</td><td>0.11990</td><td>0.05194</td><td>0.13380</td><td>0.1551</td><td>0.06967</td><td>0.07092</td><td>⋯</td><td>0.02642</td><td>0.00000</td><td>0.06901</td><td>0.12330</td><td>0.07165</td><td>0.08659</td><td>0.06814</td><td>0.12400</td><td>0</td><td>0.08212</td></tr>\n",
       "\t<tr><th scope=row>OR4F29</th><td>0</td><td>0.13380</td><td>0.03126</td><td>0.03305</td><td>0.09376</td><td>0.02539</td><td>0.08722</td><td>0.1011</td><td>0.06811</td><td>0.10400</td><td>⋯</td><td>0.02583</td><td>0.03943</td><td>0.06747</td><td>0.08037</td><td>0.10510</td><td>0.04233</td><td>0.09993</td><td>0.09092</td><td>0</td><td>0.08028</td></tr>\n",
       "</tbody>\n",
       "</table>\n"
      ],
      "text/latex": [
       "A data.frame: 2 × 226\n",
       "\\begin{tabular}{r|lllllllllllllllllllll}\n",
       "  & GTEX.11DXY.0526.SM.5EGGQ & GTEX.11DXZ.0126.SM.5EGGY & GTEX.11EQ9.0526.SM.5A5JZ & GTEX.11GSP.0626.SM.5986T & GTEX.11NUK.1226.SM.5P9GM & GTEX.11NV4.1326.SM.5HL6V & GTEX.11OF3.0726.SM.5BC4Z & GTEX.11TT1.1726.SM.5EQLJ & GTEX.11TUW.1726.SM.5BC5C & GTEX.11WQC.0726.SM.5EQMR & ⋯ & GTEX.ZF29.2026.SM.DNZYW & GTEX.ZF2S.3026.SM.4WWCH & GTEX.ZPU1.0826.SM.57WG2 & GTEX.ZTPG.1426.SM.51MT3 & GTEX.ZVP2.0626.SM.51MSO & GTEX.ZVT3.1626.SM.5GU66 & GTEX.ZVT4.0626.SM.5E45T & GTEX.ZYT6.0626.SM.5E45V & GTEX.ZYY3.0626.SM.5NQ6W & GTEX.ZZPU.0426.SM.5GZYH\\\\\n",
       "  & <dbl> & <dbl> & <dbl> & <dbl> & <dbl> & <dbl> & <dbl> & <dbl> & <dbl> & <dbl> & ⋯ & <dbl> & <dbl> & <dbl> & <dbl> & <dbl> & <dbl> & <dbl> & <dbl> & <dbl> & <dbl>\\\\\n",
       "\\hline\n",
       "\tOR4F5 & 0 & 0.09123 & 0.03197 & 0.13520 & 0.11990 & 0.05194 & 0.13380 & 0.1551 & 0.06967 & 0.07092 & ⋯ & 0.02642 & 0.00000 & 0.06901 & 0.12330 & 0.07165 & 0.08659 & 0.06814 & 0.12400 & 0 & 0.08212\\\\\n",
       "\tOR4F29 & 0 & 0.13380 & 0.03126 & 0.03305 & 0.09376 & 0.02539 & 0.08722 & 0.1011 & 0.06811 & 0.10400 & ⋯ & 0.02583 & 0.03943 & 0.06747 & 0.08037 & 0.10510 & 0.04233 & 0.09993 & 0.09092 & 0 & 0.08028\\\\\n",
       "\\end{tabular}\n"
      ],
      "text/markdown": [
       "\n",
       "A data.frame: 2 × 226\n",
       "\n",
       "| <!--/--> | GTEX.11DXY.0526.SM.5EGGQ &lt;dbl&gt; | GTEX.11DXZ.0126.SM.5EGGY &lt;dbl&gt; | GTEX.11EQ9.0526.SM.5A5JZ &lt;dbl&gt; | GTEX.11GSP.0626.SM.5986T &lt;dbl&gt; | GTEX.11NUK.1226.SM.5P9GM &lt;dbl&gt; | GTEX.11NV4.1326.SM.5HL6V &lt;dbl&gt; | GTEX.11OF3.0726.SM.5BC4Z &lt;dbl&gt; | GTEX.11TT1.1726.SM.5EQLJ &lt;dbl&gt; | GTEX.11TUW.1726.SM.5BC5C &lt;dbl&gt; | GTEX.11WQC.0726.SM.5EQMR &lt;dbl&gt; | ⋯ ⋯ | GTEX.ZF29.2026.SM.DNZYW &lt;dbl&gt; | GTEX.ZF2S.3026.SM.4WWCH &lt;dbl&gt; | GTEX.ZPU1.0826.SM.57WG2 &lt;dbl&gt; | GTEX.ZTPG.1426.SM.51MT3 &lt;dbl&gt; | GTEX.ZVP2.0626.SM.51MSO &lt;dbl&gt; | GTEX.ZVT3.1626.SM.5GU66 &lt;dbl&gt; | GTEX.ZVT4.0626.SM.5E45T &lt;dbl&gt; | GTEX.ZYT6.0626.SM.5E45V &lt;dbl&gt; | GTEX.ZYY3.0626.SM.5NQ6W &lt;dbl&gt; | GTEX.ZZPU.0426.SM.5GZYH &lt;dbl&gt; |\n",
       "|---|---|---|---|---|---|---|---|---|---|---|---|---|---|---|---|---|---|---|---|---|---|\n",
       "| OR4F5 | 0 | 0.09123 | 0.03197 | 0.13520 | 0.11990 | 0.05194 | 0.13380 | 0.1551 | 0.06967 | 0.07092 | ⋯ | 0.02642 | 0.00000 | 0.06901 | 0.12330 | 0.07165 | 0.08659 | 0.06814 | 0.12400 | 0 | 0.08212 |\n",
       "| OR4F29 | 0 | 0.13380 | 0.03126 | 0.03305 | 0.09376 | 0.02539 | 0.08722 | 0.1011 | 0.06811 | 0.10400 | ⋯ | 0.02583 | 0.03943 | 0.06747 | 0.08037 | 0.10510 | 0.04233 | 0.09993 | 0.09092 | 0 | 0.08028 |\n",
       "\n"
      ],
      "text/plain": [
       "       GTEX.11DXY.0526.SM.5EGGQ GTEX.11DXZ.0126.SM.5EGGY\n",
       "OR4F5  0                        0.09123                 \n",
       "OR4F29 0                        0.13380                 \n",
       "       GTEX.11EQ9.0526.SM.5A5JZ GTEX.11GSP.0626.SM.5986T\n",
       "OR4F5  0.03197                  0.13520                 \n",
       "OR4F29 0.03126                  0.03305                 \n",
       "       GTEX.11NUK.1226.SM.5P9GM GTEX.11NV4.1326.SM.5HL6V\n",
       "OR4F5  0.11990                  0.05194                 \n",
       "OR4F29 0.09376                  0.02539                 \n",
       "       GTEX.11OF3.0726.SM.5BC4Z GTEX.11TT1.1726.SM.5EQLJ\n",
       "OR4F5  0.13380                  0.1551                  \n",
       "OR4F29 0.08722                  0.1011                  \n",
       "       GTEX.11TUW.1726.SM.5BC5C GTEX.11WQC.0726.SM.5EQMR ⋯\n",
       "OR4F5  0.06967                  0.07092                  ⋯\n",
       "OR4F29 0.06811                  0.10400                  ⋯\n",
       "       GTEX.ZF29.2026.SM.DNZYW GTEX.ZF2S.3026.SM.4WWCH GTEX.ZPU1.0826.SM.57WG2\n",
       "OR4F5  0.02642                 0.00000                 0.06901                \n",
       "OR4F29 0.02583                 0.03943                 0.06747                \n",
       "       GTEX.ZTPG.1426.SM.51MT3 GTEX.ZVP2.0626.SM.51MSO GTEX.ZVT3.1626.SM.5GU66\n",
       "OR4F5  0.12330                 0.07165                 0.08659                \n",
       "OR4F29 0.08037                 0.10510                 0.04233                \n",
       "       GTEX.ZVT4.0626.SM.5E45T GTEX.ZYT6.0626.SM.5E45V GTEX.ZYY3.0626.SM.5NQ6W\n",
       "OR4F5  0.06814                 0.12400                 0                      \n",
       "OR4F29 0.09993                 0.09092                 0                      \n",
       "       GTEX.ZZPU.0426.SM.5GZYH\n",
       "OR4F5  0.08212                \n",
       "OR4F29 0.08028                "
      ]
     },
     "metadata": {},
     "output_type": "display_data"
    },
    {
     "data": {
      "text/html": [
       "<table class=\"dataframe\">\n",
       "<caption>A data.frame: 2 × 4195</caption>\n",
       "<thead>\n",
       "\t<tr><th></th><th scope=col>GTEX.1117F.0726.SM.5GIEN</th><th scope=col>GTEX.111FC.0626.SM.5N9CU</th><th scope=col>GTEX.111FC.0826.SM.5GZWO</th><th scope=col>GTEX.111VG.0326.SM.5GZX7</th><th scope=col>GTEX.111YS.0326.SM.5GZZ3</th><th scope=col>GTEX.111YS.0426.SM.5987O</th><th scope=col>GTEX.1122O.0626.SM.5N9B9</th><th scope=col>GTEX.1122O.0826.SM.5GICV</th><th scope=col>GTEX.117XS.0726.SM.5H131</th><th scope=col>GTEX.117YW.0326.SM.5N9CY</th><th scope=col>⋯</th><th scope=col>GTEX.ZY6K.0226.SM.5SIAY</th><th scope=col>GTEX.ZYFC.0926.SM.5GZWW</th><th scope=col>GTEX.ZYFD.0826.SM.5NQ9A</th><th scope=col>GTEX.ZYFG.0626.SM.5GZYA</th><th scope=col>GTEX.ZYT6.0426.SM.5GID3</th><th scope=col>GTEX.ZYVF.1126.SM.5E458</th><th scope=col>GTEX.ZYW4.1126.SM.5SI99</th><th scope=col>GTEX.ZYY3.1926.SM.5GZXS</th><th scope=col>GTEX.ZZ64.0126.SM.5GZXA</th><th scope=col>GTEX.ZZPU.1326.SM.5GZWS</th></tr>\n",
       "\t<tr><th></th><th scope=col>&lt;dbl&gt;</th><th scope=col>&lt;dbl&gt;</th><th scope=col>&lt;dbl&gt;</th><th scope=col>&lt;dbl&gt;</th><th scope=col>&lt;dbl&gt;</th><th scope=col>&lt;dbl&gt;</th><th scope=col>&lt;dbl&gt;</th><th scope=col>&lt;dbl&gt;</th><th scope=col>&lt;dbl&gt;</th><th scope=col>&lt;dbl&gt;</th><th scope=col>⋯</th><th scope=col>&lt;dbl&gt;</th><th scope=col>&lt;dbl&gt;</th><th scope=col>&lt;dbl&gt;</th><th scope=col>&lt;dbl&gt;</th><th scope=col>&lt;dbl&gt;</th><th scope=col>&lt;dbl&gt;</th><th scope=col>&lt;dbl&gt;</th><th scope=col>&lt;dbl&gt;</th><th scope=col>&lt;dbl&gt;</th><th scope=col>&lt;dbl&gt;</th></tr>\n",
       "</thead>\n",
       "<tbody>\n",
       "\t<tr><th scope=row>OR4F5</th><td>0.04233</td><td>0.048</td><td>0.1470</td><td>0.08739</td><td>0.07495</td><td>0.08668</td><td>0.2024</td><td>0.1403</td><td>0.10160</td><td>0.09944</td><td>⋯</td><td>0.00000</td><td>0</td><td>0</td><td>0.05059</td><td>0.00000</td><td>0.0000</td><td>0.0596</td><td>0.1951</td><td>0.2498</td><td>0.05729</td></tr>\n",
       "\t<tr><th scope=row>OR4F29</th><td>0.00000</td><td>0.000</td><td>0.1149</td><td>0.05696</td><td>0.03664</td><td>0.08474</td><td>0.0000</td><td>0.0343</td><td>0.06622</td><td>0.09721</td><td>⋯</td><td>0.05389</td><td>0</td><td>0</td><td>0.04945</td><td>0.06155</td><td>0.2103</td><td>0.0000</td><td>0.0000</td><td>0.0000</td><td>0.11200</td></tr>\n",
       "</tbody>\n",
       "</table>\n"
      ],
      "text/latex": [
       "A data.frame: 2 × 4195\n",
       "\\begin{tabular}{r|lllllllllllllllllllll}\n",
       "  & GTEX.1117F.0726.SM.5GIEN & GTEX.111FC.0626.SM.5N9CU & GTEX.111FC.0826.SM.5GZWO & GTEX.111VG.0326.SM.5GZX7 & GTEX.111YS.0326.SM.5GZZ3 & GTEX.111YS.0426.SM.5987O & GTEX.1122O.0626.SM.5N9B9 & GTEX.1122O.0826.SM.5GICV & GTEX.117XS.0726.SM.5H131 & GTEX.117YW.0326.SM.5N9CY & ⋯ & GTEX.ZY6K.0226.SM.5SIAY & GTEX.ZYFC.0926.SM.5GZWW & GTEX.ZYFD.0826.SM.5NQ9A & GTEX.ZYFG.0626.SM.5GZYA & GTEX.ZYT6.0426.SM.5GID3 & GTEX.ZYVF.1126.SM.5E458 & GTEX.ZYW4.1126.SM.5SI99 & GTEX.ZYY3.1926.SM.5GZXS & GTEX.ZZ64.0126.SM.5GZXA & GTEX.ZZPU.1326.SM.5GZWS\\\\\n",
       "  & <dbl> & <dbl> & <dbl> & <dbl> & <dbl> & <dbl> & <dbl> & <dbl> & <dbl> & <dbl> & ⋯ & <dbl> & <dbl> & <dbl> & <dbl> & <dbl> & <dbl> & <dbl> & <dbl> & <dbl> & <dbl>\\\\\n",
       "\\hline\n",
       "\tOR4F5 & 0.04233 & 0.048 & 0.1470 & 0.08739 & 0.07495 & 0.08668 & 0.2024 & 0.1403 & 0.10160 & 0.09944 & ⋯ & 0.00000 & 0 & 0 & 0.05059 & 0.00000 & 0.0000 & 0.0596 & 0.1951 & 0.2498 & 0.05729\\\\\n",
       "\tOR4F29 & 0.00000 & 0.000 & 0.1149 & 0.05696 & 0.03664 & 0.08474 & 0.0000 & 0.0343 & 0.06622 & 0.09721 & ⋯ & 0.05389 & 0 & 0 & 0.04945 & 0.06155 & 0.2103 & 0.0000 & 0.0000 & 0.0000 & 0.11200\\\\\n",
       "\\end{tabular}\n"
      ],
      "text/markdown": [
       "\n",
       "A data.frame: 2 × 4195\n",
       "\n",
       "| <!--/--> | GTEX.1117F.0726.SM.5GIEN &lt;dbl&gt; | GTEX.111FC.0626.SM.5N9CU &lt;dbl&gt; | GTEX.111FC.0826.SM.5GZWO &lt;dbl&gt; | GTEX.111VG.0326.SM.5GZX7 &lt;dbl&gt; | GTEX.111YS.0326.SM.5GZZ3 &lt;dbl&gt; | GTEX.111YS.0426.SM.5987O &lt;dbl&gt; | GTEX.1122O.0626.SM.5N9B9 &lt;dbl&gt; | GTEX.1122O.0826.SM.5GICV &lt;dbl&gt; | GTEX.117XS.0726.SM.5H131 &lt;dbl&gt; | GTEX.117YW.0326.SM.5N9CY &lt;dbl&gt; | ⋯ ⋯ | GTEX.ZY6K.0226.SM.5SIAY &lt;dbl&gt; | GTEX.ZYFC.0926.SM.5GZWW &lt;dbl&gt; | GTEX.ZYFD.0826.SM.5NQ9A &lt;dbl&gt; | GTEX.ZYFG.0626.SM.5GZYA &lt;dbl&gt; | GTEX.ZYT6.0426.SM.5GID3 &lt;dbl&gt; | GTEX.ZYVF.1126.SM.5E458 &lt;dbl&gt; | GTEX.ZYW4.1126.SM.5SI99 &lt;dbl&gt; | GTEX.ZYY3.1926.SM.5GZXS &lt;dbl&gt; | GTEX.ZZ64.0126.SM.5GZXA &lt;dbl&gt; | GTEX.ZZPU.1326.SM.5GZWS &lt;dbl&gt; |\n",
       "|---|---|---|---|---|---|---|---|---|---|---|---|---|---|---|---|---|---|---|---|---|---|\n",
       "| OR4F5 | 0.04233 | 0.048 | 0.1470 | 0.08739 | 0.07495 | 0.08668 | 0.2024 | 0.1403 | 0.10160 | 0.09944 | ⋯ | 0.00000 | 0 | 0 | 0.05059 | 0.00000 | 0.0000 | 0.0596 | 0.1951 | 0.2498 | 0.05729 |\n",
       "| OR4F29 | 0.00000 | 0.000 | 0.1149 | 0.05696 | 0.03664 | 0.08474 | 0.0000 | 0.0343 | 0.06622 | 0.09721 | ⋯ | 0.05389 | 0 | 0 | 0.04945 | 0.06155 | 0.2103 | 0.0000 | 0.0000 | 0.0000 | 0.11200 |\n",
       "\n"
      ],
      "text/plain": [
       "       GTEX.1117F.0726.SM.5GIEN GTEX.111FC.0626.SM.5N9CU\n",
       "OR4F5  0.04233                  0.048                   \n",
       "OR4F29 0.00000                  0.000                   \n",
       "       GTEX.111FC.0826.SM.5GZWO GTEX.111VG.0326.SM.5GZX7\n",
       "OR4F5  0.1470                   0.08739                 \n",
       "OR4F29 0.1149                   0.05696                 \n",
       "       GTEX.111YS.0326.SM.5GZZ3 GTEX.111YS.0426.SM.5987O\n",
       "OR4F5  0.07495                  0.08668                 \n",
       "OR4F29 0.03664                  0.08474                 \n",
       "       GTEX.1122O.0626.SM.5N9B9 GTEX.1122O.0826.SM.5GICV\n",
       "OR4F5  0.2024                   0.1403                  \n",
       "OR4F29 0.0000                   0.0343                  \n",
       "       GTEX.117XS.0726.SM.5H131 GTEX.117YW.0326.SM.5N9CY ⋯\n",
       "OR4F5  0.10160                  0.09944                  ⋯\n",
       "OR4F29 0.06622                  0.09721                  ⋯\n",
       "       GTEX.ZY6K.0226.SM.5SIAY GTEX.ZYFC.0926.SM.5GZWW GTEX.ZYFD.0826.SM.5NQ9A\n",
       "OR4F5  0.00000                 0                       0                      \n",
       "OR4F29 0.05389                 0                       0                      \n",
       "       GTEX.ZYFG.0626.SM.5GZYA GTEX.ZYT6.0426.SM.5GID3 GTEX.ZYVF.1126.SM.5E458\n",
       "OR4F5  0.05059                 0.00000                 0.0000                 \n",
       "OR4F29 0.04945                 0.06155                 0.2103                 \n",
       "       GTEX.ZYW4.1126.SM.5SI99 GTEX.ZYY3.1926.SM.5GZXS GTEX.ZZ64.0126.SM.5GZXA\n",
       "OR4F5  0.0596                  0.1951                  0.2498                 \n",
       "OR4F29 0.0000                  0.0000                  0.0000                 \n",
       "       GTEX.ZZPU.1326.SM.5GZWS\n",
       "OR4F5  0.05729                \n",
       "OR4F29 0.11200                "
      ]
     },
     "metadata": {},
     "output_type": "display_data"
    }
   ],
   "source": [
    "head(Liver.only.df,2)\n",
    "head(Other.only.df,2)"
   ]
  },
  {
   "cell_type": "code",
   "execution_count": 128,
   "id": "2e52b530",
   "metadata": {},
   "outputs": [
    {
     "data": {
      "text/html": [
       "<table class=\"dataframe\">\n",
       "<caption>A data.frame: 2 × 3</caption>\n",
       "<thead>\n",
       "\t<tr><th></th><th scope=col>median</th><th scope=col>gene</th><th scope=col>median_tpm_Liver</th></tr>\n",
       "\t<tr><th></th><th scope=col>&lt;dbl&gt;</th><th scope=col>&lt;chr&gt;</th><th scope=col>&lt;dbl&gt;</th></tr>\n",
       "</thead>\n",
       "<tbody>\n",
       "\t<tr><th scope=row>OR4F5</th><td>0.060540</td><td>OR4F5 </td><td>0.060540</td></tr>\n",
       "\t<tr><th scope=row>OR4F29</th><td>0.039795</td><td>OR4F29</td><td>0.039795</td></tr>\n",
       "</tbody>\n",
       "</table>\n"
      ],
      "text/latex": [
       "A data.frame: 2 × 3\n",
       "\\begin{tabular}{r|lll}\n",
       "  & median & gene & median\\_tpm\\_Liver\\\\\n",
       "  & <dbl> & <chr> & <dbl>\\\\\n",
       "\\hline\n",
       "\tOR4F5 & 0.060540 & OR4F5  & 0.060540\\\\\n",
       "\tOR4F29 & 0.039795 & OR4F29 & 0.039795\\\\\n",
       "\\end{tabular}\n"
      ],
      "text/markdown": [
       "\n",
       "A data.frame: 2 × 3\n",
       "\n",
       "| <!--/--> | median &lt;dbl&gt; | gene &lt;chr&gt; | median_tpm_Liver &lt;dbl&gt; |\n",
       "|---|---|---|---|\n",
       "| OR4F5 | 0.060540 | OR4F5  | 0.060540 |\n",
       "| OR4F29 | 0.039795 | OR4F29 | 0.039795 |\n",
       "\n"
      ],
      "text/plain": [
       "       median   gene   median_tpm_Liver\n",
       "OR4F5  0.060540 OR4F5  0.060540        \n",
       "OR4F29 0.039795 OR4F29 0.039795        "
      ]
     },
     "metadata": {},
     "output_type": "display_data"
    }
   ],
   "source": [
    "# To COMPUTE the MEDIAN VALUE of GENE EXPRESSION in these two DATA FRAMES \n",
    "# LIVER expression data frame\n",
    "# OTHER tissue expression data frame\n",
    "\n",
    "Liver.only.df$median = apply(Liver.only.df, 1, median)\n",
    "\n",
    "# to create a new data frame that contains only the MEDIAN VALUES\n",
    "Liver.only.median = data.frame()\n",
    "Liver.only.median = subset(Liver.only.df, select=\"median\")\n",
    "Liver.only.median$gene = rownames(Liver.only.df)\n",
    "Liver.only.median$median_tpm_Liver = Liver.only.df$median\n",
    "head(Liver.only.median, 2)"
   ]
  },
  {
   "cell_type": "code",
   "execution_count": 129,
   "id": "52f806a6",
   "metadata": {},
   "outputs": [
    {
     "data": {
      "text/html": [
       "<table class=\"dataframe\">\n",
       "<caption>A data.frame: 2 × 3</caption>\n",
       "<thead>\n",
       "\t<tr><th></th><th scope=col>median</th><th scope=col>gene</th><th scope=col>median_tpm_Other</th></tr>\n",
       "\t<tr><th></th><th scope=col>&lt;dbl&gt;</th><th scope=col>&lt;chr&gt;</th><th scope=col>&lt;dbl&gt;</th></tr>\n",
       "</thead>\n",
       "<tbody>\n",
       "\t<tr><th scope=row>OR4F5</th><td>0.05140</td><td>OR4F5 </td><td>0.05140</td></tr>\n",
       "\t<tr><th scope=row>OR4F29</th><td>0.03968</td><td>OR4F29</td><td>0.03968</td></tr>\n",
       "</tbody>\n",
       "</table>\n"
      ],
      "text/latex": [
       "A data.frame: 2 × 3\n",
       "\\begin{tabular}{r|lll}\n",
       "  & median & gene & median\\_tpm\\_Other\\\\\n",
       "  & <dbl> & <chr> & <dbl>\\\\\n",
       "\\hline\n",
       "\tOR4F5 & 0.05140 & OR4F5  & 0.05140\\\\\n",
       "\tOR4F29 & 0.03968 & OR4F29 & 0.03968\\\\\n",
       "\\end{tabular}\n"
      ],
      "text/markdown": [
       "\n",
       "A data.frame: 2 × 3\n",
       "\n",
       "| <!--/--> | median &lt;dbl&gt; | gene &lt;chr&gt; | median_tpm_Other &lt;dbl&gt; |\n",
       "|---|---|---|---|\n",
       "| OR4F5 | 0.05140 | OR4F5  | 0.05140 |\n",
       "| OR4F29 | 0.03968 | OR4F29 | 0.03968 |\n",
       "\n"
      ],
      "text/plain": [
       "       median  gene   median_tpm_Other\n",
       "OR4F5  0.05140 OR4F5  0.05140         \n",
       "OR4F29 0.03968 OR4F29 0.03968         "
      ]
     },
     "metadata": {},
     "output_type": "display_data"
    }
   ],
   "source": [
    "# To COMPUTE the MEDIAN VALUE of GENE EXPRESSION in these two DATA FRAMES \n",
    "Other.only.df$median = apply(Other.only.df, 1, median)\n",
    "\n",
    "# to create a new data frame that contains only the MEDIAN VALUES\n",
    "Other.only.median = data.frame()\n",
    "Other.only.median = subset(Other.only.df, select=\"median\")\n",
    "Other.only.median$gene = rownames(Other.only.df)\n",
    "Other.only.median$median_tpm_Other = Other.only.df$median\n",
    "head(Other.only.median, 2)"
   ]
  },
  {
   "cell_type": "code",
   "execution_count": null,
   "id": "bf337d93",
   "metadata": {},
   "outputs": [],
   "source": [
    "# to combine the two dataframes"
   ]
  },
  {
   "cell_type": "code",
   "execution_count": 130,
   "id": "2b13c772",
   "metadata": {},
   "outputs": [
    {
     "data": {
      "text/html": [
       "<table class=\"dataframe\">\n",
       "<caption>A data.frame: 2 × 6</caption>\n",
       "<thead>\n",
       "\t<tr><th></th><th scope=col>median</th><th scope=col>gene</th><th scope=col>median_tpm_Liver</th><th scope=col>median</th><th scope=col>gene</th><th scope=col>median_tpm_Other</th></tr>\n",
       "\t<tr><th></th><th scope=col>&lt;dbl&gt;</th><th scope=col>&lt;chr&gt;</th><th scope=col>&lt;dbl&gt;</th><th scope=col>&lt;dbl&gt;</th><th scope=col>&lt;chr&gt;</th><th scope=col>&lt;dbl&gt;</th></tr>\n",
       "</thead>\n",
       "<tbody>\n",
       "\t<tr><th scope=row>OR4F5</th><td>0.060540</td><td>OR4F5 </td><td>0.060540</td><td>0.05140</td><td>OR4F5 </td><td>0.05140</td></tr>\n",
       "\t<tr><th scope=row>OR4F29</th><td>0.039795</td><td>OR4F29</td><td>0.039795</td><td>0.03968</td><td>OR4F29</td><td>0.03968</td></tr>\n",
       "</tbody>\n",
       "</table>\n"
      ],
      "text/latex": [
       "A data.frame: 2 × 6\n",
       "\\begin{tabular}{r|llllll}\n",
       "  & median & gene & median\\_tpm\\_Liver & median & gene & median\\_tpm\\_Other\\\\\n",
       "  & <dbl> & <chr> & <dbl> & <dbl> & <chr> & <dbl>\\\\\n",
       "\\hline\n",
       "\tOR4F5 & 0.060540 & OR4F5  & 0.060540 & 0.05140 & OR4F5  & 0.05140\\\\\n",
       "\tOR4F29 & 0.039795 & OR4F29 & 0.039795 & 0.03968 & OR4F29 & 0.03968\\\\\n",
       "\\end{tabular}\n"
      ],
      "text/markdown": [
       "\n",
       "A data.frame: 2 × 6\n",
       "\n",
       "| <!--/--> | median &lt;dbl&gt; | gene &lt;chr&gt; | median_tpm_Liver &lt;dbl&gt; | median &lt;dbl&gt; | gene &lt;chr&gt; | median_tpm_Other &lt;dbl&gt; |\n",
       "|---|---|---|---|---|---|---|\n",
       "| OR4F5 | 0.060540 | OR4F5  | 0.060540 | 0.05140 | OR4F5  | 0.05140 |\n",
       "| OR4F29 | 0.039795 | OR4F29 | 0.039795 | 0.03968 | OR4F29 | 0.03968 |\n",
       "\n"
      ],
      "text/plain": [
       "       median   gene   median_tpm_Liver median  gene   median_tpm_Other\n",
       "OR4F5  0.060540 OR4F5  0.060540         0.05140 OR4F5  0.05140         \n",
       "OR4F29 0.039795 OR4F29 0.039795         0.03968 OR4F29 0.03968         "
      ]
     },
     "metadata": {},
     "output_type": "display_data"
    },
    {
     "data": {
      "text/html": [
       "<table class=\"dataframe\">\n",
       "<caption>A data.frame: 2 × 4</caption>\n",
       "<thead>\n",
       "\t<tr><th></th><th scope=col>median_tpm_Liver</th><th scope=col>median_tpm_Other</th><th scope=col>LO</th><th scope=col>gene</th></tr>\n",
       "\t<tr><th></th><th scope=col>&lt;dbl&gt;</th><th scope=col>&lt;dbl&gt;</th><th scope=col>&lt;dbl&gt;</th><th scope=col>&lt;chr&gt;</th></tr>\n",
       "</thead>\n",
       "<tbody>\n",
       "\t<tr><th scope=row>OR4F5</th><td>0.060540</td><td>0.05140</td><td>1.177821</td><td>OR4F5 </td></tr>\n",
       "\t<tr><th scope=row>OR4F29</th><td>0.039795</td><td>0.03968</td><td>1.002898</td><td>OR4F29</td></tr>\n",
       "</tbody>\n",
       "</table>\n"
      ],
      "text/latex": [
       "A data.frame: 2 × 4\n",
       "\\begin{tabular}{r|llll}\n",
       "  & median\\_tpm\\_Liver & median\\_tpm\\_Other & LO & gene\\\\\n",
       "  & <dbl> & <dbl> & <dbl> & <chr>\\\\\n",
       "\\hline\n",
       "\tOR4F5 & 0.060540 & 0.05140 & 1.177821 & OR4F5 \\\\\n",
       "\tOR4F29 & 0.039795 & 0.03968 & 1.002898 & OR4F29\\\\\n",
       "\\end{tabular}\n"
      ],
      "text/markdown": [
       "\n",
       "A data.frame: 2 × 4\n",
       "\n",
       "| <!--/--> | median_tpm_Liver &lt;dbl&gt; | median_tpm_Other &lt;dbl&gt; | LO &lt;dbl&gt; | gene &lt;chr&gt; |\n",
       "|---|---|---|---|---|\n",
       "| OR4F5 | 0.060540 | 0.05140 | 1.177821 | OR4F5  |\n",
       "| OR4F29 | 0.039795 | 0.03968 | 1.002898 | OR4F29 |\n",
       "\n"
      ],
      "text/plain": [
       "       median_tpm_Liver median_tpm_Other LO       gene  \n",
       "OR4F5  0.060540         0.05140          1.177821 OR4F5 \n",
       "OR4F29 0.039795         0.03968          1.002898 OR4F29"
      ]
     },
     "metadata": {},
     "output_type": "display_data"
    }
   ],
   "source": [
    "# We combine the two dataframes into a simpler data frame \n",
    "# Liver.only.median\n",
    "# Other.only.median\n",
    "\n",
    "median.df = cbind(Liver.only.median, Other.only.median)\n",
    "head(median.df,2)\n",
    "median.df.simple = subset(median.df, select = c(median_tpm_Liver, median_tpm_Other))\n",
    "median.df.simple$LO = median.df.simple$median_tpm_Liver / median.df.simple$median_tpm_Other\n",
    "median.df.simple$gene  = rownames(median.df.simple) \n",
    "head(median.df.simple, 2)"
   ]
  },
  {
   "cell_type": "code",
   "execution_count": 131,
   "id": "8964b26d",
   "metadata": {},
   "outputs": [
    {
     "data": {
      "text/plain": [
       "    Min.  1st Qu.   Median     Mean  3rd Qu.     Max. \n",
       "    0.00     0.15     2.54    46.19    10.54 58775.00 "
      ]
     },
     "metadata": {},
     "output_type": "display_data"
    },
    {
     "data": {
      "text/plain": [
       "    Min.  1st Qu.   Median     Mean  3rd Qu.     Max. \n",
       "    0.00     0.30     4.55    34.32    15.76 36350.00 "
      ]
     },
     "metadata": {},
     "output_type": "display_data"
    }
   ],
   "source": [
    "summary(median.df$median_tpm_Liver)\n",
    "summary(median.df$median_tpm_Other)"
   ]
  },
  {
   "cell_type": "code",
   "execution_count": 132,
   "id": "562fd995",
   "metadata": {},
   "outputs": [
    {
     "data": {
      "text/html": [
       "<style>\n",
       ".list-inline {list-style: none; margin:0; padding: 0}\n",
       ".list-inline>li {display: inline-block}\n",
       ".list-inline>li:not(:last-child)::after {content: \"\\00b7\"; padding: 0 .5ex}\n",
       "</style>\n",
       "<ol class=list-inline><li>1938</li><li>4</li></ol>\n"
      ],
      "text/latex": [
       "\\begin{enumerate*}\n",
       "\\item 1938\n",
       "\\item 4\n",
       "\\end{enumerate*}\n"
      ],
      "text/markdown": [
       "1. 1938\n",
       "2. 4\n",
       "\n",
       "\n"
      ],
      "text/plain": [
       "[1] 1938    4"
      ]
     },
     "metadata": {},
     "output_type": "display_data"
    },
    {
     "data": {
      "text/html": [
       "<table class=\"dataframe\">\n",
       "<caption>A data.frame: 2 × 4</caption>\n",
       "<thead>\n",
       "\t<tr><th></th><th scope=col>median_tpm_Liver</th><th scope=col>median_tpm_Other</th><th scope=col>LO</th><th scope=col>gene</th></tr>\n",
       "\t<tr><th></th><th scope=col>&lt;dbl&gt;</th><th scope=col>&lt;dbl&gt;</th><th scope=col>&lt;dbl&gt;</th><th scope=col>&lt;chr&gt;</th></tr>\n",
       "</thead>\n",
       "<tbody>\n",
       "\t<tr><th scope=row>ISG15</th><td>28.935</td><td>20.460</td><td>1.414223</td><td>ISG15 </td></tr>\n",
       "\t<tr><th scope=row>SCNN1D</th><td> 5.877</td><td> 4.422</td><td>1.329037</td><td>SCNN1D</td></tr>\n",
       "</tbody>\n",
       "</table>\n"
      ],
      "text/latex": [
       "A data.frame: 2 × 4\n",
       "\\begin{tabular}{r|llll}\n",
       "  & median\\_tpm\\_Liver & median\\_tpm\\_Other & LO & gene\\\\\n",
       "  & <dbl> & <dbl> & <dbl> & <chr>\\\\\n",
       "\\hline\n",
       "\tISG15 & 28.935 & 20.460 & 1.414223 & ISG15 \\\\\n",
       "\tSCNN1D &  5.877 &  4.422 & 1.329037 & SCNN1D\\\\\n",
       "\\end{tabular}\n"
      ],
      "text/markdown": [
       "\n",
       "A data.frame: 2 × 4\n",
       "\n",
       "| <!--/--> | median_tpm_Liver &lt;dbl&gt; | median_tpm_Other &lt;dbl&gt; | LO &lt;dbl&gt; | gene &lt;chr&gt; |\n",
       "|---|---|---|---|---|\n",
       "| ISG15 | 28.935 | 20.460 | 1.414223 | ISG15  |\n",
       "| SCNN1D |  5.877 |  4.422 | 1.329037 | SCNN1D |\n",
       "\n"
      ],
      "text/plain": [
       "       median_tpm_Liver median_tpm_Other LO       gene  \n",
       "ISG15  28.935           20.460           1.414223 ISG15 \n",
       "SCNN1D  5.877            4.422           1.329037 SCNN1D"
      ]
     },
     "metadata": {},
     "output_type": "display_data"
    }
   ],
   "source": [
    "# to exclude the genes that may have noisy expression in the other tissues (median_tpm > 0.2)\n",
    "# and to keep the genes that are expressed in the liver (TPM > 1) and liver-specific ( LO_FC > 1.2 )\n",
    "\n",
    "\n",
    "median.df.liver.specific = subset(median.df.simple, (median_tpm_Liver > 1) & (median_tpm_Other > 0.2) & \n",
    "                                                    (LO > 1.2))\n",
    "\n",
    "dim(median.df.liver.specific)\n",
    "head(median.df.liver.specific, 2)\n",
    "\n"
   ]
  },
  {
   "cell_type": "code",
   "execution_count": 133,
   "id": "bfec80ca",
   "metadata": {},
   "outputs": [],
   "source": [
    "# to write the set of liver specific genes in a file for further use\n",
    "\n",
    "write.table(median.df.liver.specific, file = paste(name, \"liver.specific.genes\", \"txt\", sep=\".\"), \n",
    "            append = FALSE, quote = FALSE, \n",
    "            sep = \"\\t\", row.names = FALSE, col.names = TRUE)"
   ]
  },
  {
   "cell_type": "code",
   "execution_count": null,
   "id": "ea0b8a6f",
   "metadata": {},
   "outputs": [],
   "source": []
  }
 ],
 "metadata": {
  "kernelspec": {
   "display_name": "R",
   "language": "R",
   "name": "ir"
  },
  "language_info": {
   "codemirror_mode": "r",
   "file_extension": ".r",
   "mimetype": "text/x-r-source",
   "name": "R",
   "pygments_lexer": "r",
   "version": "4.2.2"
  }
 },
 "nbformat": 4,
 "nbformat_minor": 5
}
